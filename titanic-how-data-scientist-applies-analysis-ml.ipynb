{
 "cells": [
  {
   "cell_type": "markdown",
   "id": "1dc59b01",
   "metadata": {
    "_cell_guid": "cf4e71aa-cde6-4e90-b33f-b970dc31ea39",
    "_uuid": "ea99f1d2-c0d9-4840-b330-946cf5d18998",
    "execution": {
     "iopub.execute_input": "2022-01-08T15:41:18.567643Z",
     "iopub.status.busy": "2022-01-08T15:41:18.567312Z",
     "iopub.status.idle": "2022-01-08T15:41:18.591472Z",
     "shell.execute_reply": "2022-01-08T15:41:18.590754Z",
     "shell.execute_reply.started": "2022-01-08T15:41:18.567556Z"
    },
    "papermill": {
     "duration": 0.086725,
     "end_time": "2022-01-12T23:12:38.389442",
     "exception": false,
     "start_time": "2022-01-12T23:12:38.302717",
     "status": "completed"
    },
    "tags": []
   },
   "source": [
    "# Titanic - Machine Learning from Disaster\n",
    "---"
   ]
  },
  {
   "cell_type": "markdown",
   "id": "d61b66b7",
   "metadata": {
    "_cell_guid": "c6443246-0e6b-411d-b2ed-6e326a272cc9",
    "_uuid": "f5e69a36-80f2-48a9-8479-c8dc96a57a1a",
    "papermill": {
     "duration": 0.085439,
     "end_time": "2022-01-12T23:12:38.562464",
     "exception": false,
     "start_time": "2022-01-12T23:12:38.477025",
     "status": "completed"
    },
    "tags": []
   },
   "source": [
    "Copyright [2021] [Data Scientist & ML Engineer: [Ahmed](https://www.kaggle.com/dsxavier/)]\n",
    "\n",
    "Licensed under the Apache License, Version 2.0 (the \"License\");\n",
    "you may not use this file except in compliance with the License.\n",
    "You may obtain a copy of the License at\n",
    "\n",
    "   http://www.apache.org/licenses/LICENSE-2.0\n",
    "\n",
    "Unless required by applicable law or agreed to in writing, software\n",
    "distributed under the License is distributed on an \"AS IS\" BASIS,\n",
    "WITHOUT WARRANTIES OR CONDITIONS OF ANY KIND, either express or implied.\n",
    "See the License for the specific language governing permissions and\n",
    "limitations under the License."
   ]
  },
  {
   "cell_type": "markdown",
   "id": "9915815a",
   "metadata": {
    "_cell_guid": "49c4bbbc-b107-4935-9649-4af7185f75cb",
    "_uuid": "8d099156-06fa-4b1b-ac71-12cdad1c8fec",
    "papermill": {
     "duration": 0.086198,
     "end_time": "2022-01-12T23:12:38.735184",
     "exception": false,
     "start_time": "2022-01-12T23:12:38.648986",
     "status": "completed"
    },
    "tags": []
   },
   "source": [
    "## An Overview"
   ]
  },
  {
   "cell_type": "markdown",
   "id": "8239f8eb",
   "metadata": {
    "_cell_guid": "ca7d6c85-1a81-4e51-a57f-21d17d109a38",
    "_uuid": "7f1d1c5f-b050-49ec-bcc7-68766f20f5ac",
    "papermill": {
     "duration": 0.088201,
     "end_time": "2022-01-12T23:12:38.909133",
     "exception": false,
     "start_time": "2022-01-12T23:12:38.820932",
     "status": "completed"
    },
    "tags": []
   },
   "source": [
    "The sinking of the Titanic is one of the most infamous shipwrecks in history.\n",
    "\n",
    "On April 15, 1912, during her maiden voyage, the widely considered “unsinkable” RMS Titanic sank after colliding with an iceberg. Unfortunately, there weren’t enough lifeboats for everyone onboard, resulting in the death of 1502 out of 2224 passengers and crew.\n",
    "\n",
    "While there was some element of luck involved in surviving, it seems some groups of people were more likely to survive than others.\n",
    "\n",
    "In this challenge, we ask you to build a predictive model that answers the question: “what sorts of people were more likely to survive?” using passenger data (ie name, age, gender, socio-economic class, etc)."
   ]
  },
  {
   "cell_type": "markdown",
   "id": "be2a72d9",
   "metadata": {
    "papermill": {
     "duration": 0.084629,
     "end_time": "2022-01-12T23:12:39.078464",
     "exception": false,
     "start_time": "2022-01-12T23:12:38.993835",
     "status": "completed"
    },
    "tags": []
   },
   "source": [
    "## [Data Dictionary](https://www.kaggle.com/c/titanic/data#:~:text=should%20look%20like.-,data%20dictionary,-Variable)\n"
   ]
  },
  {
   "cell_type": "markdown",
   "id": "ca1ccae9",
   "metadata": {
    "execution": {
     "iopub.execute_input": "2022-01-09T21:09:44.957997Z",
     "iopub.status.busy": "2022-01-09T21:09:44.957664Z",
     "iopub.status.idle": "2022-01-09T21:09:44.973218Z",
     "shell.execute_reply": "2022-01-09T21:09:44.972117Z",
     "shell.execute_reply.started": "2022-01-09T21:09:44.957963Z"
    },
    "papermill": {
     "duration": 0.083974,
     "end_time": "2022-01-12T23:12:39.247309",
     "exception": false,
     "start_time": "2022-01-12T23:12:39.163335",
     "status": "completed"
    },
    "tags": []
   },
   "source": [
    "<table>\n",
    "<thead>\n",
    "  <tr>\n",
    "    <th>Variable</th>\n",
    "    <th>Definition</th>\n",
    "    <th>Key</th>\n",
    "  </tr>\n",
    "</thead>\n",
    "<tbody>\n",
    "  <tr>\n",
    "    <td>survival</td>\n",
    "    <td>Survival</td>\n",
    "    <td>0 = No, 1 = Yes</td>\n",
    "  </tr>\n",
    "  <tr>\n",
    "    <td>pclass</td>\n",
    "    <td>Ticket class</td>\n",
    "    <td>1 = 1st, 2 = 2nd, 3 = 3rd</td>\n",
    "  </tr>\n",
    "  <tr>\n",
    "    <td>sex</td>\n",
    "    <td>Sex</td>\n",
    "    <td></td>\n",
    "  </tr>\n",
    "  <tr>\n",
    "    <td>Age</td>\n",
    "    <td>Age in years</td>\n",
    "    <td></td>\n",
    "  </tr>\n",
    "  <tr>\n",
    "    <td>sibsp</td>\n",
    "    <td># of siblings / spouses aboard the Titanic</td>\n",
    "    <td></td>\n",
    "  </tr>\n",
    "  <tr>\n",
    "    <td>parch</td>\n",
    "    <td># of parents / children aboard the Titanic</td>\n",
    "    <td></td>\n",
    "  </tr>\n",
    "  <tr>\n",
    "    <td>ticket</td>\n",
    "    <td>Ticket number</td>\n",
    "    <td></td>\n",
    "  </tr>\n",
    "  <tr>\n",
    "    <td>fare</td>\n",
    "    <td>Passenger fare</td>\n",
    "    <td></td>\n",
    "  </tr>\n",
    "  <tr>\n",
    "    <td>cabin</td>\n",
    "    <td>Cabin number</td>\n",
    "    <td></td>\n",
    "  </tr>\n",
    "  <tr>\n",
    "    <td>embarked</td>\n",
    "    <td>Port of Embarkation</td>\n",
    "    <td>C = Cherbourg, Q = Queenstown, S = Southampton</td>\n",
    "  </tr>\n",
    "</tbody>\n",
    "</table>"
   ]
  },
  {
   "cell_type": "markdown",
   "id": "876fddf8",
   "metadata": {
    "papermill": {
     "duration": 0.085119,
     "end_time": "2022-01-12T23:12:39.418367",
     "exception": false,
     "start_time": "2022-01-12T23:12:39.333248",
     "status": "completed"
    },
    "tags": []
   },
   "source": [
    "---"
   ]
  },
  {
   "cell_type": "markdown",
   "id": "0a10f4b3",
   "metadata": {
    "papermill": {
     "duration": 0.084594,
     "end_time": "2022-01-12T23:12:39.588133",
     "exception": false,
     "start_time": "2022-01-12T23:12:39.503539",
     "status": "completed"
    },
    "tags": []
   },
   "source": [
    "## Table of Contents"
   ]
  },
  {
   "cell_type": "markdown",
   "id": "2555bc7d",
   "metadata": {
    "papermill": {
     "duration": 0.084576,
     "end_time": "2022-01-12T23:12:39.757300",
     "exception": false,
     "start_time": "2022-01-12T23:12:39.672724",
     "status": "completed"
    },
    "tags": []
   },
   "source": [
    "<table>\n",
    "<thead>\n",
    "  <tr>\n",
    "      <th><a href='#Table-of-Contents'>Table of Contents</a></th>\n",
    "    <th></th>\n",
    "    <th></th>\n",
    "  </tr>\n",
    "</thead>\n",
    "<tbody>\n",
    "  <tr>\n",
    "      <td><a href='#Dependencies'>Dependencies</a><br></td>\n",
    "    <td></td>\n",
    "    <td></td>\n",
    "  </tr>\n",
    "  <tr>\n",
    "    <td></td>\n",
    "      <td><a href='#(A)-Import-Libraries'>(A) Import Libraries</a></td>\n",
    "    <td></td>\n",
    "  </tr>\n",
    "  <tr>\n",
    "      <td><a href='#Workflow-Pipeline'>Workflow Pipeline</a></td>\n",
    "    <td></td>\n",
    "    <td></td>\n",
    "  </tr>\n",
    "  <tr>\n",
    "    <td></td>\n",
    "      <td><a href='#1.-Data-Preprocessing'>1. Data Preprocessing</a></td>\n",
    "    <td></td>\n",
    "  </tr>\n",
    "  <tr>\n",
    "    <td></td>\n",
    "    <td></td>\n",
    "      <td><a href='#(A)-Data-Wrangling'>(A) Data Wrangling</a></td>\n",
    "  </tr>\n",
    "  <tr>\n",
    "    <td></td>\n",
    "    <td></td>\n",
    "      <td><a href='#(B)-Exploratory-Data-Analysis'>(B) Exploratory Data Analysis</a></td>\n",
    "  </tr>\n",
    "  <tr>\n",
    "    <td></td>\n",
    "      <td><a href='#2.-Train-&-Test-Split'>2. Train & Test Split</a></td>\n",
    "    <td></td>\n",
    "  </tr>\n",
    "  <tr>\n",
    "    <td></td>\n",
    "      <td><a href='#3.-Algorithm-Setup'>3. Algorithm Setup</a></td>\n",
    "    <td></td>\n",
    "  </tr>\n",
    "  <tr>\n",
    "    <td></td>\n",
    "      <td><a href='#4.-Model-Fitting'>4. Model Fitting</a></td>\n",
    "    <td></td>\n",
    "  </tr>\n",
    "  <tr>\n",
    "    <td></td>\n",
    "      <td><a href='#5.-Model-Predictions'>5. Model Predictions</a></td>\n",
    "    <td></td>\n",
    "  </tr>\n",
    "  <tr>\n",
    "    <td></td>\n",
    "      <td><a href='#6.-Model-Evalutaion'>6. Model Evalutaion</a></td>\n",
    "    <td></td>\n",
    "  </tr>\n",
    "  <tr>\n",
    "    <td></td>\n",
    "      <td><a href='#7.-Export-Predictions'>7. Export Predictions</a></td>\n",
    "    <td></td>\n",
    "  </tr>\n",
    "</tbody>\n",
    "</table>"
   ]
  },
  {
   "cell_type": "markdown",
   "id": "894df889",
   "metadata": {
    "_cell_guid": "af7505b8-91f1-4722-ab82-7db2aa2909a1",
    "_uuid": "a022cca6-ee60-48ba-b181-cf6769075961",
    "papermill": {
     "duration": 0.087124,
     "end_time": "2022-01-12T23:12:39.930556",
     "exception": false,
     "start_time": "2022-01-12T23:12:39.843432",
     "status": "completed"
    },
    "tags": []
   },
   "source": [
    "## Dependencies"
   ]
  },
  {
   "cell_type": "markdown",
   "id": "44103dc9",
   "metadata": {
    "_cell_guid": "ac85c5af-d2f7-4b77-adbb-f64938db7cad",
    "_uuid": "324d7d8c-ff0e-4950-86ec-7e7f5817e485",
    "papermill": {
     "duration": 0.086146,
     "end_time": "2022-01-12T23:12:40.100902",
     "exception": false,
     "start_time": "2022-01-12T23:12:40.014756",
     "status": "completed"
    },
    "tags": []
   },
   "source": [
    "### (A) Import Libraries"
   ]
  },
  {
   "cell_type": "code",
   "execution_count": 1,
   "id": "f983bd1a",
   "metadata": {
    "execution": {
     "iopub.execute_input": "2022-01-12T23:12:40.280668Z",
     "iopub.status.busy": "2022-01-12T23:12:40.279713Z",
     "iopub.status.idle": "2022-01-12T23:12:40.293160Z",
     "shell.execute_reply": "2022-01-12T23:12:40.293650Z",
     "shell.execute_reply.started": "2022-01-12T22:06:31.882020Z"
    },
    "papermill": {
     "duration": 0.10757,
     "end_time": "2022-01-12T23:12:40.293942",
     "exception": false,
     "start_time": "2022-01-12T23:12:40.186372",
     "status": "completed"
    },
    "tags": []
   },
   "outputs": [],
   "source": [
    "# Using this for auto-compeletion..\n",
    "%config Completer.use_jedi = False"
   ]
  },
  {
   "cell_type": "code",
   "execution_count": 2,
   "id": "4d474730",
   "metadata": {
    "_cell_guid": "603653e8-29ce-4379-82f6-01a6c61a880c",
    "_uuid": "511bc501-a860-4092-9df1-96062e6616dc",
    "collapsed": false,
    "execution": {
     "iopub.execute_input": "2022-01-12T23:12:40.471667Z",
     "iopub.status.busy": "2022-01-12T23:12:40.470943Z",
     "iopub.status.idle": "2022-01-12T23:12:41.712702Z",
     "shell.execute_reply": "2022-01-12T23:12:41.712159Z",
     "shell.execute_reply.started": "2022-01-12T22:06:31.924283Z"
    },
    "jupyter": {
     "outputs_hidden": false
    },
    "papermill": {
     "duration": 1.333922,
     "end_time": "2022-01-12T23:12:41.712857",
     "exception": false,
     "start_time": "2022-01-12T23:12:40.378935",
     "status": "completed"
    },
    "tags": []
   },
   "outputs": [],
   "source": [
    "import os\n",
    "from typing import Text, List, Dict, Set, Tuple, Optional, Union\n",
    "\n",
    "import pandas as pd\n",
    "import numpy as np\n",
    "\n",
    "from sklearn.preprocessing import LabelEncoder\n",
    "from sklearn.model_selection import train_test_split\n",
    "\n",
    "import matplotlib.pyplot as plt\n",
    "import seaborn as sns\n",
    "\n",
    "plt.rcParams['figure.figsize'] = [18, 10]\n",
    "plt.style.use('fivethirtyeight')\n",
    "%matplotlib inline"
   ]
  },
  {
   "cell_type": "markdown",
   "id": "f1be1985",
   "metadata": {
    "papermill": {
     "duration": 0.084537,
     "end_time": "2022-01-12T23:12:41.883633",
     "exception": false,
     "start_time": "2022-01-12T23:12:41.799096",
     "status": "completed"
    },
    "tags": []
   },
   "source": [
    "---"
   ]
  },
  {
   "cell_type": "markdown",
   "id": "cfa549ee",
   "metadata": {
    "papermill": {
     "duration": 0.084235,
     "end_time": "2022-01-12T23:12:42.055432",
     "exception": false,
     "start_time": "2022-01-12T23:12:41.971197",
     "status": "completed"
    },
    "tags": []
   },
   "source": [
    "## Workflow Pipeline"
   ]
  },
  {
   "cell_type": "markdown",
   "id": "be49d8f7",
   "metadata": {
    "papermill": {
     "duration": 0.084088,
     "end_time": "2022-01-12T23:12:42.224335",
     "exception": false,
     "start_time": "2022-01-12T23:12:42.140247",
     "status": "completed"
    },
    "tags": []
   },
   "source": [
    "### 1. Data Preprocessing"
   ]
  },
  {
   "cell_type": "markdown",
   "id": "01aa0e1d",
   "metadata": {
    "papermill": {
     "duration": 0.084648,
     "end_time": "2022-01-12T23:12:42.394324",
     "exception": false,
     "start_time": "2022-01-12T23:12:42.309676",
     "status": "completed"
    },
    "tags": []
   },
   "source": [
    "First, we're going to explore the titanic dataset and start do some data wrangling and EDA "
   ]
  },
  {
   "cell_type": "markdown",
   "id": "3a025b8a",
   "metadata": {
    "papermill": {
     "duration": 0.085303,
     "end_time": "2022-01-12T23:12:42.564194",
     "exception": false,
     "start_time": "2022-01-12T23:12:42.478891",
     "status": "completed"
    },
    "tags": []
   },
   "source": [
    "#### (A) Data Wrangling"
   ]
  },
  {
   "cell_type": "code",
   "execution_count": 3,
   "id": "65bc3a47",
   "metadata": {
    "execution": {
     "iopub.execute_input": "2022-01-12T23:12:42.741809Z",
     "iopub.status.busy": "2022-01-12T23:12:42.741065Z",
     "iopub.status.idle": "2022-01-12T23:12:42.768200Z",
     "shell.execute_reply": "2022-01-12T23:12:42.768730Z",
     "shell.execute_reply.started": "2022-01-12T22:06:33.202389Z"
    },
    "papermill": {
     "duration": 0.119512,
     "end_time": "2022-01-12T23:12:42.768903",
     "exception": false,
     "start_time": "2022-01-12T23:12:42.649391",
     "status": "completed"
    },
    "tags": []
   },
   "outputs": [],
   "source": [
    "train_data = pd.read_csv('../input/titanic/train.csv')\n",
    "test_data = pd.read_csv('../input/titanic/test.csv')"
   ]
  },
  {
   "cell_type": "code",
   "execution_count": 4,
   "id": "679f80f4",
   "metadata": {
    "execution": {
     "iopub.execute_input": "2022-01-12T23:12:42.947438Z",
     "iopub.status.busy": "2022-01-12T23:12:42.941787Z",
     "iopub.status.idle": "2022-01-12T23:12:42.966841Z",
     "shell.execute_reply": "2022-01-12T23:12:42.967345Z",
     "shell.execute_reply.started": "2022-01-12T22:06:33.237624Z"
    },
    "papermill": {
     "duration": 0.113869,
     "end_time": "2022-01-12T23:12:42.967516",
     "exception": false,
     "start_time": "2022-01-12T23:12:42.853647",
     "status": "completed"
    },
    "tags": []
   },
   "outputs": [
    {
     "data": {
      "text/html": [
       "<div>\n",
       "<style scoped>\n",
       "    .dataframe tbody tr th:only-of-type {\n",
       "        vertical-align: middle;\n",
       "    }\n",
       "\n",
       "    .dataframe tbody tr th {\n",
       "        vertical-align: top;\n",
       "    }\n",
       "\n",
       "    .dataframe thead th {\n",
       "        text-align: right;\n",
       "    }\n",
       "</style>\n",
       "<table border=\"1\" class=\"dataframe\">\n",
       "  <thead>\n",
       "    <tr style=\"text-align: right;\">\n",
       "      <th></th>\n",
       "      <th>PassengerId</th>\n",
       "      <th>Survived</th>\n",
       "      <th>Pclass</th>\n",
       "      <th>Name</th>\n",
       "      <th>Sex</th>\n",
       "      <th>Age</th>\n",
       "      <th>SibSp</th>\n",
       "      <th>Parch</th>\n",
       "      <th>Ticket</th>\n",
       "      <th>Fare</th>\n",
       "      <th>Cabin</th>\n",
       "      <th>Embarked</th>\n",
       "    </tr>\n",
       "  </thead>\n",
       "  <tbody>\n",
       "    <tr>\n",
       "      <th>0</th>\n",
       "      <td>1</td>\n",
       "      <td>0</td>\n",
       "      <td>3</td>\n",
       "      <td>Braund, Mr. Owen Harris</td>\n",
       "      <td>male</td>\n",
       "      <td>22.0</td>\n",
       "      <td>1</td>\n",
       "      <td>0</td>\n",
       "      <td>A/5 21171</td>\n",
       "      <td>7.2500</td>\n",
       "      <td>NaN</td>\n",
       "      <td>S</td>\n",
       "    </tr>\n",
       "    <tr>\n",
       "      <th>1</th>\n",
       "      <td>2</td>\n",
       "      <td>1</td>\n",
       "      <td>1</td>\n",
       "      <td>Cumings, Mrs. John Bradley (Florence Briggs Th...</td>\n",
       "      <td>female</td>\n",
       "      <td>38.0</td>\n",
       "      <td>1</td>\n",
       "      <td>0</td>\n",
       "      <td>PC 17599</td>\n",
       "      <td>71.2833</td>\n",
       "      <td>C85</td>\n",
       "      <td>C</td>\n",
       "    </tr>\n",
       "    <tr>\n",
       "      <th>2</th>\n",
       "      <td>3</td>\n",
       "      <td>1</td>\n",
       "      <td>3</td>\n",
       "      <td>Heikkinen, Miss. Laina</td>\n",
       "      <td>female</td>\n",
       "      <td>26.0</td>\n",
       "      <td>0</td>\n",
       "      <td>0</td>\n",
       "      <td>STON/O2. 3101282</td>\n",
       "      <td>7.9250</td>\n",
       "      <td>NaN</td>\n",
       "      <td>S</td>\n",
       "    </tr>\n",
       "    <tr>\n",
       "      <th>3</th>\n",
       "      <td>4</td>\n",
       "      <td>1</td>\n",
       "      <td>1</td>\n",
       "      <td>Futrelle, Mrs. Jacques Heath (Lily May Peel)</td>\n",
       "      <td>female</td>\n",
       "      <td>35.0</td>\n",
       "      <td>1</td>\n",
       "      <td>0</td>\n",
       "      <td>113803</td>\n",
       "      <td>53.1000</td>\n",
       "      <td>C123</td>\n",
       "      <td>S</td>\n",
       "    </tr>\n",
       "    <tr>\n",
       "      <th>4</th>\n",
       "      <td>5</td>\n",
       "      <td>0</td>\n",
       "      <td>3</td>\n",
       "      <td>Allen, Mr. William Henry</td>\n",
       "      <td>male</td>\n",
       "      <td>35.0</td>\n",
       "      <td>0</td>\n",
       "      <td>0</td>\n",
       "      <td>373450</td>\n",
       "      <td>8.0500</td>\n",
       "      <td>NaN</td>\n",
       "      <td>S</td>\n",
       "    </tr>\n",
       "    <tr>\n",
       "      <th>5</th>\n",
       "      <td>6</td>\n",
       "      <td>0</td>\n",
       "      <td>3</td>\n",
       "      <td>Moran, Mr. James</td>\n",
       "      <td>male</td>\n",
       "      <td>NaN</td>\n",
       "      <td>0</td>\n",
       "      <td>0</td>\n",
       "      <td>330877</td>\n",
       "      <td>8.4583</td>\n",
       "      <td>NaN</td>\n",
       "      <td>Q</td>\n",
       "    </tr>\n",
       "    <tr>\n",
       "      <th>6</th>\n",
       "      <td>7</td>\n",
       "      <td>0</td>\n",
       "      <td>1</td>\n",
       "      <td>McCarthy, Mr. Timothy J</td>\n",
       "      <td>male</td>\n",
       "      <td>54.0</td>\n",
       "      <td>0</td>\n",
       "      <td>0</td>\n",
       "      <td>17463</td>\n",
       "      <td>51.8625</td>\n",
       "      <td>E46</td>\n",
       "      <td>S</td>\n",
       "    </tr>\n",
       "    <tr>\n",
       "      <th>7</th>\n",
       "      <td>8</td>\n",
       "      <td>0</td>\n",
       "      <td>3</td>\n",
       "      <td>Palsson, Master. Gosta Leonard</td>\n",
       "      <td>male</td>\n",
       "      <td>2.0</td>\n",
       "      <td>3</td>\n",
       "      <td>1</td>\n",
       "      <td>349909</td>\n",
       "      <td>21.0750</td>\n",
       "      <td>NaN</td>\n",
       "      <td>S</td>\n",
       "    </tr>\n",
       "    <tr>\n",
       "      <th>8</th>\n",
       "      <td>9</td>\n",
       "      <td>1</td>\n",
       "      <td>3</td>\n",
       "      <td>Johnson, Mrs. Oscar W (Elisabeth Vilhelmina Berg)</td>\n",
       "      <td>female</td>\n",
       "      <td>27.0</td>\n",
       "      <td>0</td>\n",
       "      <td>2</td>\n",
       "      <td>347742</td>\n",
       "      <td>11.1333</td>\n",
       "      <td>NaN</td>\n",
       "      <td>S</td>\n",
       "    </tr>\n",
       "    <tr>\n",
       "      <th>9</th>\n",
       "      <td>10</td>\n",
       "      <td>1</td>\n",
       "      <td>2</td>\n",
       "      <td>Nasser, Mrs. Nicholas (Adele Achem)</td>\n",
       "      <td>female</td>\n",
       "      <td>14.0</td>\n",
       "      <td>1</td>\n",
       "      <td>0</td>\n",
       "      <td>237736</td>\n",
       "      <td>30.0708</td>\n",
       "      <td>NaN</td>\n",
       "      <td>C</td>\n",
       "    </tr>\n",
       "  </tbody>\n",
       "</table>\n",
       "</div>"
      ],
      "text/plain": [
       "   PassengerId  Survived  Pclass  \\\n",
       "0            1         0       3   \n",
       "1            2         1       1   \n",
       "2            3         1       3   \n",
       "3            4         1       1   \n",
       "4            5         0       3   \n",
       "5            6         0       3   \n",
       "6            7         0       1   \n",
       "7            8         0       3   \n",
       "8            9         1       3   \n",
       "9           10         1       2   \n",
       "\n",
       "                                                Name     Sex   Age  SibSp  \\\n",
       "0                            Braund, Mr. Owen Harris    male  22.0      1   \n",
       "1  Cumings, Mrs. John Bradley (Florence Briggs Th...  female  38.0      1   \n",
       "2                             Heikkinen, Miss. Laina  female  26.0      0   \n",
       "3       Futrelle, Mrs. Jacques Heath (Lily May Peel)  female  35.0      1   \n",
       "4                           Allen, Mr. William Henry    male  35.0      0   \n",
       "5                                   Moran, Mr. James    male   NaN      0   \n",
       "6                            McCarthy, Mr. Timothy J    male  54.0      0   \n",
       "7                     Palsson, Master. Gosta Leonard    male   2.0      3   \n",
       "8  Johnson, Mrs. Oscar W (Elisabeth Vilhelmina Berg)  female  27.0      0   \n",
       "9                Nasser, Mrs. Nicholas (Adele Achem)  female  14.0      1   \n",
       "\n",
       "   Parch            Ticket     Fare Cabin Embarked  \n",
       "0      0         A/5 21171   7.2500   NaN        S  \n",
       "1      0          PC 17599  71.2833   C85        C  \n",
       "2      0  STON/O2. 3101282   7.9250   NaN        S  \n",
       "3      0            113803  53.1000  C123        S  \n",
       "4      0            373450   8.0500   NaN        S  \n",
       "5      0            330877   8.4583   NaN        Q  \n",
       "6      0             17463  51.8625   E46        S  \n",
       "7      1            349909  21.0750   NaN        S  \n",
       "8      2            347742  11.1333   NaN        S  \n",
       "9      0            237736  30.0708   NaN        C  "
      ]
     },
     "execution_count": 4,
     "metadata": {},
     "output_type": "execute_result"
    }
   ],
   "source": [
    "train_data.head(10)"
   ]
  },
  {
   "cell_type": "code",
   "execution_count": 5,
   "id": "668f12cb",
   "metadata": {
    "execution": {
     "iopub.execute_input": "2022-01-12T23:12:43.145939Z",
     "iopub.status.busy": "2022-01-12T23:12:43.145296Z",
     "iopub.status.idle": "2022-01-12T23:12:43.158724Z",
     "shell.execute_reply": "2022-01-12T23:12:43.159190Z",
     "shell.execute_reply.started": "2022-01-12T22:06:33.267491Z"
    },
    "papermill": {
     "duration": 0.104216,
     "end_time": "2022-01-12T23:12:43.159359",
     "exception": false,
     "start_time": "2022-01-12T23:12:43.055143",
     "status": "completed"
    },
    "tags": []
   },
   "outputs": [
    {
     "data": {
      "text/html": [
       "<div>\n",
       "<style scoped>\n",
       "    .dataframe tbody tr th:only-of-type {\n",
       "        vertical-align: middle;\n",
       "    }\n",
       "\n",
       "    .dataframe tbody tr th {\n",
       "        vertical-align: top;\n",
       "    }\n",
       "\n",
       "    .dataframe thead th {\n",
       "        text-align: right;\n",
       "    }\n",
       "</style>\n",
       "<table border=\"1\" class=\"dataframe\">\n",
       "  <thead>\n",
       "    <tr style=\"text-align: right;\">\n",
       "      <th></th>\n",
       "      <th>PassengerId</th>\n",
       "      <th>Pclass</th>\n",
       "      <th>Name</th>\n",
       "      <th>Sex</th>\n",
       "      <th>Age</th>\n",
       "      <th>SibSp</th>\n",
       "      <th>Parch</th>\n",
       "      <th>Ticket</th>\n",
       "      <th>Fare</th>\n",
       "      <th>Cabin</th>\n",
       "      <th>Embarked</th>\n",
       "    </tr>\n",
       "  </thead>\n",
       "  <tbody>\n",
       "    <tr>\n",
       "      <th>0</th>\n",
       "      <td>892</td>\n",
       "      <td>3</td>\n",
       "      <td>Kelly, Mr. James</td>\n",
       "      <td>male</td>\n",
       "      <td>34.5</td>\n",
       "      <td>0</td>\n",
       "      <td>0</td>\n",
       "      <td>330911</td>\n",
       "      <td>7.8292</td>\n",
       "      <td>NaN</td>\n",
       "      <td>Q</td>\n",
       "    </tr>\n",
       "    <tr>\n",
       "      <th>1</th>\n",
       "      <td>893</td>\n",
       "      <td>3</td>\n",
       "      <td>Wilkes, Mrs. James (Ellen Needs)</td>\n",
       "      <td>female</td>\n",
       "      <td>47.0</td>\n",
       "      <td>1</td>\n",
       "      <td>0</td>\n",
       "      <td>363272</td>\n",
       "      <td>7.0000</td>\n",
       "      <td>NaN</td>\n",
       "      <td>S</td>\n",
       "    </tr>\n",
       "    <tr>\n",
       "      <th>2</th>\n",
       "      <td>894</td>\n",
       "      <td>2</td>\n",
       "      <td>Myles, Mr. Thomas Francis</td>\n",
       "      <td>male</td>\n",
       "      <td>62.0</td>\n",
       "      <td>0</td>\n",
       "      <td>0</td>\n",
       "      <td>240276</td>\n",
       "      <td>9.6875</td>\n",
       "      <td>NaN</td>\n",
       "      <td>Q</td>\n",
       "    </tr>\n",
       "    <tr>\n",
       "      <th>3</th>\n",
       "      <td>895</td>\n",
       "      <td>3</td>\n",
       "      <td>Wirz, Mr. Albert</td>\n",
       "      <td>male</td>\n",
       "      <td>27.0</td>\n",
       "      <td>0</td>\n",
       "      <td>0</td>\n",
       "      <td>315154</td>\n",
       "      <td>8.6625</td>\n",
       "      <td>NaN</td>\n",
       "      <td>S</td>\n",
       "    </tr>\n",
       "    <tr>\n",
       "      <th>4</th>\n",
       "      <td>896</td>\n",
       "      <td>3</td>\n",
       "      <td>Hirvonen, Mrs. Alexander (Helga E Lindqvist)</td>\n",
       "      <td>female</td>\n",
       "      <td>22.0</td>\n",
       "      <td>1</td>\n",
       "      <td>1</td>\n",
       "      <td>3101298</td>\n",
       "      <td>12.2875</td>\n",
       "      <td>NaN</td>\n",
       "      <td>S</td>\n",
       "    </tr>\n",
       "  </tbody>\n",
       "</table>\n",
       "</div>"
      ],
      "text/plain": [
       "   PassengerId  Pclass                                          Name     Sex  \\\n",
       "0          892       3                              Kelly, Mr. James    male   \n",
       "1          893       3              Wilkes, Mrs. James (Ellen Needs)  female   \n",
       "2          894       2                     Myles, Mr. Thomas Francis    male   \n",
       "3          895       3                              Wirz, Mr. Albert    male   \n",
       "4          896       3  Hirvonen, Mrs. Alexander (Helga E Lindqvist)  female   \n",
       "\n",
       "    Age  SibSp  Parch   Ticket     Fare Cabin Embarked  \n",
       "0  34.5      0      0   330911   7.8292   NaN        Q  \n",
       "1  47.0      1      0   363272   7.0000   NaN        S  \n",
       "2  62.0      0      0   240276   9.6875   NaN        Q  \n",
       "3  27.0      0      0   315154   8.6625   NaN        S  \n",
       "4  22.0      1      1  3101298  12.2875   NaN        S  "
      ]
     },
     "execution_count": 5,
     "metadata": {},
     "output_type": "execute_result"
    }
   ],
   "source": [
    "test_data.head()"
   ]
  },
  {
   "cell_type": "code",
   "execution_count": 6,
   "id": "8a7a28d1",
   "metadata": {
    "execution": {
     "iopub.execute_input": "2022-01-12T23:12:43.335901Z",
     "iopub.status.busy": "2022-01-12T23:12:43.335264Z",
     "iopub.status.idle": "2022-01-12T23:12:43.357442Z",
     "shell.execute_reply": "2022-01-12T23:12:43.358012Z",
     "shell.execute_reply.started": "2022-01-12T22:06:33.284713Z"
    },
    "papermill": {
     "duration": 0.112311,
     "end_time": "2022-01-12T23:12:43.358196",
     "exception": false,
     "start_time": "2022-01-12T23:12:43.245885",
     "status": "completed"
    },
    "tags": []
   },
   "outputs": [
    {
     "name": "stdout",
     "output_type": "stream",
     "text": [
      "<class 'pandas.core.frame.DataFrame'>\n",
      "RangeIndex: 891 entries, 0 to 890\n",
      "Data columns (total 12 columns):\n",
      " #   Column       Non-Null Count  Dtype  \n",
      "---  ------       --------------  -----  \n",
      " 0   PassengerId  891 non-null    int64  \n",
      " 1   Survived     891 non-null    int64  \n",
      " 2   Pclass       891 non-null    int64  \n",
      " 3   Name         891 non-null    object \n",
      " 4   Sex          891 non-null    object \n",
      " 5   Age          714 non-null    float64\n",
      " 6   SibSp        891 non-null    int64  \n",
      " 7   Parch        891 non-null    int64  \n",
      " 8   Ticket       891 non-null    object \n",
      " 9   Fare         891 non-null    float64\n",
      " 10  Cabin        204 non-null    object \n",
      " 11  Embarked     889 non-null    object \n",
      "dtypes: float64(2), int64(5), object(5)\n",
      "memory usage: 83.7+ KB\n"
     ]
    }
   ],
   "source": [
    "train_data.info()"
   ]
  },
  {
   "cell_type": "code",
   "execution_count": 7,
   "id": "0327609b",
   "metadata": {
    "execution": {
     "iopub.execute_input": "2022-01-12T23:12:43.537213Z",
     "iopub.status.busy": "2022-01-12T23:12:43.536193Z",
     "iopub.status.idle": "2022-01-12T23:12:43.570069Z",
     "shell.execute_reply": "2022-01-12T23:12:43.569585Z",
     "shell.execute_reply.started": "2022-01-12T22:06:33.316904Z"
    },
    "papermill": {
     "duration": 0.125043,
     "end_time": "2022-01-12T23:12:43.570241",
     "exception": false,
     "start_time": "2022-01-12T23:12:43.445198",
     "status": "completed"
    },
    "tags": []
   },
   "outputs": [
    {
     "data": {
      "text/html": [
       "<div>\n",
       "<style scoped>\n",
       "    .dataframe tbody tr th:only-of-type {\n",
       "        vertical-align: middle;\n",
       "    }\n",
       "\n",
       "    .dataframe tbody tr th {\n",
       "        vertical-align: top;\n",
       "    }\n",
       "\n",
       "    .dataframe thead th {\n",
       "        text-align: right;\n",
       "    }\n",
       "</style>\n",
       "<table border=\"1\" class=\"dataframe\">\n",
       "  <thead>\n",
       "    <tr style=\"text-align: right;\">\n",
       "      <th></th>\n",
       "      <th>PassengerId</th>\n",
       "      <th>Survived</th>\n",
       "      <th>Pclass</th>\n",
       "      <th>Age</th>\n",
       "      <th>SibSp</th>\n",
       "      <th>Parch</th>\n",
       "      <th>Fare</th>\n",
       "    </tr>\n",
       "  </thead>\n",
       "  <tbody>\n",
       "    <tr>\n",
       "      <th>count</th>\n",
       "      <td>891.000000</td>\n",
       "      <td>891.000000</td>\n",
       "      <td>891.000000</td>\n",
       "      <td>714.000000</td>\n",
       "      <td>891.000000</td>\n",
       "      <td>891.000000</td>\n",
       "      <td>891.000000</td>\n",
       "    </tr>\n",
       "    <tr>\n",
       "      <th>mean</th>\n",
       "      <td>446.000000</td>\n",
       "      <td>0.383838</td>\n",
       "      <td>2.308642</td>\n",
       "      <td>29.699118</td>\n",
       "      <td>0.523008</td>\n",
       "      <td>0.381594</td>\n",
       "      <td>32.204208</td>\n",
       "    </tr>\n",
       "    <tr>\n",
       "      <th>std</th>\n",
       "      <td>257.353842</td>\n",
       "      <td>0.486592</td>\n",
       "      <td>0.836071</td>\n",
       "      <td>14.526497</td>\n",
       "      <td>1.102743</td>\n",
       "      <td>0.806057</td>\n",
       "      <td>49.693429</td>\n",
       "    </tr>\n",
       "    <tr>\n",
       "      <th>min</th>\n",
       "      <td>1.000000</td>\n",
       "      <td>0.000000</td>\n",
       "      <td>1.000000</td>\n",
       "      <td>0.420000</td>\n",
       "      <td>0.000000</td>\n",
       "      <td>0.000000</td>\n",
       "      <td>0.000000</td>\n",
       "    </tr>\n",
       "    <tr>\n",
       "      <th>25%</th>\n",
       "      <td>223.500000</td>\n",
       "      <td>0.000000</td>\n",
       "      <td>2.000000</td>\n",
       "      <td>20.125000</td>\n",
       "      <td>0.000000</td>\n",
       "      <td>0.000000</td>\n",
       "      <td>7.910400</td>\n",
       "    </tr>\n",
       "    <tr>\n",
       "      <th>50%</th>\n",
       "      <td>446.000000</td>\n",
       "      <td>0.000000</td>\n",
       "      <td>3.000000</td>\n",
       "      <td>28.000000</td>\n",
       "      <td>0.000000</td>\n",
       "      <td>0.000000</td>\n",
       "      <td>14.454200</td>\n",
       "    </tr>\n",
       "    <tr>\n",
       "      <th>75%</th>\n",
       "      <td>668.500000</td>\n",
       "      <td>1.000000</td>\n",
       "      <td>3.000000</td>\n",
       "      <td>38.000000</td>\n",
       "      <td>1.000000</td>\n",
       "      <td>0.000000</td>\n",
       "      <td>31.000000</td>\n",
       "    </tr>\n",
       "    <tr>\n",
       "      <th>max</th>\n",
       "      <td>891.000000</td>\n",
       "      <td>1.000000</td>\n",
       "      <td>3.000000</td>\n",
       "      <td>80.000000</td>\n",
       "      <td>8.000000</td>\n",
       "      <td>6.000000</td>\n",
       "      <td>512.329200</td>\n",
       "    </tr>\n",
       "  </tbody>\n",
       "</table>\n",
       "</div>"
      ],
      "text/plain": [
       "       PassengerId    Survived      Pclass         Age       SibSp  \\\n",
       "count   891.000000  891.000000  891.000000  714.000000  891.000000   \n",
       "mean    446.000000    0.383838    2.308642   29.699118    0.523008   \n",
       "std     257.353842    0.486592    0.836071   14.526497    1.102743   \n",
       "min       1.000000    0.000000    1.000000    0.420000    0.000000   \n",
       "25%     223.500000    0.000000    2.000000   20.125000    0.000000   \n",
       "50%     446.000000    0.000000    3.000000   28.000000    0.000000   \n",
       "75%     668.500000    1.000000    3.000000   38.000000    1.000000   \n",
       "max     891.000000    1.000000    3.000000   80.000000    8.000000   \n",
       "\n",
       "            Parch        Fare  \n",
       "count  891.000000  891.000000  \n",
       "mean     0.381594   32.204208  \n",
       "std      0.806057   49.693429  \n",
       "min      0.000000    0.000000  \n",
       "25%      0.000000    7.910400  \n",
       "50%      0.000000   14.454200  \n",
       "75%      0.000000   31.000000  \n",
       "max      6.000000  512.329200  "
      ]
     },
     "execution_count": 7,
     "metadata": {},
     "output_type": "execute_result"
    }
   ],
   "source": [
    "train_data.describe()"
   ]
  },
  {
   "cell_type": "markdown",
   "id": "5461c4a5",
   "metadata": {
    "papermill": {
     "duration": 0.086952,
     "end_time": "2022-01-12T23:12:43.744640",
     "exception": false,
     "start_time": "2022-01-12T23:12:43.657688",
     "status": "completed"
    },
    "tags": []
   },
   "source": [
    "We noticed that; `Age` has `NaN` values, but if we compared between `Age` and `Cabin`, you can see that `Age` can be handled compared with `Cabin`.\n",
    "\n",
    "- <span style='color:green;'><b>Notice:</b></span> We're going to handle `Cabin` at the end, so we can get the benefit from it, too."
   ]
  },
  {
   "cell_type": "markdown",
   "id": "909901e1",
   "metadata": {
    "papermill": {
     "duration": 0.089729,
     "end_time": "2022-01-12T23:12:43.923374",
     "exception": false,
     "start_time": "2022-01-12T23:12:43.833645",
     "status": "completed"
    },
    "tags": []
   },
   "source": [
    "Now, Let's do some **Feature Engineering**"
   ]
  },
  {
   "cell_type": "markdown",
   "id": "46dc1ced",
   "metadata": {
    "papermill": {
     "duration": 0.087246,
     "end_time": "2022-01-12T23:12:44.099712",
     "exception": false,
     "start_time": "2022-01-12T23:12:44.012466",
     "status": "completed"
    },
    "tags": []
   },
   "source": [
    "##### **Feature Engineering**"
   ]
  },
  {
   "cell_type": "markdown",
   "id": "977612ea",
   "metadata": {
    "papermill": {
     "duration": 0.086795,
     "end_time": "2022-01-12T23:12:44.273518",
     "exception": false,
     "start_time": "2022-01-12T23:12:44.186723",
     "status": "completed"
    },
    "tags": []
   },
   "source": [
    "<span style='color:CornflowerBlue;font-size:16px'>Feature 01: Age</span>"
   ]
  },
  {
   "cell_type": "code",
   "execution_count": 8,
   "id": "9aafea5e",
   "metadata": {
    "execution": {
     "iopub.execute_input": "2022-01-12T23:12:44.456501Z",
     "iopub.status.busy": "2022-01-12T23:12:44.455834Z",
     "iopub.status.idle": "2022-01-12T23:12:44.458863Z",
     "shell.execute_reply": "2022-01-12T23:12:44.458274Z",
     "shell.execute_reply.started": "2022-01-12T22:06:33.352329Z"
    },
    "papermill": {
     "duration": 0.098536,
     "end_time": "2022-01-12T23:12:44.458998",
     "exception": false,
     "start_time": "2022-01-12T23:12:44.360462",
     "status": "completed"
    },
    "tags": []
   },
   "outputs": [
    {
     "data": {
      "text/plain": [
       "False    714\n",
       "True     177\n",
       "Name: Age, dtype: int64"
      ]
     },
     "execution_count": 8,
     "metadata": {},
     "output_type": "execute_result"
    }
   ],
   "source": [
    "train_data['Age'].isnull().value_counts()"
   ]
  },
  {
   "cell_type": "markdown",
   "id": "17f29e6e",
   "metadata": {
    "papermill": {
     "duration": 0.088332,
     "end_time": "2022-01-12T23:12:44.635423",
     "exception": false,
     "start_time": "2022-01-12T23:12:44.547091",
     "status": "completed"
    },
    "tags": []
   },
   "source": [
    "To fill the `NaN` values in the `Age` column, we can get the highest frequency of `Age` and start to fulfil it randomly instead of the `NaN` values. \n",
    "\n",
    "Note: \n",
    "- We're going to select the highest 10 frequencies of our `Age` class and their frequencies and then, we're going to assign them, randomly."
   ]
  },
  {
   "cell_type": "code",
   "execution_count": 9,
   "id": "2a88f540",
   "metadata": {
    "execution": {
     "iopub.execute_input": "2022-01-12T23:12:44.815095Z",
     "iopub.status.busy": "2022-01-12T23:12:44.814459Z",
     "iopub.status.idle": "2022-01-12T23:12:44.824090Z",
     "shell.execute_reply": "2022-01-12T23:12:44.824635Z",
     "shell.execute_reply.started": "2022-01-12T22:06:33.361653Z"
    },
    "papermill": {
     "duration": 0.100466,
     "end_time": "2022-01-12T23:12:44.824809",
     "exception": false,
     "start_time": "2022-01-12T23:12:44.724343",
     "status": "completed"
    },
    "tags": []
   },
   "outputs": [
    {
     "data": {
      "text/plain": [
       "24.0    30\n",
       "22.0    27\n",
       "18.0    26\n",
       "19.0    25\n",
       "28.0    25\n",
       "30.0    25\n",
       "21.0    24\n",
       "25.0    23\n",
       "36.0    22\n",
       "29.0    20\n",
       "Name: Age, dtype: int64"
      ]
     },
     "execution_count": 9,
     "metadata": {},
     "output_type": "execute_result"
    }
   ],
   "source": [
    "train_data['Age'].value_counts().head(10)"
   ]
  },
  {
   "cell_type": "markdown",
   "id": "442ac202",
   "metadata": {
    "papermill": {
     "duration": 0.088178,
     "end_time": "2022-01-12T23:12:45.001130",
     "exception": false,
     "start_time": "2022-01-12T23:12:44.912952",
     "status": "completed"
    },
    "tags": []
   },
   "source": [
    "To have a fair probability between all the `NaN` values replacements, we need to normalize the frequency of our `Age` feature so the total sum of the probability is equal 1. ."
   ]
  },
  {
   "cell_type": "markdown",
   "id": "ba33e6c6",
   "metadata": {
    "execution": {
     "iopub.execute_input": "2022-01-10T22:23:40.181969Z",
     "iopub.status.busy": "2022-01-10T22:23:40.181411Z",
     "iopub.status.idle": "2022-01-10T22:23:40.187854Z",
     "shell.execute_reply": "2022-01-10T22:23:40.186813Z",
     "shell.execute_reply.started": "2022-01-10T22:23:40.181876Z"
    },
    "papermill": {
     "duration": 0.089325,
     "end_time": "2022-01-12T23:12:45.177993",
     "exception": false,
     "start_time": "2022-01-12T23:12:45.088668",
     "status": "completed"
    },
    "tags": []
   },
   "source": [
    "Equation for that is;\n",
    "\n",
    "# $X_{norm} = \\frac{{1}}{\\sum_{i}^{N}{x_i}}\\times{x_j}$"
   ]
  },
  {
   "cell_type": "code",
   "execution_count": 10,
   "id": "f4b92ec5",
   "metadata": {
    "execution": {
     "iopub.execute_input": "2022-01-12T23:12:45.356504Z",
     "iopub.status.busy": "2022-01-12T23:12:45.355849Z",
     "iopub.status.idle": "2022-01-12T23:12:45.361412Z",
     "shell.execute_reply": "2022-01-12T23:12:45.361949Z",
     "shell.execute_reply.started": "2022-01-12T22:06:33.381553Z"
    },
    "papermill": {
     "duration": 0.096755,
     "end_time": "2022-01-12T23:12:45.362129",
     "exception": false,
     "start_time": "2022-01-12T23:12:45.265374",
     "status": "completed"
    },
    "tags": []
   },
   "outputs": [],
   "source": [
    "age_highest_freq = train_data['Age'].value_counts().head(10).index.values\n",
    "freq_of_highes_age = train_data['Age'].value_counts().head(10).values\n",
    "age_probabilities = list(map(lambda value: (1/sum(freq_of_highes_age)) * value,\n",
    "                             freq_of_highes_age))"
   ]
  },
  {
   "cell_type": "code",
   "execution_count": 11,
   "id": "41c0b0d6",
   "metadata": {
    "execution": {
     "iopub.execute_input": "2022-01-12T23:12:45.541127Z",
     "iopub.status.busy": "2022-01-12T23:12:45.540475Z",
     "iopub.status.idle": "2022-01-12T23:12:45.554341Z",
     "shell.execute_reply": "2022-01-12T23:12:45.554852Z",
     "shell.execute_reply.started": "2022-01-12T22:06:33.392783Z"
    },
    "papermill": {
     "duration": 0.105093,
     "end_time": "2022-01-12T23:12:45.555020",
     "exception": false,
     "start_time": "2022-01-12T23:12:45.449927",
     "status": "completed"
    },
    "tags": []
   },
   "outputs": [],
   "source": [
    "train_data['Age'] = train_data['Age'].apply(lambda value: value if not np.isnan(value) \n",
    "                                            else np.random.choice(age_highest_freq,\n",
    "                                                                  p=age_probabilities))"
   ]
  },
  {
   "cell_type": "code",
   "execution_count": 12,
   "id": "fc63f25c",
   "metadata": {
    "execution": {
     "iopub.execute_input": "2022-01-12T23:12:45.733441Z",
     "iopub.status.busy": "2022-01-12T23:12:45.732783Z",
     "iopub.status.idle": "2022-01-12T23:12:45.745494Z",
     "shell.execute_reply": "2022-01-12T23:12:45.746494Z",
     "shell.execute_reply.started": "2022-01-12T22:06:33.412670Z"
    },
    "papermill": {
     "duration": 0.10417,
     "end_time": "2022-01-12T23:12:45.746817",
     "exception": false,
     "start_time": "2022-01-12T23:12:45.642647",
     "status": "completed"
    },
    "tags": []
   },
   "outputs": [
    {
     "name": "stdout",
     "output_type": "stream",
     "text": [
      "<class 'pandas.core.frame.DataFrame'>\n",
      "RangeIndex: 891 entries, 0 to 890\n",
      "Data columns (total 12 columns):\n",
      " #   Column       Non-Null Count  Dtype  \n",
      "---  ------       --------------  -----  \n",
      " 0   PassengerId  891 non-null    int64  \n",
      " 1   Survived     891 non-null    int64  \n",
      " 2   Pclass       891 non-null    int64  \n",
      " 3   Name         891 non-null    object \n",
      " 4   Sex          891 non-null    object \n",
      " 5   Age          891 non-null    float64\n",
      " 6   SibSp        891 non-null    int64  \n",
      " 7   Parch        891 non-null    int64  \n",
      " 8   Ticket       891 non-null    object \n",
      " 9   Fare         891 non-null    float64\n",
      " 10  Cabin        204 non-null    object \n",
      " 11  Embarked     889 non-null    object \n",
      "dtypes: float64(2), int64(5), object(5)\n",
      "memory usage: 83.7+ KB\n"
     ]
    }
   ],
   "source": [
    "train_data.info()"
   ]
  },
  {
   "cell_type": "markdown",
   "id": "34ed49c8",
   "metadata": {
    "papermill": {
     "duration": 0.087621,
     "end_time": "2022-01-12T23:12:45.923818",
     "exception": false,
     "start_time": "2022-01-12T23:12:45.836197",
     "status": "completed"
    },
    "tags": []
   },
   "source": [
    "<span style='color:CornflowerBlue;font-size:16px'>Feature 02: Embarked</span>"
   ]
  },
  {
   "cell_type": "markdown",
   "id": "3dbe5adf",
   "metadata": {
    "papermill": {
     "duration": 0.08908,
     "end_time": "2022-01-12T23:12:46.103318",
     "exception": false,
     "start_time": "2022-01-12T23:12:46.014238",
     "status": "completed"
    },
    "tags": []
   },
   "source": [
    "`Embarked` Feature has only 1 missing value, we can fill this value with the mode value of the `Embarked` feature."
   ]
  },
  {
   "cell_type": "code",
   "execution_count": 13,
   "id": "5e9be68e",
   "metadata": {
    "execution": {
     "iopub.execute_input": "2022-01-12T23:12:46.282493Z",
     "iopub.status.busy": "2022-01-12T23:12:46.281874Z",
     "iopub.status.idle": "2022-01-12T23:12:46.288555Z",
     "shell.execute_reply": "2022-01-12T23:12:46.289099Z",
     "shell.execute_reply.started": "2022-01-12T22:06:33.427637Z"
    },
    "papermill": {
     "duration": 0.097764,
     "end_time": "2022-01-12T23:12:46.289291",
     "exception": false,
     "start_time": "2022-01-12T23:12:46.191527",
     "status": "completed"
    },
    "tags": []
   },
   "outputs": [
    {
     "data": {
      "text/plain": [
       "False    889\n",
       "True       2\n",
       "Name: Embarked, dtype: int64"
      ]
     },
     "execution_count": 13,
     "metadata": {},
     "output_type": "execute_result"
    }
   ],
   "source": [
    "train_data['Embarked'].isnull().value_counts()"
   ]
  },
  {
   "cell_type": "code",
   "execution_count": 14,
   "id": "23aa6480",
   "metadata": {
    "execution": {
     "iopub.execute_input": "2022-01-12T23:12:46.472755Z",
     "iopub.status.busy": "2022-01-12T23:12:46.472069Z",
     "iopub.status.idle": "2022-01-12T23:12:46.475849Z",
     "shell.execute_reply": "2022-01-12T23:12:46.475217Z",
     "shell.execute_reply.started": "2022-01-12T22:06:33.438160Z"
    },
    "papermill": {
     "duration": 0.09783,
     "end_time": "2022-01-12T23:12:46.475996",
     "exception": false,
     "start_time": "2022-01-12T23:12:46.378166",
     "status": "completed"
    },
    "tags": []
   },
   "outputs": [],
   "source": [
    "freq = train_data['Embarked'].value_counts().values[0]\n",
    "train_data['Embarked'].fillna(freq, inplace=True)"
   ]
  },
  {
   "cell_type": "code",
   "execution_count": 15,
   "id": "528ce726",
   "metadata": {
    "execution": {
     "iopub.execute_input": "2022-01-12T23:12:46.659567Z",
     "iopub.status.busy": "2022-01-12T23:12:46.658910Z",
     "iopub.status.idle": "2022-01-12T23:12:46.661432Z",
     "shell.execute_reply": "2022-01-12T23:12:46.662002Z",
     "shell.execute_reply.started": "2022-01-12T22:06:33.452961Z"
    },
    "papermill": {
     "duration": 0.097863,
     "end_time": "2022-01-12T23:12:46.662181",
     "exception": false,
     "start_time": "2022-01-12T23:12:46.564318",
     "status": "completed"
    },
    "tags": []
   },
   "outputs": [
    {
     "data": {
      "text/plain": [
       "False    891\n",
       "Name: Embarked, dtype: int64"
      ]
     },
     "execution_count": 15,
     "metadata": {},
     "output_type": "execute_result"
    }
   ],
   "source": [
    "train_data['Embarked'].isnull().value_counts()"
   ]
  },
  {
   "cell_type": "markdown",
   "id": "6ec63d4e",
   "metadata": {
    "papermill": {
     "duration": 0.088537,
     "end_time": "2022-01-12T23:12:46.839507",
     "exception": false,
     "start_time": "2022-01-12T23:12:46.750970",
     "status": "completed"
    },
    "tags": []
   },
   "source": [
    "Let's check the values inside the feature"
   ]
  },
  {
   "cell_type": "code",
   "execution_count": 16,
   "id": "69c0b98d",
   "metadata": {
    "execution": {
     "iopub.execute_input": "2022-01-12T23:12:47.023461Z",
     "iopub.status.busy": "2022-01-12T23:12:47.022694Z",
     "iopub.status.idle": "2022-01-12T23:12:47.028036Z",
     "shell.execute_reply": "2022-01-12T23:12:47.028658Z",
     "shell.execute_reply.started": "2022-01-12T22:06:33.469240Z"
    },
    "papermill": {
     "duration": 0.099266,
     "end_time": "2022-01-12T23:12:47.028823",
     "exception": false,
     "start_time": "2022-01-12T23:12:46.929557",
     "status": "completed"
    },
    "tags": []
   },
   "outputs": [
    {
     "data": {
      "text/plain": [
       "array(['S', 'C', 'Q', 644], dtype=object)"
      ]
     },
     "execution_count": 16,
     "metadata": {},
     "output_type": "execute_result"
    }
   ],
   "source": [
    "train_data['Embarked'].unique()"
   ]
  },
  {
   "cell_type": "markdown",
   "id": "b58f072c",
   "metadata": {
    "papermill": {
     "duration": 0.088835,
     "end_time": "2022-01-12T23:12:47.208785",
     "exception": false,
     "start_time": "2022-01-12T23:12:47.119950",
     "status": "completed"
    },
    "tags": []
   },
   "source": [
    "We can see that `Embarked` has a number inside its values. Let's change this number of the max frequency value inside this feature."
   ]
  },
  {
   "cell_type": "code",
   "execution_count": 17,
   "id": "1f9ceda2",
   "metadata": {
    "execution": {
     "iopub.execute_input": "2022-01-12T23:12:47.393750Z",
     "iopub.status.busy": "2022-01-12T23:12:47.393014Z",
     "iopub.status.idle": "2022-01-12T23:12:47.395422Z",
     "shell.execute_reply": "2022-01-12T23:12:47.395958Z",
     "shell.execute_reply.started": "2022-01-12T22:06:33.486472Z"
    },
    "papermill": {
     "duration": 0.098096,
     "end_time": "2022-01-12T23:12:47.396169",
     "exception": false,
     "start_time": "2022-01-12T23:12:47.298073",
     "status": "completed"
    },
    "tags": []
   },
   "outputs": [],
   "source": [
    "train_data['Embarked'].replace(to_replace=644,\n",
    "                               value=train_data['Embarked'].value_counts().index.values[0],\n",
    "                               inplace=True)"
   ]
  },
  {
   "cell_type": "code",
   "execution_count": 18,
   "id": "a15378b2",
   "metadata": {
    "execution": {
     "iopub.execute_input": "2022-01-12T23:12:47.579691Z",
     "iopub.status.busy": "2022-01-12T23:12:47.578980Z",
     "iopub.status.idle": "2022-01-12T23:12:47.584092Z",
     "shell.execute_reply": "2022-01-12T23:12:47.584621Z",
     "shell.execute_reply.started": "2022-01-12T22:06:33.498358Z"
    },
    "papermill": {
     "duration": 0.098591,
     "end_time": "2022-01-12T23:12:47.584803",
     "exception": false,
     "start_time": "2022-01-12T23:12:47.486212",
     "status": "completed"
    },
    "tags": []
   },
   "outputs": [
    {
     "data": {
      "text/plain": [
       "array(['S', 'C', 'Q'], dtype=object)"
      ]
     },
     "execution_count": 18,
     "metadata": {},
     "output_type": "execute_result"
    }
   ],
   "source": [
    "train_data['Embarked'].unique()"
   ]
  },
  {
   "cell_type": "markdown",
   "id": "547a3e9a",
   "metadata": {
    "papermill": {
     "duration": 0.089548,
     "end_time": "2022-01-12T23:12:47.764024",
     "exception": false,
     "start_time": "2022-01-12T23:12:47.674476",
     "status": "completed"
    },
    "tags": []
   },
   "source": [
    "Before continuing **Feature Engineering** – all the features are stable now. We need to expand our vision more to understand the data that we have before applying any additional FE. What is going to help us in our mission of understanding the dataset is EDA."
   ]
  },
  {
   "cell_type": "markdown",
   "id": "506553fd",
   "metadata": {
    "papermill": {
     "duration": 0.090008,
     "end_time": "2022-01-12T23:12:47.944464",
     "exception": false,
     "start_time": "2022-01-12T23:12:47.854456",
     "status": "completed"
    },
    "tags": []
   },
   "source": [
    "   "
   ]
  },
  {
   "cell_type": "markdown",
   "id": "c7c74955",
   "metadata": {
    "papermill": {
     "duration": 0.097306,
     "end_time": "2022-01-12T23:12:48.133743",
     "exception": false,
     "start_time": "2022-01-12T23:12:48.036437",
     "status": "completed"
    },
    "tags": []
   },
   "source": [
    "#### (B) Exploratory Data Analysis"
   ]
  },
  {
   "cell_type": "markdown",
   "id": "1cfb0245",
   "metadata": {
    "execution": {
     "iopub.execute_input": "2022-01-08T23:09:13.855996Z",
     "iopub.status.busy": "2022-01-08T23:09:13.855699Z",
     "iopub.status.idle": "2022-01-08T23:09:13.896985Z",
     "shell.execute_reply": "2022-01-08T23:09:13.895698Z",
     "shell.execute_reply.started": "2022-01-08T23:09:13.855962Z"
    },
    "papermill": {
     "duration": 0.089046,
     "end_time": "2022-01-12T23:12:48.329442",
     "exception": false,
     "start_time": "2022-01-12T23:12:48.240396",
     "status": "completed"
    },
    "tags": []
   },
   "source": [
    "First, we need to check the correlation between the features – this might be the first step to help us identify which feature will be really helpful in predictions."
   ]
  },
  {
   "cell_type": "code",
   "execution_count": 19,
   "id": "9a751b08",
   "metadata": {
    "execution": {
     "iopub.execute_input": "2022-01-12T23:12:48.512174Z",
     "iopub.status.busy": "2022-01-12T23:12:48.511490Z",
     "iopub.status.idle": "2022-01-12T23:12:48.528289Z",
     "shell.execute_reply": "2022-01-12T23:12:48.528768Z",
     "shell.execute_reply.started": "2022-01-12T22:06:33.513119Z"
    },
    "papermill": {
     "duration": 0.109857,
     "end_time": "2022-01-12T23:12:48.528949",
     "exception": false,
     "start_time": "2022-01-12T23:12:48.419092",
     "status": "completed"
    },
    "tags": []
   },
   "outputs": [
    {
     "data": {
      "text/html": [
       "<div>\n",
       "<style scoped>\n",
       "    .dataframe tbody tr th:only-of-type {\n",
       "        vertical-align: middle;\n",
       "    }\n",
       "\n",
       "    .dataframe tbody tr th {\n",
       "        vertical-align: top;\n",
       "    }\n",
       "\n",
       "    .dataframe thead th {\n",
       "        text-align: right;\n",
       "    }\n",
       "</style>\n",
       "<table border=\"1\" class=\"dataframe\">\n",
       "  <thead>\n",
       "    <tr style=\"text-align: right;\">\n",
       "      <th></th>\n",
       "      <th>PassengerId</th>\n",
       "      <th>Survived</th>\n",
       "      <th>Pclass</th>\n",
       "      <th>Age</th>\n",
       "      <th>SibSp</th>\n",
       "      <th>Parch</th>\n",
       "      <th>Fare</th>\n",
       "    </tr>\n",
       "  </thead>\n",
       "  <tbody>\n",
       "    <tr>\n",
       "      <th>PassengerId</th>\n",
       "      <td>1.000000</td>\n",
       "      <td>-0.005007</td>\n",
       "      <td>-0.035144</td>\n",
       "      <td>0.038118</td>\n",
       "      <td>-0.057527</td>\n",
       "      <td>-0.001652</td>\n",
       "      <td>0.012658</td>\n",
       "    </tr>\n",
       "    <tr>\n",
       "      <th>Survived</th>\n",
       "      <td>-0.005007</td>\n",
       "      <td>1.000000</td>\n",
       "      <td>-0.338481</td>\n",
       "      <td>-0.056651</td>\n",
       "      <td>-0.035322</td>\n",
       "      <td>0.081629</td>\n",
       "      <td>0.257307</td>\n",
       "    </tr>\n",
       "    <tr>\n",
       "      <th>Pclass</th>\n",
       "      <td>-0.035144</td>\n",
       "      <td>-0.338481</td>\n",
       "      <td>1.000000</td>\n",
       "      <td>-0.350056</td>\n",
       "      <td>0.083081</td>\n",
       "      <td>0.018443</td>\n",
       "      <td>-0.549500</td>\n",
       "    </tr>\n",
       "    <tr>\n",
       "      <th>Age</th>\n",
       "      <td>0.038118</td>\n",
       "      <td>-0.056651</td>\n",
       "      <td>-0.350056</td>\n",
       "      <td>1.000000</td>\n",
       "      <td>-0.221271</td>\n",
       "      <td>-0.155235</td>\n",
       "      <td>0.104624</td>\n",
       "    </tr>\n",
       "    <tr>\n",
       "      <th>SibSp</th>\n",
       "      <td>-0.057527</td>\n",
       "      <td>-0.035322</td>\n",
       "      <td>0.083081</td>\n",
       "      <td>-0.221271</td>\n",
       "      <td>1.000000</td>\n",
       "      <td>0.414838</td>\n",
       "      <td>0.159651</td>\n",
       "    </tr>\n",
       "    <tr>\n",
       "      <th>Parch</th>\n",
       "      <td>-0.001652</td>\n",
       "      <td>0.081629</td>\n",
       "      <td>0.018443</td>\n",
       "      <td>-0.155235</td>\n",
       "      <td>0.414838</td>\n",
       "      <td>1.000000</td>\n",
       "      <td>0.216225</td>\n",
       "    </tr>\n",
       "    <tr>\n",
       "      <th>Fare</th>\n",
       "      <td>0.012658</td>\n",
       "      <td>0.257307</td>\n",
       "      <td>-0.549500</td>\n",
       "      <td>0.104624</td>\n",
       "      <td>0.159651</td>\n",
       "      <td>0.216225</td>\n",
       "      <td>1.000000</td>\n",
       "    </tr>\n",
       "  </tbody>\n",
       "</table>\n",
       "</div>"
      ],
      "text/plain": [
       "             PassengerId  Survived    Pclass       Age     SibSp     Parch  \\\n",
       "PassengerId     1.000000 -0.005007 -0.035144  0.038118 -0.057527 -0.001652   \n",
       "Survived       -0.005007  1.000000 -0.338481 -0.056651 -0.035322  0.081629   \n",
       "Pclass         -0.035144 -0.338481  1.000000 -0.350056  0.083081  0.018443   \n",
       "Age             0.038118 -0.056651 -0.350056  1.000000 -0.221271 -0.155235   \n",
       "SibSp          -0.057527 -0.035322  0.083081 -0.221271  1.000000  0.414838   \n",
       "Parch          -0.001652  0.081629  0.018443 -0.155235  0.414838  1.000000   \n",
       "Fare            0.012658  0.257307 -0.549500  0.104624  0.159651  0.216225   \n",
       "\n",
       "                 Fare  \n",
       "PassengerId  0.012658  \n",
       "Survived     0.257307  \n",
       "Pclass      -0.549500  \n",
       "Age          0.104624  \n",
       "SibSp        0.159651  \n",
       "Parch        0.216225  \n",
       "Fare         1.000000  "
      ]
     },
     "execution_count": 19,
     "metadata": {},
     "output_type": "execute_result"
    }
   ],
   "source": [
    "train_corr = train_data.corr()\n",
    "train_corr"
   ]
  },
  {
   "cell_type": "code",
   "execution_count": 20,
   "id": "c8a47874",
   "metadata": {
    "execution": {
     "iopub.execute_input": "2022-01-12T23:12:48.713152Z",
     "iopub.status.busy": "2022-01-12T23:12:48.712452Z",
     "iopub.status.idle": "2022-01-12T23:12:49.234884Z",
     "shell.execute_reply": "2022-01-12T23:12:49.235423Z",
     "shell.execute_reply.started": "2022-01-12T22:06:33.533728Z"
    },
    "papermill": {
     "duration": 0.61569,
     "end_time": "2022-01-12T23:12:49.235617",
     "exception": false,
     "start_time": "2022-01-12T23:12:48.619927",
     "status": "completed"
    },
    "tags": []
   },
   "outputs": [
    {
     "data": {
      "image/png": "[encoded data removed]",
      "text/plain": [
       "<Figure size 1296x720 with 2 Axes>"
      ]
     },
     "metadata": {
      "needs_background": "light"
     },
     "output_type": "display_data"
    }
   ],
   "source": [
    "plt.figure(figsize=(18,10))\n",
    "sns.heatmap(train_corr, annot=True)\n",
    "plt.show()"
   ]
  },
  {
   "cell_type": "markdown",
   "id": "8dcfa18b",
   "metadata": {
    "papermill": {
     "duration": 0.091453,
     "end_time": "2022-01-12T23:12:49.418891",
     "exception": false,
     "start_time": "2022-01-12T23:12:49.327438",
     "status": "completed"
    },
    "tags": []
   },
   "source": [
    "The correlation between the features and the label beside the features within itself needs more work so we can discover the patterns."
   ]
  },
  {
   "cell_type": "markdown",
   "id": "2ae48f98",
   "metadata": {
    "papermill": {
     "duration": 0.090993,
     "end_time": "2022-01-12T23:12:49.601254",
     "exception": false,
     "start_time": "2022-01-12T23:12:49.510261",
     "status": "completed"
    },
    "tags": []
   },
   "source": [
    "Let's go back to the FE"
   ]
  },
  {
   "cell_type": "markdown",
   "id": "971881fd",
   "metadata": {
    "papermill": {
     "duration": 0.091302,
     "end_time": "2022-01-12T23:12:49.785578",
     "exception": false,
     "start_time": "2022-01-12T23:12:49.694276",
     "status": "completed"
    },
    "tags": []
   },
   "source": [
    "<span style='color:CornflowerBlue;font-size:16px'>Feature 03: Name</span>"
   ]
  },
  {
   "cell_type": "markdown",
   "id": "7ea913e3",
   "metadata": {
    "papermill": {
     "duration": 0.091747,
     "end_time": "2022-01-12T23:12:49.969091",
     "exception": false,
     "start_time": "2022-01-12T23:12:49.877344",
     "status": "completed"
    },
    "tags": []
   },
   "source": [
    "The idea behind slicing `Name` helps for observing patterns from the name of the passengers and converting them into a categorical feature.\n",
    "\n",
    "- <span style='color:green;'><b>Read This article:</b></span> <a href=\"https://triangleinequality.wordpress.com/2013/09/08/basic-feature-engineering-with-the-titanic-data/\">Basic Feature Engineering with the Titanic Data</a>"
   ]
  },
  {
   "cell_type": "code",
   "execution_count": 21,
   "id": "e82ea658",
   "metadata": {
    "execution": {
     "iopub.execute_input": "2022-01-12T23:12:50.158672Z",
     "iopub.status.busy": "2022-01-12T23:12:50.157795Z",
     "iopub.status.idle": "2022-01-12T23:12:50.160535Z",
     "shell.execute_reply": "2022-01-12T23:12:50.159873Z",
     "shell.execute_reply.started": "2022-01-12T22:06:34.089744Z"
    },
    "papermill": {
     "duration": 0.098694,
     "end_time": "2022-01-12T23:12:50.160699",
     "exception": false,
     "start_time": "2022-01-12T23:12:50.062005",
     "status": "completed"
    },
    "tags": []
   },
   "outputs": [],
   "source": [
    "TITLES = ('Mrs', 'Mr', 'Master', 'Miss', 'Major', 'Rev',\n",
    "          'Dr', 'Ms', 'Mlle','Col', 'Capt', 'Mme', 'Countess',\n",
    "          'Don', 'Jonkheer')"
   ]
  },
  {
   "cell_type": "code",
   "execution_count": 22,
   "id": "472e463b",
   "metadata": {
    "execution": {
     "iopub.execute_input": "2022-01-12T23:12:50.352936Z",
     "iopub.status.busy": "2022-01-12T23:12:50.352290Z",
     "iopub.status.idle": "2022-01-12T23:12:50.354130Z",
     "shell.execute_reply": "2022-01-12T23:12:50.354693Z",
     "shell.execute_reply.started": "2022-01-12T22:06:34.095349Z"
    },
    "papermill": {
     "duration": 0.10159,
     "end_time": "2022-01-12T23:12:50.354853",
     "exception": false,
     "start_time": "2022-01-12T23:12:50.253263",
     "status": "completed"
    },
    "tags": []
   },
   "outputs": [],
   "source": [
    "def patterns(name: Text, titles: Set) -> Optional[Text]:\n",
    "    for title in titles:\n",
    "        if title in name:\n",
    "            return title\n",
    "    return \"Untitled\""
   ]
  },
  {
   "cell_type": "code",
   "execution_count": 23,
   "id": "15baceb5",
   "metadata": {
    "execution": {
     "iopub.execute_input": "2022-01-12T23:12:50.548116Z",
     "iopub.status.busy": "2022-01-12T23:12:50.547094Z",
     "iopub.status.idle": "2022-01-12T23:12:50.549405Z",
     "shell.execute_reply": "2022-01-12T23:12:50.549982Z",
     "shell.execute_reply.started": "2022-01-12T22:06:34.112651Z"
    },
    "papermill": {
     "duration": 0.102976,
     "end_time": "2022-01-12T23:12:50.550165",
     "exception": false,
     "start_time": "2022-01-12T23:12:50.447189",
     "status": "completed"
    },
    "tags": []
   },
   "outputs": [],
   "source": [
    "train_data['Title'] = train_data['Name'].apply(lambda name: patterns(name, TITLES))"
   ]
  },
  {
   "cell_type": "code",
   "execution_count": 24,
   "id": "b48fa1a4",
   "metadata": {
    "execution": {
     "iopub.execute_input": "2022-01-12T23:12:50.740354Z",
     "iopub.status.busy": "2022-01-12T23:12:50.739342Z",
     "iopub.status.idle": "2022-01-12T23:12:50.763039Z",
     "shell.execute_reply": "2022-01-12T23:12:50.763583Z",
     "shell.execute_reply.started": "2022-01-12T22:06:34.126474Z"
    },
    "papermill": {
     "duration": 0.119371,
     "end_time": "2022-01-12T23:12:50.763759",
     "exception": false,
     "start_time": "2022-01-12T23:12:50.644388",
     "status": "completed"
    },
    "tags": []
   },
   "outputs": [
    {
     "data": {
      "text/html": [
       "<div>\n",
       "<style scoped>\n",
       "    .dataframe tbody tr th:only-of-type {\n",
       "        vertical-align: middle;\n",
       "    }\n",
       "\n",
       "    .dataframe tbody tr th {\n",
       "        vertical-align: top;\n",
       "    }\n",
       "\n",
       "    .dataframe thead th {\n",
       "        text-align: right;\n",
       "    }\n",
       "</style>\n",
       "<table border=\"1\" class=\"dataframe\">\n",
       "  <thead>\n",
       "    <tr style=\"text-align: right;\">\n",
       "      <th></th>\n",
       "      <th>PassengerId</th>\n",
       "      <th>Survived</th>\n",
       "      <th>Pclass</th>\n",
       "      <th>Name</th>\n",
       "      <th>Sex</th>\n",
       "      <th>Age</th>\n",
       "      <th>SibSp</th>\n",
       "      <th>Parch</th>\n",
       "      <th>Ticket</th>\n",
       "      <th>Fare</th>\n",
       "      <th>Cabin</th>\n",
       "      <th>Embarked</th>\n",
       "      <th>Title</th>\n",
       "    </tr>\n",
       "  </thead>\n",
       "  <tbody>\n",
       "    <tr>\n",
       "      <th>0</th>\n",
       "      <td>1</td>\n",
       "      <td>0</td>\n",
       "      <td>3</td>\n",
       "      <td>Braund, Mr. Owen Harris</td>\n",
       "      <td>male</td>\n",
       "      <td>22.0</td>\n",
       "      <td>1</td>\n",
       "      <td>0</td>\n",
       "      <td>A/5 21171</td>\n",
       "      <td>7.2500</td>\n",
       "      <td>NaN</td>\n",
       "      <td>S</td>\n",
       "      <td>Mr</td>\n",
       "    </tr>\n",
       "    <tr>\n",
       "      <th>1</th>\n",
       "      <td>2</td>\n",
       "      <td>1</td>\n",
       "      <td>1</td>\n",
       "      <td>Cumings, Mrs. John Bradley (Florence Briggs Th...</td>\n",
       "      <td>female</td>\n",
       "      <td>38.0</td>\n",
       "      <td>1</td>\n",
       "      <td>0</td>\n",
       "      <td>PC 17599</td>\n",
       "      <td>71.2833</td>\n",
       "      <td>C85</td>\n",
       "      <td>C</td>\n",
       "      <td>Mrs</td>\n",
       "    </tr>\n",
       "    <tr>\n",
       "      <th>2</th>\n",
       "      <td>3</td>\n",
       "      <td>1</td>\n",
       "      <td>3</td>\n",
       "      <td>Heikkinen, Miss. Laina</td>\n",
       "      <td>female</td>\n",
       "      <td>26.0</td>\n",
       "      <td>0</td>\n",
       "      <td>0</td>\n",
       "      <td>STON/O2. 3101282</td>\n",
       "      <td>7.9250</td>\n",
       "      <td>NaN</td>\n",
       "      <td>S</td>\n",
       "      <td>Miss</td>\n",
       "    </tr>\n",
       "    <tr>\n",
       "      <th>3</th>\n",
       "      <td>4</td>\n",
       "      <td>1</td>\n",
       "      <td>1</td>\n",
       "      <td>Futrelle, Mrs. Jacques Heath (Lily May Peel)</td>\n",
       "      <td>female</td>\n",
       "      <td>35.0</td>\n",
       "      <td>1</td>\n",
       "      <td>0</td>\n",
       "      <td>113803</td>\n",
       "      <td>53.1000</td>\n",
       "      <td>C123</td>\n",
       "      <td>S</td>\n",
       "      <td>Mrs</td>\n",
       "    </tr>\n",
       "    <tr>\n",
       "      <th>4</th>\n",
       "      <td>5</td>\n",
       "      <td>0</td>\n",
       "      <td>3</td>\n",
       "      <td>Allen, Mr. William Henry</td>\n",
       "      <td>male</td>\n",
       "      <td>35.0</td>\n",
       "      <td>0</td>\n",
       "      <td>0</td>\n",
       "      <td>373450</td>\n",
       "      <td>8.0500</td>\n",
       "      <td>NaN</td>\n",
       "      <td>S</td>\n",
       "      <td>Mr</td>\n",
       "    </tr>\n",
       "    <tr>\n",
       "      <th>...</th>\n",
       "      <td>...</td>\n",
       "      <td>...</td>\n",
       "      <td>...</td>\n",
       "      <td>...</td>\n",
       "      <td>...</td>\n",
       "      <td>...</td>\n",
       "      <td>...</td>\n",
       "      <td>...</td>\n",
       "      <td>...</td>\n",
       "      <td>...</td>\n",
       "      <td>...</td>\n",
       "      <td>...</td>\n",
       "      <td>...</td>\n",
       "    </tr>\n",
       "    <tr>\n",
       "      <th>886</th>\n",
       "      <td>887</td>\n",
       "      <td>0</td>\n",
       "      <td>2</td>\n",
       "      <td>Montvila, Rev. Juozas</td>\n",
       "      <td>male</td>\n",
       "      <td>27.0</td>\n",
       "      <td>0</td>\n",
       "      <td>0</td>\n",
       "      <td>211536</td>\n",
       "      <td>13.0000</td>\n",
       "      <td>NaN</td>\n",
       "      <td>S</td>\n",
       "      <td>Rev</td>\n",
       "    </tr>\n",
       "    <tr>\n",
       "      <th>887</th>\n",
       "      <td>888</td>\n",
       "      <td>1</td>\n",
       "      <td>1</td>\n",
       "      <td>Graham, Miss. Margaret Edith</td>\n",
       "      <td>female</td>\n",
       "      <td>19.0</td>\n",
       "      <td>0</td>\n",
       "      <td>0</td>\n",
       "      <td>112053</td>\n",
       "      <td>30.0000</td>\n",
       "      <td>B42</td>\n",
       "      <td>S</td>\n",
       "      <td>Miss</td>\n",
       "    </tr>\n",
       "    <tr>\n",
       "      <th>888</th>\n",
       "      <td>889</td>\n",
       "      <td>0</td>\n",
       "      <td>3</td>\n",
       "      <td>Johnston, Miss. Catherine Helen \"Carrie\"</td>\n",
       "      <td>female</td>\n",
       "      <td>19.0</td>\n",
       "      <td>1</td>\n",
       "      <td>2</td>\n",
       "      <td>W./C. 6607</td>\n",
       "      <td>23.4500</td>\n",
       "      <td>NaN</td>\n",
       "      <td>S</td>\n",
       "      <td>Miss</td>\n",
       "    </tr>\n",
       "    <tr>\n",
       "      <th>889</th>\n",
       "      <td>890</td>\n",
       "      <td>1</td>\n",
       "      <td>1</td>\n",
       "      <td>Behr, Mr. Karl Howell</td>\n",
       "      <td>male</td>\n",
       "      <td>26.0</td>\n",
       "      <td>0</td>\n",
       "      <td>0</td>\n",
       "      <td>111369</td>\n",
       "      <td>30.0000</td>\n",
       "      <td>C148</td>\n",
       "      <td>C</td>\n",
       "      <td>Mr</td>\n",
       "    </tr>\n",
       "    <tr>\n",
       "      <th>890</th>\n",
       "      <td>891</td>\n",
       "      <td>0</td>\n",
       "      <td>3</td>\n",
       "      <td>Dooley, Mr. Patrick</td>\n",
       "      <td>male</td>\n",
       "      <td>32.0</td>\n",
       "      <td>0</td>\n",
       "      <td>0</td>\n",
       "      <td>370376</td>\n",
       "      <td>7.7500</td>\n",
       "      <td>NaN</td>\n",
       "      <td>Q</td>\n",
       "      <td>Mr</td>\n",
       "    </tr>\n",
       "  </tbody>\n",
       "</table>\n",
       "<p>891 rows × 13 columns</p>\n",
       "</div>"
      ],
      "text/plain": [
       "     PassengerId  Survived  Pclass  \\\n",
       "0              1         0       3   \n",
       "1              2         1       1   \n",
       "2              3         1       3   \n",
       "3              4         1       1   \n",
       "4              5         0       3   \n",
       "..           ...       ...     ...   \n",
       "886          887         0       2   \n",
       "887          888         1       1   \n",
       "888          889         0       3   \n",
       "889          890         1       1   \n",
       "890          891         0       3   \n",
       "\n",
       "                                                  Name     Sex   Age  SibSp  \\\n",
       "0                              Braund, Mr. Owen Harris    male  22.0      1   \n",
       "1    Cumings, Mrs. John Bradley (Florence Briggs Th...  female  38.0      1   \n",
       "2                               Heikkinen, Miss. Laina  female  26.0      0   \n",
       "3         Futrelle, Mrs. Jacques Heath (Lily May Peel)  female  35.0      1   \n",
       "4                             Allen, Mr. William Henry    male  35.0      0   \n",
       "..                                                 ...     ...   ...    ...   \n",
       "886                              Montvila, Rev. Juozas    male  27.0      0   \n",
       "887                       Graham, Miss. Margaret Edith  female  19.0      0   \n",
       "888           Johnston, Miss. Catherine Helen \"Carrie\"  female  19.0      1   \n",
       "889                              Behr, Mr. Karl Howell    male  26.0      0   \n",
       "890                                Dooley, Mr. Patrick    male  32.0      0   \n",
       "\n",
       "     Parch            Ticket     Fare Cabin Embarked Title  \n",
       "0        0         A/5 21171   7.2500   NaN        S    Mr  \n",
       "1        0          PC 17599  71.2833   C85        C   Mrs  \n",
       "2        0  STON/O2. 3101282   7.9250   NaN        S  Miss  \n",
       "3        0            113803  53.1000  C123        S   Mrs  \n",
       "4        0            373450   8.0500   NaN        S    Mr  \n",
       "..     ...               ...      ...   ...      ...   ...  \n",
       "886      0            211536  13.0000   NaN        S   Rev  \n",
       "887      0            112053  30.0000   B42        S  Miss  \n",
       "888      2        W./C. 6607  23.4500   NaN        S  Miss  \n",
       "889      0            111369  30.0000  C148        C    Mr  \n",
       "890      0            370376   7.7500   NaN        Q    Mr  \n",
       "\n",
       "[891 rows x 13 columns]"
      ]
     },
     "execution_count": 24,
     "metadata": {},
     "output_type": "execute_result"
    }
   ],
   "source": [
    "train_data"
   ]
  },
  {
   "cell_type": "markdown",
   "id": "c8d7ba5d",
   "metadata": {
    "papermill": {
     "duration": 0.092905,
     "end_time": "2022-01-12T23:12:50.949321",
     "exception": false,
     "start_time": "2022-01-12T23:12:50.856416",
     "status": "completed"
    },
    "tags": []
   },
   "source": [
    "Now, That's good but not perfect – we want to squeeze the number of categories in the feature. We can iterate throw all the observations and check the type of title this person has, but we may have a problem! One of the titles is \"*Dr*\". This title can fit both [\"Men\", \"Women\"] – we will have to add one more feature to help us decide whether this person is a \"*Male*\" or \"*Female*\", we will use `Sex` for this job."
   ]
  },
  {
   "cell_type": "code",
   "execution_count": 25,
   "id": "04f5020d",
   "metadata": {
    "execution": {
     "iopub.execute_input": "2022-01-12T23:12:51.144549Z",
     "iopub.status.busy": "2022-01-12T23:12:51.143806Z",
     "iopub.status.idle": "2022-01-12T23:12:51.149904Z",
     "shell.execute_reply": "2022-01-12T23:12:51.150478Z",
     "shell.execute_reply.started": "2022-01-12T22:06:34.161721Z"
    },
    "papermill": {
     "duration": 0.104555,
     "end_time": "2022-01-12T23:12:51.150652",
     "exception": false,
     "start_time": "2022-01-12T23:12:51.046097",
     "status": "completed"
    },
    "tags": []
   },
   "outputs": [],
   "source": [
    "def squeeze_title(dataframe: pd.DataFrame) -> Text:\n",
    "    title = dataframe['Title']\n",
    "    if title in ('Don', 'Major', 'Capt', 'Jonkheer', 'Rev', 'Col'):\n",
    "        return 'Mr'\n",
    "    elif title in ('Countess', 'Mme'):\n",
    "        return 'Mrs'\n",
    "    elif title in ('Mlle', 'Ms'):\n",
    "        return 'Miss'\n",
    "    elif title == 'Dr':\n",
    "        if dataframe['Sex'] == 'male':\n",
    "            return 'Mr'\n",
    "        else:\n",
    "            return 'Mrs'\n",
    "    else:\n",
    "        return title"
   ]
  },
  {
   "cell_type": "code",
   "execution_count": 26,
   "id": "e6302bb9",
   "metadata": {
    "execution": {
     "iopub.execute_input": "2022-01-12T23:12:51.341461Z",
     "iopub.status.busy": "2022-01-12T23:12:51.340779Z",
     "iopub.status.idle": "2022-01-12T23:12:51.377366Z",
     "shell.execute_reply": "2022-01-12T23:12:51.377951Z",
     "shell.execute_reply.started": "2022-01-12T22:06:34.171247Z"
    },
    "papermill": {
     "duration": 0.132733,
     "end_time": "2022-01-12T23:12:51.378132",
     "exception": false,
     "start_time": "2022-01-12T23:12:51.245399",
     "status": "completed"
    },
    "tags": []
   },
   "outputs": [
    {
     "data": {
      "text/html": [
       "<div>\n",
       "<style scoped>\n",
       "    .dataframe tbody tr th:only-of-type {\n",
       "        vertical-align: middle;\n",
       "    }\n",
       "\n",
       "    .dataframe tbody tr th {\n",
       "        vertical-align: top;\n",
       "    }\n",
       "\n",
       "    .dataframe thead th {\n",
       "        text-align: right;\n",
       "    }\n",
       "</style>\n",
       "<table border=\"1\" class=\"dataframe\">\n",
       "  <thead>\n",
       "    <tr style=\"text-align: right;\">\n",
       "      <th></th>\n",
       "      <th>PassengerId</th>\n",
       "      <th>Survived</th>\n",
       "      <th>Pclass</th>\n",
       "      <th>Name</th>\n",
       "      <th>Sex</th>\n",
       "      <th>Age</th>\n",
       "      <th>SibSp</th>\n",
       "      <th>Parch</th>\n",
       "      <th>Ticket</th>\n",
       "      <th>Fare</th>\n",
       "      <th>Cabin</th>\n",
       "      <th>Embarked</th>\n",
       "      <th>Title</th>\n",
       "    </tr>\n",
       "  </thead>\n",
       "  <tbody>\n",
       "    <tr>\n",
       "      <th>0</th>\n",
       "      <td>1</td>\n",
       "      <td>0</td>\n",
       "      <td>3</td>\n",
       "      <td>Braund, Mr. Owen Harris</td>\n",
       "      <td>male</td>\n",
       "      <td>22.0</td>\n",
       "      <td>1</td>\n",
       "      <td>0</td>\n",
       "      <td>A/5 21171</td>\n",
       "      <td>7.2500</td>\n",
       "      <td>NaN</td>\n",
       "      <td>S</td>\n",
       "      <td>Mr</td>\n",
       "    </tr>\n",
       "    <tr>\n",
       "      <th>1</th>\n",
       "      <td>2</td>\n",
       "      <td>1</td>\n",
       "      <td>1</td>\n",
       "      <td>Cumings, Mrs. John Bradley (Florence Briggs Th...</td>\n",
       "      <td>female</td>\n",
       "      <td>38.0</td>\n",
       "      <td>1</td>\n",
       "      <td>0</td>\n",
       "      <td>PC 17599</td>\n",
       "      <td>71.2833</td>\n",
       "      <td>C85</td>\n",
       "      <td>C</td>\n",
       "      <td>Mrs</td>\n",
       "    </tr>\n",
       "    <tr>\n",
       "      <th>2</th>\n",
       "      <td>3</td>\n",
       "      <td>1</td>\n",
       "      <td>3</td>\n",
       "      <td>Heikkinen, Miss. Laina</td>\n",
       "      <td>female</td>\n",
       "      <td>26.0</td>\n",
       "      <td>0</td>\n",
       "      <td>0</td>\n",
       "      <td>STON/O2. 3101282</td>\n",
       "      <td>7.9250</td>\n",
       "      <td>NaN</td>\n",
       "      <td>S</td>\n",
       "      <td>Miss</td>\n",
       "    </tr>\n",
       "    <tr>\n",
       "      <th>3</th>\n",
       "      <td>4</td>\n",
       "      <td>1</td>\n",
       "      <td>1</td>\n",
       "      <td>Futrelle, Mrs. Jacques Heath (Lily May Peel)</td>\n",
       "      <td>female</td>\n",
       "      <td>35.0</td>\n",
       "      <td>1</td>\n",
       "      <td>0</td>\n",
       "      <td>113803</td>\n",
       "      <td>53.1000</td>\n",
       "      <td>C123</td>\n",
       "      <td>S</td>\n",
       "      <td>Mrs</td>\n",
       "    </tr>\n",
       "    <tr>\n",
       "      <th>4</th>\n",
       "      <td>5</td>\n",
       "      <td>0</td>\n",
       "      <td>3</td>\n",
       "      <td>Allen, Mr. William Henry</td>\n",
       "      <td>male</td>\n",
       "      <td>35.0</td>\n",
       "      <td>0</td>\n",
       "      <td>0</td>\n",
       "      <td>373450</td>\n",
       "      <td>8.0500</td>\n",
       "      <td>NaN</td>\n",
       "      <td>S</td>\n",
       "      <td>Mr</td>\n",
       "    </tr>\n",
       "    <tr>\n",
       "      <th>...</th>\n",
       "      <td>...</td>\n",
       "      <td>...</td>\n",
       "      <td>...</td>\n",
       "      <td>...</td>\n",
       "      <td>...</td>\n",
       "      <td>...</td>\n",
       "      <td>...</td>\n",
       "      <td>...</td>\n",
       "      <td>...</td>\n",
       "      <td>...</td>\n",
       "      <td>...</td>\n",
       "      <td>...</td>\n",
       "      <td>...</td>\n",
       "    </tr>\n",
       "    <tr>\n",
       "      <th>886</th>\n",
       "      <td>887</td>\n",
       "      <td>0</td>\n",
       "      <td>2</td>\n",
       "      <td>Montvila, Rev. Juozas</td>\n",
       "      <td>male</td>\n",
       "      <td>27.0</td>\n",
       "      <td>0</td>\n",
       "      <td>0</td>\n",
       "      <td>211536</td>\n",
       "      <td>13.0000</td>\n",
       "      <td>NaN</td>\n",
       "      <td>S</td>\n",
       "      <td>Mr</td>\n",
       "    </tr>\n",
       "    <tr>\n",
       "      <th>887</th>\n",
       "      <td>888</td>\n",
       "      <td>1</td>\n",
       "      <td>1</td>\n",
       "      <td>Graham, Miss. Margaret Edith</td>\n",
       "      <td>female</td>\n",
       "      <td>19.0</td>\n",
       "      <td>0</td>\n",
       "      <td>0</td>\n",
       "      <td>112053</td>\n",
       "      <td>30.0000</td>\n",
       "      <td>B42</td>\n",
       "      <td>S</td>\n",
       "      <td>Miss</td>\n",
       "    </tr>\n",
       "    <tr>\n",
       "      <th>888</th>\n",
       "      <td>889</td>\n",
       "      <td>0</td>\n",
       "      <td>3</td>\n",
       "      <td>Johnston, Miss. Catherine Helen \"Carrie\"</td>\n",
       "      <td>female</td>\n",
       "      <td>19.0</td>\n",
       "      <td>1</td>\n",
       "      <td>2</td>\n",
       "      <td>W./C. 6607</td>\n",
       "      <td>23.4500</td>\n",
       "      <td>NaN</td>\n",
       "      <td>S</td>\n",
       "      <td>Miss</td>\n",
       "    </tr>\n",
       "    <tr>\n",
       "      <th>889</th>\n",
       "      <td>890</td>\n",
       "      <td>1</td>\n",
       "      <td>1</td>\n",
       "      <td>Behr, Mr. Karl Howell</td>\n",
       "      <td>male</td>\n",
       "      <td>26.0</td>\n",
       "      <td>0</td>\n",
       "      <td>0</td>\n",
       "      <td>111369</td>\n",
       "      <td>30.0000</td>\n",
       "      <td>C148</td>\n",
       "      <td>C</td>\n",
       "      <td>Mr</td>\n",
       "    </tr>\n",
       "    <tr>\n",
       "      <th>890</th>\n",
       "      <td>891</td>\n",
       "      <td>0</td>\n",
       "      <td>3</td>\n",
       "      <td>Dooley, Mr. Patrick</td>\n",
       "      <td>male</td>\n",
       "      <td>32.0</td>\n",
       "      <td>0</td>\n",
       "      <td>0</td>\n",
       "      <td>370376</td>\n",
       "      <td>7.7500</td>\n",
       "      <td>NaN</td>\n",
       "      <td>Q</td>\n",
       "      <td>Mr</td>\n",
       "    </tr>\n",
       "  </tbody>\n",
       "</table>\n",
       "<p>891 rows × 13 columns</p>\n",
       "</div>"
      ],
      "text/plain": [
       "     PassengerId  Survived  Pclass  \\\n",
       "0              1         0       3   \n",
       "1              2         1       1   \n",
       "2              3         1       3   \n",
       "3              4         1       1   \n",
       "4              5         0       3   \n",
       "..           ...       ...     ...   \n",
       "886          887         0       2   \n",
       "887          888         1       1   \n",
       "888          889         0       3   \n",
       "889          890         1       1   \n",
       "890          891         0       3   \n",
       "\n",
       "                                                  Name     Sex   Age  SibSp  \\\n",
       "0                              Braund, Mr. Owen Harris    male  22.0      1   \n",
       "1    Cumings, Mrs. John Bradley (Florence Briggs Th...  female  38.0      1   \n",
       "2                               Heikkinen, Miss. Laina  female  26.0      0   \n",
       "3         Futrelle, Mrs. Jacques Heath (Lily May Peel)  female  35.0      1   \n",
       "4                             Allen, Mr. William Henry    male  35.0      0   \n",
       "..                                                 ...     ...   ...    ...   \n",
       "886                              Montvila, Rev. Juozas    male  27.0      0   \n",
       "887                       Graham, Miss. Margaret Edith  female  19.0      0   \n",
       "888           Johnston, Miss. Catherine Helen \"Carrie\"  female  19.0      1   \n",
       "889                              Behr, Mr. Karl Howell    male  26.0      0   \n",
       "890                                Dooley, Mr. Patrick    male  32.0      0   \n",
       "\n",
       "     Parch            Ticket     Fare Cabin Embarked Title  \n",
       "0        0         A/5 21171   7.2500   NaN        S    Mr  \n",
       "1        0          PC 17599  71.2833   C85        C   Mrs  \n",
       "2        0  STON/O2. 3101282   7.9250   NaN        S  Miss  \n",
       "3        0            113803  53.1000  C123        S   Mrs  \n",
       "4        0            373450   8.0500   NaN        S    Mr  \n",
       "..     ...               ...      ...   ...      ...   ...  \n",
       "886      0            211536  13.0000   NaN        S    Mr  \n",
       "887      0            112053  30.0000   B42        S  Miss  \n",
       "888      2        W./C. 6607  23.4500   NaN        S  Miss  \n",
       "889      0            111369  30.0000  C148        C    Mr  \n",
       "890      0            370376   7.7500   NaN        Q    Mr  \n",
       "\n",
       "[891 rows x 13 columns]"
      ]
     },
     "execution_count": 26,
     "metadata": {},
     "output_type": "execute_result"
    }
   ],
   "source": [
    "train_data['Title'] = train_data.apply(squeeze_title, axis=1) \n",
    "train_data"
   ]
  },
  {
   "cell_type": "markdown",
   "id": "7a00affa",
   "metadata": {
    "execution": {
     "iopub.execute_input": "2022-01-09T00:23:51.092015Z",
     "iopub.status.busy": "2022-01-09T00:23:51.091698Z",
     "iopub.status.idle": "2022-01-09T00:23:51.09849Z",
     "shell.execute_reply": "2022-01-09T00:23:51.097472Z",
     "shell.execute_reply.started": "2022-01-09T00:23:51.091979Z"
    },
    "papermill": {
     "duration": 0.095138,
     "end_time": "2022-01-12T23:12:51.566729",
     "exception": false,
     "start_time": "2022-01-12T23:12:51.471591",
     "status": "completed"
    },
    "tags": []
   },
   "source": [
    "<u>Quoted from *TRIANGLEINEQUALITY*</u>\n",
    "> *You may be interested to know that ‘Jonkheer’ is a male honorific for Dutch nobility. Also interesting is that I was tempted to just send ‘Dr’ -> ‘Mr’, but decided to check first, and there was indeed a female doctor aboard! It seems 1912 was further ahead of its time than Doctor Who!*\n",
    "\n",
    "> *Curious, I looked her up: her name was Dr. Alice Leader, and she and her husband were physicians in New York city*.[$^1$](https://triangleinequality.wordpress.com/2013/09/08/basic-feature-engineering-with-the-titanic-data/)\n",
    "\n",
    "![](https://i0.wp.com/www.encyclopedia-titanica.org/images/leader_af.jpg)"
   ]
  },
  {
   "cell_type": "markdown",
   "id": "a0720f29",
   "metadata": {
    "papermill": {
     "duration": 0.092898,
     "end_time": "2022-01-12T23:12:51.753074",
     "exception": false,
     "start_time": "2022-01-12T23:12:51.660176",
     "status": "completed"
    },
    "tags": []
   },
   "source": [
    "<span style='color:CornflowerBlue;font-size:16px'>Feature 04: Cabin & Pclass</span>"
   ]
  },
  {
   "cell_type": "markdown",
   "id": "79ac8410",
   "metadata": {
    "papermill": {
     "duration": 0.093339,
     "end_time": "2022-01-12T23:12:51.939894",
     "exception": false,
     "start_time": "2022-01-12T23:12:51.846555",
     "status": "completed"
    },
    "tags": []
   },
   "source": [
    "To work on `Cabin`, we need to understand what these values related to, the letters before each number. So that, we need to understand the infrastructure of the ship. \n",
    "\n",
    "After Reading more about how `Cabin` is related to passengers in Titanic – you can find this article in **dummies** – [Duites and Cabins for Passengers on the Titanic](https://www.dummies.com/article/academics-the-arts/history/20th-century/suites-and-cabins-for-passengers-on-the-titanic-180677). \n",
    "\n",
    "This article explains the correlation between the `Cabin` and the `Passenger Class (Pclass)`: we were not able to observe that from the correlation diagram since `Cabin` has lot of `NaN` values."
   ]
  },
  {
   "cell_type": "markdown",
   "id": "a4bf8f40",
   "metadata": {
    "papermill": {
     "duration": 0.093045,
     "end_time": "2022-01-12T23:12:52.128629",
     "exception": false,
     "start_time": "2022-01-12T23:12:52.035584",
     "status": "completed"
    },
    "tags": []
   },
   "source": [
    "According to **dummies**:\n",
    "\n",
    "- Titanic's `Passenger first-class` Cabins:\n",
    "\n",
    "> *First-class accommodations were located amidships, <u>where the rocking of the ship was less keenly felt and passengers were less likely to get seasick</u>. They were decorated opulently in different period styles: Queen Anne, Louis XVI, and Georgian.*\n",
    "\n",
    "- Titanic's `Passenger second-class` Cabins:\n",
    "\n",
    "> *passengers slept in berths built into the walls of the cabins. At two to four berths per cabin, privacy was hard to come by, although a passenger could close the curtain around his or her berth. <u>Each second-class cabin had a washbasin and a chamber pot to be used in case of seasickness</u>.*\n",
    "\n",
    "- Titanic's `Passenger third-class` Cabins:\n",
    "\n",
    "> *passengers slept on bunk beds in crowded quarters at six to a narrow cabin. Like second-class passengers, they shared bathrooms, but the number of people sharing a bathroom was much higher in third class: Only two bathtubs were available for all 710 third-class passengers, one for the men and one for the women.*"
   ]
  },
  {
   "cell_type": "markdown",
   "id": "48e74d56",
   "metadata": {
    "papermill": {
     "duration": 0.131191,
     "end_time": "2022-01-12T23:12:52.366787",
     "exception": false,
     "start_time": "2022-01-12T23:12:52.235596",
     "status": "completed"
    },
    "tags": []
   },
   "source": [
    "![](https://miro.medium.com/max/1400/1*VeHSAW_AxHz-GYwexWfdQg.jpeg)\n",
    "\n",
    "Ref: [Titanic Survival Analysis Using R](https://chanida-limt.medium.com/titanic-survival-prediction-c421aac8da32)"
   ]
  },
  {
   "cell_type": "markdown",
   "id": "307a7545",
   "metadata": {
    "papermill": {
     "duration": 0.119484,
     "end_time": "2022-01-12T23:12:52.586689",
     "exception": false,
     "start_time": "2022-01-12T23:12:52.467205",
     "status": "completed"
    },
    "tags": []
   },
   "source": [
    "Group the data by `Pclass`"
   ]
  },
  {
   "cell_type": "code",
   "execution_count": 27,
   "id": "a6e72aec",
   "metadata": {
    "execution": {
     "iopub.execute_input": "2022-01-12T23:12:52.781533Z",
     "iopub.status.busy": "2022-01-12T23:12:52.780564Z",
     "iopub.status.idle": "2022-01-12T23:12:52.796708Z",
     "shell.execute_reply": "2022-01-12T23:12:52.796080Z",
     "shell.execute_reply.started": "2022-01-12T22:06:34.217854Z"
    },
    "papermill": {
     "duration": 0.113952,
     "end_time": "2022-01-12T23:12:52.796844",
     "exception": false,
     "start_time": "2022-01-12T23:12:52.682892",
     "status": "completed"
    },
    "tags": []
   },
   "outputs": [
    {
     "data": {
      "text/html": [
       "<div>\n",
       "<style scoped>\n",
       "    .dataframe tbody tr th:only-of-type {\n",
       "        vertical-align: middle;\n",
       "    }\n",
       "\n",
       "    .dataframe tbody tr th {\n",
       "        vertical-align: top;\n",
       "    }\n",
       "\n",
       "    .dataframe thead th {\n",
       "        text-align: right;\n",
       "    }\n",
       "</style>\n",
       "<table border=\"1\" class=\"dataframe\">\n",
       "  <thead>\n",
       "    <tr style=\"text-align: right;\">\n",
       "      <th></th>\n",
       "      <th>PassengerId</th>\n",
       "      <th>Survived</th>\n",
       "      <th>Name</th>\n",
       "      <th>Sex</th>\n",
       "      <th>Age</th>\n",
       "      <th>SibSp</th>\n",
       "      <th>Parch</th>\n",
       "      <th>Ticket</th>\n",
       "      <th>Fare</th>\n",
       "      <th>Cabin</th>\n",
       "      <th>Embarked</th>\n",
       "      <th>Title</th>\n",
       "    </tr>\n",
       "    <tr>\n",
       "      <th>Pclass</th>\n",
       "      <th></th>\n",
       "      <th></th>\n",
       "      <th></th>\n",
       "      <th></th>\n",
       "      <th></th>\n",
       "      <th></th>\n",
       "      <th></th>\n",
       "      <th></th>\n",
       "      <th></th>\n",
       "      <th></th>\n",
       "      <th></th>\n",
       "      <th></th>\n",
       "    </tr>\n",
       "  </thead>\n",
       "  <tbody>\n",
       "    <tr>\n",
       "      <th>1</th>\n",
       "      <td>216</td>\n",
       "      <td>216</td>\n",
       "      <td>216</td>\n",
       "      <td>216</td>\n",
       "      <td>216</td>\n",
       "      <td>216</td>\n",
       "      <td>216</td>\n",
       "      <td>216</td>\n",
       "      <td>216</td>\n",
       "      <td>176</td>\n",
       "      <td>216</td>\n",
       "      <td>216</td>\n",
       "    </tr>\n",
       "    <tr>\n",
       "      <th>2</th>\n",
       "      <td>184</td>\n",
       "      <td>184</td>\n",
       "      <td>184</td>\n",
       "      <td>184</td>\n",
       "      <td>184</td>\n",
       "      <td>184</td>\n",
       "      <td>184</td>\n",
       "      <td>184</td>\n",
       "      <td>184</td>\n",
       "      <td>16</td>\n",
       "      <td>184</td>\n",
       "      <td>184</td>\n",
       "    </tr>\n",
       "    <tr>\n",
       "      <th>3</th>\n",
       "      <td>491</td>\n",
       "      <td>491</td>\n",
       "      <td>491</td>\n",
       "      <td>491</td>\n",
       "      <td>491</td>\n",
       "      <td>491</td>\n",
       "      <td>491</td>\n",
       "      <td>491</td>\n",
       "      <td>491</td>\n",
       "      <td>12</td>\n",
       "      <td>491</td>\n",
       "      <td>491</td>\n",
       "    </tr>\n",
       "  </tbody>\n",
       "</table>\n",
       "</div>"
      ],
      "text/plain": [
       "        PassengerId  Survived  Name  Sex  Age  SibSp  Parch  Ticket  Fare  \\\n",
       "Pclass                                                                      \n",
       "1               216       216   216  216  216    216    216     216   216   \n",
       "2               184       184   184  184  184    184    184     184   184   \n",
       "3               491       491   491  491  491    491    491     491   491   \n",
       "\n",
       "        Cabin  Embarked  Title  \n",
       "Pclass                          \n",
       "1         176       216    216  \n",
       "2          16       184    184  \n",
       "3          12       491    491  "
      ]
     },
     "execution_count": 27,
     "metadata": {},
     "output_type": "execute_result"
    }
   ],
   "source": [
    "CaPc = train_data.groupby('Pclass').count()\n",
    "CaPc"
   ]
  },
  {
   "cell_type": "markdown",
   "id": "f818dd7c",
   "metadata": {
    "papermill": {
     "duration": 0.097119,
     "end_time": "2022-01-12T23:12:52.988413",
     "exception": false,
     "start_time": "2022-01-12T23:12:52.891294",
     "status": "completed"
    },
    "tags": []
   },
   "source": [
    "According to **BBC**: \n",
    "> *The first half of the ship reaches the botton first. Two minutes later, the back half of the Titanic joins it on the floor of the Atlantic.*"
   ]
  },
  {
   "cell_type": "markdown",
   "id": "bd4f8877",
   "metadata": {
    "papermill": {
     "duration": 0.093779,
     "end_time": "2022-01-12T23:12:53.178255",
     "exception": false,
     "start_time": "2022-01-12T23:12:53.084476",
     "status": "completed"
    },
    "tags": []
   },
   "source": [
    "The first half of the ship is the place where most first-class cabins exist. So, using the `Cabin` feature may help us if we extract the letters from the `Cabin` observation will help us as it represents the Deck."
   ]
  },
  {
   "cell_type": "code",
   "execution_count": 28,
   "id": "767f5fec",
   "metadata": {
    "execution": {
     "iopub.execute_input": "2022-01-12T23:12:53.389679Z",
     "iopub.status.busy": "2022-01-12T23:12:53.372322Z",
     "iopub.status.idle": "2022-01-12T23:12:53.908833Z",
     "shell.execute_reply": "2022-01-12T23:12:53.909368Z",
     "shell.execute_reply.started": "2022-01-12T22:06:34.238949Z"
    },
    "papermill": {
     "duration": 0.637131,
     "end_time": "2022-01-12T23:12:53.909550",
     "exception": false,
     "start_time": "2022-01-12T23:12:53.272419",
     "status": "completed"
    },
    "tags": []
   },
   "outputs": [
    {
     "data": {
      "text/plain": [
       "<Figure size 1296x720 with 0 Axes>"
      ]
     },
     "metadata": {},
     "output_type": "display_data"
    },
    {
     "data": {
      "image/png": "[encoded data removed]",
      "text/plain": [
       "<Figure size 432x432 with 3 Axes>"
      ]
     },
     "metadata": {
      "needs_background": "light"
     },
     "output_type": "display_data"
    }
   ],
   "source": [
    "plt.figure(figsize=(18,10))\n",
    "sns.jointplot(x='Pclass', y='Cabin', data=CaPc, dropna=True)\n",
    "plt.show()"
   ]
  },
  {
   "cell_type": "markdown",
   "id": "2b44ad87",
   "metadata": {
    "papermill": {
     "duration": 0.097425,
     "end_time": "2022-01-12T23:12:54.102646",
     "exception": false,
     "start_time": "2022-01-12T23:12:54.005221",
     "status": "completed"
    },
    "tags": []
   },
   "source": [
    "`NaN` Cabins will be replaced with `Unknown`"
   ]
  },
  {
   "cell_type": "code",
   "execution_count": 29,
   "id": "5c716f57",
   "metadata": {
    "execution": {
     "iopub.execute_input": "2022-01-12T23:12:54.296988Z",
     "iopub.status.busy": "2022-01-12T23:12:54.296012Z",
     "iopub.status.idle": "2022-01-12T23:12:54.304706Z",
     "shell.execute_reply": "2022-01-12T23:12:54.305288Z",
     "shell.execute_reply.started": "2022-01-12T22:06:34.764595Z"
    },
    "papermill": {
     "duration": 0.107549,
     "end_time": "2022-01-12T23:12:54.305460",
     "exception": false,
     "start_time": "2022-01-12T23:12:54.197911",
     "status": "completed"
    },
    "tags": []
   },
   "outputs": [],
   "source": [
    "cabin_list = ['A', 'B', 'C', 'D', 'E', 'F', 'T', 'G', 'Unknown']\n",
    "train_data['Deck'] = train_data['Cabin'].apply(lambda letter:\n",
    "                                               patterns(str(letter), cabin_list))\n",
    "train_data.drop(columns='Cabin', inplace=True)"
   ]
  },
  {
   "cell_type": "code",
   "execution_count": 30,
   "id": "a7367320",
   "metadata": {
    "execution": {
     "iopub.execute_input": "2022-01-12T23:12:54.499566Z",
     "iopub.status.busy": "2022-01-12T23:12:54.498593Z",
     "iopub.status.idle": "2022-01-12T23:12:54.514683Z",
     "shell.execute_reply": "2022-01-12T23:12:54.515268Z",
     "shell.execute_reply.started": "2022-01-12T22:06:34.778569Z"
    },
    "papermill": {
     "duration": 0.114815,
     "end_time": "2022-01-12T23:12:54.515439",
     "exception": false,
     "start_time": "2022-01-12T23:12:54.400624",
     "status": "completed"
    },
    "tags": []
   },
   "outputs": [
    {
     "data": {
      "text/html": [
       "<div>\n",
       "<style scoped>\n",
       "    .dataframe tbody tr th:only-of-type {\n",
       "        vertical-align: middle;\n",
       "    }\n",
       "\n",
       "    .dataframe tbody tr th {\n",
       "        vertical-align: top;\n",
       "    }\n",
       "\n",
       "    .dataframe thead th {\n",
       "        text-align: right;\n",
       "    }\n",
       "</style>\n",
       "<table border=\"1\" class=\"dataframe\">\n",
       "  <thead>\n",
       "    <tr style=\"text-align: right;\">\n",
       "      <th></th>\n",
       "      <th>PassengerId</th>\n",
       "      <th>Survived</th>\n",
       "      <th>Pclass</th>\n",
       "      <th>Name</th>\n",
       "      <th>Sex</th>\n",
       "      <th>Age</th>\n",
       "      <th>SibSp</th>\n",
       "      <th>Parch</th>\n",
       "      <th>Ticket</th>\n",
       "      <th>Fare</th>\n",
       "      <th>Embarked</th>\n",
       "      <th>Title</th>\n",
       "      <th>Deck</th>\n",
       "    </tr>\n",
       "  </thead>\n",
       "  <tbody>\n",
       "    <tr>\n",
       "      <th>0</th>\n",
       "      <td>1</td>\n",
       "      <td>0</td>\n",
       "      <td>3</td>\n",
       "      <td>Braund, Mr. Owen Harris</td>\n",
       "      <td>male</td>\n",
       "      <td>22.0</td>\n",
       "      <td>1</td>\n",
       "      <td>0</td>\n",
       "      <td>A/5 21171</td>\n",
       "      <td>7.2500</td>\n",
       "      <td>S</td>\n",
       "      <td>Mr</td>\n",
       "      <td>Untitled</td>\n",
       "    </tr>\n",
       "    <tr>\n",
       "      <th>1</th>\n",
       "      <td>2</td>\n",
       "      <td>1</td>\n",
       "      <td>1</td>\n",
       "      <td>Cumings, Mrs. John Bradley (Florence Briggs Th...</td>\n",
       "      <td>female</td>\n",
       "      <td>38.0</td>\n",
       "      <td>1</td>\n",
       "      <td>0</td>\n",
       "      <td>PC 17599</td>\n",
       "      <td>71.2833</td>\n",
       "      <td>C</td>\n",
       "      <td>Mrs</td>\n",
       "      <td>C</td>\n",
       "    </tr>\n",
       "    <tr>\n",
       "      <th>2</th>\n",
       "      <td>3</td>\n",
       "      <td>1</td>\n",
       "      <td>3</td>\n",
       "      <td>Heikkinen, Miss. Laina</td>\n",
       "      <td>female</td>\n",
       "      <td>26.0</td>\n",
       "      <td>0</td>\n",
       "      <td>0</td>\n",
       "      <td>STON/O2. 3101282</td>\n",
       "      <td>7.9250</td>\n",
       "      <td>S</td>\n",
       "      <td>Miss</td>\n",
       "      <td>Untitled</td>\n",
       "    </tr>\n",
       "    <tr>\n",
       "      <th>3</th>\n",
       "      <td>4</td>\n",
       "      <td>1</td>\n",
       "      <td>1</td>\n",
       "      <td>Futrelle, Mrs. Jacques Heath (Lily May Peel)</td>\n",
       "      <td>female</td>\n",
       "      <td>35.0</td>\n",
       "      <td>1</td>\n",
       "      <td>0</td>\n",
       "      <td>113803</td>\n",
       "      <td>53.1000</td>\n",
       "      <td>S</td>\n",
       "      <td>Mrs</td>\n",
       "      <td>C</td>\n",
       "    </tr>\n",
       "    <tr>\n",
       "      <th>4</th>\n",
       "      <td>5</td>\n",
       "      <td>0</td>\n",
       "      <td>3</td>\n",
       "      <td>Allen, Mr. William Henry</td>\n",
       "      <td>male</td>\n",
       "      <td>35.0</td>\n",
       "      <td>0</td>\n",
       "      <td>0</td>\n",
       "      <td>373450</td>\n",
       "      <td>8.0500</td>\n",
       "      <td>S</td>\n",
       "      <td>Mr</td>\n",
       "      <td>Untitled</td>\n",
       "    </tr>\n",
       "  </tbody>\n",
       "</table>\n",
       "</div>"
      ],
      "text/plain": [
       "   PassengerId  Survived  Pclass  \\\n",
       "0            1         0       3   \n",
       "1            2         1       1   \n",
       "2            3         1       3   \n",
       "3            4         1       1   \n",
       "4            5         0       3   \n",
       "\n",
       "                                                Name     Sex   Age  SibSp  \\\n",
       "0                            Braund, Mr. Owen Harris    male  22.0      1   \n",
       "1  Cumings, Mrs. John Bradley (Florence Briggs Th...  female  38.0      1   \n",
       "2                             Heikkinen, Miss. Laina  female  26.0      0   \n",
       "3       Futrelle, Mrs. Jacques Heath (Lily May Peel)  female  35.0      1   \n",
       "4                           Allen, Mr. William Henry    male  35.0      0   \n",
       "\n",
       "   Parch            Ticket     Fare Embarked Title      Deck  \n",
       "0      0         A/5 21171   7.2500        S    Mr  Untitled  \n",
       "1      0          PC 17599  71.2833        C   Mrs         C  \n",
       "2      0  STON/O2. 3101282   7.9250        S  Miss  Untitled  \n",
       "3      0            113803  53.1000        S   Mrs         C  \n",
       "4      0            373450   8.0500        S    Mr  Untitled  "
      ]
     },
     "execution_count": 30,
     "metadata": {},
     "output_type": "execute_result"
    }
   ],
   "source": [
    "train_data.head()"
   ]
  },
  {
   "cell_type": "markdown",
   "id": "9e465ffe",
   "metadata": {
    "papermill": {
     "duration": 0.094796,
     "end_time": "2022-01-12T23:12:54.706453",
     "exception": false,
     "start_time": "2022-01-12T23:12:54.611657",
     "status": "completed"
    },
    "tags": []
   },
   "source": [
    "<span style='color:CornflowerBlue;font-size:16px'>Feature 05: SibSp & Parch</span>"
   ]
  },
  {
   "cell_type": "markdown",
   "id": "1676e436",
   "metadata": {
    "papermill": {
     "duration": 0.095006,
     "end_time": "2022-01-12T23:12:54.897996",
     "exception": false,
     "start_time": "2022-01-12T23:12:54.802990",
     "status": "completed"
    },
    "tags": []
   },
   "source": [
    "Let's visualize the `# of siblings / spouses aboard the Titanic (SibSp)` and `# of parents / children aboard the Titanic (Parch)` with `Survived` Class & the Linear Correlation between them"
   ]
  },
  {
   "cell_type": "code",
   "execution_count": 31,
   "id": "ec2fe540",
   "metadata": {
    "execution": {
     "iopub.execute_input": "2022-01-12T23:12:55.093604Z",
     "iopub.status.busy": "2022-01-12T23:12:55.092854Z",
     "iopub.status.idle": "2022-01-12T23:12:55.852595Z",
     "shell.execute_reply": "2022-01-12T23:12:55.851882Z",
     "shell.execute_reply.started": "2022-01-12T22:06:34.805288Z"
    },
    "papermill": {
     "duration": 0.859028,
     "end_time": "2022-01-12T23:12:55.852735",
     "exception": false,
     "start_time": "2022-01-12T23:12:54.993707",
     "status": "completed"
    },
    "tags": []
   },
   "outputs": [
    {
     "data": {
      "image/png": "[encoded data removed]",
      "text/plain": [
       "<Figure size 1080x1512 with 3 Axes>"
      ]
     },
     "metadata": {
      "needs_background": "light"
     },
     "output_type": "display_data"
    }
   ],
   "source": [
    "fig = plt.figure(figsize=(15,21))\n",
    "SS_SUR = fig.add_subplot(221)\n",
    "PC_SUR = fig.add_subplot(222)\n",
    "SS_PC = fig.add_subplot(2,2,(3,4))\n",
    "\n",
    "sns.barplot(x='Survived', y='SibSp', data=train_data, ax=SS_SUR)\n",
    "sns.barplot(x='Survived', y='Parch', data=train_data, ax=PC_SUR)\n",
    "\n",
    "SS_PC.title.set_text(\"Correlation between `SibSp` & `Parch`\")\n",
    "sns.regplot(x='SibSp', y='Parch', data=train_data, ax=SS_PC)\n",
    "\n",
    "plt.show()"
   ]
  },
  {
   "cell_type": "markdown",
   "id": "20d33327",
   "metadata": {
    "papermill": {
     "duration": 0.098107,
     "end_time": "2022-01-12T23:12:56.049913",
     "exception": false,
     "start_time": "2022-01-12T23:12:55.951806",
     "status": "completed"
    },
    "tags": []
   },
   "source": [
    "We can see, there're **positive Linear Correlation** between `SibSp` and `Parch`. Maybe this shows us – most people who had family relationships in the ship are more likely to risk themselves to rescue their family, especially if they're siblings/spouses.\n",
    "\n",
    "Why not combine them!? Both features are likely to fit the same idea. It will be really efficient when we're going to use decision tree classification."
   ]
  },
  {
   "cell_type": "code",
   "execution_count": 32,
   "id": "532d258b",
   "metadata": {
    "execution": {
     "iopub.execute_input": "2022-01-12T23:12:56.254395Z",
     "iopub.status.busy": "2022-01-12T23:12:56.253696Z",
     "iopub.status.idle": "2022-01-12T23:12:56.265892Z",
     "shell.execute_reply": "2022-01-12T23:12:56.265294Z",
     "shell.execute_reply.started": "2022-01-12T22:06:35.537330Z"
    },
    "papermill": {
     "duration": 0.118516,
     "end_time": "2022-01-12T23:12:56.266030",
     "exception": false,
     "start_time": "2022-01-12T23:12:56.147514",
     "status": "completed"
    },
    "tags": []
   },
   "outputs": [
    {
     "data": {
      "text/html": [
       "<div>\n",
       "<style scoped>\n",
       "    .dataframe tbody tr th:only-of-type {\n",
       "        vertical-align: middle;\n",
       "    }\n",
       "\n",
       "    .dataframe tbody tr th {\n",
       "        vertical-align: top;\n",
       "    }\n",
       "\n",
       "    .dataframe thead th {\n",
       "        text-align: right;\n",
       "    }\n",
       "</style>\n",
       "<table border=\"1\" class=\"dataframe\">\n",
       "  <thead>\n",
       "    <tr style=\"text-align: right;\">\n",
       "      <th></th>\n",
       "      <th>PassengerId</th>\n",
       "      <th>Survived</th>\n",
       "      <th>Pclass</th>\n",
       "      <th>Name</th>\n",
       "      <th>Sex</th>\n",
       "      <th>Age</th>\n",
       "      <th>SibSp</th>\n",
       "      <th>Parch</th>\n",
       "      <th>Ticket</th>\n",
       "      <th>Fare</th>\n",
       "      <th>Embarked</th>\n",
       "      <th>Title</th>\n",
       "      <th>Deck</th>\n",
       "      <th>Family_size</th>\n",
       "    </tr>\n",
       "  </thead>\n",
       "  <tbody>\n",
       "    <tr>\n",
       "      <th>886</th>\n",
       "      <td>887</td>\n",
       "      <td>0</td>\n",
       "      <td>2</td>\n",
       "      <td>Montvila, Rev. Juozas</td>\n",
       "      <td>male</td>\n",
       "      <td>27.0</td>\n",
       "      <td>0</td>\n",
       "      <td>0</td>\n",
       "      <td>211536</td>\n",
       "      <td>13.00</td>\n",
       "      <td>S</td>\n",
       "      <td>Mr</td>\n",
       "      <td>Untitled</td>\n",
       "      <td>0</td>\n",
       "    </tr>\n",
       "    <tr>\n",
       "      <th>887</th>\n",
       "      <td>888</td>\n",
       "      <td>1</td>\n",
       "      <td>1</td>\n",
       "      <td>Graham, Miss. Margaret Edith</td>\n",
       "      <td>female</td>\n",
       "      <td>19.0</td>\n",
       "      <td>0</td>\n",
       "      <td>0</td>\n",
       "      <td>112053</td>\n",
       "      <td>30.00</td>\n",
       "      <td>S</td>\n",
       "      <td>Miss</td>\n",
       "      <td>B</td>\n",
       "      <td>0</td>\n",
       "    </tr>\n",
       "    <tr>\n",
       "      <th>888</th>\n",
       "      <td>889</td>\n",
       "      <td>0</td>\n",
       "      <td>3</td>\n",
       "      <td>Johnston, Miss. Catherine Helen \"Carrie\"</td>\n",
       "      <td>female</td>\n",
       "      <td>19.0</td>\n",
       "      <td>1</td>\n",
       "      <td>2</td>\n",
       "      <td>W./C. 6607</td>\n",
       "      <td>23.45</td>\n",
       "      <td>S</td>\n",
       "      <td>Miss</td>\n",
       "      <td>Untitled</td>\n",
       "      <td>3</td>\n",
       "    </tr>\n",
       "    <tr>\n",
       "      <th>889</th>\n",
       "      <td>890</td>\n",
       "      <td>1</td>\n",
       "      <td>1</td>\n",
       "      <td>Behr, Mr. Karl Howell</td>\n",
       "      <td>male</td>\n",
       "      <td>26.0</td>\n",
       "      <td>0</td>\n",
       "      <td>0</td>\n",
       "      <td>111369</td>\n",
       "      <td>30.00</td>\n",
       "      <td>C</td>\n",
       "      <td>Mr</td>\n",
       "      <td>C</td>\n",
       "      <td>0</td>\n",
       "    </tr>\n",
       "    <tr>\n",
       "      <th>890</th>\n",
       "      <td>891</td>\n",
       "      <td>0</td>\n",
       "      <td>3</td>\n",
       "      <td>Dooley, Mr. Patrick</td>\n",
       "      <td>male</td>\n",
       "      <td>32.0</td>\n",
       "      <td>0</td>\n",
       "      <td>0</td>\n",
       "      <td>370376</td>\n",
       "      <td>7.75</td>\n",
       "      <td>Q</td>\n",
       "      <td>Mr</td>\n",
       "      <td>Untitled</td>\n",
       "      <td>0</td>\n",
       "    </tr>\n",
       "  </tbody>\n",
       "</table>\n",
       "</div>"
      ],
      "text/plain": [
       "     PassengerId  Survived  Pclass                                      Name  \\\n",
       "886          887         0       2                     Montvila, Rev. Juozas   \n",
       "887          888         1       1              Graham, Miss. Margaret Edith   \n",
       "888          889         0       3  Johnston, Miss. Catherine Helen \"Carrie\"   \n",
       "889          890         1       1                     Behr, Mr. Karl Howell   \n",
       "890          891         0       3                       Dooley, Mr. Patrick   \n",
       "\n",
       "        Sex   Age  SibSp  Parch      Ticket   Fare Embarked Title      Deck  \\\n",
       "886    male  27.0      0      0      211536  13.00        S    Mr  Untitled   \n",
       "887  female  19.0      0      0      112053  30.00        S  Miss         B   \n",
       "888  female  19.0      1      2  W./C. 6607  23.45        S  Miss  Untitled   \n",
       "889    male  26.0      0      0      111369  30.00        C    Mr         C   \n",
       "890    male  32.0      0      0      370376   7.75        Q    Mr  Untitled   \n",
       "\n",
       "     Family_size  \n",
       "886            0  \n",
       "887            0  \n",
       "888            3  \n",
       "889            0  \n",
       "890            0  "
      ]
     },
     "execution_count": 32,
     "metadata": {},
     "output_type": "execute_result"
    }
   ],
   "source": [
    "train_data['Family_size'] = train_data['SibSp'] + train_data['Parch']\n",
    "train_data.tail()"
   ]
  },
  {
   "cell_type": "markdown",
   "id": "b038742a",
   "metadata": {
    "papermill": {
     "duration": 0.097794,
     "end_time": "2022-01-12T23:12:56.461067",
     "exception": false,
     "start_time": "2022-01-12T23:12:56.363273",
     "status": "completed"
    },
    "tags": []
   },
   "source": [
    "<span style='color:CornflowerBlue;font-size:16px'>Feature 06: Age & Pclass & Fare</span>"
   ]
  },
  {
   "cell_type": "markdown",
   "id": "738500f5",
   "metadata": {
    "papermill": {
     "duration": 0.097733,
     "end_time": "2022-01-12T23:12:56.656671",
     "exception": false,
     "start_time": "2022-01-12T23:12:56.558938",
     "status": "completed"
    },
    "tags": []
   },
   "source": [
    "First, Let's check if the anyone from *First-class* or the *Second-class* has `Fare =0.0`. If so, we can't involve price with us."
   ]
  },
  {
   "cell_type": "code",
   "execution_count": 33,
   "id": "6568065b",
   "metadata": {
    "execution": {
     "iopub.execute_input": "2022-01-12T23:12:56.858013Z",
     "iopub.status.busy": "2022-01-12T23:12:56.857324Z",
     "iopub.status.idle": "2022-01-12T23:12:56.869601Z",
     "shell.execute_reply": "2022-01-12T23:12:56.869065Z",
     "shell.execute_reply.started": "2022-01-12T22:06:35.561397Z"
    },
    "papermill": {
     "duration": 0.115232,
     "end_time": "2022-01-12T23:12:56.869740",
     "exception": false,
     "start_time": "2022-01-12T23:12:56.754508",
     "status": "completed"
    },
    "tags": []
   },
   "outputs": [
    {
     "data": {
      "text/html": [
       "<div>\n",
       "<style scoped>\n",
       "    .dataframe tbody tr th:only-of-type {\n",
       "        vertical-align: middle;\n",
       "    }\n",
       "\n",
       "    .dataframe tbody tr th {\n",
       "        vertical-align: top;\n",
       "    }\n",
       "\n",
       "    .dataframe thead th {\n",
       "        text-align: right;\n",
       "    }\n",
       "</style>\n",
       "<table border=\"1\" class=\"dataframe\">\n",
       "  <thead>\n",
       "    <tr style=\"text-align: right;\">\n",
       "      <th></th>\n",
       "      <th>Pclass</th>\n",
       "      <th>Fare</th>\n",
       "    </tr>\n",
       "  </thead>\n",
       "  <tbody>\n",
       "    <tr>\n",
       "      <th>179</th>\n",
       "      <td>3</td>\n",
       "      <td>0.0</td>\n",
       "    </tr>\n",
       "    <tr>\n",
       "      <th>263</th>\n",
       "      <td>1</td>\n",
       "      <td>0.0</td>\n",
       "    </tr>\n",
       "    <tr>\n",
       "      <th>271</th>\n",
       "      <td>3</td>\n",
       "      <td>0.0</td>\n",
       "    </tr>\n",
       "    <tr>\n",
       "      <th>277</th>\n",
       "      <td>2</td>\n",
       "      <td>0.0</td>\n",
       "    </tr>\n",
       "    <tr>\n",
       "      <th>302</th>\n",
       "      <td>3</td>\n",
       "      <td>0.0</td>\n",
       "    </tr>\n",
       "    <tr>\n",
       "      <th>413</th>\n",
       "      <td>2</td>\n",
       "      <td>0.0</td>\n",
       "    </tr>\n",
       "    <tr>\n",
       "      <th>466</th>\n",
       "      <td>2</td>\n",
       "      <td>0.0</td>\n",
       "    </tr>\n",
       "    <tr>\n",
       "      <th>481</th>\n",
       "      <td>2</td>\n",
       "      <td>0.0</td>\n",
       "    </tr>\n",
       "    <tr>\n",
       "      <th>597</th>\n",
       "      <td>3</td>\n",
       "      <td>0.0</td>\n",
       "    </tr>\n",
       "    <tr>\n",
       "      <th>633</th>\n",
       "      <td>1</td>\n",
       "      <td>0.0</td>\n",
       "    </tr>\n",
       "    <tr>\n",
       "      <th>674</th>\n",
       "      <td>2</td>\n",
       "      <td>0.0</td>\n",
       "    </tr>\n",
       "    <tr>\n",
       "      <th>732</th>\n",
       "      <td>2</td>\n",
       "      <td>0.0</td>\n",
       "    </tr>\n",
       "    <tr>\n",
       "      <th>806</th>\n",
       "      <td>1</td>\n",
       "      <td>0.0</td>\n",
       "    </tr>\n",
       "    <tr>\n",
       "      <th>815</th>\n",
       "      <td>1</td>\n",
       "      <td>0.0</td>\n",
       "    </tr>\n",
       "    <tr>\n",
       "      <th>822</th>\n",
       "      <td>1</td>\n",
       "      <td>0.0</td>\n",
       "    </tr>\n",
       "  </tbody>\n",
       "</table>\n",
       "</div>"
      ],
      "text/plain": [
       "     Pclass  Fare\n",
       "179       3   0.0\n",
       "263       1   0.0\n",
       "271       3   0.0\n",
       "277       2   0.0\n",
       "302       3   0.0\n",
       "413       2   0.0\n",
       "466       2   0.0\n",
       "481       2   0.0\n",
       "597       3   0.0\n",
       "633       1   0.0\n",
       "674       2   0.0\n",
       "732       2   0.0\n",
       "806       1   0.0\n",
       "815       1   0.0\n",
       "822       1   0.0"
      ]
     },
     "execution_count": 33,
     "metadata": {},
     "output_type": "execute_result"
    }
   ],
   "source": [
    "train_data[[\"Pclass\", \"Fare\"]].loc[train_data['Fare'] == 0,:]"
   ]
  },
  {
   "cell_type": "markdown",
   "id": "2c1109ab",
   "metadata": {
    "papermill": {
     "duration": 0.099534,
     "end_time": "2022-01-12T23:12:57.068223",
     "exception": false,
     "start_time": "2022-01-12T23:12:56.968689",
     "status": "completed"
    },
    "tags": []
   },
   "source": [
    "These data are likely missed. We can't cross `Fare` with `Pclass`."
   ]
  },
  {
   "cell_type": "code",
   "execution_count": 34,
   "id": "307d4d70",
   "metadata": {
    "execution": {
     "iopub.execute_input": "2022-01-12T23:12:57.275573Z",
     "iopub.status.busy": "2022-01-12T23:12:57.274896Z",
     "iopub.status.idle": "2022-01-12T23:12:57.277908Z",
     "shell.execute_reply": "2022-01-12T23:12:57.277407Z",
     "shell.execute_reply.started": "2022-01-12T22:06:35.576521Z"
    },
    "papermill": {
     "duration": 0.111914,
     "end_time": "2022-01-12T23:12:57.278043",
     "exception": false,
     "start_time": "2022-01-12T23:12:57.166129",
     "status": "completed"
    },
    "tags": []
   },
   "outputs": [
    {
     "data": {
      "text/html": [
       "<div>\n",
       "<style scoped>\n",
       "    .dataframe tbody tr th:only-of-type {\n",
       "        vertical-align: middle;\n",
       "    }\n",
       "\n",
       "    .dataframe tbody tr th {\n",
       "        vertical-align: top;\n",
       "    }\n",
       "\n",
       "    .dataframe thead th {\n",
       "        text-align: right;\n",
       "    }\n",
       "</style>\n",
       "<table border=\"1\" class=\"dataframe\">\n",
       "  <thead>\n",
       "    <tr style=\"text-align: right;\">\n",
       "      <th></th>\n",
       "      <th>Pclass</th>\n",
       "      <th>Fare</th>\n",
       "    </tr>\n",
       "  </thead>\n",
       "  <tbody>\n",
       "    <tr>\n",
       "      <th>Pclass</th>\n",
       "      <td>1.0000</td>\n",
       "      <td>-0.5495</td>\n",
       "    </tr>\n",
       "    <tr>\n",
       "      <th>Fare</th>\n",
       "      <td>-0.5495</td>\n",
       "      <td>1.0000</td>\n",
       "    </tr>\n",
       "  </tbody>\n",
       "</table>\n",
       "</div>"
      ],
      "text/plain": [
       "        Pclass    Fare\n",
       "Pclass  1.0000 -0.5495\n",
       "Fare   -0.5495  1.0000"
      ]
     },
     "execution_count": 34,
     "metadata": {},
     "output_type": "execute_result"
    }
   ],
   "source": [
    "train_data[['Pclass', 'Fare']].corr()"
   ]
  },
  {
   "cell_type": "markdown",
   "id": "d5f1bac8",
   "metadata": {
    "papermill": {
     "duration": 0.098777,
     "end_time": "2022-01-12T23:12:57.475776",
     "exception": false,
     "start_time": "2022-01-12T23:12:57.376999",
     "status": "completed"
    },
    "tags": []
   },
   "source": [
    "We can see that – `P-class` and `Fare` have **Negative Linear Correlation**. (Note that we're trying to check the linear correlation although this is a categorical feature, we're doing that for the sake of seeing the effection on the `Fare` feature)."
   ]
  },
  {
   "cell_type": "code",
   "execution_count": 35,
   "id": "6cd9dfa6",
   "metadata": {
    "execution": {
     "iopub.execute_input": "2022-01-12T23:12:57.676769Z",
     "iopub.status.busy": "2022-01-12T23:12:57.676158Z",
     "iopub.status.idle": "2022-01-12T23:12:58.091314Z",
     "shell.execute_reply": "2022-01-12T23:12:58.090603Z",
     "shell.execute_reply.started": "2022-01-12T22:06:35.587288Z"
    },
    "papermill": {
     "duration": 0.516867,
     "end_time": "2022-01-12T23:12:58.091462",
     "exception": false,
     "start_time": "2022-01-12T23:12:57.574595",
     "status": "completed"
    },
    "tags": []
   },
   "outputs": [
    {
     "data": {
      "image/png": "[encoded data removed]",
      "text/plain": [
       "<Figure size 1296x720 with 1 Axes>"
      ]
     },
     "metadata": {
      "needs_background": "light"
     },
     "output_type": "display_data"
    }
   ],
   "source": [
    "plt.figure(figsize=(18,10))\n",
    "sns.regplot(x='Pclass', y='Age', data=train_data)\n",
    "plt.show()"
   ]
  },
  {
   "cell_type": "markdown",
   "id": "1bc16e1a",
   "metadata": {
    "papermill": {
     "duration": 0.100872,
     "end_time": "2022-01-12T23:12:58.296910",
     "exception": false,
     "start_time": "2022-01-12T23:12:58.196038",
     "status": "completed"
    },
    "tags": []
   },
   "source": [
    "**What's the `Age` most of ppl `Died`?**"
   ]
  },
  {
   "cell_type": "code",
   "execution_count": 36,
   "id": "ded58794",
   "metadata": {
    "execution": {
     "iopub.execute_input": "2022-01-12T23:12:58.511663Z",
     "iopub.status.busy": "2022-01-12T23:12:58.508692Z",
     "iopub.status.idle": "2022-01-12T23:12:58.522240Z",
     "shell.execute_reply": "2022-01-12T23:12:58.522842Z",
     "shell.execute_reply.started": "2022-01-12T22:06:35.974453Z"
    },
    "papermill": {
     "duration": 0.125695,
     "end_time": "2022-01-12T23:12:58.523007",
     "exception": false,
     "start_time": "2022-01-12T23:12:58.397312",
     "status": "completed"
    },
    "tags": []
   },
   "outputs": [
    {
     "data": {
      "text/html": [
       "<div>\n",
       "<style scoped>\n",
       "    .dataframe tbody tr th:only-of-type {\n",
       "        vertical-align: middle;\n",
       "    }\n",
       "\n",
       "    .dataframe tbody tr th {\n",
       "        vertical-align: top;\n",
       "    }\n",
       "\n",
       "    .dataframe thead th {\n",
       "        text-align: right;\n",
       "    }\n",
       "</style>\n",
       "<table border=\"1\" class=\"dataframe\">\n",
       "  <thead>\n",
       "    <tr style=\"text-align: right;\">\n",
       "      <th></th>\n",
       "      <th>Age</th>\n",
       "      <th>Survived</th>\n",
       "      <th>Died</th>\n",
       "    </tr>\n",
       "  </thead>\n",
       "  <tbody>\n",
       "    <tr>\n",
       "      <th>31</th>\n",
       "      <td>24.0</td>\n",
       "      <td>27</td>\n",
       "      <td>20</td>\n",
       "    </tr>\n",
       "    <tr>\n",
       "      <th>23</th>\n",
       "      <td>18.0</td>\n",
       "      <td>36</td>\n",
       "      <td>18</td>\n",
       "    </tr>\n",
       "    <tr>\n",
       "      <th>38</th>\n",
       "      <td>29.0</td>\n",
       "      <td>21</td>\n",
       "      <td>15</td>\n",
       "    </tr>\n",
       "    <tr>\n",
       "      <th>48</th>\n",
       "      <td>36.0</td>\n",
       "      <td>21</td>\n",
       "      <td>15</td>\n",
       "    </tr>\n",
       "    <tr>\n",
       "      <th>33</th>\n",
       "      <td>25.0</td>\n",
       "      <td>33</td>\n",
       "      <td>13</td>\n",
       "    </tr>\n",
       "    <tr>\n",
       "      <th>36</th>\n",
       "      <td>28.0</td>\n",
       "      <td>32</td>\n",
       "      <td>13</td>\n",
       "    </tr>\n",
       "    <tr>\n",
       "      <th>39</th>\n",
       "      <td>30.0</td>\n",
       "      <td>31</td>\n",
       "      <td>13</td>\n",
       "    </tr>\n",
       "    <tr>\n",
       "      <th>28</th>\n",
       "      <td>22.0</td>\n",
       "      <td>29</td>\n",
       "      <td>13</td>\n",
       "    </tr>\n",
       "    <tr>\n",
       "      <th>24</th>\n",
       "      <td>19.0</td>\n",
       "      <td>23</td>\n",
       "      <td>12</td>\n",
       "    </tr>\n",
       "    <tr>\n",
       "      <th>27</th>\n",
       "      <td>21.0</td>\n",
       "      <td>28</td>\n",
       "      <td>11</td>\n",
       "    </tr>\n",
       "  </tbody>\n",
       "</table>\n",
       "</div>"
      ],
      "text/plain": [
       "     Age  Survived  Died\n",
       "31  24.0        27    20\n",
       "23  18.0        36    18\n",
       "38  29.0        21    15\n",
       "48  36.0        21    15\n",
       "33  25.0        33    13\n",
       "36  28.0        32    13\n",
       "39  30.0        31    13\n",
       "28  22.0        29    13\n",
       "24  19.0        23    12\n",
       "27  21.0        28    11"
      ]
     },
     "execution_count": 36,
     "metadata": {},
     "output_type": "execute_result"
    }
   ],
   "source": [
    "tester = train_data.copy()\n",
    "tester[['Survived', 'Died']] = pd.get_dummies(tester['Survived'])\n",
    "age_sur = tester[['Age', 'Survived', 'Died']].groupby('Age').sum()\n",
    "age_sur.reset_index(inplace=True)\n",
    "age_sur.sort_values(by=['Died', 'Survived'], ascending=False, inplace=True)\n",
    "age_sur.head(10)"
   ]
  },
  {
   "cell_type": "markdown",
   "id": "ba586632",
   "metadata": {
    "papermill": {
     "duration": 0.100073,
     "end_time": "2022-01-12T23:12:58.723699",
     "exception": false,
     "start_time": "2022-01-12T23:12:58.623626",
     "status": "completed"
    },
    "tags": []
   },
   "source": [
    "Young age are the most people died, specially `Age` of **24**, maybe this has been effected by filling the missing value!"
   ]
  },
  {
   "cell_type": "markdown",
   "id": "3e2cc8d4",
   "metadata": {
    "papermill": {
     "duration": 0.102746,
     "end_time": "2022-01-12T23:12:58.928209",
     "exception": false,
     "start_time": "2022-01-12T23:12:58.825463",
     "status": "completed"
    },
    "tags": []
   },
   "source": [
    "Let's check if there's any correlation between the `Age` and `Fare`"
   ]
  },
  {
   "cell_type": "code",
   "execution_count": 37,
   "id": "8433e291",
   "metadata": {
    "execution": {
     "iopub.execute_input": "2022-01-12T23:12:59.143668Z",
     "iopub.status.busy": "2022-01-12T23:12:59.142687Z",
     "iopub.status.idle": "2022-01-12T23:12:59.666796Z",
     "shell.execute_reply": "2022-01-12T23:12:59.667314Z",
     "shell.execute_reply.started": "2022-01-12T22:06:35.999789Z"
    },
    "papermill": {
     "duration": 0.638592,
     "end_time": "2022-01-12T23:12:59.667484",
     "exception": false,
     "start_time": "2022-01-12T23:12:59.028892",
     "status": "completed"
    },
    "tags": []
   },
   "outputs": [
    {
     "data": {
      "image/png": "[encoded data removed]",
      "text/plain": [
       "<Figure size 1296x720 with 1 Axes>"
      ]
     },
     "metadata": {
      "needs_background": "light"
     },
     "output_type": "display_data"
    }
   ],
   "source": [
    "plt.figure(figsize=(18,10))\n",
    "sns.regplot(x='Age', y='Fare', data=train_data)\n",
    "plt.show()"
   ]
  },
  {
   "cell_type": "markdown",
   "id": "b863216f",
   "metadata": {
    "papermill": {
     "duration": 0.103013,
     "end_time": "2022-01-12T23:12:59.873171",
     "exception": false,
     "start_time": "2022-01-12T23:12:59.770158",
     "status": "completed"
    },
    "tags": []
   },
   "source": [
    "As we can see, `Age` and `Fare` have **Weak Linear Correlation**, which means; I can't apply feature cross on them even if I want."
   ]
  },
  {
   "cell_type": "markdown",
   "id": "9f1c9fe2",
   "metadata": {
    "papermill": {
     "duration": 0.102606,
     "end_time": "2022-01-12T23:13:00.078560",
     "exception": false,
     "start_time": "2022-01-12T23:12:59.975954",
     "status": "completed"
    },
    "tags": []
   },
   "source": [
    "<span style='color:CornflowerBlue;font-size:16px'>Feature 06: Sex & Title</span>"
   ]
  },
  {
   "cell_type": "markdown",
   "id": "598a9dfa",
   "metadata": {
    "papermill": {
     "duration": 0.101842,
     "end_time": "2022-01-12T23:13:00.283831",
     "exception": false,
     "start_time": "2022-01-12T23:13:00.181989",
     "status": "completed"
    },
    "tags": []
   },
   "source": [
    "We need to check the `Title` with the `Sex` to see if our FE works well"
   ]
  },
  {
   "cell_type": "code",
   "execution_count": 38,
   "id": "318457ae",
   "metadata": {
    "execution": {
     "iopub.execute_input": "2022-01-12T23:13:00.491946Z",
     "iopub.status.busy": "2022-01-12T23:13:00.490910Z",
     "iopub.status.idle": "2022-01-12T23:13:00.709742Z",
     "shell.execute_reply": "2022-01-12T23:13:00.710296Z",
     "shell.execute_reply.started": "2022-01-12T22:06:36.528928Z"
    },
    "papermill": {
     "duration": 0.324479,
     "end_time": "2022-01-12T23:13:00.710474",
     "exception": false,
     "start_time": "2022-01-12T23:13:00.385995",
     "status": "completed"
    },
    "tags": []
   },
   "outputs": [
    {
     "data": {
      "text/plain": [
       "<Figure size 1296x720 with 0 Axes>"
      ]
     },
     "metadata": {},
     "output_type": "display_data"
    },
    {
     "data": {
      "image/png": "[encoded data removed]",
      "text/plain": [
       "<Figure size 360x360 with 1 Axes>"
      ]
     },
     "metadata": {
      "needs_background": "light"
     },
     "output_type": "display_data"
    }
   ],
   "source": [
    "plt.figure(figsize=(18,10))\n",
    "sns.catplot(x='Sex', y='Title', data=train_data)\n",
    "plt.show()"
   ]
  },
  {
   "cell_type": "markdown",
   "id": "74e558f8",
   "metadata": {
    "papermill": {
     "duration": 0.103135,
     "end_time": "2022-01-12T23:13:00.916911",
     "exception": false,
     "start_time": "2022-01-12T23:13:00.813776",
     "status": "completed"
    },
    "tags": []
   },
   "source": [
    "Now, Let's clear our dataset from any useless features and prepare the dataset for our next phase which is **Train & Test Split**."
   ]
  },
  {
   "cell_type": "code",
   "execution_count": 39,
   "id": "1dd68b04",
   "metadata": {
    "execution": {
     "iopub.execute_input": "2022-01-12T23:13:01.131709Z",
     "iopub.status.busy": "2022-01-12T23:13:01.130839Z",
     "iopub.status.idle": "2022-01-12T23:13:01.133282Z",
     "shell.execute_reply": "2022-01-12T23:13:01.133861Z",
     "shell.execute_reply.started": "2022-01-12T22:06:36.748395Z"
    },
    "papermill": {
     "duration": 0.113791,
     "end_time": "2022-01-12T23:13:01.134023",
     "exception": false,
     "start_time": "2022-01-12T23:13:01.020232",
     "status": "completed"
    },
    "tags": []
   },
   "outputs": [],
   "source": [
    "train_data.drop(columns=['Name', 'Ticket', 'PassengerId'], inplace=True)"
   ]
  },
  {
   "cell_type": "markdown",
   "id": "2f33945b",
   "metadata": {
    "papermill": {
     "duration": 0.103025,
     "end_time": "2022-01-12T23:13:01.341499",
     "exception": false,
     "start_time": "2022-01-12T23:13:01.238474",
     "status": "completed"
    },
    "tags": []
   },
   "source": [
    "For formatting purposes – we want to shift our `Survive` Label to the end of the table. Also, we need to add each Feature corresponding to its correlations. For the sake of curiosity, let's check the correlation between the new features and the old ones after deleting unnecessary features"
   ]
  },
  {
   "cell_type": "code",
   "execution_count": 40,
   "id": "b2ad13cc",
   "metadata": {
    "execution": {
     "iopub.execute_input": "2022-01-12T23:13:01.554095Z",
     "iopub.status.busy": "2022-01-12T23:13:01.553125Z",
     "iopub.status.idle": "2022-01-12T23:13:01.573561Z",
     "shell.execute_reply": "2022-01-12T23:13:01.574050Z",
     "shell.execute_reply.started": "2022-01-12T22:06:36.756049Z"
    },
    "papermill": {
     "duration": 0.129838,
     "end_time": "2022-01-12T23:13:01.574233",
     "exception": false,
     "start_time": "2022-01-12T23:13:01.444395",
     "status": "completed"
    },
    "tags": []
   },
   "outputs": [
    {
     "data": {
      "text/html": [
       "<div>\n",
       "<style scoped>\n",
       "    .dataframe tbody tr th:only-of-type {\n",
       "        vertical-align: middle;\n",
       "    }\n",
       "\n",
       "    .dataframe tbody tr th {\n",
       "        vertical-align: top;\n",
       "    }\n",
       "\n",
       "    .dataframe thead th {\n",
       "        text-align: right;\n",
       "    }\n",
       "</style>\n",
       "<table border=\"1\" class=\"dataframe\">\n",
       "  <thead>\n",
       "    <tr style=\"text-align: right;\">\n",
       "      <th></th>\n",
       "      <th>Title</th>\n",
       "      <th>Sex</th>\n",
       "      <th>Age</th>\n",
       "      <th>SibSp</th>\n",
       "      <th>Parch</th>\n",
       "      <th>Family_size</th>\n",
       "      <th>Pclass</th>\n",
       "      <th>Fare</th>\n",
       "      <th>Deck</th>\n",
       "      <th>Embarked</th>\n",
       "      <th>Survived</th>\n",
       "    </tr>\n",
       "  </thead>\n",
       "  <tbody>\n",
       "    <tr>\n",
       "      <th>0</th>\n",
       "      <td>Mr</td>\n",
       "      <td>male</td>\n",
       "      <td>22.0</td>\n",
       "      <td>1</td>\n",
       "      <td>0</td>\n",
       "      <td>1</td>\n",
       "      <td>3</td>\n",
       "      <td>7.2500</td>\n",
       "      <td>Untitled</td>\n",
       "      <td>S</td>\n",
       "      <td>0</td>\n",
       "    </tr>\n",
       "    <tr>\n",
       "      <th>1</th>\n",
       "      <td>Mrs</td>\n",
       "      <td>female</td>\n",
       "      <td>38.0</td>\n",
       "      <td>1</td>\n",
       "      <td>0</td>\n",
       "      <td>1</td>\n",
       "      <td>1</td>\n",
       "      <td>71.2833</td>\n",
       "      <td>C</td>\n",
       "      <td>C</td>\n",
       "      <td>1</td>\n",
       "    </tr>\n",
       "    <tr>\n",
       "      <th>2</th>\n",
       "      <td>Miss</td>\n",
       "      <td>female</td>\n",
       "      <td>26.0</td>\n",
       "      <td>0</td>\n",
       "      <td>0</td>\n",
       "      <td>0</td>\n",
       "      <td>3</td>\n",
       "      <td>7.9250</td>\n",
       "      <td>Untitled</td>\n",
       "      <td>S</td>\n",
       "      <td>1</td>\n",
       "    </tr>\n",
       "    <tr>\n",
       "      <th>3</th>\n",
       "      <td>Mrs</td>\n",
       "      <td>female</td>\n",
       "      <td>35.0</td>\n",
       "      <td>1</td>\n",
       "      <td>0</td>\n",
       "      <td>1</td>\n",
       "      <td>1</td>\n",
       "      <td>53.1000</td>\n",
       "      <td>C</td>\n",
       "      <td>S</td>\n",
       "      <td>1</td>\n",
       "    </tr>\n",
       "    <tr>\n",
       "      <th>4</th>\n",
       "      <td>Mr</td>\n",
       "      <td>male</td>\n",
       "      <td>35.0</td>\n",
       "      <td>0</td>\n",
       "      <td>0</td>\n",
       "      <td>0</td>\n",
       "      <td>3</td>\n",
       "      <td>8.0500</td>\n",
       "      <td>Untitled</td>\n",
       "      <td>S</td>\n",
       "      <td>0</td>\n",
       "    </tr>\n",
       "    <tr>\n",
       "      <th>...</th>\n",
       "      <td>...</td>\n",
       "      <td>...</td>\n",
       "      <td>...</td>\n",
       "      <td>...</td>\n",
       "      <td>...</td>\n",
       "      <td>...</td>\n",
       "      <td>...</td>\n",
       "      <td>...</td>\n",
       "      <td>...</td>\n",
       "      <td>...</td>\n",
       "      <td>...</td>\n",
       "    </tr>\n",
       "    <tr>\n",
       "      <th>886</th>\n",
       "      <td>Mr</td>\n",
       "      <td>male</td>\n",
       "      <td>27.0</td>\n",
       "      <td>0</td>\n",
       "      <td>0</td>\n",
       "      <td>0</td>\n",
       "      <td>2</td>\n",
       "      <td>13.0000</td>\n",
       "      <td>Untitled</td>\n",
       "      <td>S</td>\n",
       "      <td>0</td>\n",
       "    </tr>\n",
       "    <tr>\n",
       "      <th>887</th>\n",
       "      <td>Miss</td>\n",
       "      <td>female</td>\n",
       "      <td>19.0</td>\n",
       "      <td>0</td>\n",
       "      <td>0</td>\n",
       "      <td>0</td>\n",
       "      <td>1</td>\n",
       "      <td>30.0000</td>\n",
       "      <td>B</td>\n",
       "      <td>S</td>\n",
       "      <td>1</td>\n",
       "    </tr>\n",
       "    <tr>\n",
       "      <th>888</th>\n",
       "      <td>Miss</td>\n",
       "      <td>female</td>\n",
       "      <td>19.0</td>\n",
       "      <td>1</td>\n",
       "      <td>2</td>\n",
       "      <td>3</td>\n",
       "      <td>3</td>\n",
       "      <td>23.4500</td>\n",
       "      <td>Untitled</td>\n",
       "      <td>S</td>\n",
       "      <td>0</td>\n",
       "    </tr>\n",
       "    <tr>\n",
       "      <th>889</th>\n",
       "      <td>Mr</td>\n",
       "      <td>male</td>\n",
       "      <td>26.0</td>\n",
       "      <td>0</td>\n",
       "      <td>0</td>\n",
       "      <td>0</td>\n",
       "      <td>1</td>\n",
       "      <td>30.0000</td>\n",
       "      <td>C</td>\n",
       "      <td>C</td>\n",
       "      <td>1</td>\n",
       "    </tr>\n",
       "    <tr>\n",
       "      <th>890</th>\n",
       "      <td>Mr</td>\n",
       "      <td>male</td>\n",
       "      <td>32.0</td>\n",
       "      <td>0</td>\n",
       "      <td>0</td>\n",
       "      <td>0</td>\n",
       "      <td>3</td>\n",
       "      <td>7.7500</td>\n",
       "      <td>Untitled</td>\n",
       "      <td>Q</td>\n",
       "      <td>0</td>\n",
       "    </tr>\n",
       "  </tbody>\n",
       "</table>\n",
       "<p>891 rows × 11 columns</p>\n",
       "</div>"
      ],
      "text/plain": [
       "    Title     Sex   Age  SibSp  Parch  Family_size  Pclass     Fare      Deck  \\\n",
       "0      Mr    male  22.0      1      0            1       3   7.2500  Untitled   \n",
       "1     Mrs  female  38.0      1      0            1       1  71.2833         C   \n",
       "2    Miss  female  26.0      0      0            0       3   7.9250  Untitled   \n",
       "3     Mrs  female  35.0      1      0            1       1  53.1000         C   \n",
       "4      Mr    male  35.0      0      0            0       3   8.0500  Untitled   \n",
       "..    ...     ...   ...    ...    ...          ...     ...      ...       ...   \n",
       "886    Mr    male  27.0      0      0            0       2  13.0000  Untitled   \n",
       "887  Miss  female  19.0      0      0            0       1  30.0000         B   \n",
       "888  Miss  female  19.0      1      2            3       3  23.4500  Untitled   \n",
       "889    Mr    male  26.0      0      0            0       1  30.0000         C   \n",
       "890    Mr    male  32.0      0      0            0       3   7.7500  Untitled   \n",
       "\n",
       "    Embarked  Survived  \n",
       "0          S         0  \n",
       "1          C         1  \n",
       "2          S         1  \n",
       "3          S         1  \n",
       "4          S         0  \n",
       "..       ...       ...  \n",
       "886        S         0  \n",
       "887        S         1  \n",
       "888        S         0  \n",
       "889        C         1  \n",
       "890        Q         0  \n",
       "\n",
       "[891 rows x 11 columns]"
      ]
     },
     "execution_count": 40,
     "metadata": {},
     "output_type": "execute_result"
    }
   ],
   "source": [
    "COLUMNS = ['Title', 'Sex', 'Age', 'SibSp', 'Parch', 'Family_size', 'Pclass',\n",
    "           'Fare', 'Deck', 'Embarked', 'Survived']\n",
    "train_data = train_data[COLUMNS]\n",
    "train_data"
   ]
  },
  {
   "cell_type": "code",
   "execution_count": 41,
   "id": "694056bf",
   "metadata": {
    "execution": {
     "iopub.execute_input": "2022-01-12T23:13:01.789359Z",
     "iopub.status.busy": "2022-01-12T23:13:01.788355Z",
     "iopub.status.idle": "2022-01-12T23:13:02.276372Z",
     "shell.execute_reply": "2022-01-12T23:13:02.276881Z",
     "shell.execute_reply.started": "2022-01-12T22:06:36.796857Z"
    },
    "papermill": {
     "duration": 0.599003,
     "end_time": "2022-01-12T23:13:02.277047",
     "exception": false,
     "start_time": "2022-01-12T23:13:01.678044",
     "status": "completed"
    },
    "tags": []
   },
   "outputs": [
    {
     "data": {
      "image/png": "[encoded data removed]",
      "text/plain": [
       "<Figure size 1296x720 with 2 Axes>"
      ]
     },
     "metadata": {
      "needs_background": "light"
     },
     "output_type": "display_data"
    }
   ],
   "source": [
    "plt.figure(figsize=(18,10))\n",
    "sns.heatmap(train_data.corr(), cmap='Blues', annot=True)\n",
    "plt.show()"
   ]
  },
  {
   "cell_type": "markdown",
   "id": "a773f363",
   "metadata": {
    "papermill": {
     "duration": 0.104942,
     "end_time": "2022-01-12T23:13:02.487625",
     "exception": false,
     "start_time": "2022-01-12T23:13:02.382683",
     "status": "completed"
    },
    "tags": []
   },
   "source": [
    "The Correlation after **Feature Engineering** is efficient!"
   ]
  },
  {
   "cell_type": "markdown",
   "id": "d105f7d8",
   "metadata": {
    "papermill": {
     "duration": 0.105622,
     "end_time": "2022-01-12T23:13:02.698433",
     "exception": false,
     "start_time": "2022-01-12T23:13:02.592811",
     "status": "completed"
    },
    "tags": []
   },
   "source": [
    "### 2. Train & Test Split"
   ]
  },
  {
   "cell_type": "markdown",
   "id": "60e97662",
   "metadata": {
    "papermill": {
     "duration": 0.105239,
     "end_time": "2022-01-12T23:13:02.909821",
     "exception": false,
     "start_time": "2022-01-12T23:13:02.804582",
     "status": "completed"
    },
    "tags": []
   },
   "source": [
    "Let's split our train dataset into a train, and test datasets [75, 25]."
   ]
  },
  {
   "cell_type": "code",
   "execution_count": 42,
   "id": "e11ab167",
   "metadata": {
    "execution": {
     "iopub.execute_input": "2022-01-12T23:13:03.129951Z",
     "iopub.status.busy": "2022-01-12T23:13:03.127965Z",
     "iopub.status.idle": "2022-01-12T23:13:03.147563Z",
     "shell.execute_reply": "2022-01-12T23:13:03.148053Z",
     "shell.execute_reply.started": "2022-01-12T22:06:37.301795Z"
    },
    "papermill": {
     "duration": 0.131816,
     "end_time": "2022-01-12T23:13:03.148235",
     "exception": false,
     "start_time": "2022-01-12T23:13:03.016419",
     "status": "completed"
    },
    "tags": []
   },
   "outputs": [
    {
     "data": {
      "text/html": [
       "<div>\n",
       "<style scoped>\n",
       "    .dataframe tbody tr th:only-of-type {\n",
       "        vertical-align: middle;\n",
       "    }\n",
       "\n",
       "    .dataframe tbody tr th {\n",
       "        vertical-align: top;\n",
       "    }\n",
       "\n",
       "    .dataframe thead th {\n",
       "        text-align: right;\n",
       "    }\n",
       "</style>\n",
       "<table border=\"1\" class=\"dataframe\">\n",
       "  <thead>\n",
       "    <tr style=\"text-align: right;\">\n",
       "      <th></th>\n",
       "      <th>Title</th>\n",
       "      <th>Sex</th>\n",
       "      <th>Age</th>\n",
       "      <th>SibSp</th>\n",
       "      <th>Parch</th>\n",
       "      <th>Family_size</th>\n",
       "      <th>Pclass</th>\n",
       "      <th>Fare</th>\n",
       "      <th>Deck</th>\n",
       "      <th>Embarked</th>\n",
       "    </tr>\n",
       "  </thead>\n",
       "  <tbody>\n",
       "    <tr>\n",
       "      <th>0</th>\n",
       "      <td>Mr</td>\n",
       "      <td>male</td>\n",
       "      <td>22.0</td>\n",
       "      <td>1</td>\n",
       "      <td>0</td>\n",
       "      <td>1</td>\n",
       "      <td>3</td>\n",
       "      <td>7.2500</td>\n",
       "      <td>Untitled</td>\n",
       "      <td>S</td>\n",
       "    </tr>\n",
       "    <tr>\n",
       "      <th>1</th>\n",
       "      <td>Mrs</td>\n",
       "      <td>female</td>\n",
       "      <td>38.0</td>\n",
       "      <td>1</td>\n",
       "      <td>0</td>\n",
       "      <td>1</td>\n",
       "      <td>1</td>\n",
       "      <td>71.2833</td>\n",
       "      <td>C</td>\n",
       "      <td>C</td>\n",
       "    </tr>\n",
       "    <tr>\n",
       "      <th>2</th>\n",
       "      <td>Miss</td>\n",
       "      <td>female</td>\n",
       "      <td>26.0</td>\n",
       "      <td>0</td>\n",
       "      <td>0</td>\n",
       "      <td>0</td>\n",
       "      <td>3</td>\n",
       "      <td>7.9250</td>\n",
       "      <td>Untitled</td>\n",
       "      <td>S</td>\n",
       "    </tr>\n",
       "    <tr>\n",
       "      <th>3</th>\n",
       "      <td>Mrs</td>\n",
       "      <td>female</td>\n",
       "      <td>35.0</td>\n",
       "      <td>1</td>\n",
       "      <td>0</td>\n",
       "      <td>1</td>\n",
       "      <td>1</td>\n",
       "      <td>53.1000</td>\n",
       "      <td>C</td>\n",
       "      <td>S</td>\n",
       "    </tr>\n",
       "    <tr>\n",
       "      <th>4</th>\n",
       "      <td>Mr</td>\n",
       "      <td>male</td>\n",
       "      <td>35.0</td>\n",
       "      <td>0</td>\n",
       "      <td>0</td>\n",
       "      <td>0</td>\n",
       "      <td>3</td>\n",
       "      <td>8.0500</td>\n",
       "      <td>Untitled</td>\n",
       "      <td>S</td>\n",
       "    </tr>\n",
       "    <tr>\n",
       "      <th>...</th>\n",
       "      <td>...</td>\n",
       "      <td>...</td>\n",
       "      <td>...</td>\n",
       "      <td>...</td>\n",
       "      <td>...</td>\n",
       "      <td>...</td>\n",
       "      <td>...</td>\n",
       "      <td>...</td>\n",
       "      <td>...</td>\n",
       "      <td>...</td>\n",
       "    </tr>\n",
       "    <tr>\n",
       "      <th>886</th>\n",
       "      <td>Mr</td>\n",
       "      <td>male</td>\n",
       "      <td>27.0</td>\n",
       "      <td>0</td>\n",
       "      <td>0</td>\n",
       "      <td>0</td>\n",
       "      <td>2</td>\n",
       "      <td>13.0000</td>\n",
       "      <td>Untitled</td>\n",
       "      <td>S</td>\n",
       "    </tr>\n",
       "    <tr>\n",
       "      <th>887</th>\n",
       "      <td>Miss</td>\n",
       "      <td>female</td>\n",
       "      <td>19.0</td>\n",
       "      <td>0</td>\n",
       "      <td>0</td>\n",
       "      <td>0</td>\n",
       "      <td>1</td>\n",
       "      <td>30.0000</td>\n",
       "      <td>B</td>\n",
       "      <td>S</td>\n",
       "    </tr>\n",
       "    <tr>\n",
       "      <th>888</th>\n",
       "      <td>Miss</td>\n",
       "      <td>female</td>\n",
       "      <td>19.0</td>\n",
       "      <td>1</td>\n",
       "      <td>2</td>\n",
       "      <td>3</td>\n",
       "      <td>3</td>\n",
       "      <td>23.4500</td>\n",
       "      <td>Untitled</td>\n",
       "      <td>S</td>\n",
       "    </tr>\n",
       "    <tr>\n",
       "      <th>889</th>\n",
       "      <td>Mr</td>\n",
       "      <td>male</td>\n",
       "      <td>26.0</td>\n",
       "      <td>0</td>\n",
       "      <td>0</td>\n",
       "      <td>0</td>\n",
       "      <td>1</td>\n",
       "      <td>30.0000</td>\n",
       "      <td>C</td>\n",
       "      <td>C</td>\n",
       "    </tr>\n",
       "    <tr>\n",
       "      <th>890</th>\n",
       "      <td>Mr</td>\n",
       "      <td>male</td>\n",
       "      <td>32.0</td>\n",
       "      <td>0</td>\n",
       "      <td>0</td>\n",
       "      <td>0</td>\n",
       "      <td>3</td>\n",
       "      <td>7.7500</td>\n",
       "      <td>Untitled</td>\n",
       "      <td>Q</td>\n",
       "    </tr>\n",
       "  </tbody>\n",
       "</table>\n",
       "<p>891 rows × 10 columns</p>\n",
       "</div>"
      ],
      "text/plain": [
       "    Title     Sex   Age  SibSp  Parch  Family_size  Pclass     Fare      Deck  \\\n",
       "0      Mr    male  22.0      1      0            1       3   7.2500  Untitled   \n",
       "1     Mrs  female  38.0      1      0            1       1  71.2833         C   \n",
       "2    Miss  female  26.0      0      0            0       3   7.9250  Untitled   \n",
       "3     Mrs  female  35.0      1      0            1       1  53.1000         C   \n",
       "4      Mr    male  35.0      0      0            0       3   8.0500  Untitled   \n",
       "..    ...     ...   ...    ...    ...          ...     ...      ...       ...   \n",
       "886    Mr    male  27.0      0      0            0       2  13.0000  Untitled   \n",
       "887  Miss  female  19.0      0      0            0       1  30.0000         B   \n",
       "888  Miss  female  19.0      1      2            3       3  23.4500  Untitled   \n",
       "889    Mr    male  26.0      0      0            0       1  30.0000         C   \n",
       "890    Mr    male  32.0      0      0            0       3   7.7500  Untitled   \n",
       "\n",
       "    Embarked  \n",
       "0          S  \n",
       "1          C  \n",
       "2          S  \n",
       "3          S  \n",
       "4          S  \n",
       "..       ...  \n",
       "886        S  \n",
       "887        S  \n",
       "888        S  \n",
       "889        C  \n",
       "890        Q  \n",
       "\n",
       "[891 rows x 10 columns]"
      ]
     },
     "execution_count": 42,
     "metadata": {},
     "output_type": "execute_result"
    }
   ],
   "source": [
    "y_label = train_data['Survived']\n",
    "X_features = train_data.iloc[:,:-1]\n",
    "X_features"
   ]
  },
  {
   "cell_type": "code",
   "execution_count": 43,
   "id": "93c0c824",
   "metadata": {
    "execution": {
     "iopub.execute_input": "2022-01-12T23:13:03.366980Z",
     "iopub.status.busy": "2022-01-12T23:13:03.365963Z",
     "iopub.status.idle": "2022-01-12T23:13:03.376049Z",
     "shell.execute_reply": "2022-01-12T23:13:03.376553Z",
     "shell.execute_reply.started": "2022-01-12T22:06:37.326720Z"
    },
    "papermill": {
     "duration": 0.121083,
     "end_time": "2022-01-12T23:13:03.376745",
     "exception": false,
     "start_time": "2022-01-12T23:13:03.255662",
     "status": "completed"
    },
    "tags": []
   },
   "outputs": [],
   "source": [
    "folds = 4\n",
    "X_train, X_test, y_train, y_test = train_test_split(X_features,\n",
    "                                                    y_label,\n",
    "                                                    test_size=(1/folds),\n",
    "                                                    random_state=42,\n",
    "                                                    stratify=y_label)"
   ]
  },
  {
   "cell_type": "markdown",
   "id": "b989d46d",
   "metadata": {
    "papermill": {
     "duration": 0.105831,
     "end_time": "2022-01-12T23:13:03.589959",
     "exception": false,
     "start_time": "2022-01-12T23:13:03.484128",
     "status": "completed"
    },
    "tags": []
   },
   "source": [
    "One of the critical things I read that written by *Prof. Andrew Neg* in his book **Machine Learning Yearning** – the proportion between your train, dev, and test data has to be on the same line of the distribution, you can't have a different proportion between your train, and test data and you expect to give you high accuracy.\n",
    "\n",
    "`stratify` parameter in `train_test_split` accomplish that goal for you. When it splits the label, it will make sure that the proportion of the training label is similar to the proportion of the testing label."
   ]
  },
  {
   "cell_type": "markdown",
   "id": "abb30fb2",
   "metadata": {
    "papermill": {
     "duration": 0.107386,
     "end_time": "2022-01-12T23:13:03.803286",
     "exception": false,
     "start_time": "2022-01-12T23:13:03.695900",
     "status": "completed"
    },
    "tags": []
   },
   "source": [
    "But we still can face the problem of overfitting..but how!? We're going to face the problem of overfitting because we split our data, randomly. We need to ensure that even if we sent weak hyperparameter to our probabilistic models, it wouldn't go throw overfitting because of <u>skew distribution</u>.\n",
    "\n",
    "Therefore, I always prefer to add a procedure called **[cross-validation](https://en.wikipedia.org/wiki/Cross-validation_(statistics))**"
   ]
  },
  {
   "cell_type": "markdown",
   "id": "340c32dc",
   "metadata": {
    "papermill": {
     "duration": 0.106294,
     "end_time": "2022-01-12T23:13:04.017079",
     "exception": false,
     "start_time": "2022-01-12T23:13:03.910785",
     "status": "completed"
    },
    "tags": []
   },
   "source": [
    "  "
   ]
  },
  {
   "cell_type": "markdown",
   "id": "e45550ba",
   "metadata": {
    "papermill": {
     "duration": 0.105699,
     "end_time": "2022-01-12T23:13:04.229964",
     "exception": false,
     "start_time": "2022-01-12T23:13:04.124265",
     "status": "completed"
    },
    "tags": []
   },
   "source": [
    "### 3. Algorithm Setup"
   ]
  },
  {
   "cell_type": "markdown",
   "id": "a41e9152",
   "metadata": {
    "papermill": {
     "duration": 0.105783,
     "end_time": "2022-01-12T23:13:04.442533",
     "exception": false,
     "start_time": "2022-01-12T23:13:04.336750",
     "status": "completed"
    },
    "tags": []
   },
   "source": [
    "Since this project is all about classification, we're going to set up the best probabilistic models that can help us to predict the highest accuracy we can obtain.\n",
    "\n",
    "But first, we want to make sure that our datasets have transformed & normalized, correctly. So, we're going to build a transformed pipeline to add our features into it.Since this project is all about classification, we're going to set up the best probabilistic models that can help us to predict the highest accuracy we can obtain.\n",
    "\n",
    "But first, we want to make sure that our datasets have transformed & normalized, correctly. So, we're going to build a transformed pipeline to add our features into it."
   ]
  },
  {
   "cell_type": "code",
   "execution_count": 44,
   "id": "c3e34eb0",
   "metadata": {
    "execution": {
     "iopub.execute_input": "2022-01-12T23:13:04.661401Z",
     "iopub.status.busy": "2022-01-12T23:13:04.660655Z",
     "iopub.status.idle": "2022-01-12T23:13:04.853430Z",
     "shell.execute_reply": "2022-01-12T23:13:04.853946Z",
     "shell.execute_reply.started": "2022-01-12T22:06:37.342267Z"
    },
    "papermill": {
     "duration": 0.305397,
     "end_time": "2022-01-12T23:13:04.854147",
     "exception": false,
     "start_time": "2022-01-12T23:13:04.548750",
     "status": "completed"
    },
    "tags": []
   },
   "outputs": [],
   "source": [
    "from sklearn.compose import make_column_transformer\n",
    "from sklearn.preprocessing import (StandardScaler, OneHotEncoder)\n",
    "from sklearn.base import BaseEstimator\n",
    "from sklearn.model_selection import KFold\n",
    "from sklearn.pipeline import Pipeline\n",
    "from sklearn.tree import DecisionTreeClassifier\n",
    "from sklearn.ensemble import RandomForestClassifier, ExtraTreesClassifier\n",
    "from sklearn.svm import SVC\n",
    "from sklearn.linear_model import LogisticRegression\n",
    "from sklearn.model_selection import GridSearchCV\n",
    "from sklearn.metrics import confusion_matrix, ConfusionMatrixDisplay\n",
    "from sklearn.metrics import f1_score"
   ]
  },
  {
   "cell_type": "markdown",
   "id": "0326d126",
   "metadata": {
    "papermill": {
     "duration": 0.106542,
     "end_time": "2022-01-12T23:13:05.067479",
     "exception": false,
     "start_time": "2022-01-12T23:13:04.960937",
     "status": "completed"
    },
    "tags": []
   },
   "source": [
    "First, we're going to start with building the transformers pipeline"
   ]
  },
  {
   "cell_type": "code",
   "execution_count": 45,
   "id": "15f0ca12",
   "metadata": {
    "execution": {
     "iopub.execute_input": "2022-01-12T23:13:05.288940Z",
     "iopub.status.busy": "2022-01-12T23:13:05.288242Z",
     "iopub.status.idle": "2022-01-12T23:13:05.290369Z",
     "shell.execute_reply": "2022-01-12T23:13:05.289773Z",
     "shell.execute_reply.started": "2022-01-12T22:06:37.550910Z"
    },
    "papermill": {
     "duration": 0.11344,
     "end_time": "2022-01-12T23:13:05.290504",
     "exception": false,
     "start_time": "2022-01-12T23:13:05.177064",
     "status": "completed"
    },
    "tags": []
   },
   "outputs": [],
   "source": [
    "NUMERICAL_COLUMNS = [\"Age\", \"SibSp\", \"Parch\", \"Family_size\", \"Fare\"]\n",
    "CATEGORICAL_COLUMNS = [\"Title\", \"Sex\", \"Pclass\", \"Deck\", \"Embarked\"]"
   ]
  },
  {
   "cell_type": "code",
   "execution_count": 46,
   "id": "fe534971",
   "metadata": {
    "execution": {
     "iopub.execute_input": "2022-01-12T23:13:05.508799Z",
     "iopub.status.busy": "2022-01-12T23:13:05.508099Z",
     "iopub.status.idle": "2022-01-12T23:13:05.509967Z",
     "shell.execute_reply": "2022-01-12T23:13:05.510615Z",
     "shell.execute_reply.started": "2022-01-12T22:06:37.557715Z"
    },
    "papermill": {
     "duration": 0.113152,
     "end_time": "2022-01-12T23:13:05.510783",
     "exception": false,
     "start_time": "2022-01-12T23:13:05.397631",
     "status": "completed"
    },
    "tags": []
   },
   "outputs": [],
   "source": [
    "transformers = make_column_transformer(\n",
    "                                       (StandardScaler(), NUMERICAL_COLUMNS),\n",
    "                                       (OneHotEncoder(handle_unknown='ignore'),\n",
    "                                                      CATEGORICAL_COLUMNS))"
   ]
  },
  {
   "cell_type": "markdown",
   "id": "351b3da0",
   "metadata": {
    "papermill": {
     "duration": 0.105251,
     "end_time": "2022-01-12T23:13:05.722015",
     "exception": false,
     "start_time": "2022-01-12T23:13:05.616764",
     "status": "completed"
    },
    "tags": []
   },
   "source": [
    "Then, we're going to the Models' pipeline. If you want to have multiple models in one pipeline, we can do that by building a [custom estimator](https://stackoverflow.com/questions/48507651/multiple-classification-models-in-a-scikit-pipeline-python#:~:text=consider%20checking%20out%20similar%20questions%20here%3A)."
   ]
  },
  {
   "cell_type": "code",
   "execution_count": 47,
   "id": "ff4e7d8e",
   "metadata": {
    "execution": {
     "iopub.execute_input": "2022-01-12T23:13:05.940770Z",
     "iopub.status.busy": "2022-01-12T23:13:05.939772Z",
     "iopub.status.idle": "2022-01-12T23:13:05.946791Z",
     "shell.execute_reply": "2022-01-12T23:13:05.947312Z",
     "shell.execute_reply.started": "2022-01-12T22:06:37.573024Z"
    },
    "papermill": {
     "duration": 0.118142,
     "end_time": "2022-01-12T23:13:05.947483",
     "exception": false,
     "start_time": "2022-01-12T23:13:05.829341",
     "status": "completed"
    },
    "tags": []
   },
   "outputs": [],
   "source": [
    "class ClfSwitcher(BaseEstimator):\n",
    "    \n",
    "    def __init__(self, \n",
    "                 estimator = DecisionTreeClassifier()):\n",
    "        \"\"\"\n",
    "        Custom Estimator is a custom class that helps you to switch\n",
    "        between classifiers.\n",
    "        \n",
    "        Args:\n",
    "            estimator: sklearn object – classifier\n",
    "        \"\"\"\n",
    "        self.estimator = estimator\n",
    "    \n",
    "    def fit(self, X, y=None, **kwargs):\n",
    "        self.estimator.fit(X, y)\n",
    "        return self\n",
    "    \n",
    "    def predict(self, X, y=None):\n",
    "        return self.estimator.predict(X)\n",
    "    \n",
    "    def predict_proba(self, X):\n",
    "        return self.estimator.predict_proba(X)\n",
    "    \n",
    "    def score(self, X, y):\n",
    "        return self.estimator.score(X, y)"
   ]
  },
  {
   "cell_type": "code",
   "execution_count": 48,
   "id": "8fd03bb8",
   "metadata": {
    "execution": {
     "iopub.execute_input": "2022-01-12T23:13:06.164415Z",
     "iopub.status.busy": "2022-01-12T23:13:06.163440Z",
     "iopub.status.idle": "2022-01-12T23:13:06.172444Z",
     "shell.execute_reply": "2022-01-12T23:13:06.172939Z",
     "shell.execute_reply.started": "2022-01-12T22:06:37.585474Z"
    },
    "papermill": {
     "duration": 0.119712,
     "end_time": "2022-01-12T23:13:06.173132",
     "exception": false,
     "start_time": "2022-01-12T23:13:06.053420",
     "status": "completed"
    },
    "tags": []
   },
   "outputs": [],
   "source": [
    "pipeline = Pipeline([\n",
    "    ('transformer', transformers),\n",
    "    ('clf', ClfSwitcher())\n",
    "])\n",
    "\n",
    "parameters = [\n",
    "    {\n",
    "        'clf__estimator': [DecisionTreeClassifier()],\n",
    "        'clf__estimator__criterion': ['gini', 'entropy'],\n",
    "\n",
    "    },\n",
    "    {\n",
    "        'clf__estimator': [ExtraTreesClassifier()],\n",
    "        'clf__estimator__n_estimators': [100, 250],\n",
    "        'clf__estimator__criterion': ['gini', 'entropy'],\n",
    "\n",
    "    },\n",
    "    {\n",
    "        'clf__estimator': [RandomForestClassifier()],\n",
    "        'clf__estimator__n_estimators': [100, 250],\n",
    "        'clf__estimator__criterion': ['gini', 'entropy'],\n",
    "    },\n",
    "    {\n",
    "        'clf__estimator': [SVC()],\n",
    "        'clf__estimator__kernel': ['rbf', 'sigmoid'],\n",
    "        'clf__estimator__C': [1e-3, 1e-2, 1e-1, 1.0, 10., 1e+2, 1e+3],\n",
    "        'clf__estimator__degree': [3, 4, 5, 6]\n",
    "    },\n",
    "    {\n",
    "        'clf__estimator': [LogisticRegression()],\n",
    "        'clf__estimator__penalty': ['l1', 'l2'],\n",
    "        'clf__estimator__tol': [1e-4, 1e-3, 1e-2],\n",
    "        'clf__estimator__C': [1e-3, 1e-2, 1e-1, 1.0, 10., 1e+2, 1e+3],\n",
    "        'clf__estimator__solver': ['lbfgs', 'liblinear']   \n",
    "    }\n",
    "    \n",
    "]"
   ]
  },
  {
   "cell_type": "code",
   "execution_count": 49,
   "id": "423da7e7",
   "metadata": {
    "execution": {
     "iopub.execute_input": "2022-01-12T23:13:06.388382Z",
     "iopub.status.busy": "2022-01-12T23:13:06.387426Z",
     "iopub.status.idle": "2022-01-12T23:13:06.391171Z",
     "shell.execute_reply": "2022-01-12T23:13:06.391641Z",
     "shell.execute_reply.started": "2022-01-12T22:06:37.597998Z"
    },
    "papermill": {
     "duration": 0.112894,
     "end_time": "2022-01-12T23:13:06.391802",
     "exception": false,
     "start_time": "2022-01-12T23:13:06.278908",
     "status": "completed"
    },
    "tags": []
   },
   "outputs": [],
   "source": [
    "cv = KFold(n_splits=(folds - 1))"
   ]
  },
  {
   "cell_type": "markdown",
   "id": "c85fd096",
   "metadata": {
    "papermill": {
     "duration": 0.105677,
     "end_time": "2022-01-12T23:13:06.603883",
     "exception": false,
     "start_time": "2022-01-12T23:13:06.498206",
     "status": "completed"
    },
    "tags": []
   },
   "source": [
    "### 4. Model Fitting"
   ]
  },
  {
   "cell_type": "markdown",
   "id": "bf23681e",
   "metadata": {
    "papermill": {
     "duration": 0.105701,
     "end_time": "2022-01-12T23:13:06.815387",
     "exception": false,
     "start_time": "2022-01-12T23:13:06.709686",
     "status": "completed"
    },
    "tags": []
   },
   "source": [
    "Now, we're fine-tune the model and see what is the best model, besides what are the best hyperparameters."
   ]
  },
  {
   "cell_type": "code",
   "execution_count": 50,
   "id": "25d8dbb2",
   "metadata": {
    "_kg_hide-output": true,
    "execution": {
     "iopub.execute_input": "2022-01-12T23:13:07.031672Z",
     "iopub.status.busy": "2022-01-12T23:13:07.030704Z",
     "iopub.status.idle": "2022-01-12T23:13:24.539285Z",
     "shell.execute_reply": "2022-01-12T23:13:24.538683Z",
     "shell.execute_reply.started": "2022-01-12T22:06:37.615272Z"
    },
    "papermill": {
     "duration": 17.617795,
     "end_time": "2022-01-12T23:13:24.539452",
     "exception": false,
     "start_time": "2022-01-12T23:13:06.921657",
     "status": "completed"
    },
    "scrolled": true,
    "tags": []
   },
   "outputs": [
    {
     "name": "stdout",
     "output_type": "stream",
     "text": [
      "Fitting 3 folds for each of 150 candidates, totalling 450 fits\n"
     ]
    },
    {
     "name": "stderr",
     "output_type": "stream",
     "text": [
      "[Parallel(n_jobs=12)]: Using backend LokyBackend with 12 concurrent workers.\n",
      "[Parallel(n_jobs=12)]: Done   8 tasks      | elapsed:    6.7s\n",
      "[Parallel(n_jobs=12)]: Done 104 tasks      | elapsed:   12.5s\n",
      "[Parallel(n_jobs=12)]: Done 264 tasks      | elapsed:   14.9s\n"
     ]
    },
    {
     "name": "stdout",
     "output_type": "stream",
     "text": [
      "[CV] clf__estimator=DecisionTreeClassifier(), clf__estimator__criterion=gini \n",
      "[CV]  clf__estimator=DecisionTreeClassifier(), clf__estimator__criterion=gini, score=0.165, total=   0.1s\n",
      "[CV] clf__estimator=ExtraTreesClassifier(), clf__estimator__criterion=entropy, clf__estimator__n_estimators=100 \n",
      "[CV]  clf__estimator=ExtraTreesClassifier(), clf__estimator__criterion=entropy, clf__estimator__n_estimators=100, score=0.059, total=   0.9s\n",
      "[CV] clf__estimator=RandomForestClassifier(), clf__estimator__criterion=gini, clf__estimator__n_estimators=100 \n",
      "[CV]  clf__estimator=RandomForestClassifier(), clf__estimator__criterion=gini, clf__estimator__n_estimators=100, score=0.152, total=   1.1s\n",
      "[CV] clf__estimator=RandomForestClassifier(), clf__estimator__criterion=entropy, clf__estimator__n_estimators=100 \n",
      "[CV]  clf__estimator=RandomForestClassifier(), clf__estimator__criterion=entropy, clf__estimator__n_estimators=100, score=0.188, total=   1.4s\n",
      "[CV] clf__estimator=SVC(), clf__estimator__C=0.001, clf__estimator__degree=3, clf__estimator__kernel=rbf \n",
      "[CV]  clf__estimator=SVC(), clf__estimator__C=0.001, clf__estimator__degree=3, clf__estimator__kernel=rbf, score=-0.715, total=   0.2s\n",
      "[CV] clf__estimator=SVC(), clf__estimator__C=0.001, clf__estimator__degree=3, clf__estimator__kernel=rbf \n",
      "[CV]  clf__estimator=SVC(), clf__estimator__C=0.001, clf__estimator__degree=3, clf__estimator__kernel=rbf, score=-0.527, total=   0.2s\n",
      "[CV] clf__estimator=SVC(), clf__estimator__C=0.001, clf__estimator__degree=3, clf__estimator__kernel=rbf \n",
      "[CV]  clf__estimator=SVC(), clf__estimator__C=0.001, clf__estimator__degree=3, clf__estimator__kernel=rbf, score=-0.632, total=   0.2s\n",
      "[CV] clf__estimator=SVC(), clf__estimator__C=0.001, clf__estimator__degree=3, clf__estimator__kernel=sigmoid \n",
      "[CV]  clf__estimator=SVC(), clf__estimator__C=0.001, clf__estimator__degree=3, clf__estimator__kernel=sigmoid, score=-0.632, total=   0.2s\n",
      "[CV] clf__estimator=SVC(), clf__estimator__C=0.001, clf__estimator__degree=4, clf__estimator__kernel=rbf \n",
      "[CV]  clf__estimator=SVC(), clf__estimator__C=0.001, clf__estimator__degree=4, clf__estimator__kernel=rbf, score=-0.527, total=   0.2s\n",
      "[CV] clf__estimator=SVC(), clf__estimator__C=0.001, clf__estimator__degree=4, clf__estimator__kernel=sigmoid \n",
      "[CV]  clf__estimator=SVC(), clf__estimator__C=0.001, clf__estimator__degree=4, clf__estimator__kernel=sigmoid, score=-0.527, total=   0.2s\n",
      "[CV] clf__estimator=SVC(), clf__estimator__C=0.001, clf__estimator__degree=5, clf__estimator__kernel=sigmoid \n",
      "[CV]  clf__estimator=SVC(), clf__estimator__C=0.001, clf__estimator__degree=5, clf__estimator__kernel=sigmoid, score=-0.715, total=   0.2s\n",
      "[CV] clf__estimator=SVC(), clf__estimator__C=0.001, clf__estimator__degree=6, clf__estimator__kernel=rbf \n",
      "[CV]  clf__estimator=SVC(), clf__estimator__C=0.001, clf__estimator__degree=6, clf__estimator__kernel=rbf, score=-0.632, total=   0.2s\n",
      "[CV] clf__estimator=SVC(), clf__estimator__C=0.01, clf__estimator__degree=3, clf__estimator__kernel=rbf \n",
      "[CV]  clf__estimator=SVC(), clf__estimator__C=0.01, clf__estimator__degree=3, clf__estimator__kernel=rbf, score=-0.527, total=   0.2s\n",
      "[CV] clf__estimator=SVC(), clf__estimator__C=0.01, clf__estimator__degree=4, clf__estimator__kernel=rbf \n",
      "[CV]  clf__estimator=SVC(), clf__estimator__C=0.01, clf__estimator__degree=4, clf__estimator__kernel=rbf, score=-0.527, total=   0.2s\n",
      "[CV] clf__estimator=SVC(), clf__estimator__C=0.01, clf__estimator__degree=5, clf__estimator__kernel=rbf \n",
      "[CV]  clf__estimator=SVC(), clf__estimator__C=0.01, clf__estimator__degree=5, clf__estimator__kernel=rbf, score=-0.715, total=   0.1s\n",
      "[CV] clf__estimator=SVC(), clf__estimator__C=0.01, clf__estimator__degree=6, clf__estimator__kernel=rbf \n",
      "[CV]  clf__estimator=SVC(), clf__estimator__C=0.01, clf__estimator__degree=6, clf__estimator__kernel=rbf, score=-0.715, total=   0.1s\n",
      "[CV] clf__estimator=SVC(), clf__estimator__C=0.1, clf__estimator__degree=3, clf__estimator__kernel=rbf \n",
      "[CV]  clf__estimator=SVC(), clf__estimator__C=0.1, clf__estimator__degree=3, clf__estimator__kernel=rbf, score=0.306, total=   0.1s\n",
      "[CV] clf__estimator=SVC(), clf__estimator__C=0.1, clf__estimator__degree=4, clf__estimator__kernel=sigmoid \n",
      "[CV]  clf__estimator=SVC(), clf__estimator__C=0.1, clf__estimator__degree=4, clf__estimator__kernel=sigmoid, score=0.127, total=   0.1s\n",
      "[CV] clf__estimator=SVC(), clf__estimator__C=0.1, clf__estimator__degree=6, clf__estimator__kernel=rbf \n",
      "[CV]  clf__estimator=SVC(), clf__estimator__C=0.1, clf__estimator__degree=6, clf__estimator__kernel=rbf, score=0.222, total=   0.1s\n",
      "[CV] clf__estimator=SVC(), clf__estimator__C=1.0, clf__estimator__degree=4, clf__estimator__kernel=rbf \n",
      "[CV]  clf__estimator=SVC(), clf__estimator__C=1.0, clf__estimator__degree=4, clf__estimator__kernel=rbf, score=0.345, total=   0.0s\n",
      "[CV] clf__estimator=SVC(), clf__estimator__C=10.0, clf__estimator__degree=3, clf__estimator__kernel=sigmoid \n",
      "[CV]  clf__estimator=SVC(), clf__estimator__C=10.0, clf__estimator__degree=3, clf__estimator__kernel=sigmoid, score=-0.365, total=   0.0s\n",
      "[CV] clf__estimator=SVC(), clf__estimator__C=10.0, clf__estimator__degree=4, clf__estimator__kernel=rbf \n",
      "[CV]  clf__estimator=SVC(), clf__estimator__C=10.0, clf__estimator__degree=4, clf__estimator__kernel=rbf, score=0.365, total=   0.0s\n",
      "[CV] clf__estimator=SVC(), clf__estimator__C=10.0, clf__estimator__degree=6, clf__estimator__kernel=rbf \n",
      "[CV]  clf__estimator=SVC(), clf__estimator__C=10.0, clf__estimator__degree=6, clf__estimator__kernel=rbf, score=0.365, total=   0.0s\n",
      "[CV] clf__estimator=SVC(), clf__estimator__C=100.0, clf__estimator__degree=4, clf__estimator__kernel=rbf \n",
      "[CV]  clf__estimator=SVC(), clf__estimator__C=100.0, clf__estimator__degree=4, clf__estimator__kernel=rbf, score=0.306, total=   0.0s\n",
      "[CV] clf__estimator=SVC(), clf__estimator__C=100.0, clf__estimator__degree=6, clf__estimator__kernel=rbf \n",
      "[CV]  clf__estimator=SVC(), clf__estimator__C=100.0, clf__estimator__degree=6, clf__estimator__kernel=rbf, score=0.306, total=   0.0s\n",
      "[CV] clf__estimator=SVC(), clf__estimator__C=1000.0, clf__estimator__degree=4, clf__estimator__kernel=rbf \n",
      "[CV]  clf__estimator=SVC(), clf__estimator__C=1000.0, clf__estimator__degree=4, clf__estimator__kernel=rbf, score=-0.088, total=   0.1s\n",
      "[CV] clf__estimator=SVC(), clf__estimator__C=1000.0, clf__estimator__degree=6, clf__estimator__kernel=rbf \n",
      "[CV]  clf__estimator=SVC(), clf__estimator__C=1000.0, clf__estimator__degree=6, clf__estimator__kernel=rbf, score=-0.088, total=   0.1s\n",
      "[CV] clf__estimator=LogisticRegression(), clf__estimator__C=0.001, clf__estimator__penalty=l1, clf__estimator__solver=lbfgs, clf__estimator__tol=0.01 \n",
      "[CV]  clf__estimator=LogisticRegression(), clf__estimator__C=0.001, clf__estimator__penalty=l1, clf__estimator__solver=lbfgs, clf__estimator__tol=0.01, score=nan, total=   0.0s\n",
      "[CV] clf__estimator=LogisticRegression(), clf__estimator__C=0.001, clf__estimator__penalty=l2, clf__estimator__solver=lbfgs, clf__estimator__tol=0.0001 \n",
      "[CV]  clf__estimator=LogisticRegression(), clf__estimator__C=0.001, clf__estimator__penalty=l2, clf__estimator__solver=lbfgs, clf__estimator__tol=0.0001, score=-0.508, total=   0.0s\n",
      "[CV] clf__estimator=LogisticRegression(), clf__estimator__C=0.001, clf__estimator__penalty=l2, clf__estimator__solver=liblinear, clf__estimator__tol=0.001 \n",
      "[CV]  clf__estimator=LogisticRegression(), clf__estimator__C=0.001, clf__estimator__penalty=l2, clf__estimator__solver=liblinear, clf__estimator__tol=0.001, score=0.008, total=   0.0s\n",
      "[CV] clf__estimator=LogisticRegression(), clf__estimator__C=0.01, clf__estimator__penalty=l1, clf__estimator__solver=lbfgs, clf__estimator__tol=0.01 \n",
      "[CV]  clf__estimator=LogisticRegression(), clf__estimator__C=0.01, clf__estimator__penalty=l1, clf__estimator__solver=lbfgs, clf__estimator__tol=0.01, score=nan, total=   0.0s\n",
      "[CV] clf__estimator=LogisticRegression(), clf__estimator__C=0.01, clf__estimator__penalty=l2, clf__estimator__solver=lbfgs, clf__estimator__tol=0.0001 \n",
      "[CV]  clf__estimator=LogisticRegression(), clf__estimator__C=0.01, clf__estimator__penalty=l2, clf__estimator__solver=lbfgs, clf__estimator__tol=0.0001, score=0.246, total=   0.0s\n",
      "[CV] clf__estimator=LogisticRegression(), clf__estimator__C=0.1, clf__estimator__penalty=l1, clf__estimator__solver=lbfgs, clf__estimator__tol=0.001 [CV] clf__estimator=ExtraTreesClassifier(), clf__estimator__criterion=gini, clf__estimator__n_estimators=100 \n",
      "[CV]  clf__estimator=ExtraTreesClassifier(), clf__estimator__criterion=gini, clf__estimator__n_estimators=100, score=0.226, total=   0.9s\n",
      "[CV] clf__estimator=RandomForestClassifier(), clf__estimator__criterion=gini, clf__estimator__n_estimators=100 \n",
      "[CV]  clf__estimator=RandomForestClassifier(), clf__estimator__criterion=gini, clf__estimator__n_estimators=100, score=0.127, total=   1.2s\n",
      "[CV] clf__estimator=RandomForestClassifier(), clf__estimator__criterion=entropy, clf__estimator__n_estimators=100 \n",
      "[CV]  clf__estimator=RandomForestClassifier(), clf__estimator__criterion=entropy, clf__estimator__n_estimators=100, score=0.286, total=   1.5s\n",
      "[CV] clf__estimator=SVC(), clf__estimator__C=0.001, clf__estimator__degree=3, clf__estimator__kernel=sigmoid \n",
      "[CV]  clf__estimator=SVC(), clf__estimator__C=0.001, clf__estimator__degree=3, clf__estimator__kernel=sigmoid, score=-0.715, total=   0.2s\n",
      "[CV] clf__estimator=SVC(), clf__estimator__C=0.001, clf__estimator__degree=4, clf__estimator__kernel=rbf \n",
      "[CV]  clf__estimator=SVC(), clf__estimator__C=0.001, clf__estimator__degree=4, clf__estimator__kernel=rbf, score=-0.715, total=   0.2s\n",
      "[CV] clf__estimator=SVC(), clf__estimator__C=0.001, clf__estimator__degree=4, clf__estimator__kernel=sigmoid \n",
      "[CV]  clf__estimator=SVC(), clf__estimator__C=0.001, clf__estimator__degree=4, clf__estimator__kernel=sigmoid, score=-0.715, total=   0.1s\n",
      "[CV] clf__estimator=SVC(), clf__estimator__C=0.001, clf__estimator__degree=5, clf__estimator__kernel=rbf \n",
      "[CV]  clf__estimator=SVC(), clf__estimator__C=0.001, clf__estimator__degree=5, clf__estimator__kernel=rbf, score=-0.715, total=   0.1s\n",
      "[CV] clf__estimator=SVC(), clf__estimator__C=0.001, clf__estimator__degree=5, clf__estimator__kernel=sigmoid \n",
      "[CV]  clf__estimator=SVC(), clf__estimator__C=0.001, clf__estimator__degree=5, clf__estimator__kernel=sigmoid, score=-0.632, total=   0.1s\n",
      "[CV] clf__estimator=SVC(), clf__estimator__C=0.001, clf__estimator__degree=6, clf__estimator__kernel=sigmoid \n",
      "[CV]  clf__estimator=SVC(), clf__estimator__C=0.001, clf__estimator__degree=6, clf__estimator__kernel=sigmoid, score=-0.527, total=   0.2s\n",
      "[CV] clf__estimator=SVC(), clf__estimator__C=0.01, clf__estimator__degree=3, clf__estimator__kernel=sigmoid \n",
      "[CV]  clf__estimator=SVC(), clf__estimator__C=0.01, clf__estimator__degree=3, clf__estimator__kernel=sigmoid, score=-0.715, total=   0.2s\n",
      "[CV] clf__estimator=SVC(), clf__estimator__C=0.01, clf__estimator__degree=4, clf__estimator__kernel=sigmoid \n",
      "[CV]  clf__estimator=SVC(), clf__estimator__C=0.01, clf__estimator__degree=4, clf__estimator__kernel=sigmoid, score=-0.715, total=   0.1s\n",
      "[CV] clf__estimator=SVC(), clf__estimator__C=0.01, clf__estimator__degree=5, clf__estimator__kernel=sigmoid \n",
      "[CV]  clf__estimator=SVC(), clf__estimator__C=0.01, clf__estimator__degree=5, clf__estimator__kernel=sigmoid, score=-0.715, total=   0.1s\n",
      "[CV] clf__estimator=SVC(), clf__estimator__C=0.01, clf__estimator__degree=6, clf__estimator__kernel=sigmoid \n",
      "[CV]  clf__estimator=SVC(), clf__estimator__C=0.01, clf__estimator__degree=6, clf__estimator__kernel=sigmoid, score=-0.527, total=   0.2s\n",
      "[CV] clf__estimator=SVC(), clf__estimator__C=0.1, clf__estimator__degree=4, clf__estimator__kernel=sigmoid \n",
      "[CV]  clf__estimator=SVC(), clf__estimator__C=0.1, clf__estimator__degree=4, clf__estimator__kernel=sigmoid, score=-0.088, total=   0.1s\n",
      "[CV] clf__estimator=SVC(), clf__estimator__C=0.1, clf__estimator__degree=5, clf__estimator__kernel=sigmoid \n",
      "[CV]  clf__estimator=SVC(), clf__estimator__C=0.1, clf__estimator__degree=5, clf__estimator__kernel=sigmoid, score=0.051, total=   0.1s\n",
      "[CV] clf__estimator=SVC(), clf__estimator__C=1.0, clf__estimator__degree=3, clf__estimator__kernel=sigmoid \n",
      "[CV]  clf__estimator=SVC(), clf__estimator__C=1.0, clf__estimator__degree=3, clf__estimator__kernel=sigmoid, score=-0.328, total=   0.0s\n",
      "[CV] clf__estimator=SVC(), clf__estimator__C=1.0, clf__estimator__degree=5, clf__estimator__kernel=sigmoid \n",
      "[CV]  clf__estimator=SVC(), clf__estimator__C=1.0, clf__estimator__degree=5, clf__estimator__kernel=sigmoid, score=-0.328, total=   0.0s\n",
      "[CV] clf__estimator=SVC(), clf__estimator__C=1.0, clf__estimator__degree=6, clf__estimator__kernel=rbf \n",
      "[CV]  clf__estimator=SVC(), clf__estimator__C=1.0, clf__estimator__degree=6, clf__estimator__kernel=rbf, score=0.345, total=   0.0s\n",
      "[CV] clf__estimator=SVC(), clf__estimator__C=10.0, clf__estimator__degree=5, clf__estimator__kernel=sigmoid \n",
      "[CV]  clf__estimator=SVC(), clf__estimator__C=10.0, clf__estimator__degree=5, clf__estimator__kernel=sigmoid, score=-0.365, total=   0.0s\n",
      "[CV] clf__estimator=SVC(), clf__estimator__C=100.0, clf__estimator__degree=3, clf__estimator__kernel=rbf \n",
      "[CV]  clf__estimator=SVC(), clf__estimator__C=100.0, clf__estimator__degree=3, clf__estimator__kernel=rbf, score=0.089, total=   0.0s\n",
      "[CV] clf__estimator=SVC(), clf__estimator__C=100.0, clf__estimator__degree=5, clf__estimator__kernel=rbf \n",
      "[CV]  clf__estimator=SVC(), clf__estimator__C=100.0, clf__estimator__degree=5, clf__estimator__kernel=rbf, score=0.089, total=   0.0s\n",
      "[CV] clf__estimator=SVC(), clf__estimator__C=1000.0, clf__estimator__degree=3, clf__estimator__kernel=rbf \n",
      "[CV]  clf__estimator=SVC(), clf__estimator__C=1000.0, clf__estimator__degree=3, clf__estimator__kernel=rbf, score=0.146, total=   0.1s\n",
      "[CV] clf__estimator=SVC(), clf__estimator__C=1000.0, clf__estimator__degree=5, clf__estimator__kernel=sigmoid \n",
      "[CV]  clf__estimator=SVC(), clf__estimator__C=1000.0, clf__estimator__degree=5, clf__estimator__kernel=sigmoid, score=-0.348, total=   0.1s\n",
      "[CV] clf__estimator=LogisticRegression(), clf__estimator__C=0.001, clf__estimator__penalty=l1, clf__estimator__solver=lbfgs, clf__estimator__tol=0.001 \n",
      "[CV]  clf__estimator=LogisticRegression(), clf__estimator__C=0.001, clf__estimator__penalty=l1, clf__estimator__solver=lbfgs, clf__estimator__tol=0.001, score=nan, total=   0.0s\n",
      "[CV] clf__estimator=LogisticRegression(), clf__estimator__C=0.001, clf__estimator__penalty=l1, clf__estimator__solver=liblinear, clf__estimator__tol=0.001 \n",
      "[CV]  clf__estimator=LogisticRegression(), clf__estimator__C=0.001, clf__estimator__penalty=l1, clf__estimator__solver=liblinear, clf__estimator__tol=0.001, score=-0.527, total=   0.0s\n",
      "[CV] clf__estimator=LogisticRegression(), clf__estimator__C=0.001, clf__estimator__penalty=l2, clf__estimator__solver=lbfgs, clf__estimator__tol=0.01 \n",
      "[CV]  clf__estimator=LogisticRegression(), clf__estimator__C=0.001, clf__estimator__penalty=l2, clf__estimator__solver=lbfgs, clf__estimator__tol=0.01, score=-0.508, total=   0.0s\n",
      "[CV] clf__estimator=LogisticRegression(), clf__estimator__C=0.01, clf__estimator__penalty=l1, clf__estimator__solver=lbfgs, clf__estimator__tol=0.0001 \n",
      "[CV]  clf__estimator=LogisticRegression(), clf__estimator__C=0.01, clf__estimator__penalty=l1, clf__estimator__solver=lbfgs, clf__estimator__tol=0.0001, score=nan, total=   0.0s\n",
      "[CV] clf__estimator=LogisticRegression(), clf__estimator__C=0.01, clf__estimator__penalty=l1, clf__estimator__solver=liblinear, clf__estimator__tol=0.001 \n",
      "[CV]  clf__estimator=LogisticRegression(), clf__estimator__C=0.01, clf__estimator__penalty=l1, clf__estimator__solver=liblinear, clf__estimator__tol=0.001, score=-0.527, total=   0.0s\n",
      "[CV] clf__estimator=LogisticRegression(), clf__estimator__C=0.01, clf__estimator__penalty=l2, clf__estimator__solver=lbfgs, clf__estimator__tol=0.01 \n",
      "[CV]  clf__estimator=LogisticRegression(), clf__estimator__C=0.01, clf__estimator__penalty=l2, clf__estimator__solver=lbfgs, clf__estimator__tol=0.01, score=0.246, total=   0.0s\n",
      "[CV] clf__estimator=LogisticRegression(), clf__estimator__C=0.01, clf__estimator__penalty=l2, clf__estimator__solver=liblinear, clf__estimator__tol=0.0001 \n",
      "[CV]  clf__estimator=LogisticRegression(), clf__estimator__C=0.01, clf__estimator__penalty=l2, clf__estimator__solver=liblinear, clf__estimator__tol=0.0001, score=0.051, total=   0.0s\n",
      "[CV] clf__estimator=LogisticRegression(), clf__estimator__C=0.1, clf__estimator__penalty=l1, clf__estimator__solver=lbfgs, clf__estimator__tol=0.001 \n",
      "[CV]  clf__estimator=LogisticRegression(), clf__estimator__C=0.1, clf__estimator__penalty=l1, clf__estimator__solver=lbfgs, clf__estimator__tol=0.001, score=nan, total=   0.0s[CV] clf__estimator=DecisionTreeClassifier(), clf__estimator__criterion=gini \n",
      "[CV]  clf__estimator=DecisionTreeClassifier(), clf__estimator__criterion=gini, score=-0.125, total=   0.1s\n",
      "[CV] clf__estimator=ExtraTreesClassifier(), clf__estimator__criterion=entropy, clf__estimator__n_estimators=100 \n",
      "[CV]  clf__estimator=ExtraTreesClassifier(), clf__estimator__criterion=entropy, clf__estimator__n_estimators=100, score=0.266, total=   1.0s\n",
      "[CV] clf__estimator=RandomForestClassifier(), clf__estimator__criterion=gini, clf__estimator__n_estimators=100 \n",
      "[CV]  clf__estimator=RandomForestClassifier(), clf__estimator__criterion=gini, clf__estimator__n_estimators=100, score=0.266, total=   1.3s\n",
      "[CV] clf__estimator=RandomForestClassifier(), clf__estimator__criterion=entropy, clf__estimator__n_estimators=100 \n",
      "[CV]  clf__estimator=RandomForestClassifier(), clf__estimator__criterion=entropy, clf__estimator__n_estimators=100, score=0.127, total=   1.5s\n",
      "[CV] clf__estimator=SVC(), clf__estimator__C=0.001, clf__estimator__degree=3, clf__estimator__kernel=sigmoid \n",
      "[CV]  clf__estimator=SVC(), clf__estimator__C=0.001, clf__estimator__degree=3, clf__estimator__kernel=sigmoid, score=-0.527, total=   0.2s\n",
      "[CV] clf__estimator=SVC(), clf__estimator__C=0.001, clf__estimator__degree=4, clf__estimator__kernel=rbf \n",
      "[CV]  clf__estimator=SVC(), clf__estimator__C=0.001, clf__estimator__degree=4, clf__estimator__kernel=rbf, score=-0.632, total=   0.2s\n",
      "[CV] clf__estimator=SVC(), clf__estimator__C=0.001, clf__estimator__degree=4, clf__estimator__kernel=sigmoid \n",
      "[CV]  clf__estimator=SVC(), clf__estimator__C=0.001, clf__estimator__degree=4, clf__estimator__kernel=sigmoid, score=-0.632, total=   0.2s\n",
      "[CV] clf__estimator=SVC(), clf__estimator__C=0.001, clf__estimator__degree=5, clf__estimator__kernel=sigmoid \n",
      "[CV]  clf__estimator=SVC(), clf__estimator__C=0.001, clf__estimator__degree=5, clf__estimator__kernel=sigmoid, score=-0.527, total=   0.1s\n",
      "[CV] clf__estimator=SVC(), clf__estimator__C=0.001, clf__estimator__degree=6, clf__estimator__kernel=sigmoid \n",
      "[CV]  clf__estimator=SVC(), clf__estimator__C=0.001, clf__estimator__degree=6, clf__estimator__kernel=sigmoid, score=-0.715, total=   0.2s\n",
      "[CV] clf__estimator=SVC(), clf__estimator__C=0.01, clf__estimator__degree=3, clf__estimator__kernel=rbf \n",
      "[CV]  clf__estimator=SVC(), clf__estimator__C=0.01, clf__estimator__degree=3, clf__estimator__kernel=rbf, score=-0.632, total=   0.1s\n",
      "[CV] clf__estimator=SVC(), clf__estimator__C=0.01, clf__estimator__degree=3, clf__estimator__kernel=sigmoid \n",
      "[CV]  clf__estimator=SVC(), clf__estimator__C=0.01, clf__estimator__degree=3, clf__estimator__kernel=sigmoid, score=-0.527, total=   0.2s\n",
      "[CV] clf__estimator=SVC(), clf__estimator__C=0.01, clf__estimator__degree=4, clf__estimator__kernel=sigmoid \n",
      "[CV]  clf__estimator=SVC(), clf__estimator__C=0.01, clf__estimator__degree=4, clf__estimator__kernel=sigmoid, score=-0.527, total=   0.1s\n",
      "[CV] clf__estimator=SVC(), clf__estimator__C=0.01, clf__estimator__degree=5, clf__estimator__kernel=sigmoid \n",
      "[CV]  clf__estimator=SVC(), clf__estimator__C=0.01, clf__estimator__degree=5, clf__estimator__kernel=sigmoid, score=-0.632, total=   0.2s\n",
      "[CV] clf__estimator=SVC(), clf__estimator__C=0.1, clf__estimator__degree=3, clf__estimator__kernel=sigmoid \n",
      "[CV]  clf__estimator=SVC(), clf__estimator__C=0.1, clf__estimator__degree=3, clf__estimator__kernel=sigmoid, score=0.127, total=   0.1s\n",
      "[CV] clf__estimator=SVC(), clf__estimator__C=0.1, clf__estimator__degree=5, clf__estimator__kernel=rbf \n",
      "[CV]  clf__estimator=SVC(), clf__estimator__C=0.1, clf__estimator__degree=5, clf__estimator__kernel=rbf, score=0.306, total=   0.1s\n",
      "[CV] clf__estimator=SVC(), clf__estimator__C=0.1, clf__estimator__degree=6, clf__estimator__kernel=sigmoid \n",
      "[CV]  clf__estimator=SVC(), clf__estimator__C=0.1, clf__estimator__degree=6, clf__estimator__kernel=sigmoid, score=0.051, total=   0.0s\n",
      "[CV] clf__estimator=SVC(), clf__estimator__C=1.0, clf__estimator__degree=4, clf__estimator__kernel=sigmoid \n",
      "[CV]  clf__estimator=SVC(), clf__estimator__C=1.0, clf__estimator__degree=4, clf__estimator__kernel=sigmoid, score=-0.177, total=   0.0s\n",
      "[CV] clf__estimator=SVC(), clf__estimator__C=1.0, clf__estimator__degree=6, clf__estimator__kernel=sigmoid \n",
      "[CV]  clf__estimator=SVC(), clf__estimator__C=1.0, clf__estimator__degree=6, clf__estimator__kernel=sigmoid, score=-0.177, total=   0.0s\n",
      "[CV] clf__estimator=SVC(), clf__estimator__C=10.0, clf__estimator__degree=4, clf__estimator__kernel=sigmoid \n",
      "[CV]  clf__estimator=SVC(), clf__estimator__C=10.0, clf__estimator__degree=4, clf__estimator__kernel=sigmoid, score=-0.310, total=   0.0s\n",
      "[CV] clf__estimator=SVC(), clf__estimator__C=10.0, clf__estimator__degree=6, clf__estimator__kernel=sigmoid \n",
      "[CV]  clf__estimator=SVC(), clf__estimator__C=10.0, clf__estimator__degree=6, clf__estimator__kernel=sigmoid, score=-0.310, total=   0.0s\n",
      "[CV] clf__estimator=SVC(), clf__estimator__C=100.0, clf__estimator__degree=4, clf__estimator__kernel=sigmoid \n",
      "[CV]  clf__estimator=SVC(), clf__estimator__C=100.0, clf__estimator__degree=4, clf__estimator__kernel=sigmoid, score=-0.348, total=   0.0s\n",
      "[CV] clf__estimator=SVC(), clf__estimator__C=100.0, clf__estimator__degree=6, clf__estimator__kernel=sigmoid \n",
      "[CV]  clf__estimator=SVC(), clf__estimator__C=100.0, clf__estimator__degree=6, clf__estimator__kernel=sigmoid, score=-0.348, total=   0.0s\n",
      "[CV] clf__estimator=SVC(), clf__estimator__C=1000.0, clf__estimator__degree=4, clf__estimator__kernel=sigmoid \n",
      "[CV]  clf__estimator=SVC(), clf__estimator__C=1000.0, clf__estimator__degree=4, clf__estimator__kernel=sigmoid, score=-0.348, total=   0.1s\n",
      "[CV] clf__estimator=SVC(), clf__estimator__C=1000.0, clf__estimator__degree=6, clf__estimator__kernel=sigmoid \n",
      "[CV]  clf__estimator=SVC(), clf__estimator__C=1000.0, clf__estimator__degree=6, clf__estimator__kernel=sigmoid, score=-0.383, total=   0.1s\n",
      "[CV] clf__estimator=LogisticRegression(), clf__estimator__C=0.001, clf__estimator__penalty=l1, clf__estimator__solver=lbfgs, clf__estimator__tol=0.01 \n",
      "[CV]  clf__estimator=LogisticRegression(), clf__estimator__C=0.001, clf__estimator__penalty=l1, clf__estimator__solver=lbfgs, clf__estimator__tol=0.01, score=nan, total=   0.0s\n",
      "[CV] clf__estimator=LogisticRegression(), clf__estimator__C=0.001, clf__estimator__penalty=l2, clf__estimator__solver=lbfgs, clf__estimator__tol=0.0001 \n",
      "[CV]  clf__estimator=LogisticRegression(), clf__estimator__C=0.001, clf__estimator__penalty=l2, clf__estimator__solver=lbfgs, clf__estimator__tol=0.0001, score=-0.678, total=   0.0s\n",
      "[CV] clf__estimator=LogisticRegression(), clf__estimator__C=0.001, clf__estimator__penalty=l2, clf__estimator__solver=liblinear, clf__estimator__tol=0.001 \n",
      "[CV]  clf__estimator=LogisticRegression(), clf__estimator__C=0.001, clf__estimator__penalty=l2, clf__estimator__solver=liblinear, clf__estimator__tol=0.001, score=-0.346, total=   0.0s\n",
      "[CV] clf__estimator=LogisticRegression(), clf__estimator__C=0.01, clf__estimator__penalty=l1, clf__estimator__solver=lbfgs, clf__estimator__tol=0.01 \n",
      "[CV]  clf__estimator=LogisticRegression(), clf__estimator__C=0.01, clf__estimator__penalty=l1, clf__estimator__solver=lbfgs, clf__estimator__tol=0.01, score=nan, total=   0.0s\n",
      "[CV] clf__estimator=LogisticRegression(), clf__estimator__C=0.01, clf__estimator__penalty=l2, clf__estimator__solver=lbfgs, clf__estimator__tol=0.0001 \n",
      "[CV]  clf__estimator=LogisticRegression(), clf__estimator__C=0.01, clf__estimator__penalty=l2, clf__estimator__solver=lbfgs, clf__estimator__tol=0.0001, score=-0.051, total=   0.1s\n",
      "[CV] clf__estimator=LogisticRegression(), clf__estimator__C=0.01, clf__estimator__penalty=l2, clf__estimator__solver=liblinear, clf__estimator__tol=0.001 \n",
      "[CV]  clf__estimator=LogisticRegression(), clf__estimator__C=0.01, clf__estimator__penalty=l2, clf__estimator__solver=liblinear, clf__estimator__tol=0.001, score=0.266, total=   0.0s\n",
      "[CV] clf__estimator=LogisticRegression(), clf__estimator__C=0.1, clf__estimator__penalty=l1, clf__estimator__solver=lbfgs, clf__estimator__tol=0.01 \n",
      "[CV]  clf__estimator=LogisticRegression(), clf__estimator__C=0.1, clf__estimator__penalty=l1, clf__estimator__solver=lbfgs, clf__estimator__tol=0.01, score=nan, total=   0.0s[CV] clf__estimator=ExtraTreesClassifier(), clf__estimator__criterion=gini, clf__estimator__n_estimators=100 \n",
      "[CV]  clf__estimator=ExtraTreesClassifier(), clf__estimator__criterion=gini, clf__estimator__n_estimators=100, score=0.222, total=   0.9s\n",
      "[CV] clf__estimator=RandomForestClassifier(), clf__estimator__criterion=gini, clf__estimator__n_estimators=250 \n",
      "[CV]  clf__estimator=RandomForestClassifier(), clf__estimator__criterion=gini, clf__estimator__n_estimators=250, score=0.286, total=   2.8s\n",
      "[CV] clf__estimator=SVC(), clf__estimator__C=0.001, clf__estimator__degree=5, clf__estimator__kernel=rbf \n",
      "[CV]  clf__estimator=SVC(), clf__estimator__C=0.001, clf__estimator__degree=5, clf__estimator__kernel=rbf, score=-0.632, total=   0.2s\n",
      "[CV] clf__estimator=SVC(), clf__estimator__C=0.001, clf__estimator__degree=6, clf__estimator__kernel=rbf \n",
      "[CV]  clf__estimator=SVC(), clf__estimator__C=0.001, clf__estimator__degree=6, clf__estimator__kernel=rbf, score=-0.527, total=   0.2s\n",
      "[CV] clf__estimator=SVC(), clf__estimator__C=0.01, clf__estimator__degree=3, clf__estimator__kernel=rbf \n",
      "[CV]  clf__estimator=SVC(), clf__estimator__C=0.01, clf__estimator__degree=3, clf__estimator__kernel=rbf, score=-0.715, total=   0.2s\n",
      "[CV] clf__estimator=SVC(), clf__estimator__C=0.01, clf__estimator__degree=3, clf__estimator__kernel=sigmoid \n",
      "[CV]  clf__estimator=SVC(), clf__estimator__C=0.01, clf__estimator__degree=3, clf__estimator__kernel=sigmoid, score=-0.632, total=   0.1s\n",
      "[CV] clf__estimator=SVC(), clf__estimator__C=0.01, clf__estimator__degree=4, clf__estimator__kernel=rbf \n",
      "[CV]  clf__estimator=SVC(), clf__estimator__C=0.01, clf__estimator__degree=4, clf__estimator__kernel=rbf, score=-0.632, total=   0.2s\n",
      "[CV] clf__estimator=SVC(), clf__estimator__C=0.01, clf__estimator__degree=5, clf__estimator__kernel=sigmoid \n",
      "[CV]  clf__estimator=SVC(), clf__estimator__C=0.01, clf__estimator__degree=5, clf__estimator__kernel=sigmoid, score=-0.527, total=   0.2s\n",
      "[CV] clf__estimator=SVC(), clf__estimator__C=0.1, clf__estimator__degree=3, clf__estimator__kernel=rbf \n",
      "[CV]  clf__estimator=SVC(), clf__estimator__C=0.1, clf__estimator__degree=3, clf__estimator__kernel=rbf, score=0.222, total=   0.1s\n",
      "[CV] clf__estimator=SVC(), clf__estimator__C=0.1, clf__estimator__degree=4, clf__estimator__kernel=sigmoid \n",
      "[CV]  clf__estimator=SVC(), clf__estimator__C=0.1, clf__estimator__degree=4, clf__estimator__kernel=sigmoid, score=0.051, total=   0.1s\n",
      "[CV] clf__estimator=SVC(), clf__estimator__C=0.1, clf__estimator__degree=6, clf__estimator__kernel=sigmoid \n",
      "[CV]  clf__estimator=SVC(), clf__estimator__C=0.1, clf__estimator__degree=6, clf__estimator__kernel=sigmoid, score=-0.088, total=   0.0s\n",
      "[CV] clf__estimator=SVC(), clf__estimator__C=1.0, clf__estimator__degree=3, clf__estimator__kernel=rbf \n",
      "[CV]  clf__estimator=SVC(), clf__estimator__C=1.0, clf__estimator__degree=3, clf__estimator__kernel=rbf, score=0.207, total=   0.0s\n",
      "[CV] clf__estimator=SVC(), clf__estimator__C=1.0, clf__estimator__degree=5, clf__estimator__kernel=rbf \n",
      "[CV]  clf__estimator=SVC(), clf__estimator__C=1.0, clf__estimator__degree=5, clf__estimator__kernel=rbf, score=0.207, total=   0.0s\n",
      "[CV] clf__estimator=SVC(), clf__estimator__C=10.0, clf__estimator__degree=3, clf__estimator__kernel=rbf \n",
      "[CV]  clf__estimator=SVC(), clf__estimator__C=10.0, clf__estimator__degree=3, clf__estimator__kernel=rbf, score=0.133, total=   0.0s\n",
      "[CV] clf__estimator=SVC(), clf__estimator__C=10.0, clf__estimator__degree=5, clf__estimator__kernel=rbf \n",
      "[CV]  clf__estimator=SVC(), clf__estimator__C=10.0, clf__estimator__degree=5, clf__estimator__kernel=rbf, score=0.133, total=   0.0s\n",
      "[CV] clf__estimator=SVC(), clf__estimator__C=100.0, clf__estimator__degree=3, clf__estimator__kernel=rbf \n",
      "[CV]  clf__estimator=SVC(), clf__estimator__C=100.0, clf__estimator__degree=3, clf__estimator__kernel=rbf, score=-0.014, total=   0.0s\n",
      "[CV] clf__estimator=SVC(), clf__estimator__C=100.0, clf__estimator__degree=5, clf__estimator__kernel=rbf \n",
      "[CV]  clf__estimator=SVC(), clf__estimator__C=100.0, clf__estimator__degree=5, clf__estimator__kernel=rbf, score=-0.014, total=   0.1s\n",
      "[CV] clf__estimator=SVC(), clf__estimator__C=1000.0, clf__estimator__degree=3, clf__estimator__kernel=rbf \n",
      "[CV]  clf__estimator=SVC(), clf__estimator__C=1000.0, clf__estimator__degree=3, clf__estimator__kernel=rbf, score=-0.088, total=   0.1s\n",
      "[CV] clf__estimator=SVC(), clf__estimator__C=1000.0, clf__estimator__degree=5, clf__estimator__kernel=rbf \n",
      "[CV]  clf__estimator=SVC(), clf__estimator__C=1000.0, clf__estimator__degree=5, clf__estimator__kernel=rbf, score=-0.088, total=   0.1s\n",
      "[CV] clf__estimator=SVC(), clf__estimator__C=1000.0, clf__estimator__degree=6, clf__estimator__kernel=rbf \n",
      "[CV]  clf__estimator=SVC(), clf__estimator__C=1000.0, clf__estimator__degree=6, clf__estimator__kernel=rbf, score=0.146, total=   0.2s\n",
      "[CV] clf__estimator=LogisticRegression(), clf__estimator__C=0.001, clf__estimator__penalty=l1, clf__estimator__solver=liblinear, clf__estimator__tol=0.01 \n",
      "[CV]  clf__estimator=LogisticRegression(), clf__estimator__C=0.001, clf__estimator__penalty=l1, clf__estimator__solver=liblinear, clf__estimator__tol=0.01, score=-0.632, total=   0.0s\n",
      "[CV] clf__estimator=LogisticRegression(), clf__estimator__C=0.001, clf__estimator__penalty=l2, clf__estimator__solver=liblinear, clf__estimator__tol=0.0001 \n",
      "[CV]  clf__estimator=LogisticRegression(), clf__estimator__C=0.001, clf__estimator__penalty=l2, clf__estimator__solver=liblinear, clf__estimator__tol=0.0001, score=-0.196, total=   0.0s\n",
      "[CV] clf__estimator=LogisticRegression(), clf__estimator__C=0.001, clf__estimator__penalty=l2, clf__estimator__solver=liblinear, clf__estimator__tol=0.001 \n",
      "[CV]  clf__estimator=LogisticRegression(), clf__estimator__C=0.001, clf__estimator__penalty=l2, clf__estimator__solver=liblinear, clf__estimator__tol=0.001, score=-0.196, total=   0.0s\n",
      "[CV] clf__estimator=LogisticRegression(), clf__estimator__C=0.01, clf__estimator__penalty=l1, clf__estimator__solver=lbfgs, clf__estimator__tol=0.01 \n",
      "[CV]  clf__estimator=LogisticRegression(), clf__estimator__C=0.01, clf__estimator__penalty=l1, clf__estimator__solver=lbfgs, clf__estimator__tol=0.01, score=nan, total=   0.0s\n",
      "[CV] clf__estimator=LogisticRegression(), clf__estimator__C=0.01, clf__estimator__penalty=l2, clf__estimator__solver=lbfgs, clf__estimator__tol=0.0001 \n",
      "[CV]  clf__estimator=LogisticRegression(), clf__estimator__C=0.01, clf__estimator__penalty=l2, clf__estimator__solver=lbfgs, clf__estimator__tol=0.0001, score=0.032, total=   0.0s\n",
      "[CV] clf__estimator=LogisticRegression(), clf__estimator__C=0.01, clf__estimator__penalty=l2, clf__estimator__solver=liblinear, clf__estimator__tol=0.001 \n",
      "[CV]  clf__estimator=LogisticRegression(), clf__estimator__C=0.01, clf__estimator__penalty=l2, clf__estimator__solver=liblinear, clf__estimator__tol=0.001, score=-0.051, total=   0.0s\n",
      "[CV] clf__estimator=LogisticRegression(), clf__estimator__C=0.1, clf__estimator__penalty=l1, clf__estimator__solver=lbfgs, clf__estimator__tol=0.01 \n",
      "[CV]  clf__estimator=LogisticRegression(), clf__estimator__C=0.1, clf__estimator__penalty=l1, clf__estimator__solver=lbfgs, clf__estimator__tol=0.01, score=nan, total=   0.0s\n",
      "[CV] clf__estimator=LogisticRegression(), clf__estimator__C=0.1, clf__estimator__penalty=l2, clf__estimator__solver=lbfgs, clf__estimator__tol=0.0001 \n",
      "[CV]  clf__estimator=LogisticRegression(), clf__estimator__C=0.1, clf__estimator__penalty=l2, clf__estimator__solver=lbfgs, clf__estimator__tol=0.0001, score=0.133, total=   0.0s\n",
      "[CV] clf__estimator=LogisticRegression(), clf__estimator__C=1.0, clf__estimator__penalty=l1, clf__estimator__solver=lbfgs, clf__estimator__tol=0.001 \n",
      "[CV]  clf__estimator=LogisticRegression(), clf__estimator__C=1.0, clf__estimator__penalty=l1, clf__estimator__solver=lbfgs, clf__estimator__tol=0.001, score=nan, total=   0.0s\n",
      "[CV] clf__estimator=LogisticRegression(), clf__estimator__C=1.0, clf__estimator__penalty=l1, clf__estimator__solver=liblinear, clf__estimator__tol=0.01 \n",
      "[CV]  clf__estimator=LogisticRegression(), clf__estimator__C=1.0, clf__estimator__penalty=l1, clf__estimator__solver=liblinear, clf__estimator__tol=0.01, score=0.133, total=   0.0s\n",
      "[CV] clf__estimator=LogisticRegression(), clf__estimator__C=1.0, clf__estimator__penalty=l2, clf__estimator__solver=liblinear, clf__estimator__tol=0.0001 [CV] clf__estimator=DecisionTreeClassifier(), clf__estimator__criterion=gini \n",
      "[CV]  clf__estimator=DecisionTreeClassifier(), clf__estimator__criterion=gini, score=0.246, total=   0.1s\n",
      "[CV] clf__estimator=ExtraTreesClassifier(), clf__estimator__criterion=entropy, clf__estimator__n_estimators=100 \n",
      "[CV]  clf__estimator=ExtraTreesClassifier(), clf__estimator__criterion=entropy, clf__estimator__n_estimators=100, score=0.146, total=   0.9s\n",
      "[CV] clf__estimator=RandomForestClassifier(), clf__estimator__criterion=gini, clf__estimator__n_estimators=250 \n",
      "[CV]  clf__estimator=RandomForestClassifier(), clf__estimator__criterion=gini, clf__estimator__n_estimators=250, score=0.059, total=   3.3s\n",
      "[CV] clf__estimator=SVC(), clf__estimator__C=0.001, clf__estimator__degree=5, clf__estimator__kernel=rbf \n",
      "[CV]  clf__estimator=SVC(), clf__estimator__C=0.001, clf__estimator__degree=5, clf__estimator__kernel=rbf, score=-0.527, total=   0.2s\n",
      "[CV] clf__estimator=SVC(), clf__estimator__C=0.001, clf__estimator__degree=6, clf__estimator__kernel=rbf \n",
      "[CV]  clf__estimator=SVC(), clf__estimator__C=0.001, clf__estimator__degree=6, clf__estimator__kernel=rbf, score=-0.715, total=   0.2s\n",
      "[CV] clf__estimator=SVC(), clf__estimator__C=0.001, clf__estimator__degree=6, clf__estimator__kernel=sigmoid \n",
      "[CV]  clf__estimator=SVC(), clf__estimator__C=0.001, clf__estimator__degree=6, clf__estimator__kernel=sigmoid, score=-0.632, total=   0.2s\n",
      "[CV] clf__estimator=SVC(), clf__estimator__C=0.01, clf__estimator__degree=4, clf__estimator__kernel=rbf \n",
      "[CV]  clf__estimator=SVC(), clf__estimator__C=0.01, clf__estimator__degree=4, clf__estimator__kernel=rbf, score=-0.715, total=   0.1s\n",
      "[CV] clf__estimator=SVC(), clf__estimator__C=0.01, clf__estimator__degree=4, clf__estimator__kernel=sigmoid \n",
      "[CV]  clf__estimator=SVC(), clf__estimator__C=0.01, clf__estimator__degree=4, clf__estimator__kernel=sigmoid, score=-0.632, total=   0.2s\n",
      "[CV] clf__estimator=SVC(), clf__estimator__C=0.01, clf__estimator__degree=6, clf__estimator__kernel=rbf \n",
      "[CV]  clf__estimator=SVC(), clf__estimator__C=0.01, clf__estimator__degree=6, clf__estimator__kernel=rbf, score=-0.527, total=   0.2s\n",
      "[CV] clf__estimator=SVC(), clf__estimator__C=0.1, clf__estimator__degree=3, clf__estimator__kernel=sigmoid \n",
      "[CV]  clf__estimator=SVC(), clf__estimator__C=0.1, clf__estimator__degree=3, clf__estimator__kernel=sigmoid, score=0.051, total=   0.2s\n",
      "[CV] clf__estimator=SVC(), clf__estimator__C=0.1, clf__estimator__degree=5, clf__estimator__kernel=sigmoid \n",
      "[CV]  clf__estimator=SVC(), clf__estimator__C=0.1, clf__estimator__degree=5, clf__estimator__kernel=sigmoid, score=-0.088, total=   0.1s\n",
      "[CV] clf__estimator=SVC(), clf__estimator__C=1.0, clf__estimator__degree=3, clf__estimator__kernel=rbf \n",
      "[CV]  clf__estimator=SVC(), clf__estimator__C=1.0, clf__estimator__degree=3, clf__estimator__kernel=rbf, score=0.345, total=   0.0s\n",
      "[CV] clf__estimator=SVC(), clf__estimator__C=1.0, clf__estimator__degree=6, clf__estimator__kernel=sigmoid \n",
      "[CV]  clf__estimator=SVC(), clf__estimator__C=1.0, clf__estimator__degree=6, clf__estimator__kernel=sigmoid, score=-0.328, total=   0.0s\n",
      "[CV] clf__estimator=SVC(), clf__estimator__C=10.0, clf__estimator__degree=4, clf__estimator__kernel=sigmoid \n",
      "[CV]  clf__estimator=SVC(), clf__estimator__C=10.0, clf__estimator__degree=4, clf__estimator__kernel=sigmoid, score=-0.365, total=   0.0s\n",
      "[CV] clf__estimator=SVC(), clf__estimator__C=10.0, clf__estimator__degree=6, clf__estimator__kernel=sigmoid \n",
      "[CV]  clf__estimator=SVC(), clf__estimator__C=10.0, clf__estimator__degree=6, clf__estimator__kernel=sigmoid, score=-0.365, total=   0.0s\n",
      "[CV] clf__estimator=SVC(), clf__estimator__C=100.0, clf__estimator__degree=4, clf__estimator__kernel=sigmoid \n",
      "[CV]  clf__estimator=SVC(), clf__estimator__C=100.0, clf__estimator__degree=4, clf__estimator__kernel=sigmoid, score=-0.383, total=   0.0s\n",
      "[CV] clf__estimator=SVC(), clf__estimator__C=1000.0, clf__estimator__degree=3, clf__estimator__kernel=sigmoid \n",
      "[CV]  clf__estimator=SVC(), clf__estimator__C=1000.0, clf__estimator__degree=3, clf__estimator__kernel=sigmoid, score=-0.348, total=   0.1s\n",
      "[CV] clf__estimator=SVC(), clf__estimator__C=1000.0, clf__estimator__degree=5, clf__estimator__kernel=sigmoid \n",
      "[CV]  clf__estimator=SVC(), clf__estimator__C=1000.0, clf__estimator__degree=5, clf__estimator__kernel=sigmoid, score=-0.383, total=   0.1s\n",
      "[CV] clf__estimator=LogisticRegression(), clf__estimator__C=0.001, clf__estimator__penalty=l1, clf__estimator__solver=lbfgs, clf__estimator__tol=0.0001 \n",
      "[CV]  clf__estimator=LogisticRegression(), clf__estimator__C=0.001, clf__estimator__penalty=l1, clf__estimator__solver=lbfgs, clf__estimator__tol=0.0001, score=nan, total=   0.0s\n",
      "[CV] clf__estimator=LogisticRegression(), clf__estimator__C=0.001, clf__estimator__penalty=l1, clf__estimator__solver=liblinear, clf__estimator__tol=0.0001 \n",
      "[CV]  clf__estimator=LogisticRegression(), clf__estimator__C=0.001, clf__estimator__penalty=l1, clf__estimator__solver=liblinear, clf__estimator__tol=0.0001, score=-0.632, total=   0.0s\n",
      "[CV] clf__estimator=LogisticRegression(), clf__estimator__C=0.001, clf__estimator__penalty=l2, clf__estimator__solver=lbfgs, clf__estimator__tol=0.001 \n",
      "[CV]  clf__estimator=LogisticRegression(), clf__estimator__C=0.001, clf__estimator__penalty=l2, clf__estimator__solver=lbfgs, clf__estimator__tol=0.001, score=-0.613, total=   0.0s\n",
      "[CV] clf__estimator=LogisticRegression(), clf__estimator__C=0.01, clf__estimator__penalty=l1, clf__estimator__solver=lbfgs, clf__estimator__tol=0.0001 \n",
      "[CV]  clf__estimator=LogisticRegression(), clf__estimator__C=0.01, clf__estimator__penalty=l1, clf__estimator__solver=lbfgs, clf__estimator__tol=0.0001, score=nan, total=   0.0s\n",
      "[CV] clf__estimator=LogisticRegression(), clf__estimator__C=0.01, clf__estimator__penalty=l1, clf__estimator__solver=liblinear, clf__estimator__tol=0.001 \n",
      "[CV]  clf__estimator=LogisticRegression(), clf__estimator__C=0.01, clf__estimator__penalty=l1, clf__estimator__solver=liblinear, clf__estimator__tol=0.001, score=-0.715, total=   0.0s\n",
      "[CV] clf__estimator=LogisticRegression(), clf__estimator__C=0.01, clf__estimator__penalty=l2, clf__estimator__solver=lbfgs, clf__estimator__tol=0.01 \n",
      "[CV]  clf__estimator=LogisticRegression(), clf__estimator__C=0.01, clf__estimator__penalty=l2, clf__estimator__solver=lbfgs, clf__estimator__tol=0.01, score=-0.051, total=   0.0s\n",
      "[CV] clf__estimator=LogisticRegression(), clf__estimator__C=0.1, clf__estimator__penalty=l1, clf__estimator__solver=lbfgs, clf__estimator__tol=0.0001 \n",
      "[CV]  clf__estimator=LogisticRegression(), clf__estimator__C=0.1, clf__estimator__penalty=l1, clf__estimator__solver=lbfgs, clf__estimator__tol=0.0001, score=nan, total=   0.0s\n",
      "[CV] clf__estimator=LogisticRegression(), clf__estimator__C=0.1, clf__estimator__penalty=l1, clf__estimator__solver=liblinear, clf__estimator__tol=0.001 \n",
      "[CV]  clf__estimator=LogisticRegression(), clf__estimator__C=0.1, clf__estimator__penalty=l1, clf__estimator__solver=liblinear, clf__estimator__tol=0.001, score=0.041, total=   0.0s\n",
      "[CV] clf__estimator=LogisticRegression(), clf__estimator__C=0.1, clf__estimator__penalty=l2, clf__estimator__solver=lbfgs, clf__estimator__tol=0.01 \n",
      "[CV]  clf__estimator=LogisticRegression(), clf__estimator__C=0.1, clf__estimator__penalty=l2, clf__estimator__solver=lbfgs, clf__estimator__tol=0.01, score=0.133, total=   0.0s\n",
      "[CV] clf__estimator=LogisticRegression(), clf__estimator__C=1.0, clf__estimator__penalty=l1, clf__estimator__solver=lbfgs, clf__estimator__tol=0.0001 \n",
      "[CV]  clf__estimator=LogisticRegression(), clf__estimator__C=1.0, clf__estimator__penalty=l1, clf__estimator__solver=lbfgs, clf__estimator__tol=0.0001, score=nan, total=   0.0s\n",
      "[CV] clf__estimator=LogisticRegression(), clf__estimator__C=1.0, clf__estimator__penalty=l1, clf__estimator__solver=liblinear, clf__estimator__tol=0.001 \n",
      "[CV]  clf__estimator=LogisticRegression(), clf__estimator__C=1.0, clf__estimator__penalty=l1, clf__estimator__solver=liblinear, clf__estimator__tol=0.001, score=0.115, total=   0.0s\n",
      "[CV] clf__estimator=LogisticRegression(), clf__estimator__C=1.0, clf__estimator__penalty=l2, clf__estimator__solver=lbfgs, clf__estimator__tol=0.01 \n",
      "[CV]  clf__estimator=LogisticRegression(), clf__estimator__C=1.0, clf__estimator__penalty=l2, clf__estimator__solver=lbfgs, clf__estimator__tol=0.01, score=0.170, total=   0.0s[CV] clf__estimator=DecisionTreeClassifier(), clf__estimator__criterion=entropy \n",
      "[CV]  clf__estimator=DecisionTreeClassifier(), clf__estimator__criterion=entropy, score=0.146, total=   0.1s\n",
      "[CV] clf__estimator=ExtraTreesClassifier(), clf__estimator__criterion=entropy, clf__estimator__n_estimators=250 \n",
      "[CV]  clf__estimator=ExtraTreesClassifier(), clf__estimator__criterion=entropy, clf__estimator__n_estimators=250, score=0.165, total=   2.3s\n",
      "[CV] clf__estimator=RandomForestClassifier(), clf__estimator__criterion=entropy, clf__estimator__n_estimators=250 \n",
      "[CV]  clf__estimator=RandomForestClassifier(), clf__estimator__criterion=entropy, clf__estimator__n_estimators=250, score=0.127, total=   2.6s\n",
      "[CV] clf__estimator=SVC(), clf__estimator__C=0.01, clf__estimator__degree=5, clf__estimator__kernel=rbf \n",
      "[CV]  clf__estimator=SVC(), clf__estimator__C=0.01, clf__estimator__degree=5, clf__estimator__kernel=rbf, score=-0.632, total=   0.1s\n",
      "[CV] clf__estimator=SVC(), clf__estimator__C=0.01, clf__estimator__degree=6, clf__estimator__kernel=rbf \n",
      "[CV]  clf__estimator=SVC(), clf__estimator__C=0.01, clf__estimator__degree=6, clf__estimator__kernel=rbf, score=-0.632, total=   0.1s\n",
      "[CV] clf__estimator=SVC(), clf__estimator__C=0.1, clf__estimator__degree=3, clf__estimator__kernel=sigmoid \n",
      "[CV]  clf__estimator=SVC(), clf__estimator__C=0.1, clf__estimator__degree=3, clf__estimator__kernel=sigmoid, score=-0.088, total=   0.1s\n",
      "[CV] clf__estimator=SVC(), clf__estimator__C=0.1, clf__estimator__degree=5, clf__estimator__kernel=rbf \n",
      "[CV]  clf__estimator=SVC(), clf__estimator__C=0.1, clf__estimator__degree=5, clf__estimator__kernel=rbf, score=0.207, total=   0.0s\n",
      "[CV] clf__estimator=SVC(), clf__estimator__C=0.1, clf__estimator__degree=6, clf__estimator__kernel=sigmoid \n",
      "[CV]  clf__estimator=SVC(), clf__estimator__C=0.1, clf__estimator__degree=6, clf__estimator__kernel=sigmoid, score=0.127, total=   0.0s\n",
      "[CV] clf__estimator=SVC(), clf__estimator__C=1.0, clf__estimator__degree=4, clf__estimator__kernel=sigmoid \n",
      "[CV]  clf__estimator=SVC(), clf__estimator__C=1.0, clf__estimator__degree=4, clf__estimator__kernel=sigmoid, score=-0.329, total=   0.0s\n",
      "[CV] clf__estimator=SVC(), clf__estimator__C=1.0, clf__estimator__degree=6, clf__estimator__kernel=sigmoid \n",
      "[CV]  clf__estimator=SVC(), clf__estimator__C=1.0, clf__estimator__degree=6, clf__estimator__kernel=sigmoid, score=-0.329, total=   0.0s\n",
      "[CV] clf__estimator=SVC(), clf__estimator__C=10.0, clf__estimator__degree=4, clf__estimator__kernel=sigmoid \n",
      "[CV]  clf__estimator=SVC(), clf__estimator__C=10.0, clf__estimator__degree=4, clf__estimator__kernel=sigmoid, score=-0.508, total=   0.0s\n",
      "[CV] clf__estimator=SVC(), clf__estimator__C=10.0, clf__estimator__degree=6, clf__estimator__kernel=sigmoid \n",
      "[CV]  clf__estimator=SVC(), clf__estimator__C=10.0, clf__estimator__degree=6, clf__estimator__kernel=sigmoid, score=-0.508, total=   0.0s\n",
      "[CV] clf__estimator=SVC(), clf__estimator__C=100.0, clf__estimator__degree=4, clf__estimator__kernel=sigmoid \n",
      "[CV]  clf__estimator=SVC(), clf__estimator__C=100.0, clf__estimator__degree=4, clf__estimator__kernel=sigmoid, score=-0.527, total=   0.0s\n",
      "[CV] clf__estimator=SVC(), clf__estimator__C=100.0, clf__estimator__degree=6, clf__estimator__kernel=sigmoid \n",
      "[CV]  clf__estimator=SVC(), clf__estimator__C=100.0, clf__estimator__degree=6, clf__estimator__kernel=sigmoid, score=-0.527, total=   0.0s\n",
      "[CV] clf__estimator=SVC(), clf__estimator__C=1000.0, clf__estimator__degree=4, clf__estimator__kernel=sigmoid \n",
      "[CV]  clf__estimator=SVC(), clf__estimator__C=1000.0, clf__estimator__degree=4, clf__estimator__kernel=sigmoid, score=-0.527, total=   0.0s\n",
      "[CV] clf__estimator=LogisticRegression(), clf__estimator__C=0.001, clf__estimator__penalty=l1, clf__estimator__solver=lbfgs, clf__estimator__tol=0.0001 \n",
      "[CV]  clf__estimator=LogisticRegression(), clf__estimator__C=0.001, clf__estimator__penalty=l1, clf__estimator__solver=lbfgs, clf__estimator__tol=0.0001, score=nan, total=   0.0s\n",
      "[CV] clf__estimator=LogisticRegression(), clf__estimator__C=0.001, clf__estimator__penalty=l1, clf__estimator__solver=liblinear, clf__estimator__tol=0.0001 \n",
      "[CV]  clf__estimator=LogisticRegression(), clf__estimator__C=0.001, clf__estimator__penalty=l1, clf__estimator__solver=liblinear, clf__estimator__tol=0.0001, score=-0.715, total=   0.0s\n",
      "[CV] clf__estimator=LogisticRegression(), clf__estimator__C=0.001, clf__estimator__penalty=l2, clf__estimator__solver=lbfgs, clf__estimator__tol=0.001 \n",
      "[CV]  clf__estimator=LogisticRegression(), clf__estimator__C=0.001, clf__estimator__penalty=l2, clf__estimator__solver=lbfgs, clf__estimator__tol=0.001, score=-0.678, total=   0.0s\n",
      "[CV] clf__estimator=LogisticRegression(), clf__estimator__C=0.001, clf__estimator__penalty=l2, clf__estimator__solver=liblinear, clf__estimator__tol=0.01 \n",
      "[CV]  clf__estimator=LogisticRegression(), clf__estimator__C=0.001, clf__estimator__penalty=l2, clf__estimator__solver=liblinear, clf__estimator__tol=0.01, score=-0.346, total=   0.0s\n",
      "[CV] clf__estimator=LogisticRegression(), clf__estimator__C=0.01, clf__estimator__penalty=l1, clf__estimator__solver=liblinear, clf__estimator__tol=0.0001 \n",
      "[CV]  clf__estimator=LogisticRegression(), clf__estimator__C=0.01, clf__estimator__penalty=l1, clf__estimator__solver=liblinear, clf__estimator__tol=0.0001, score=-0.715, total=   0.0s\n",
      "[CV] clf__estimator=LogisticRegression(), clf__estimator__C=0.01, clf__estimator__penalty=l2, clf__estimator__solver=lbfgs, clf__estimator__tol=0.001 \n",
      "[CV]  clf__estimator=LogisticRegression(), clf__estimator__C=0.01, clf__estimator__penalty=l2, clf__estimator__solver=lbfgs, clf__estimator__tol=0.001, score=-0.051, total=   0.0s\n",
      "[CV] clf__estimator=LogisticRegression(), clf__estimator__C=0.01, clf__estimator__penalty=l2, clf__estimator__solver=liblinear, clf__estimator__tol=0.01 \n",
      "[CV]  clf__estimator=LogisticRegression(), clf__estimator__C=0.01, clf__estimator__penalty=l2, clf__estimator__solver=liblinear, clf__estimator__tol=0.01, score=-0.051, total=   0.0s\n",
      "[CV] clf__estimator=LogisticRegression(), clf__estimator__C=0.1, clf__estimator__penalty=l1, clf__estimator__solver=liblinear, clf__estimator__tol=0.0001 \n",
      "[CV]  clf__estimator=LogisticRegression(), clf__estimator__C=0.1, clf__estimator__penalty=l1, clf__estimator__solver=liblinear, clf__estimator__tol=0.0001, score=0.041, total=   0.0s\n",
      "[CV] clf__estimator=LogisticRegression(), clf__estimator__C=0.1, clf__estimator__penalty=l2, clf__estimator__solver=lbfgs, clf__estimator__tol=0.001 \n",
      "[CV]  clf__estimator=LogisticRegression(), clf__estimator__C=0.1, clf__estimator__penalty=l2, clf__estimator__solver=lbfgs, clf__estimator__tol=0.001, score=0.133, total=   0.0s\n",
      "[CV] clf__estimator=LogisticRegression(), clf__estimator__C=0.1, clf__estimator__penalty=l2, clf__estimator__solver=liblinear, clf__estimator__tol=0.01 \n",
      "[CV]  clf__estimator=LogisticRegression(), clf__estimator__C=0.1, clf__estimator__penalty=l2, clf__estimator__solver=liblinear, clf__estimator__tol=0.01, score=0.152, total=   0.0s\n",
      "[CV] clf__estimator=LogisticRegression(), clf__estimator__C=1.0, clf__estimator__penalty=l1, clf__estimator__solver=liblinear, clf__estimator__tol=0.0001 \n",
      "[CV]  clf__estimator=LogisticRegression(), clf__estimator__C=1.0, clf__estimator__penalty=l1, clf__estimator__solver=liblinear, clf__estimator__tol=0.0001, score=0.115, total=   0.0s\n",
      "[CV] clf__estimator=LogisticRegression(), clf__estimator__C=1.0, clf__estimator__penalty=l2, clf__estimator__solver=liblinear, clf__estimator__tol=0.0001 \n",
      "[CV]  clf__estimator=LogisticRegression(), clf__estimator__C=1.0, clf__estimator__penalty=l2, clf__estimator__solver=liblinear, clf__estimator__tol=0.0001, score=0.279, total=   0.0s\n",
      "[CV] clf__estimator=LogisticRegression(), clf__estimator__C=10.0, clf__estimator__penalty=l1, clf__estimator__solver=lbfgs, clf__estimator__tol=0.001 \n",
      "[CV]  clf__estimator=LogisticRegression(), clf__estimator__C=10.0, clf__estimator__penalty=l1, clf__estimator__solver=lbfgs, clf__estimator__tol=0.001, score=nan, total=   0.0s\n",
      "[CV] clf__estimator=LogisticRegression(), clf__estimator__C=10.0, clf__estimator__penalty=l1, clf__estimator__solver=liblinear, clf__estimator__tol=0.01 \n",
      "[CV]  clf__estimator=LogisticRegression(), clf__estimator__C=10.0, clf__estimator__penalty=l1, clf__estimator__solver=liblinear, clf__estimator__tol=0.01, score=0.260, total=   0.1s[CV] clf__estimator=DecisionTreeClassifier(), clf__estimator__criterion=entropy \n",
      "[CV]  clf__estimator=DecisionTreeClassifier(), clf__estimator__criterion=entropy, score=0.286, total=   0.1s\n",
      "[CV] clf__estimator=ExtraTreesClassifier(), clf__estimator__criterion=entropy, clf__estimator__n_estimators=250 \n",
      "[CV]  clf__estimator=ExtraTreesClassifier(), clf__estimator__criterion=entropy, clf__estimator__n_estimators=250, score=0.266, total=   2.4s\n",
      "[CV] clf__estimator=RandomForestClassifier(), clf__estimator__criterion=entropy, clf__estimator__n_estimators=250 \n",
      "[CV]  clf__estimator=RandomForestClassifier(), clf__estimator__criterion=entropy, clf__estimator__n_estimators=250, score=0.286, total=   3.0s\n",
      "[CV] clf__estimator=SVC(), clf__estimator__C=0.01, clf__estimator__degree=6, clf__estimator__kernel=sigmoid \n",
      "[CV]  clf__estimator=SVC(), clf__estimator__C=0.01, clf__estimator__degree=6, clf__estimator__kernel=sigmoid, score=-0.632, total=   0.1s\n",
      "[CV] clf__estimator=SVC(), clf__estimator__C=0.1, clf__estimator__degree=4, clf__estimator__kernel=rbf \n",
      "[CV]  clf__estimator=SVC(), clf__estimator__C=0.1, clf__estimator__degree=4, clf__estimator__kernel=rbf, score=0.306, total=   0.2s\n",
      "[CV] clf__estimator=SVC(), clf__estimator__C=0.1, clf__estimator__degree=6, clf__estimator__kernel=rbf \n",
      "[CV]  clf__estimator=SVC(), clf__estimator__C=0.1, clf__estimator__degree=6, clf__estimator__kernel=rbf, score=0.207, total=   0.1s\n",
      "[CV] clf__estimator=SVC(), clf__estimator__C=1.0, clf__estimator__degree=3, clf__estimator__kernel=sigmoid \n",
      "[CV]  clf__estimator=SVC(), clf__estimator__C=1.0, clf__estimator__degree=3, clf__estimator__kernel=sigmoid, score=-0.329, total=   0.0s\n",
      "[CV] clf__estimator=SVC(), clf__estimator__C=1.0, clf__estimator__degree=5, clf__estimator__kernel=sigmoid \n",
      "[CV]  clf__estimator=SVC(), clf__estimator__C=1.0, clf__estimator__degree=5, clf__estimator__kernel=sigmoid, score=-0.329, total=   0.0s\n",
      "[CV] clf__estimator=SVC(), clf__estimator__C=1.0, clf__estimator__degree=6, clf__estimator__kernel=rbf \n",
      "[CV]  clf__estimator=SVC(), clf__estimator__C=1.0, clf__estimator__degree=6, clf__estimator__kernel=rbf, score=0.279, total=   0.0s\n",
      "[CV] clf__estimator=SVC(), clf__estimator__C=10.0, clf__estimator__degree=4, clf__estimator__kernel=rbf \n",
      "[CV]  clf__estimator=SVC(), clf__estimator__C=10.0, clf__estimator__degree=4, clf__estimator__kernel=rbf, score=0.260, total=   0.0s\n",
      "[CV] clf__estimator=SVC(), clf__estimator__C=10.0, clf__estimator__degree=6, clf__estimator__kernel=rbf \n",
      "[CV]  clf__estimator=SVC(), clf__estimator__C=10.0, clf__estimator__degree=6, clf__estimator__kernel=rbf, score=0.260, total=   0.0s\n",
      "[CV] clf__estimator=SVC(), clf__estimator__C=100.0, clf__estimator__degree=4, clf__estimator__kernel=rbf \n",
      "[CV]  clf__estimator=SVC(), clf__estimator__C=100.0, clf__estimator__degree=4, clf__estimator__kernel=rbf, score=0.089, total=   0.0s\n",
      "[CV] clf__estimator=SVC(), clf__estimator__C=100.0, clf__estimator__degree=6, clf__estimator__kernel=rbf \n",
      "[CV]  clf__estimator=SVC(), clf__estimator__C=100.0, clf__estimator__degree=6, clf__estimator__kernel=rbf, score=0.089, total=   0.0s\n",
      "[CV] clf__estimator=SVC(), clf__estimator__C=1000.0, clf__estimator__degree=4, clf__estimator__kernel=rbf \n",
      "[CV]  clf__estimator=SVC(), clf__estimator__C=1000.0, clf__estimator__degree=4, clf__estimator__kernel=rbf, score=0.146, total=   0.1s\n",
      "[CV] clf__estimator=SVC(), clf__estimator__C=1000.0, clf__estimator__degree=6, clf__estimator__kernel=sigmoid \n",
      "[CV]  clf__estimator=SVC(), clf__estimator__C=1000.0, clf__estimator__degree=6, clf__estimator__kernel=sigmoid, score=-0.527, total=   0.1s\n",
      "[CV] clf__estimator=LogisticRegression(), clf__estimator__C=0.001, clf__estimator__penalty=l1, clf__estimator__solver=lbfgs, clf__estimator__tol=0.01 \n",
      "[CV]  clf__estimator=LogisticRegression(), clf__estimator__C=0.001, clf__estimator__penalty=l1, clf__estimator__solver=lbfgs, clf__estimator__tol=0.01, score=nan, total=   0.0s\n",
      "[CV] clf__estimator=LogisticRegression(), clf__estimator__C=0.001, clf__estimator__penalty=l2, clf__estimator__solver=lbfgs, clf__estimator__tol=0.0001 \n",
      "[CV]  clf__estimator=LogisticRegression(), clf__estimator__C=0.001, clf__estimator__penalty=l2, clf__estimator__solver=lbfgs, clf__estimator__tol=0.0001, score=-0.613, total=   0.0s\n",
      "[CV] clf__estimator=LogisticRegression(), clf__estimator__C=0.01, clf__estimator__penalty=l1, clf__estimator__solver=lbfgs, clf__estimator__tol=0.001 \n",
      "[CV]  clf__estimator=LogisticRegression(), clf__estimator__C=0.01, clf__estimator__penalty=l1, clf__estimator__solver=lbfgs, clf__estimator__tol=0.001, score=nan, total=   0.0s\n",
      "[CV] clf__estimator=LogisticRegression(), clf__estimator__C=0.01, clf__estimator__penalty=l1, clf__estimator__solver=liblinear, clf__estimator__tol=0.01 \n",
      "[CV]  clf__estimator=LogisticRegression(), clf__estimator__C=0.01, clf__estimator__penalty=l1, clf__estimator__solver=liblinear, clf__estimator__tol=0.01, score=-0.632, total=   0.0s\n",
      "[CV] clf__estimator=LogisticRegression(), clf__estimator__C=0.1, clf__estimator__penalty=l1, clf__estimator__solver=lbfgs, clf__estimator__tol=0.0001 \n",
      "[CV]  clf__estimator=LogisticRegression(), clf__estimator__C=0.1, clf__estimator__penalty=l1, clf__estimator__solver=lbfgs, clf__estimator__tol=0.0001, score=nan, total=   0.0s\n",
      "[CV] clf__estimator=LogisticRegression(), clf__estimator__C=0.1, clf__estimator__penalty=l1, clf__estimator__solver=liblinear, clf__estimator__tol=0.001 \n",
      "[CV]  clf__estimator=LogisticRegression(), clf__estimator__C=0.1, clf__estimator__penalty=l1, clf__estimator__solver=liblinear, clf__estimator__tol=0.001, score=0.266, total=   0.0s\n",
      "[CV] clf__estimator=LogisticRegression(), clf__estimator__C=0.1, clf__estimator__penalty=l2, clf__estimator__solver=lbfgs, clf__estimator__tol=0.01 \n",
      "[CV]  clf__estimator=LogisticRegression(), clf__estimator__C=0.1, clf__estimator__penalty=l2, clf__estimator__solver=lbfgs, clf__estimator__tol=0.01, score=0.326, total=   0.0s\n",
      "[CV] clf__estimator=LogisticRegression(), clf__estimator__C=1.0, clf__estimator__penalty=l1, clf__estimator__solver=lbfgs, clf__estimator__tol=0.0001 \n",
      "[CV]  clf__estimator=LogisticRegression(), clf__estimator__C=1.0, clf__estimator__penalty=l1, clf__estimator__solver=lbfgs, clf__estimator__tol=0.0001, score=nan, total=   0.0s\n",
      "[CV] clf__estimator=LogisticRegression(), clf__estimator__C=1.0, clf__estimator__penalty=l1, clf__estimator__solver=liblinear, clf__estimator__tol=0.001 \n",
      "[CV]  clf__estimator=LogisticRegression(), clf__estimator__C=1.0, clf__estimator__penalty=l1, clf__estimator__solver=liblinear, clf__estimator__tol=0.001, score=0.326, total=   0.0s\n",
      "[CV] clf__estimator=LogisticRegression(), clf__estimator__C=1.0, clf__estimator__penalty=l1, clf__estimator__solver=liblinear, clf__estimator__tol=0.01 \n",
      "[CV]  clf__estimator=LogisticRegression(), clf__estimator__C=1.0, clf__estimator__penalty=l1, clf__estimator__solver=liblinear, clf__estimator__tol=0.01, score=0.326, total=   0.0s\n",
      "[CV] clf__estimator=LogisticRegression(), clf__estimator__C=1.0, clf__estimator__penalty=l2, clf__estimator__solver=lbfgs, clf__estimator__tol=0.001 \n",
      "[CV]  clf__estimator=LogisticRegression(), clf__estimator__C=1.0, clf__estimator__penalty=l2, clf__estimator__solver=lbfgs, clf__estimator__tol=0.001, score=0.170, total=   0.1s\n",
      "[CV] clf__estimator=LogisticRegression(), clf__estimator__C=1.0, clf__estimator__penalty=l2, clf__estimator__solver=liblinear, clf__estimator__tol=0.01 \n",
      "[CV]  clf__estimator=LogisticRegression(), clf__estimator__C=1.0, clf__estimator__penalty=l2, clf__estimator__solver=liblinear, clf__estimator__tol=0.01, score=0.170, total=   0.0s\n",
      "[CV] clf__estimator=LogisticRegression(), clf__estimator__C=10.0, clf__estimator__penalty=l1, clf__estimator__solver=liblinear, clf__estimator__tol=0.0001 \n",
      "[CV]  clf__estimator=LogisticRegression(), clf__estimator__C=10.0, clf__estimator__penalty=l1, clf__estimator__solver=liblinear, clf__estimator__tol=0.0001, score=0.152, total=   0.1s\n",
      "[CV] clf__estimator=LogisticRegression(), clf__estimator__C=10.0, clf__estimator__penalty=l2, clf__estimator__solver=lbfgs, clf__estimator__tol=0.01 \n",
      "[CV]  clf__estimator=LogisticRegression(), clf__estimator__C=10.0, clf__estimator__penalty=l2, clf__estimator__solver=lbfgs, clf__estimator__tol=0.01, score=0.260, total=   0.2s[CV] clf__estimator=ExtraTreesClassifier(), clf__estimator__criterion=gini, clf__estimator__n_estimators=100 \n",
      "[CV]  clf__estimator=ExtraTreesClassifier(), clf__estimator__criterion=gini, clf__estimator__n_estimators=100, score=0.041, total=   1.0s\n",
      "[CV] clf__estimator=RandomForestClassifier(), clf__estimator__criterion=gini, clf__estimator__n_estimators=250 \n",
      "[CV]  clf__estimator=RandomForestClassifier(), clf__estimator__criterion=gini, clf__estimator__n_estimators=250, score=0.127, total=   3.6s\n",
      "[CV] clf__estimator=SVC(), clf__estimator__C=0.01, clf__estimator__degree=5, clf__estimator__kernel=rbf \n",
      "[CV]  clf__estimator=SVC(), clf__estimator__C=0.01, clf__estimator__degree=5, clf__estimator__kernel=rbf, score=-0.527, total=   0.1s\n",
      "[CV] clf__estimator=SVC(), clf__estimator__C=0.01, clf__estimator__degree=6, clf__estimator__kernel=sigmoid \n",
      "[CV]  clf__estimator=SVC(), clf__estimator__C=0.01, clf__estimator__degree=6, clf__estimator__kernel=sigmoid, score=-0.715, total=   0.1s\n",
      "[CV] clf__estimator=SVC(), clf__estimator__C=0.1, clf__estimator__degree=4, clf__estimator__kernel=rbf \n",
      "[CV]  clf__estimator=SVC(), clf__estimator__C=0.1, clf__estimator__degree=4, clf__estimator__kernel=rbf, score=0.207, total=   0.1s\n",
      "[CV] clf__estimator=SVC(), clf__estimator__C=0.1, clf__estimator__degree=5, clf__estimator__kernel=rbf \n",
      "[CV]  clf__estimator=SVC(), clf__estimator__C=0.1, clf__estimator__degree=5, clf__estimator__kernel=rbf, score=0.222, total=   0.1s\n",
      "[CV] clf__estimator=SVC(), clf__estimator__C=1.0, clf__estimator__degree=4, clf__estimator__kernel=rbf \n",
      "[CV]  clf__estimator=SVC(), clf__estimator__C=1.0, clf__estimator__degree=4, clf__estimator__kernel=rbf, score=0.279, total=   0.0s\n",
      "[CV] clf__estimator=SVC(), clf__estimator__C=10.0, clf__estimator__degree=3, clf__estimator__kernel=sigmoid \n",
      "[CV]  clf__estimator=SVC(), clf__estimator__C=10.0, clf__estimator__degree=3, clf__estimator__kernel=sigmoid, score=-0.508, total=   0.0s\n",
      "[CV] clf__estimator=SVC(), clf__estimator__C=10.0, clf__estimator__degree=5, clf__estimator__kernel=sigmoid \n",
      "[CV]  clf__estimator=SVC(), clf__estimator__C=10.0, clf__estimator__degree=5, clf__estimator__kernel=sigmoid, score=-0.508, total=   0.1s\n",
      "[CV] clf__estimator=SVC(), clf__estimator__C=100.0, clf__estimator__degree=3, clf__estimator__kernel=sigmoid \n",
      "[CV]  clf__estimator=SVC(), clf__estimator__C=100.0, clf__estimator__degree=3, clf__estimator__kernel=sigmoid, score=-0.527, total=   0.0s\n",
      "[CV] clf__estimator=SVC(), clf__estimator__C=100.0, clf__estimator__degree=5, clf__estimator__kernel=sigmoid \n",
      "[CV]  clf__estimator=SVC(), clf__estimator__C=100.0, clf__estimator__degree=5, clf__estimator__kernel=sigmoid, score=-0.527, total=   0.0s\n",
      "[CV] clf__estimator=SVC(), clf__estimator__C=1000.0, clf__estimator__degree=3, clf__estimator__kernel=sigmoid \n",
      "[CV]  clf__estimator=SVC(), clf__estimator__C=1000.0, clf__estimator__degree=3, clf__estimator__kernel=sigmoid, score=-0.527, total=   0.0s\n",
      "[CV] clf__estimator=SVC(), clf__estimator__C=1000.0, clf__estimator__degree=5, clf__estimator__kernel=rbf \n",
      "[CV]  clf__estimator=SVC(), clf__estimator__C=1000.0, clf__estimator__degree=5, clf__estimator__kernel=rbf, score=0.048, total=   0.2s\n",
      "[CV] clf__estimator=LogisticRegression(), clf__estimator__C=0.001, clf__estimator__penalty=l1, clf__estimator__solver=lbfgs, clf__estimator__tol=0.001 \n",
      "[CV]  clf__estimator=LogisticRegression(), clf__estimator__C=0.001, clf__estimator__penalty=l1, clf__estimator__solver=lbfgs, clf__estimator__tol=0.001, score=nan, total=   0.0s\n",
      "[CV] clf__estimator=LogisticRegression(), clf__estimator__C=0.001, clf__estimator__penalty=l1, clf__estimator__solver=liblinear, clf__estimator__tol=0.01 \n",
      "[CV]  clf__estimator=LogisticRegression(), clf__estimator__C=0.001, clf__estimator__penalty=l1, clf__estimator__solver=liblinear, clf__estimator__tol=0.01, score=-0.527, total=   0.0s\n",
      "[CV] clf__estimator=LogisticRegression(), clf__estimator__C=0.001, clf__estimator__penalty=l2, clf__estimator__solver=liblinear, clf__estimator__tol=0.0001 \n",
      "[CV]  clf__estimator=LogisticRegression(), clf__estimator__C=0.001, clf__estimator__penalty=l2, clf__estimator__solver=liblinear, clf__estimator__tol=0.0001, score=0.008, total=   0.0s\n",
      "[CV] clf__estimator=LogisticRegression(), clf__estimator__C=0.01, clf__estimator__penalty=l1, clf__estimator__solver=lbfgs, clf__estimator__tol=0.001 \n",
      "[CV]  clf__estimator=LogisticRegression(), clf__estimator__C=0.01, clf__estimator__penalty=l1, clf__estimator__solver=lbfgs, clf__estimator__tol=0.001, score=nan, total=   0.0s\n",
      "[CV] clf__estimator=LogisticRegression(), clf__estimator__C=0.01, clf__estimator__penalty=l1, clf__estimator__solver=liblinear, clf__estimator__tol=0.01 \n",
      "[CV]  clf__estimator=LogisticRegression(), clf__estimator__C=0.01, clf__estimator__penalty=l1, clf__estimator__solver=liblinear, clf__estimator__tol=0.01, score=-0.527, total=   0.0s\n",
      "[CV] clf__estimator=LogisticRegression(), clf__estimator__C=0.01, clf__estimator__penalty=l2, clf__estimator__solver=liblinear, clf__estimator__tol=0.0001 \n",
      "[CV]  clf__estimator=LogisticRegression(), clf__estimator__C=0.01, clf__estimator__penalty=l2, clf__estimator__solver=liblinear, clf__estimator__tol=0.0001, score=0.266, total=   0.0s\n",
      "[CV] clf__estimator=LogisticRegression(), clf__estimator__C=0.1, clf__estimator__penalty=l1, clf__estimator__solver=lbfgs, clf__estimator__tol=0.001 \n",
      "[CV]  clf__estimator=LogisticRegression(), clf__estimator__C=0.1, clf__estimator__penalty=l1, clf__estimator__solver=lbfgs, clf__estimator__tol=0.001, score=nan, total=   0.0s\n",
      "[CV] clf__estimator=LogisticRegression(), clf__estimator__C=0.1, clf__estimator__penalty=l1, clf__estimator__solver=liblinear, clf__estimator__tol=0.01 \n",
      "[CV]  clf__estimator=LogisticRegression(), clf__estimator__C=0.1, clf__estimator__penalty=l1, clf__estimator__solver=liblinear, clf__estimator__tol=0.01, score=0.078, total=   0.0s\n",
      "[CV] clf__estimator=LogisticRegression(), clf__estimator__C=0.1, clf__estimator__penalty=l2, clf__estimator__solver=liblinear, clf__estimator__tol=0.0001 \n",
      "[CV]  clf__estimator=LogisticRegression(), clf__estimator__C=0.1, clf__estimator__penalty=l2, clf__estimator__solver=liblinear, clf__estimator__tol=0.0001, score=0.152, total=   0.0s\n",
      "[CV] clf__estimator=LogisticRegression(), clf__estimator__C=1.0, clf__estimator__penalty=l1, clf__estimator__solver=lbfgs, clf__estimator__tol=0.0001 \n",
      "[CV]  clf__estimator=LogisticRegression(), clf__estimator__C=1.0, clf__estimator__penalty=l1, clf__estimator__solver=lbfgs, clf__estimator__tol=0.0001, score=nan, total=   0.0s\n",
      "[CV] clf__estimator=LogisticRegression(), clf__estimator__C=1.0, clf__estimator__penalty=l1, clf__estimator__solver=liblinear, clf__estimator__tol=0.001 \n",
      "[CV]  clf__estimator=LogisticRegression(), clf__estimator__C=1.0, clf__estimator__penalty=l1, clf__estimator__solver=liblinear, clf__estimator__tol=0.001, score=0.241, total=   0.0s\n",
      "[CV] clf__estimator=LogisticRegression(), clf__estimator__C=1.0, clf__estimator__penalty=l2, clf__estimator__solver=lbfgs, clf__estimator__tol=0.0001 \n",
      "[CV]  clf__estimator=LogisticRegression(), clf__estimator__C=1.0, clf__estimator__penalty=l2, clf__estimator__solver=lbfgs, clf__estimator__tol=0.0001, score=0.170, total=   0.1s\n",
      "[CV] clf__estimator=LogisticRegression(), clf__estimator__C=1.0, clf__estimator__penalty=l2, clf__estimator__solver=liblinear, clf__estimator__tol=0.001 \n",
      "[CV]  clf__estimator=LogisticRegression(), clf__estimator__C=1.0, clf__estimator__penalty=l2, clf__estimator__solver=liblinear, clf__estimator__tol=0.001, score=0.170, total=   0.0s\n",
      "[CV] clf__estimator=LogisticRegression(), clf__estimator__C=10.0, clf__estimator__penalty=l1, clf__estimator__solver=lbfgs, clf__estimator__tol=0.01 \n",
      "[CV]  clf__estimator=LogisticRegression(), clf__estimator__C=10.0, clf__estimator__penalty=l1, clf__estimator__solver=lbfgs, clf__estimator__tol=0.01, score=nan, total=   0.0s\n",
      "[CV] clf__estimator=LogisticRegression(), clf__estimator__C=10.0, clf__estimator__penalty=l2, clf__estimator__solver=lbfgs, clf__estimator__tol=0.0001 \n",
      "[CV]  clf__estimator=LogisticRegression(), clf__estimator__C=10.0, clf__estimator__penalty=l2, clf__estimator__solver=lbfgs, clf__estimator__tol=0.0001, score=nan, total=   0.2s\n",
      "[CV] clf__estimator=LogisticRegression(), clf__estimator__C=10.0, clf__estimator__penalty=l2, clf__estimator__solver=liblinear, clf__estimator__tol=0.01 [CV] clf__estimator=DecisionTreeClassifier(), clf__estimator__criterion=entropy \n",
      "[CV]  clf__estimator=DecisionTreeClassifier(), clf__estimator__criterion=entropy, score=0.022, total=   0.1s\n",
      "[CV] clf__estimator=ExtraTreesClassifier(), clf__estimator__criterion=entropy, clf__estimator__n_estimators=250 \n",
      "[CV]  clf__estimator=ExtraTreesClassifier(), clf__estimator__criterion=entropy, clf__estimator__n_estimators=250, score=0.078, total=   2.2s\n",
      "[CV] clf__estimator=RandomForestClassifier(), clf__estimator__criterion=entropy, clf__estimator__n_estimators=250 \n",
      "[CV]  clf__estimator=RandomForestClassifier(), clf__estimator__criterion=entropy, clf__estimator__n_estimators=250, score=0.188, total=   3.1s\n",
      "[CV] clf__estimator=SVC(), clf__estimator__C=0.1, clf__estimator__degree=3, clf__estimator__kernel=rbf \n",
      "[CV]  clf__estimator=SVC(), clf__estimator__C=0.1, clf__estimator__degree=3, clf__estimator__kernel=rbf, score=0.207, total=   0.1s\n",
      "[CV] clf__estimator=SVC(), clf__estimator__C=0.1, clf__estimator__degree=4, clf__estimator__kernel=rbf \n",
      "[CV]  clf__estimator=SVC(), clf__estimator__C=0.1, clf__estimator__degree=4, clf__estimator__kernel=rbf, score=0.222, total=   0.2s\n",
      "[CV] clf__estimator=SVC(), clf__estimator__C=0.1, clf__estimator__degree=6, clf__estimator__kernel=rbf \n",
      "[CV]  clf__estimator=SVC(), clf__estimator__C=0.1, clf__estimator__degree=6, clf__estimator__kernel=rbf, score=0.306, total=   0.1s\n",
      "[CV] clf__estimator=SVC(), clf__estimator__C=1.0, clf__estimator__degree=3, clf__estimator__kernel=sigmoid \n",
      "[CV]  clf__estimator=SVC(), clf__estimator__C=1.0, clf__estimator__degree=3, clf__estimator__kernel=sigmoid, score=-0.177, total=   0.0s\n",
      "[CV] clf__estimator=SVC(), clf__estimator__C=1.0, clf__estimator__degree=5, clf__estimator__kernel=sigmoid \n",
      "[CV]  clf__estimator=SVC(), clf__estimator__C=1.0, clf__estimator__degree=5, clf__estimator__kernel=sigmoid, score=-0.177, total=   0.0s\n",
      "[CV] clf__estimator=SVC(), clf__estimator__C=10.0, clf__estimator__degree=3, clf__estimator__kernel=sigmoid \n",
      "[CV]  clf__estimator=SVC(), clf__estimator__C=10.0, clf__estimator__degree=3, clf__estimator__kernel=sigmoid, score=-0.310, total=   0.0s\n",
      "[CV] clf__estimator=SVC(), clf__estimator__C=10.0, clf__estimator__degree=5, clf__estimator__kernel=sigmoid \n",
      "[CV]  clf__estimator=SVC(), clf__estimator__C=10.0, clf__estimator__degree=5, clf__estimator__kernel=sigmoid, score=-0.310, total=   0.0s\n",
      "[CV] clf__estimator=SVC(), clf__estimator__C=100.0, clf__estimator__degree=3, clf__estimator__kernel=sigmoid \n",
      "[CV]  clf__estimator=SVC(), clf__estimator__C=100.0, clf__estimator__degree=3, clf__estimator__kernel=sigmoid, score=-0.348, total=   0.0s\n",
      "[CV] clf__estimator=SVC(), clf__estimator__C=1000.0, clf__estimator__degree=3, clf__estimator__kernel=rbf \n",
      "[CV]  clf__estimator=SVC(), clf__estimator__C=1000.0, clf__estimator__degree=3, clf__estimator__kernel=rbf, score=0.048, total=   0.2s\n",
      "[CV] clf__estimator=SVC(), clf__estimator__C=1000.0, clf__estimator__degree=5, clf__estimator__kernel=sigmoid \n",
      "[CV]  clf__estimator=SVC(), clf__estimator__C=1000.0, clf__estimator__degree=5, clf__estimator__kernel=sigmoid, score=-0.527, total=   0.1s\n",
      "[CV] clf__estimator=LogisticRegression(), clf__estimator__C=0.001, clf__estimator__penalty=l1, clf__estimator__solver=lbfgs, clf__estimator__tol=0.0001 \n",
      "[CV]  clf__estimator=LogisticRegression(), clf__estimator__C=0.001, clf__estimator__penalty=l1, clf__estimator__solver=lbfgs, clf__estimator__tol=0.0001, score=nan, total=   0.1s\n",
      "[CV] clf__estimator=LogisticRegression(), clf__estimator__C=0.001, clf__estimator__penalty=l1, clf__estimator__solver=liblinear, clf__estimator__tol=0.001 \n",
      "[CV]  clf__estimator=LogisticRegression(), clf__estimator__C=0.001, clf__estimator__penalty=l1, clf__estimator__solver=liblinear, clf__estimator__tol=0.001, score=-0.632, total=   0.0s\n",
      "[CV] clf__estimator=LogisticRegression(), clf__estimator__C=0.001, clf__estimator__penalty=l2, clf__estimator__solver=lbfgs, clf__estimator__tol=0.01 \n",
      "[CV]  clf__estimator=LogisticRegression(), clf__estimator__C=0.001, clf__estimator__penalty=l2, clf__estimator__solver=lbfgs, clf__estimator__tol=0.01, score=-0.613, total=   0.0s\n",
      "[CV] clf__estimator=LogisticRegression(), clf__estimator__C=0.01, clf__estimator__penalty=l1, clf__estimator__solver=liblinear, clf__estimator__tol=0.0001 \n",
      "[CV]  clf__estimator=LogisticRegression(), clf__estimator__C=0.01, clf__estimator__penalty=l1, clf__estimator__solver=liblinear, clf__estimator__tol=0.0001, score=-0.527, total=   0.0s\n",
      "[CV] clf__estimator=LogisticRegression(), clf__estimator__C=0.01, clf__estimator__penalty=l2, clf__estimator__solver=lbfgs, clf__estimator__tol=0.001 \n",
      "[CV]  clf__estimator=LogisticRegression(), clf__estimator__C=0.01, clf__estimator__penalty=l2, clf__estimator__solver=lbfgs, clf__estimator__tol=0.001, score=0.246, total=   0.0s\n",
      "[CV] clf__estimator=LogisticRegression(), clf__estimator__C=0.01, clf__estimator__penalty=l2, clf__estimator__solver=liblinear, clf__estimator__tol=0.01 \n",
      "[CV]  clf__estimator=LogisticRegression(), clf__estimator__C=0.01, clf__estimator__penalty=l2, clf__estimator__solver=liblinear, clf__estimator__tol=0.01, score=0.266, total=   0.0s\n",
      "[CV] clf__estimator=LogisticRegression(), clf__estimator__C=0.1, clf__estimator__penalty=l1, clf__estimator__solver=liblinear, clf__estimator__tol=0.0001 \n",
      "[CV]  clf__estimator=LogisticRegression(), clf__estimator__C=0.1, clf__estimator__penalty=l1, clf__estimator__solver=liblinear, clf__estimator__tol=0.0001, score=0.266, total=   0.0s\n",
      "[CV] clf__estimator=LogisticRegression(), clf__estimator__C=0.1, clf__estimator__penalty=l2, clf__estimator__solver=lbfgs, clf__estimator__tol=0.001 \n",
      "[CV]  clf__estimator=LogisticRegression(), clf__estimator__C=0.1, clf__estimator__penalty=l2, clf__estimator__solver=lbfgs, clf__estimator__tol=0.001, score=0.326, total=   0.0s\n",
      "[CV] clf__estimator=LogisticRegression(), clf__estimator__C=1.0, clf__estimator__penalty=l1, clf__estimator__solver=lbfgs, clf__estimator__tol=0.01 \n",
      "[CV]  clf__estimator=LogisticRegression(), clf__estimator__C=1.0, clf__estimator__penalty=l1, clf__estimator__solver=lbfgs, clf__estimator__tol=0.01, score=nan, total=   0.0s\n",
      "[CV] clf__estimator=LogisticRegression(), clf__estimator__C=1.0, clf__estimator__penalty=l2, clf__estimator__solver=lbfgs, clf__estimator__tol=0.0001 \n",
      "[CV]  clf__estimator=LogisticRegression(), clf__estimator__C=1.0, clf__estimator__penalty=l2, clf__estimator__solver=lbfgs, clf__estimator__tol=0.0001, score=0.365, total=   0.1s\n",
      "[CV] clf__estimator=LogisticRegression(), clf__estimator__C=1.0, clf__estimator__penalty=l2, clf__estimator__solver=liblinear, clf__estimator__tol=0.001 \n",
      "[CV]  clf__estimator=LogisticRegression(), clf__estimator__C=1.0, clf__estimator__penalty=l2, clf__estimator__solver=liblinear, clf__estimator__tol=0.001, score=0.279, total=   0.0s\n",
      "[CV] clf__estimator=LogisticRegression(), clf__estimator__C=10.0, clf__estimator__penalty=l1, clf__estimator__solver=lbfgs, clf__estimator__tol=0.01 \n",
      "[CV]  clf__estimator=LogisticRegression(), clf__estimator__C=10.0, clf__estimator__penalty=l1, clf__estimator__solver=lbfgs, clf__estimator__tol=0.01, score=nan, total=   0.0s\n",
      "[CV] clf__estimator=LogisticRegression(), clf__estimator__C=10.0, clf__estimator__penalty=l2, clf__estimator__solver=lbfgs, clf__estimator__tol=0.0001 \n",
      "[CV]  clf__estimator=LogisticRegression(), clf__estimator__C=10.0, clf__estimator__penalty=l2, clf__estimator__solver=lbfgs, clf__estimator__tol=0.0001, score=nan, total=   0.2s\n",
      "[CV] clf__estimator=LogisticRegression(), clf__estimator__C=10.0, clf__estimator__penalty=l2, clf__estimator__solver=liblinear, clf__estimator__tol=0.001 \n",
      "[CV]  clf__estimator=LogisticRegression(), clf__estimator__C=10.0, clf__estimator__penalty=l2, clf__estimator__solver=liblinear, clf__estimator__tol=0.001, score=0.365, total=   0.0s\n",
      "[CV] clf__estimator=LogisticRegression(), clf__estimator__C=100.0, clf__estimator__penalty=l1, clf__estimator__solver=lbfgs, clf__estimator__tol=0.001 \n",
      "[CV]  clf__estimator=LogisticRegression(), clf__estimator__C=100.0, clf__estimator__penalty=l1, clf__estimator__solver=lbfgs, clf__estimator__tol=0.001, score=nan, total=   0.0s\n",
      "[CV] clf__estimator=LogisticRegression(), clf__estimator__C=100.0, clf__estimator__penalty=l1, clf__estimator__solver=liblinear, clf__estimator__tol=0.01 [CV] clf__estimator=ExtraTreesClassifier(), clf__estimator__criterion=gini, clf__estimator__n_estimators=250 \n",
      "[CV]  clf__estimator=ExtraTreesClassifier(), clf__estimator__criterion=gini, clf__estimator__n_estimators=250, score=0.306, total=   1.2s\n",
      "[CV] clf__estimator=SVC(), clf__estimator__C=0.1, clf__estimator__degree=5, clf__estimator__kernel=sigmoid \n",
      "[CV]  clf__estimator=SVC(), clf__estimator__C=0.1, clf__estimator__degree=5, clf__estimator__kernel=sigmoid, score=0.127, total=   0.1s\n",
      "[CV] clf__estimator=SVC(), clf__estimator__C=1.0, clf__estimator__degree=3, clf__estimator__kernel=rbf \n",
      "[CV]  clf__estimator=SVC(), clf__estimator__C=1.0, clf__estimator__degree=3, clf__estimator__kernel=rbf, score=0.279, total=   0.0s\n",
      "[CV] clf__estimator=SVC(), clf__estimator__C=1.0, clf__estimator__degree=5, clf__estimator__kernel=rbf \n",
      "[CV]  clf__estimator=SVC(), clf__estimator__C=1.0, clf__estimator__degree=5, clf__estimator__kernel=rbf, score=0.279, total=   0.0s\n",
      "[CV] clf__estimator=SVC(), clf__estimator__C=10.0, clf__estimator__degree=3, clf__estimator__kernel=rbf \n",
      "[CV]  clf__estimator=SVC(), clf__estimator__C=10.0, clf__estimator__degree=3, clf__estimator__kernel=rbf, score=0.260, total=   0.0s\n",
      "[CV] clf__estimator=SVC(), clf__estimator__C=10.0, clf__estimator__degree=5, clf__estimator__kernel=rbf \n",
      "[CV]  clf__estimator=SVC(), clf__estimator__C=10.0, clf__estimator__degree=5, clf__estimator__kernel=rbf, score=0.260, total=   0.1s\n",
      "[CV] clf__estimator=SVC(), clf__estimator__C=100.0, clf__estimator__degree=3, clf__estimator__kernel=sigmoid \n",
      "[CV]  clf__estimator=SVC(), clf__estimator__C=100.0, clf__estimator__degree=3, clf__estimator__kernel=sigmoid, score=-0.383, total=   0.0s\n",
      "[CV] clf__estimator=SVC(), clf__estimator__C=100.0, clf__estimator__degree=5, clf__estimator__kernel=sigmoid \n",
      "[CV]  clf__estimator=SVC(), clf__estimator__C=100.0, clf__estimator__degree=5, clf__estimator__kernel=sigmoid, score=-0.383, total=   0.0s\n",
      "[CV] clf__estimator=SVC(), clf__estimator__C=1000.0, clf__estimator__degree=3, clf__estimator__kernel=sigmoid \n",
      "[CV]  clf__estimator=SVC(), clf__estimator__C=1000.0, clf__estimator__degree=3, clf__estimator__kernel=sigmoid, score=-0.383, total=   0.1s\n",
      "[CV] clf__estimator=SVC(), clf__estimator__C=1000.0, clf__estimator__degree=5, clf__estimator__kernel=rbf \n",
      "[CV]  clf__estimator=SVC(), clf__estimator__C=1000.0, clf__estimator__degree=5, clf__estimator__kernel=rbf, score=0.146, total=   0.2s\n",
      "[CV] clf__estimator=LogisticRegression(), clf__estimator__C=0.001, clf__estimator__penalty=l1, clf__estimator__solver=lbfgs, clf__estimator__tol=0.001 \n",
      "[CV]  clf__estimator=LogisticRegression(), clf__estimator__C=0.001, clf__estimator__penalty=l1, clf__estimator__solver=lbfgs, clf__estimator__tol=0.001, score=nan, total=   0.0s\n",
      "[CV] clf__estimator=LogisticRegression(), clf__estimator__C=0.001, clf__estimator__penalty=l1, clf__estimator__solver=liblinear, clf__estimator__tol=0.01 \n",
      "[CV]  clf__estimator=LogisticRegression(), clf__estimator__C=0.001, clf__estimator__penalty=l1, clf__estimator__solver=liblinear, clf__estimator__tol=0.01, score=-0.715, total=   0.0s\n",
      "[CV] clf__estimator=LogisticRegression(), clf__estimator__C=0.001, clf__estimator__penalty=l2, clf__estimator__solver=liblinear, clf__estimator__tol=0.0001 \n",
      "[CV]  clf__estimator=LogisticRegression(), clf__estimator__C=0.001, clf__estimator__penalty=l2, clf__estimator__solver=liblinear, clf__estimator__tol=0.0001, score=-0.346, total=   0.0s\n",
      "[CV] clf__estimator=LogisticRegression(), clf__estimator__C=0.01, clf__estimator__penalty=l1, clf__estimator__solver=lbfgs, clf__estimator__tol=0.001 \n",
      "[CV]  clf__estimator=LogisticRegression(), clf__estimator__C=0.01, clf__estimator__penalty=l1, clf__estimator__solver=lbfgs, clf__estimator__tol=0.001, score=nan, total=   0.0s\n",
      "[CV] clf__estimator=LogisticRegression(), clf__estimator__C=0.01, clf__estimator__penalty=l1, clf__estimator__solver=liblinear, clf__estimator__tol=0.01 \n",
      "[CV]  clf__estimator=LogisticRegression(), clf__estimator__C=0.01, clf__estimator__penalty=l1, clf__estimator__solver=liblinear, clf__estimator__tol=0.01, score=-0.715, total=   0.0s\n",
      "[CV] clf__estimator=LogisticRegression(), clf__estimator__C=0.01, clf__estimator__penalty=l2, clf__estimator__solver=liblinear, clf__estimator__tol=0.0001 \n",
      "[CV]  clf__estimator=LogisticRegression(), clf__estimator__C=0.01, clf__estimator__penalty=l2, clf__estimator__solver=liblinear, clf__estimator__tol=0.0001, score=-0.051, total=   0.0s\n",
      "[CV] clf__estimator=LogisticRegression(), clf__estimator__C=0.01, clf__estimator__penalty=l2, clf__estimator__solver=liblinear, clf__estimator__tol=0.001 \n",
      "[CV]  clf__estimator=LogisticRegression(), clf__estimator__C=0.01, clf__estimator__penalty=l2, clf__estimator__solver=liblinear, clf__estimator__tol=0.001, score=0.051, total=   0.0s\n",
      "[CV] clf__estimator=LogisticRegression(), clf__estimator__C=0.1, clf__estimator__penalty=l1, clf__estimator__solver=lbfgs, clf__estimator__tol=0.01 \n",
      "[CV]  clf__estimator=LogisticRegression(), clf__estimator__C=0.1, clf__estimator__penalty=l1, clf__estimator__solver=lbfgs, clf__estimator__tol=0.01, score=nan, total=   0.0s\n",
      "[CV] clf__estimator=LogisticRegression(), clf__estimator__C=0.1, clf__estimator__penalty=l2, clf__estimator__solver=lbfgs, clf__estimator__tol=0.0001 \n",
      "[CV]  clf__estimator=LogisticRegression(), clf__estimator__C=0.1, clf__estimator__penalty=l2, clf__estimator__solver=lbfgs, clf__estimator__tol=0.0001, score=0.146, total=   0.0s\n",
      "[CV] clf__estimator=LogisticRegression(), clf__estimator__C=0.1, clf__estimator__penalty=l2, clf__estimator__solver=liblinear, clf__estimator__tol=0.001 \n",
      "[CV]  clf__estimator=LogisticRegression(), clf__estimator__C=0.1, clf__estimator__penalty=l2, clf__estimator__solver=liblinear, clf__estimator__tol=0.001, score=0.146, total=   0.0s\n",
      "[CV] clf__estimator=LogisticRegression(), clf__estimator__C=1.0, clf__estimator__penalty=l1, clf__estimator__solver=lbfgs, clf__estimator__tol=0.01 \n",
      "[CV]  clf__estimator=LogisticRegression(), clf__estimator__C=1.0, clf__estimator__penalty=l1, clf__estimator__solver=lbfgs, clf__estimator__tol=0.01, score=nan, total=   0.0s\n",
      "[CV] clf__estimator=LogisticRegression(), clf__estimator__C=1.0, clf__estimator__penalty=l2, clf__estimator__solver=lbfgs, clf__estimator__tol=0.0001 \n",
      "[CV]  clf__estimator=LogisticRegression(), clf__estimator__C=1.0, clf__estimator__penalty=l2, clf__estimator__solver=lbfgs, clf__estimator__tol=0.0001, score=0.279, total=   0.1s\n",
      "[CV] clf__estimator=LogisticRegression(), clf__estimator__C=1.0, clf__estimator__penalty=l2, clf__estimator__solver=liblinear, clf__estimator__tol=0.001 \n",
      "[CV]  clf__estimator=LogisticRegression(), clf__estimator__C=1.0, clf__estimator__penalty=l2, clf__estimator__solver=liblinear, clf__estimator__tol=0.001, score=0.365, total=   0.0s\n",
      "[CV] clf__estimator=LogisticRegression(), clf__estimator__C=10.0, clf__estimator__penalty=l1, clf__estimator__solver=lbfgs, clf__estimator__tol=0.01 \n",
      "[CV]  clf__estimator=LogisticRegression(), clf__estimator__C=10.0, clf__estimator__penalty=l1, clf__estimator__solver=lbfgs, clf__estimator__tol=0.01, score=nan, total=   0.0s\n",
      "[CV] clf__estimator=LogisticRegression(), clf__estimator__C=10.0, clf__estimator__penalty=l2, clf__estimator__solver=lbfgs, clf__estimator__tol=0.0001 \n",
      "[CV]  clf__estimator=LogisticRegression(), clf__estimator__C=10.0, clf__estimator__penalty=l2, clf__estimator__solver=lbfgs, clf__estimator__tol=0.0001, score=0.365, total=   0.2s\n",
      "[CV] clf__estimator=LogisticRegression(), clf__estimator__C=100.0, clf__estimator__penalty=l1, clf__estimator__solver=lbfgs, clf__estimator__tol=0.0001 \n",
      "[CV]  clf__estimator=LogisticRegression(), clf__estimator__C=100.0, clf__estimator__penalty=l1, clf__estimator__solver=lbfgs, clf__estimator__tol=0.0001, score=nan, total=   0.0s\n",
      "[CV] clf__estimator=LogisticRegression(), clf__estimator__C=100.0, clf__estimator__penalty=l1, clf__estimator__solver=liblinear, clf__estimator__tol=0.0001 \n",
      "[CV]  clf__estimator=LogisticRegression(), clf__estimator__C=100.0, clf__estimator__penalty=l1, clf__estimator__solver=liblinear, clf__estimator__tol=0.0001, score=0.260, total=   0.1s\n",
      "[CV] clf__estimator=LogisticRegression(), clf__estimator__C=100.0, clf__estimator__penalty=l2, clf__estimator__solver=lbfgs, clf__estimator__tol=0.001 [CV] clf__estimator=ExtraTreesClassifier(), clf__estimator__criterion=gini, clf__estimator__n_estimators=250 \n",
      "[CV]  clf__estimator=ExtraTreesClassifier(), clf__estimator__criterion=gini, clf__estimator__n_estimators=250, score=0.078, total=   1.0s\n",
      "[CV] clf__estimator=SVC(), clf__estimator__C=1.0, clf__estimator__degree=4, clf__estimator__kernel=rbf \n",
      "[CV]  clf__estimator=SVC(), clf__estimator__C=1.0, clf__estimator__degree=4, clf__estimator__kernel=rbf, score=0.207, total=   0.0s\n",
      "[CV] clf__estimator=SVC(), clf__estimator__C=1.0, clf__estimator__degree=6, clf__estimator__kernel=rbf \n",
      "[CV]  clf__estimator=SVC(), clf__estimator__C=1.0, clf__estimator__degree=6, clf__estimator__kernel=rbf, score=0.207, total=   0.0s\n",
      "[CV] clf__estimator=SVC(), clf__estimator__C=10.0, clf__estimator__degree=4, clf__estimator__kernel=rbf \n",
      "[CV]  clf__estimator=SVC(), clf__estimator__C=10.0, clf__estimator__degree=4, clf__estimator__kernel=rbf, score=0.133, total=   0.0s\n",
      "[CV] clf__estimator=SVC(), clf__estimator__C=10.0, clf__estimator__degree=6, clf__estimator__kernel=rbf \n",
      "[CV]  clf__estimator=SVC(), clf__estimator__C=10.0, clf__estimator__degree=6, clf__estimator__kernel=rbf, score=0.133, total=   0.0s\n",
      "[CV] clf__estimator=SVC(), clf__estimator__C=100.0, clf__estimator__degree=4, clf__estimator__kernel=rbf \n",
      "[CV]  clf__estimator=SVC(), clf__estimator__C=100.0, clf__estimator__degree=4, clf__estimator__kernel=rbf, score=-0.014, total=   0.0s\n",
      "[CV] clf__estimator=SVC(), clf__estimator__C=100.0, clf__estimator__degree=6, clf__estimator__kernel=rbf \n",
      "[CV]  clf__estimator=SVC(), clf__estimator__C=100.0, clf__estimator__degree=6, clf__estimator__kernel=rbf, score=-0.014, total=   0.0s\n",
      "[CV] clf__estimator=SVC(), clf__estimator__C=1000.0, clf__estimator__degree=4, clf__estimator__kernel=rbf \n",
      "[CV]  clf__estimator=SVC(), clf__estimator__C=1000.0, clf__estimator__degree=4, clf__estimator__kernel=rbf, score=0.048, total=   0.2s\n",
      "[CV] clf__estimator=SVC(), clf__estimator__C=1000.0, clf__estimator__degree=6, clf__estimator__kernel=sigmoid \n",
      "[CV]  clf__estimator=SVC(), clf__estimator__C=1000.0, clf__estimator__degree=6, clf__estimator__kernel=sigmoid, score=-0.348, total=   0.1s\n",
      "[CV] clf__estimator=LogisticRegression(), clf__estimator__C=0.001, clf__estimator__penalty=l1, clf__estimator__solver=liblinear, clf__estimator__tol=0.0001 \n",
      "[CV]  clf__estimator=LogisticRegression(), clf__estimator__C=0.001, clf__estimator__penalty=l1, clf__estimator__solver=liblinear, clf__estimator__tol=0.0001, score=-0.527, total=   0.0s\n",
      "[CV] clf__estimator=LogisticRegression(), clf__estimator__C=0.001, clf__estimator__penalty=l2, clf__estimator__solver=lbfgs, clf__estimator__tol=0.001 \n",
      "[CV]  clf__estimator=LogisticRegression(), clf__estimator__C=0.001, clf__estimator__penalty=l2, clf__estimator__solver=lbfgs, clf__estimator__tol=0.001, score=-0.508, total=   0.0s\n",
      "[CV] clf__estimator=LogisticRegression(), clf__estimator__C=0.001, clf__estimator__penalty=l2, clf__estimator__solver=liblinear, clf__estimator__tol=0.01 \n",
      "[CV]  clf__estimator=LogisticRegression(), clf__estimator__C=0.001, clf__estimator__penalty=l2, clf__estimator__solver=liblinear, clf__estimator__tol=0.01, score=0.008, total=   0.0s\n",
      "[CV] clf__estimator=LogisticRegression(), clf__estimator__C=0.01, clf__estimator__penalty=l1, clf__estimator__solver=lbfgs, clf__estimator__tol=0.0001 \n",
      "[CV]  clf__estimator=LogisticRegression(), clf__estimator__C=0.01, clf__estimator__penalty=l1, clf__estimator__solver=lbfgs, clf__estimator__tol=0.0001, score=nan, total=   0.0s\n",
      "[CV] clf__estimator=LogisticRegression(), clf__estimator__C=0.01, clf__estimator__penalty=l1, clf__estimator__solver=liblinear, clf__estimator__tol=0.001 \n",
      "[CV]  clf__estimator=LogisticRegression(), clf__estimator__C=0.01, clf__estimator__penalty=l1, clf__estimator__solver=liblinear, clf__estimator__tol=0.001, score=-0.632, total=   0.0s\n",
      "[CV] clf__estimator=LogisticRegression(), clf__estimator__C=0.01, clf__estimator__penalty=l2, clf__estimator__solver=lbfgs, clf__estimator__tol=0.01 \n",
      "[CV]  clf__estimator=LogisticRegression(), clf__estimator__C=0.01, clf__estimator__penalty=l2, clf__estimator__solver=lbfgs, clf__estimator__tol=0.01, score=0.032, total=   0.0s\n",
      "[CV] clf__estimator=LogisticRegression(), clf__estimator__C=0.1, clf__estimator__penalty=l1, clf__estimator__solver=lbfgs, clf__estimator__tol=0.0001 \n",
      "[CV]  clf__estimator=LogisticRegression(), clf__estimator__C=0.1, clf__estimator__penalty=l1, clf__estimator__solver=lbfgs, clf__estimator__tol=0.0001, score=nan, total=   0.0s\n",
      "[CV] clf__estimator=LogisticRegression(), clf__estimator__C=0.1, clf__estimator__penalty=l1, clf__estimator__solver=liblinear, clf__estimator__tol=0.001 \n",
      "[CV]  clf__estimator=LogisticRegression(), clf__estimator__C=0.1, clf__estimator__penalty=l1, clf__estimator__solver=liblinear, clf__estimator__tol=0.001, score=0.070, total=   0.0s\n",
      "[CV] clf__estimator=LogisticRegression(), clf__estimator__C=0.1, clf__estimator__penalty=l2, clf__estimator__solver=lbfgs, clf__estimator__tol=0.01 \n",
      "[CV]  clf__estimator=LogisticRegression(), clf__estimator__C=0.1, clf__estimator__penalty=l2, clf__estimator__solver=lbfgs, clf__estimator__tol=0.01, score=0.146, total=   0.0s\n",
      "[CV] clf__estimator=LogisticRegression(), clf__estimator__C=0.1, clf__estimator__penalty=l2, clf__estimator__solver=liblinear, clf__estimator__tol=0.001 \n",
      "[CV]  clf__estimator=LogisticRegression(), clf__estimator__C=0.1, clf__estimator__penalty=l2, clf__estimator__solver=liblinear, clf__estimator__tol=0.001, score=0.306, total=   0.0s\n",
      "[CV] clf__estimator=LogisticRegression(), clf__estimator__C=0.1, clf__estimator__penalty=l2, clf__estimator__solver=liblinear, clf__estimator__tol=0.01 \n",
      "[CV]  clf__estimator=LogisticRegression(), clf__estimator__C=0.1, clf__estimator__penalty=l2, clf__estimator__solver=liblinear, clf__estimator__tol=0.01, score=0.306, total=   0.0s\n",
      "[CV] clf__estimator=LogisticRegression(), clf__estimator__C=1.0, clf__estimator__penalty=l1, clf__estimator__solver=liblinear, clf__estimator__tol=0.0001 \n",
      "[CV]  clf__estimator=LogisticRegression(), clf__estimator__C=1.0, clf__estimator__penalty=l1, clf__estimator__solver=liblinear, clf__estimator__tol=0.0001, score=0.241, total=   0.0s\n",
      "[CV] clf__estimator=LogisticRegression(), clf__estimator__C=1.0, clf__estimator__penalty=l2, clf__estimator__solver=lbfgs, clf__estimator__tol=0.001 \n",
      "[CV]  clf__estimator=LogisticRegression(), clf__estimator__C=1.0, clf__estimator__penalty=l2, clf__estimator__solver=lbfgs, clf__estimator__tol=0.001, score=0.279, total=   0.1s\n",
      "[CV] clf__estimator=LogisticRegression(), clf__estimator__C=1.0, clf__estimator__penalty=l2, clf__estimator__solver=liblinear, clf__estimator__tol=0.01 \n",
      "[CV]  clf__estimator=LogisticRegression(), clf__estimator__C=1.0, clf__estimator__penalty=l2, clf__estimator__solver=liblinear, clf__estimator__tol=0.01, score=0.279, total=   0.0s\n",
      "[CV] clf__estimator=LogisticRegression(), clf__estimator__C=10.0, clf__estimator__penalty=l1, clf__estimator__solver=liblinear, clf__estimator__tol=0.001 \n",
      "[CV]  clf__estimator=LogisticRegression(), clf__estimator__C=10.0, clf__estimator__penalty=l1, clf__estimator__solver=liblinear, clf__estimator__tol=0.001, score=0.152, total=   0.0s\n",
      "[CV] clf__estimator=LogisticRegression(), clf__estimator__C=10.0, clf__estimator__penalty=l2, clf__estimator__solver=lbfgs, clf__estimator__tol=0.001 \n",
      "[CV]  clf__estimator=LogisticRegression(), clf__estimator__C=10.0, clf__estimator__penalty=l2, clf__estimator__solver=lbfgs, clf__estimator__tol=0.001, score=nan, total=   0.2s\n",
      "[CV] clf__estimator=LogisticRegression(), clf__estimator__C=100.0, clf__estimator__penalty=l1, clf__estimator__solver=lbfgs, clf__estimator__tol=0.0001 \n",
      "[CV]  clf__estimator=LogisticRegression(), clf__estimator__C=100.0, clf__estimator__penalty=l1, clf__estimator__solver=lbfgs, clf__estimator__tol=0.0001, score=nan, total=   0.0s\n",
      "[CV] clf__estimator=LogisticRegression(), clf__estimator__C=100.0, clf__estimator__penalty=l1, clf__estimator__solver=liblinear, clf__estimator__tol=0.001 \n",
      "[CV]  clf__estimator=LogisticRegression(), clf__estimator__C=100.0, clf__estimator__penalty=l1, clf__estimator__solver=liblinear, clf__estimator__tol=0.001, score=0.365, total=   0.1s\n",
      "[CV] clf__estimator=LogisticRegression(), clf__estimator__C=100.0, clf__estimator__penalty=l2, clf__estimator__solver=lbfgs, clf__estimator__tol=0.001 [CV] clf__estimator=ExtraTreesClassifier(), clf__estimator__criterion=gini, clf__estimator__n_estimators=250 \n",
      "[CV]  clf__estimator=ExtraTreesClassifier(), clf__estimator__criterion=gini, clf__estimator__n_estimators=250, score=0.222, total=   0.9s\n",
      "[CV] clf__estimator=SVC(), clf__estimator__C=1.0, clf__estimator__degree=4, clf__estimator__kernel=sigmoid \n",
      "[CV]  clf__estimator=SVC(), clf__estimator__C=1.0, clf__estimator__degree=4, clf__estimator__kernel=sigmoid, score=-0.328, total=   0.0s\n",
      "[CV] clf__estimator=SVC(), clf__estimator__C=1.0, clf__estimator__degree=5, clf__estimator__kernel=rbf \n",
      "[CV]  clf__estimator=SVC(), clf__estimator__C=1.0, clf__estimator__degree=5, clf__estimator__kernel=rbf, score=0.345, total=   0.0s\n",
      "[CV] clf__estimator=SVC(), clf__estimator__C=10.0, clf__estimator__degree=3, clf__estimator__kernel=rbf \n",
      "[CV]  clf__estimator=SVC(), clf__estimator__C=10.0, clf__estimator__degree=3, clf__estimator__kernel=rbf, score=0.365, total=   0.0s\n",
      "[CV] clf__estimator=SVC(), clf__estimator__C=10.0, clf__estimator__degree=5, clf__estimator__kernel=rbf \n",
      "[CV]  clf__estimator=SVC(), clf__estimator__C=10.0, clf__estimator__degree=5, clf__estimator__kernel=rbf, score=0.365, total=   0.0s\n",
      "[CV] clf__estimator=SVC(), clf__estimator__C=100.0, clf__estimator__degree=3, clf__estimator__kernel=rbf \n",
      "[CV]  clf__estimator=SVC(), clf__estimator__C=100.0, clf__estimator__degree=3, clf__estimator__kernel=rbf, score=0.306, total=   0.0s\n",
      "[CV] clf__estimator=SVC(), clf__estimator__C=100.0, clf__estimator__degree=5, clf__estimator__kernel=rbf \n",
      "[CV]  clf__estimator=SVC(), clf__estimator__C=100.0, clf__estimator__degree=5, clf__estimator__kernel=rbf, score=0.306, total=   0.0s\n",
      "[CV] clf__estimator=SVC(), clf__estimator__C=100.0, clf__estimator__degree=5, clf__estimator__kernel=sigmoid \n",
      "[CV]  clf__estimator=SVC(), clf__estimator__C=100.0, clf__estimator__degree=5, clf__estimator__kernel=sigmoid, score=-0.348, total=   0.0s\n",
      "[CV] clf__estimator=SVC(), clf__estimator__C=100.0, clf__estimator__degree=6, clf__estimator__kernel=sigmoid \n",
      "[CV]  clf__estimator=SVC(), clf__estimator__C=100.0, clf__estimator__degree=6, clf__estimator__kernel=sigmoid, score=-0.383, total=   0.0s\n",
      "[CV] clf__estimator=SVC(), clf__estimator__C=1000.0, clf__estimator__degree=4, clf__estimator__kernel=sigmoid \n",
      "[CV]  clf__estimator=SVC(), clf__estimator__C=1000.0, clf__estimator__degree=4, clf__estimator__kernel=sigmoid, score=-0.383, total=   0.0s\n",
      "[CV] clf__estimator=SVC(), clf__estimator__C=1000.0, clf__estimator__degree=6, clf__estimator__kernel=rbf \n",
      "[CV]  clf__estimator=SVC(), clf__estimator__C=1000.0, clf__estimator__degree=6, clf__estimator__kernel=rbf, score=0.048, total=   0.2s\n",
      "[CV] clf__estimator=LogisticRegression(), clf__estimator__C=0.001, clf__estimator__penalty=l1, clf__estimator__solver=liblinear, clf__estimator__tol=0.001 \n",
      "[CV]  clf__estimator=LogisticRegression(), clf__estimator__C=0.001, clf__estimator__penalty=l1, clf__estimator__solver=liblinear, clf__estimator__tol=0.001, score=-0.715, total=   0.0s\n",
      "[CV] clf__estimator=LogisticRegression(), clf__estimator__C=0.001, clf__estimator__penalty=l2, clf__estimator__solver=lbfgs, clf__estimator__tol=0.01 \n",
      "[CV]  clf__estimator=LogisticRegression(), clf__estimator__C=0.001, clf__estimator__penalty=l2, clf__estimator__solver=lbfgs, clf__estimator__tol=0.01, score=-0.678, total=   0.0s\n",
      "[CV] clf__estimator=LogisticRegression(), clf__estimator__C=0.001, clf__estimator__penalty=l2, clf__estimator__solver=liblinear, clf__estimator__tol=0.01 \n",
      "[CV]  clf__estimator=LogisticRegression(), clf__estimator__C=0.001, clf__estimator__penalty=l2, clf__estimator__solver=liblinear, clf__estimator__tol=0.01, score=-0.196, total=   0.0s\n",
      "[CV] clf__estimator=LogisticRegression(), clf__estimator__C=0.01, clf__estimator__penalty=l1, clf__estimator__solver=liblinear, clf__estimator__tol=0.0001 \n",
      "[CV]  clf__estimator=LogisticRegression(), clf__estimator__C=0.01, clf__estimator__penalty=l1, clf__estimator__solver=liblinear, clf__estimator__tol=0.0001, score=-0.632, total=   0.0s\n",
      "[CV] clf__estimator=LogisticRegression(), clf__estimator__C=0.01, clf__estimator__penalty=l2, clf__estimator__solver=lbfgs, clf__estimator__tol=0.001 \n",
      "[CV]  clf__estimator=LogisticRegression(), clf__estimator__C=0.01, clf__estimator__penalty=l2, clf__estimator__solver=lbfgs, clf__estimator__tol=0.001, score=0.032, total=   0.0s\n",
      "[CV] clf__estimator=LogisticRegression(), clf__estimator__C=0.01, clf__estimator__penalty=l2, clf__estimator__solver=liblinear, clf__estimator__tol=0.01 \n",
      "[CV]  clf__estimator=LogisticRegression(), clf__estimator__C=0.01, clf__estimator__penalty=l2, clf__estimator__solver=liblinear, clf__estimator__tol=0.01, score=0.051, total=   0.0s\n",
      "[CV] clf__estimator=LogisticRegression(), clf__estimator__C=0.1, clf__estimator__penalty=l1, clf__estimator__solver=liblinear, clf__estimator__tol=0.0001 \n",
      "[CV]  clf__estimator=LogisticRegression(), clf__estimator__C=0.1, clf__estimator__penalty=l1, clf__estimator__solver=liblinear, clf__estimator__tol=0.0001, score=0.070, total=   0.0s\n",
      "[CV] clf__estimator=LogisticRegression(), clf__estimator__C=0.1, clf__estimator__penalty=l2, clf__estimator__solver=lbfgs, clf__estimator__tol=0.001 \n",
      "[CV]  clf__estimator=LogisticRegression(), clf__estimator__C=0.1, clf__estimator__penalty=l2, clf__estimator__solver=lbfgs, clf__estimator__tol=0.001, score=0.146, total=   0.0s\n",
      "[CV] clf__estimator=LogisticRegression(), clf__estimator__C=0.1, clf__estimator__penalty=l2, clf__estimator__solver=liblinear, clf__estimator__tol=0.01 \n",
      "[CV]  clf__estimator=LogisticRegression(), clf__estimator__C=0.1, clf__estimator__penalty=l2, clf__estimator__solver=liblinear, clf__estimator__tol=0.01, score=0.146, total=   0.0s\n",
      "[CV] clf__estimator=LogisticRegression(), clf__estimator__C=1.0, clf__estimator__penalty=l1, clf__estimator__solver=liblinear, clf__estimator__tol=0.0001 \n",
      "[CV]  clf__estimator=LogisticRegression(), clf__estimator__C=1.0, clf__estimator__penalty=l1, clf__estimator__solver=liblinear, clf__estimator__tol=0.0001, score=0.326, total=   0.0s\n",
      "[CV] clf__estimator=LogisticRegression(), clf__estimator__C=1.0, clf__estimator__penalty=l2, clf__estimator__solver=lbfgs, clf__estimator__tol=0.001 \n",
      "[CV]  clf__estimator=LogisticRegression(), clf__estimator__C=1.0, clf__estimator__penalty=l2, clf__estimator__solver=lbfgs, clf__estimator__tol=0.001, score=0.365, total=   0.1s\n",
      "[CV] clf__estimator=LogisticRegression(), clf__estimator__C=1.0, clf__estimator__penalty=l2, clf__estimator__solver=liblinear, clf__estimator__tol=0.01 \n",
      "[CV]  clf__estimator=LogisticRegression(), clf__estimator__C=1.0, clf__estimator__penalty=l2, clf__estimator__solver=liblinear, clf__estimator__tol=0.01, score=0.365, total=   0.0s\n",
      "[CV] clf__estimator=LogisticRegression(), clf__estimator__C=10.0, clf__estimator__penalty=l1, clf__estimator__solver=lbfgs, clf__estimator__tol=0.0001 \n",
      "[CV]  clf__estimator=LogisticRegression(), clf__estimator__C=10.0, clf__estimator__penalty=l1, clf__estimator__solver=lbfgs, clf__estimator__tol=0.0001, score=nan, total=   0.0s\n",
      "[CV] clf__estimator=LogisticRegression(), clf__estimator__C=10.0, clf__estimator__penalty=l1, clf__estimator__solver=liblinear, clf__estimator__tol=0.001 \n",
      "[CV]  clf__estimator=LogisticRegression(), clf__estimator__C=10.0, clf__estimator__penalty=l1, clf__estimator__solver=liblinear, clf__estimator__tol=0.001, score=0.365, total=   0.1s\n",
      "[CV] clf__estimator=LogisticRegression(), clf__estimator__C=10.0, clf__estimator__penalty=l2, clf__estimator__solver=lbfgs, clf__estimator__tol=0.01 \n",
      "[CV]  clf__estimator=LogisticRegression(), clf__estimator__C=10.0, clf__estimator__penalty=l2, clf__estimator__solver=lbfgs, clf__estimator__tol=0.01, score=0.152, total=   0.2s\n",
      "[CV] clf__estimator=LogisticRegression(), clf__estimator__C=100.0, clf__estimator__penalty=l1, clf__estimator__solver=lbfgs, clf__estimator__tol=0.01 \n",
      "[CV]  clf__estimator=LogisticRegression(), clf__estimator__C=100.0, clf__estimator__penalty=l1, clf__estimator__solver=lbfgs, clf__estimator__tol=0.01, score=nan, total=   0.0s\n",
      "[CV] clf__estimator=LogisticRegression(), clf__estimator__C=100.0, clf__estimator__penalty=l2, clf__estimator__solver=lbfgs, clf__estimator__tol=0.0001 \n",
      "[CV]  clf__estimator=LogisticRegression(), clf__estimator__C=100.0, clf__estimator__penalty=l2, clf__estimator__solver=lbfgs, clf__estimator__tol=0.0001, score=0.365, total=   0.1s"
     ]
    },
    {
     "name": "stderr",
     "output_type": "stream",
     "text": [
      "/opt/conda/lib/python3.7/site-packages/sklearn/model_selection/_validation.py:552: FitFailedWarning: Estimator fit failed. The score on this train-test partition for these parameters will be set to nan. Details: \n",
      "Traceback (most recent call last):\n",
      "  File \"/opt/conda/lib/python3.7/site-packages/sklearn/model_selection/_validation.py\", line 531, in _fit_and_score\n",
      "    estimator.fit(X_train, y_train, **fit_params)\n",
      "  File \"/opt/conda/lib/python3.7/site-packages/sklearn/pipeline.py\", line 335, in fit\n",
      "    self._final_estimator.fit(Xt, y, **fit_params_last_step)\n",
      "  File \"/tmp/ipykernel_20/3915449350.py\", line 15, in fit\n",
      "  File \"/opt/conda/lib/python3.7/site-packages/sklearn/linear_model/_logistic.py\", line 1304, in fit\n",
      "    solver = _check_solver(self.solver, self.penalty, self.dual)\n",
      "  File \"/opt/conda/lib/python3.7/site-packages/sklearn/linear_model/_logistic.py\", line 443, in _check_solver\n",
      "    \"got %s penalty.\" % (solver, penalty))\n",
      "ValueError: Solver lbfgs supports only 'l2' or 'none' penalties, got l1 penalty.\n",
      "\n",
      "  FitFailedWarning)\n",
      "/opt/conda/lib/python3.7/site-packages/sklearn/model_selection/_validation.py:552: FitFailedWarning: Estimator fit failed. The score on this train-test partition for these parameters will be set to nan. Details: \n",
      "Traceback (most recent call last):\n",
      "  File \"/opt/conda/lib/python3.7/site-packages/sklearn/model_selection/_validation.py\", line 531, in _fit_and_score\n",
      "    estimator.fit(X_train, y_train, **fit_params)\n",
      "  File \"/opt/conda/lib/python3.7/site-packages/sklearn/pipeline.py\", line 335, in fit\n",
      "    self._final_estimator.fit(Xt, y, **fit_params_last_step)\n",
      "  File \"/tmp/ipykernel_20/3915449350.py\", line 15, in fit\n",
      "  File \"/opt/conda/lib/python3.7/site-packages/sklearn/linear_model/_logistic.py\", line 1304, in fit\n",
      "    solver = _check_solver(self.solver, self.penalty, self.dual)\n",
      "  File \"/opt/conda/lib/python3.7/site-packages/sklearn/linear_model/_logistic.py\", line 443, in _check_solver\n",
      "    \"got %s penalty.\" % (solver, penalty))\n",
      "ValueError: Solver lbfgs supports only 'l2' or 'none' penalties, got l1 penalty.\n",
      "\n",
      "  FitFailedWarning)\n",
      "/opt/conda/lib/python3.7/site-packages/sklearn/model_selection/_validation.py:552: FitFailedWarning: Estimator fit failed. The score on this train-test partition for these parameters will be set to nan. Details: \n",
      "Traceback (most recent call last):\n",
      "  File \"/opt/conda/lib/python3.7/site-packages/sklearn/model_selection/_validation.py\", line 531, in _fit_and_score\n",
      "    estimator.fit(X_train, y_train, **fit_params)\n",
      "  File \"/opt/conda/lib/python3.7/site-packages/sklearn/pipeline.py\", line 335, in fit\n",
      "    self._final_estimator.fit(Xt, y, **fit_params_last_step)\n",
      "  File \"/tmp/ipykernel_20/3915449350.py\", line 15, in fit\n",
      "  File \"/opt/conda/lib/python3.7/site-packages/sklearn/linear_model/_logistic.py\", line 1304, in fit\n",
      "    solver = _check_solver(self.solver, self.penalty, self.dual)\n",
      "  File \"/opt/conda/lib/python3.7/site-packages/sklearn/linear_model/_logistic.py\", line 443, in _check_solver\n",
      "    \"got %s penalty.\" % (solver, penalty))\n",
      "ValueError: Solver lbfgs supports only 'l2' or 'none' penalties, got l1 penalty.\n",
      "\n",
      "  FitFailedWarning)\n",
      "/opt/conda/lib/python3.7/site-packages/sklearn/model_selection/_validation.py:552: FitFailedWarning: Estimator fit failed. The score on this train-test partition for these parameters will be set to nan. Details: \n",
      "Traceback (most recent call last):\n",
      "  File \"/opt/conda/lib/python3.7/site-packages/sklearn/model_selection/_validation.py\", line 531, in _fit_and_score\n",
      "    estimator.fit(X_train, y_train, **fit_params)\n",
      "  File \"/opt/conda/lib/python3.7/site-packages/sklearn/pipeline.py\", line 335, in fit\n",
      "    self._final_estimator.fit(Xt, y, **fit_params_last_step)\n",
      "  File \"/tmp/ipykernel_20/3915449350.py\", line 15, in fit\n",
      "  File \"/opt/conda/lib/python3.7/site-packages/sklearn/linear_model/_logistic.py\", line 1304, in fit\n",
      "    solver = _check_solver(self.solver, self.penalty, self.dual)\n",
      "  File \"/opt/conda/lib/python3.7/site-packages/sklearn/linear_model/_logistic.py\", line 443, in _check_solver\n",
      "    \"got %s penalty.\" % (solver, penalty))\n",
      "ValueError: Solver lbfgs supports only 'l2' or 'none' penalties, got l1 penalty.\n",
      "\n",
      "  FitFailedWarning)\n",
      "/opt/conda/lib/python3.7/site-packages/sklearn/model_selection/_validation.py:552: FitFailedWarning: Estimator fit failed. The score on this train-test partition for these parameters will be set to nan. Details: \n",
      "Traceback (most recent call last):\n",
      "  File \"/opt/conda/lib/python3.7/site-packages/sklearn/model_selection/_validation.py\", line 531, in _fit_and_score\n",
      "    estimator.fit(X_train, y_train, **fit_params)\n",
      "  File \"/opt/conda/lib/python3.7/site-packages/sklearn/pipeline.py\", line 335, in fit\n",
      "    self._final_estimator.fit(Xt, y, **fit_params_last_step)\n",
      "  File \"/tmp/ipykernel_20/3915449350.py\", line 15, in fit\n",
      "  File \"/opt/conda/lib/python3.7/site-packages/sklearn/linear_model/_logistic.py\", line 1304, in fit\n",
      "    solver = _check_solver(self.solver, self.penalty, self.dual)\n",
      "  File \"/opt/conda/lib/python3.7/site-packages/sklearn/linear_model/_logistic.py\", line 443, in _check_solver\n",
      "    \"got %s penalty.\" % (solver, penalty))\n",
      "ValueError: Solver lbfgs supports only 'l2' or 'none' penalties, got l1 penalty.\n",
      "\n",
      "  FitFailedWarning)\n",
      "/opt/conda/lib/python3.7/site-packages/sklearn/model_selection/_validation.py:552: FitFailedWarning: Estimator fit failed. The score on this train-test partition for these parameters will be set to nan. Details: \n",
      "Traceback (most recent call last):\n",
      "  File \"/opt/conda/lib/python3.7/site-packages/sklearn/model_selection/_validation.py\", line 531, in _fit_and_score\n",
      "    estimator.fit(X_train, y_train, **fit_params)\n",
      "  File \"/opt/conda/lib/python3.7/site-packages/sklearn/pipeline.py\", line 335, in fit\n",
      "    self._final_estimator.fit(Xt, y, **fit_params_last_step)\n",
      "  File \"/tmp/ipykernel_20/3915449350.py\", line 15, in fit\n",
      "  File \"/opt/conda/lib/python3.7/site-packages/sklearn/linear_model/_logistic.py\", line 1304, in fit\n",
      "    solver = _check_solver(self.solver, self.penalty, self.dual)\n",
      "  File \"/opt/conda/lib/python3.7/site-packages/sklearn/linear_model/_logistic.py\", line 443, in _check_solver\n",
      "    \"got %s penalty.\" % (solver, penalty))\n",
      "ValueError: Solver lbfgs supports only 'l2' or 'none' penalties, got l1 penalty.\n",
      "\n",
      "  FitFailedWarning)\n",
      "/opt/conda/lib/python3.7/site-packages/sklearn/model_selection/_validation.py:552: FitFailedWarning: Estimator fit failed. The score on this train-test partition for these parameters will be set to nan. Details: \n",
      "Traceback (most recent call last):\n",
      "  File \"/opt/conda/lib/python3.7/site-packages/sklearn/model_selection/_validation.py\", line 531, in _fit_and_score\n",
      "    estimator.fit(X_train, y_train, **fit_params)\n",
      "  File \"/opt/conda/lib/python3.7/site-packages/sklearn/pipeline.py\", line 335, in fit\n",
      "    self._final_estimator.fit(Xt, y, **fit_params_last_step)\n",
      "  File \"/tmp/ipykernel_20/3915449350.py\", line 15, in fit\n",
      "  File \"/opt/conda/lib/python3.7/site-packages/sklearn/linear_model/_logistic.py\", line 1417, in fit\n",
      "    for class_, warm_start_coef_ in zip(classes_, warm_start_coef))\n",
      "  File \"/opt/conda/lib/python3.7/site-packages/joblib/parallel.py\", line 1043, in __call__\n",
      "    if self.dispatch_one_batch(iterator):\n",
      "  File \"/opt/conda/lib/python3.7/site-packages/joblib/parallel.py\", line 861, in dispatch_one_batch\n",
      "    self._dispatch(tasks)\n",
      "  File \"/opt/conda/lib/python3.7/site-packages/joblib/parallel.py\", line 779, in _dispatch\n",
      "    job = self._backend.apply_async(batch, callback=cb)\n",
      "  File \"/opt/conda/lib/python3.7/site-packages/joblib/_parallel_backends.py\", line 208, in apply_async\n",
      "    result = ImmediateResult(func)\n",
      "  File \"/opt/conda/lib/python3.7/site-packages/joblib/_parallel_backends.py\", line 572, in __init__\n",
      "    self.results = batch()\n",
      "  File \"/opt/conda/lib/python3.7/site-packages/joblib/parallel.py\", line 263, in __call__\n",
      "    for func, args, kwargs in self.items]\n",
      "  File \"/opt/conda/lib/python3.7/site-packages/joblib/parallel.py\", line 263, in <listcomp>\n",
      "    for func, args, kwargs in self.items]\n",
      "  File \"/opt/conda/lib/python3.7/site-packages/sklearn/linear_model/_logistic.py\", line 764, in _logistic_regression_path\n",
      "    extra_warning_msg=_LOGISTIC_SOLVER_CONVERGENCE_MSG)\n",
      "  File \"/opt/conda/lib/python3.7/site-packages/sklearn/utils/optimize.py\", line 243, in _check_optimize_result\n",
      "    ).format(solver, result.status, result.message.decode(\"latin1\"))\n",
      "AttributeError: 'str' object has no attribute 'decode'\n",
      "\n",
      "  FitFailedWarning)\n",
      "/opt/conda/lib/python3.7/site-packages/sklearn/model_selection/_validation.py:552: FitFailedWarning: Estimator fit failed. The score on this train-test partition for these parameters will be set to nan. Details: \n",
      "Traceback (most recent call last):\n",
      "  File \"/opt/conda/lib/python3.7/site-packages/sklearn/model_selection/_validation.py\", line 531, in _fit_and_score\n",
      "    estimator.fit(X_train, y_train, **fit_params)\n",
      "  File \"/opt/conda/lib/python3.7/site-packages/sklearn/pipeline.py\", line 335, in fit\n",
      "    self._final_estimator.fit(Xt, y, **fit_params_last_step)\n",
      "  File \"/tmp/ipykernel_20/3915449350.py\", line 15, in fit\n",
      "  File \"/opt/conda/lib/python3.7/site-packages/sklearn/linear_model/_logistic.py\", line 1304, in fit\n",
      "    solver = _check_solver(self.solver, self.penalty, self.dual)\n",
      "  File \"/opt/conda/lib/python3.7/site-packages/sklearn/linear_model/_logistic.py\", line 443, in _check_solver\n",
      "    \"got %s penalty.\" % (solver, penalty))\n",
      "ValueError: Solver lbfgs supports only 'l2' or 'none' penalties, got l1 penalty.\n",
      "\n",
      "  FitFailedWarning)\n",
      "/opt/conda/lib/python3.7/site-packages/sklearn/model_selection/_validation.py:552: FitFailedWarning: Estimator fit failed. The score on this train-test partition for these parameters will be set to nan. Details: \n",
      "Traceback (most recent call last):\n",
      "  File \"/opt/conda/lib/python3.7/site-packages/sklearn/model_selection/_validation.py\", line 531, in _fit_and_score\n",
      "    estimator.fit(X_train, y_train, **fit_params)\n",
      "  File \"/opt/conda/lib/python3.7/site-packages/sklearn/pipeline.py\", line 335, in fit\n",
      "    self._final_estimator.fit(Xt, y, **fit_params_last_step)\n",
      "  File \"/tmp/ipykernel_20/3915449350.py\", line 15, in fit\n",
      "  File \"/opt/conda/lib/python3.7/site-packages/sklearn/linear_model/_logistic.py\", line 1304, in fit\n",
      "    solver = _check_solver(self.solver, self.penalty, self.dual)\n",
      "  File \"/opt/conda/lib/python3.7/site-packages/sklearn/linear_model/_logistic.py\", line 443, in _check_solver\n",
      "    \"got %s penalty.\" % (solver, penalty))\n",
      "ValueError: Solver lbfgs supports only 'l2' or 'none' penalties, got l1 penalty.\n",
      "\n",
      "  FitFailedWarning)\n",
      "/opt/conda/lib/python3.7/site-packages/sklearn/model_selection/_validation.py:552: FitFailedWarning: Estimator fit failed. The score on this train-test partition for these parameters will be set to nan. Details: \n",
      "Traceback (most recent call last):\n",
      "  File \"/opt/conda/lib/python3.7/site-packages/sklearn/model_selection/_validation.py\", line 531, in _fit_and_score\n",
      "    estimator.fit(X_train, y_train, **fit_params)\n",
      "  File \"/opt/conda/lib/python3.7/site-packages/sklearn/pipeline.py\", line 335, in fit\n",
      "    self._final_estimator.fit(Xt, y, **fit_params_last_step)\n",
      "  File \"/tmp/ipykernel_20/3915449350.py\", line 15, in fit\n",
      "  File \"/opt/conda/lib/python3.7/site-packages/sklearn/linear_model/_logistic.py\", line 1304, in fit\n",
      "    solver = _check_solver(self.solver, self.penalty, self.dual)\n",
      "  File \"/opt/conda/lib/python3.7/site-packages/sklearn/linear_model/_logistic.py\", line 443, in _check_solver\n",
      "    \"got %s penalty.\" % (solver, penalty))\n",
      "ValueError: Solver lbfgs supports only 'l2' or 'none' penalties, got l1 penalty.\n",
      "\n",
      "  FitFailedWarning)\n",
      "/opt/conda/lib/python3.7/site-packages/sklearn/model_selection/_validation.py:552: FitFailedWarning: Estimator fit failed. The score on this train-test partition for these parameters will be set to nan. Details: \n",
      "Traceback (most recent call last):\n",
      "  File \"/opt/conda/lib/python3.7/site-packages/sklearn/model_selection/_validation.py\", line 531, in _fit_and_score\n",
      "    estimator.fit(X_train, y_train, **fit_params)\n",
      "  File \"/opt/conda/lib/python3.7/site-packages/sklearn/pipeline.py\", line 335, in fit\n",
      "    self._final_estimator.fit(Xt, y, **fit_params_last_step)\n",
      "  File \"/tmp/ipykernel_20/3915449350.py\", line 15, in fit\n",
      "  File \"/opt/conda/lib/python3.7/site-packages/sklearn/linear_model/_logistic.py\", line 1304, in fit\n",
      "    solver = _check_solver(self.solver, self.penalty, self.dual)\n",
      "  File \"/opt/conda/lib/python3.7/site-packages/sklearn/linear_model/_logistic.py\", line 443, in _check_solver\n",
      "    \"got %s penalty.\" % (solver, penalty))\n",
      "ValueError: Solver lbfgs supports only 'l2' or 'none' penalties, got l1 penalty.\n",
      "\n",
      "  FitFailedWarning)\n",
      "/opt/conda/lib/python3.7/site-packages/sklearn/model_selection/_validation.py:552: FitFailedWarning: Estimator fit failed. The score on this train-test partition for these parameters will be set to nan. Details: \n",
      "Traceback (most recent call last):\n",
      "  File \"/opt/conda/lib/python3.7/site-packages/sklearn/model_selection/_validation.py\", line 531, in _fit_and_score\n",
      "    estimator.fit(X_train, y_train, **fit_params)\n",
      "  File \"/opt/conda/lib/python3.7/site-packages/sklearn/pipeline.py\", line 335, in fit\n",
      "    self._final_estimator.fit(Xt, y, **fit_params_last_step)\n",
      "  File \"/tmp/ipykernel_20/3915449350.py\", line 15, in fit\n",
      "  File \"/opt/conda/lib/python3.7/site-packages/sklearn/linear_model/_logistic.py\", line 1304, in fit\n",
      "    solver = _check_solver(self.solver, self.penalty, self.dual)\n",
      "  File \"/opt/conda/lib/python3.7/site-packages/sklearn/linear_model/_logistic.py\", line 443, in _check_solver\n",
      "    \"got %s penalty.\" % (solver, penalty))\n",
      "ValueError: Solver lbfgs supports only 'l2' or 'none' penalties, got l1 penalty.\n",
      "\n",
      "  FitFailedWarning)\n",
      "/opt/conda/lib/python3.7/site-packages/sklearn/model_selection/_validation.py:552: FitFailedWarning: Estimator fit failed. The score on this train-test partition for these parameters will be set to nan. Details: \n",
      "Traceback (most recent call last):\n",
      "  File \"/opt/conda/lib/python3.7/site-packages/sklearn/model_selection/_validation.py\", line 531, in _fit_and_score\n",
      "    estimator.fit(X_train, y_train, **fit_params)\n",
      "  File \"/opt/conda/lib/python3.7/site-packages/sklearn/pipeline.py\", line 335, in fit\n",
      "    self._final_estimator.fit(Xt, y, **fit_params_last_step)\n",
      "  File \"/tmp/ipykernel_20/3915449350.py\", line 15, in fit\n",
      "  File \"/opt/conda/lib/python3.7/site-packages/sklearn/linear_model/_logistic.py\", line 1304, in fit\n",
      "    solver = _check_solver(self.solver, self.penalty, self.dual)\n",
      "  File \"/opt/conda/lib/python3.7/site-packages/sklearn/linear_model/_logistic.py\", line 443, in _check_solver\n",
      "    \"got %s penalty.\" % (solver, penalty))\n",
      "ValueError: Solver lbfgs supports only 'l2' or 'none' penalties, got l1 penalty.\n",
      "\n",
      "  FitFailedWarning)\n",
      "/opt/conda/lib/python3.7/site-packages/sklearn/model_selection/_validation.py:552: FitFailedWarning: Estimator fit failed. The score on this train-test partition for these parameters will be set to nan. Details: \n",
      "Traceback (most recent call last):\n",
      "  File \"/opt/conda/lib/python3.7/site-packages/sklearn/model_selection/_validation.py\", line 531, in _fit_and_score\n",
      "    estimator.fit(X_train, y_train, **fit_params)\n",
      "  File \"/opt/conda/lib/python3.7/site-packages/sklearn/pipeline.py\", line 335, in fit\n",
      "    self._final_estimator.fit(Xt, y, **fit_params_last_step)\n",
      "  File \"/tmp/ipykernel_20/3915449350.py\", line 15, in fit\n",
      "  File \"/opt/conda/lib/python3.7/site-packages/sklearn/linear_model/_logistic.py\", line 1417, in fit\n",
      "    for class_, warm_start_coef_ in zip(classes_, warm_start_coef))\n",
      "  File \"/opt/conda/lib/python3.7/site-packages/joblib/parallel.py\", line 1043, in __call__\n",
      "    if self.dispatch_one_batch(iterator):\n",
      "  File \"/opt/conda/lib/python3.7/site-packages/joblib/parallel.py\", line 861, in dispatch_one_batch\n",
      "    self._dispatch(tasks)\n",
      "  File \"/opt/conda/lib/python3.7/site-packages/joblib/parallel.py\", line 779, in _dispatch\n",
      "    job = self._backend.apply_async(batch, callback=cb)\n",
      "  File \"/opt/conda/lib/python3.7/site-packages/joblib/_parallel_backends.py\", line 208, in apply_async\n",
      "    result = ImmediateResult(func)\n",
      "  File \"/opt/conda/lib/python3.7/site-packages/joblib/_parallel_backends.py\", line 572, in __init__\n",
      "    self.results = batch()\n",
      "  File \"/opt/conda/lib/python3.7/site-packages/joblib/parallel.py\", line 263, in __call__\n",
      "    for func, args, kwargs in self.items]\n",
      "  File \"/opt/conda/lib/python3.7/site-packages/joblib/parallel.py\", line 263, in <listcomp>\n",
      "    for func, args, kwargs in self.items]\n",
      "  File \"/opt/conda/lib/python3.7/site-packages/sklearn/linear_model/_logistic.py\", line 764, in _logistic_regression_path\n",
      "    extra_warning_msg=_LOGISTIC_SOLVER_CONVERGENCE_MSG)\n",
      "  File \"/opt/conda/lib/python3.7/site-packages/sklearn/utils/optimize.py\", line 243, in _check_optimize_result\n",
      "    ).format(solver, result.status, result.message.decode(\"latin1\"))\n",
      "AttributeError: 'str' object has no attribute 'decode'\n",
      "\n",
      "  FitFailedWarning)\n",
      "/opt/conda/lib/python3.7/site-packages/sklearn/model_selection/_validation.py:552: FitFailedWarning: Estimator fit failed. The score on this train-test partition for these parameters will be set to nan. Details: \n",
      "Traceback (most recent call last):\n",
      "  File \"/opt/conda/lib/python3.7/site-packages/sklearn/model_selection/_validation.py\", line 531, in _fit_and_score\n",
      "    estimator.fit(X_train, y_train, **fit_params)\n",
      "  File \"/opt/conda/lib/python3.7/site-packages/sklearn/pipeline.py\", line 335, in fit\n",
      "    self._final_estimator.fit(Xt, y, **fit_params_last_step)\n",
      "  File \"/tmp/ipykernel_20/3915449350.py\", line 15, in fit\n",
      "  File \"/opt/conda/lib/python3.7/site-packages/sklearn/linear_model/_logistic.py\", line 1304, in fit\n",
      "    solver = _check_solver(self.solver, self.penalty, self.dual)\n",
      "  File \"/opt/conda/lib/python3.7/site-packages/sklearn/linear_model/_logistic.py\", line 443, in _check_solver\n",
      "    \"got %s penalty.\" % (solver, penalty))\n",
      "ValueError: Solver lbfgs supports only 'l2' or 'none' penalties, got l1 penalty.\n",
      "\n",
      "  FitFailedWarning)\n",
      "/opt/conda/lib/python3.7/site-packages/sklearn/model_selection/_validation.py:552: FitFailedWarning: Estimator fit failed. The score on this train-test partition for these parameters will be set to nan. Details: \n",
      "Traceback (most recent call last):\n",
      "  File \"/opt/conda/lib/python3.7/site-packages/sklearn/model_selection/_validation.py\", line 531, in _fit_and_score\n",
      "    estimator.fit(X_train, y_train, **fit_params)\n",
      "  File \"/opt/conda/lib/python3.7/site-packages/sklearn/pipeline.py\", line 335, in fit\n",
      "    self._final_estimator.fit(Xt, y, **fit_params_last_step)\n",
      "  File \"/tmp/ipykernel_20/3915449350.py\", line 15, in fit\n",
      "  File \"/opt/conda/lib/python3.7/site-packages/sklearn/linear_model/_logistic.py\", line 1304, in fit\n",
      "    solver = _check_solver(self.solver, self.penalty, self.dual)\n",
      "  File \"/opt/conda/lib/python3.7/site-packages/sklearn/linear_model/_logistic.py\", line 443, in _check_solver\n",
      "    \"got %s penalty.\" % (solver, penalty))\n",
      "ValueError: Solver lbfgs supports only 'l2' or 'none' penalties, got l1 penalty.\n",
      "\n",
      "  FitFailedWarning)\n",
      "/opt/conda/lib/python3.7/site-packages/sklearn/model_selection/_validation.py:552: FitFailedWarning: Estimator fit failed. The score on this train-test partition for these parameters will be set to nan. Details: \n",
      "Traceback (most recent call last):\n",
      "  File \"/opt/conda/lib/python3.7/site-packages/sklearn/model_selection/_validation.py\", line 531, in _fit_and_score\n",
      "    estimator.fit(X_train, y_train, **fit_params)\n",
      "  File \"/opt/conda/lib/python3.7/site-packages/sklearn/pipeline.py\", line 335, in fit\n",
      "    self._final_estimator.fit(Xt, y, **fit_params_last_step)\n",
      "  File \"/tmp/ipykernel_20/3915449350.py\", line 15, in fit\n",
      "  File \"/opt/conda/lib/python3.7/site-packages/sklearn/linear_model/_logistic.py\", line 1304, in fit\n",
      "    solver = _check_solver(self.solver, self.penalty, self.dual)\n",
      "  File \"/opt/conda/lib/python3.7/site-packages/sklearn/linear_model/_logistic.py\", line 443, in _check_solver\n",
      "    \"got %s penalty.\" % (solver, penalty))\n",
      "ValueError: Solver lbfgs supports only 'l2' or 'none' penalties, got l1 penalty.\n",
      "\n",
      "  FitFailedWarning)\n",
      "/opt/conda/lib/python3.7/site-packages/sklearn/model_selection/_validation.py:552: FitFailedWarning: Estimator fit failed. The score on this train-test partition for these parameters will be set to nan. Details: \n",
      "Traceback (most recent call last):\n",
      "  File \"/opt/conda/lib/python3.7/site-packages/sklearn/model_selection/_validation.py\", line 531, in _fit_and_score\n",
      "    estimator.fit(X_train, y_train, **fit_params)\n",
      "  File \"/opt/conda/lib/python3.7/site-packages/sklearn/pipeline.py\", line 335, in fit\n",
      "    self._final_estimator.fit(Xt, y, **fit_params_last_step)\n",
      "  File \"/tmp/ipykernel_20/3915449350.py\", line 15, in fit\n",
      "  File \"/opt/conda/lib/python3.7/site-packages/sklearn/linear_model/_logistic.py\", line 1304, in fit\n",
      "    solver = _check_solver(self.solver, self.penalty, self.dual)\n",
      "  File \"/opt/conda/lib/python3.7/site-packages/sklearn/linear_model/_logistic.py\", line 443, in _check_solver\n",
      "    \"got %s penalty.\" % (solver, penalty))\n",
      "ValueError: Solver lbfgs supports only 'l2' or 'none' penalties, got l1 penalty.\n",
      "\n",
      "  FitFailedWarning)\n",
      "/opt/conda/lib/python3.7/site-packages/sklearn/model_selection/_validation.py:552: FitFailedWarning: Estimator fit failed. The score on this train-test partition for these parameters will be set to nan. Details: \n",
      "Traceback (most recent call last):\n",
      "  File \"/opt/conda/lib/python3.7/site-packages/sklearn/model_selection/_validation.py\", line 531, in _fit_and_score\n",
      "    estimator.fit(X_train, y_train, **fit_params)\n",
      "  File \"/opt/conda/lib/python3.7/site-packages/sklearn/pipeline.py\", line 335, in fit\n",
      "    self._final_estimator.fit(Xt, y, **fit_params_last_step)\n",
      "  File \"/tmp/ipykernel_20/3915449350.py\", line 15, in fit\n",
      "  File \"/opt/conda/lib/python3.7/site-packages/sklearn/linear_model/_logistic.py\", line 1304, in fit\n",
      "    solver = _check_solver(self.solver, self.penalty, self.dual)\n",
      "  File \"/opt/conda/lib/python3.7/site-packages/sklearn/linear_model/_logistic.py\", line 443, in _check_solver\n",
      "    \"got %s penalty.\" % (solver, penalty))\n",
      "ValueError: Solver lbfgs supports only 'l2' or 'none' penalties, got l1 penalty.\n",
      "\n",
      "  FitFailedWarning)\n",
      "/opt/conda/lib/python3.7/site-packages/sklearn/model_selection/_validation.py:552: FitFailedWarning: Estimator fit failed. The score on this train-test partition for these parameters will be set to nan. Details: \n",
      "Traceback (most recent call last):\n",
      "  File \"/opt/conda/lib/python3.7/site-packages/sklearn/model_selection/_validation.py\", line 531, in _fit_and_score\n",
      "    estimator.fit(X_train, y_train, **fit_params)\n",
      "  File \"/opt/conda/lib/python3.7/site-packages/sklearn/pipeline.py\", line 335, in fit\n",
      "    self._final_estimator.fit(Xt, y, **fit_params_last_step)\n",
      "  File \"/tmp/ipykernel_20/3915449350.py\", line 15, in fit\n",
      "  File \"/opt/conda/lib/python3.7/site-packages/sklearn/linear_model/_logistic.py\", line 1417, in fit\n",
      "    for class_, warm_start_coef_ in zip(classes_, warm_start_coef))\n",
      "  File \"/opt/conda/lib/python3.7/site-packages/joblib/parallel.py\", line 1043, in __call__\n",
      "    if self.dispatch_one_batch(iterator):\n",
      "  File \"/opt/conda/lib/python3.7/site-packages/joblib/parallel.py\", line 861, in dispatch_one_batch\n",
      "    self._dispatch(tasks)\n",
      "  File \"/opt/conda/lib/python3.7/site-packages/joblib/parallel.py\", line 779, in _dispatch\n",
      "    job = self._backend.apply_async(batch, callback=cb)\n",
      "  File \"/opt/conda/lib/python3.7/site-packages/joblib/_parallel_backends.py\", line 208, in apply_async\n",
      "    result = ImmediateResult(func)\n",
      "  File \"/opt/conda/lib/python3.7/site-packages/joblib/_parallel_backends.py\", line 572, in __init__\n",
      "    self.results = batch()\n",
      "  File \"/opt/conda/lib/python3.7/site-packages/joblib/parallel.py\", line 263, in __call__\n",
      "    for func, args, kwargs in self.items]\n",
      "  File \"/opt/conda/lib/python3.7/site-packages/joblib/parallel.py\", line 263, in <listcomp>\n",
      "    for func, args, kwargs in self.items]\n",
      "  File \"/opt/conda/lib/python3.7/site-packages/sklearn/linear_model/_logistic.py\", line 764, in _logistic_regression_path\n",
      "    extra_warning_msg=_LOGISTIC_SOLVER_CONVERGENCE_MSG)\n",
      "  File \"/opt/conda/lib/python3.7/site-packages/sklearn/utils/optimize.py\", line 243, in _check_optimize_result\n",
      "    ).format(solver, result.status, result.message.decode(\"latin1\"))\n",
      "AttributeError: 'str' object has no attribute 'decode'\n",
      "\n",
      "  FitFailedWarning)\n",
      "/opt/conda/lib/python3.7/site-packages/sklearn/model_selection/_validation.py:552: FitFailedWarning: Estimator fit failed. The score on this train-test partition for these parameters will be set to nan. Details: \n",
      "Traceback (most recent call last):\n",
      "  File \"/opt/conda/lib/python3.7/site-packages/sklearn/model_selection/_validation.py\", line 531, in _fit_and_score\n",
      "    estimator.fit(X_train, y_train, **fit_params)\n",
      "  File \"/opt/conda/lib/python3.7/site-packages/sklearn/pipeline.py\", line 335, in fit\n",
      "    self._final_estimator.fit(Xt, y, **fit_params_last_step)\n",
      "  File \"/tmp/ipykernel_20/3915449350.py\", line 15, in fit\n",
      "  File \"/opt/conda/lib/python3.7/site-packages/sklearn/linear_model/_logistic.py\", line 1304, in fit\n",
      "    solver = _check_solver(self.solver, self.penalty, self.dual)\n",
      "  File \"/opt/conda/lib/python3.7/site-packages/sklearn/linear_model/_logistic.py\", line 443, in _check_solver\n",
      "    \"got %s penalty.\" % (solver, penalty))\n",
      "ValueError: Solver lbfgs supports only 'l2' or 'none' penalties, got l1 penalty.\n",
      "\n",
      "  FitFailedWarning)\n",
      "/opt/conda/lib/python3.7/site-packages/sklearn/model_selection/_validation.py:552: FitFailedWarning: Estimator fit failed. The score on this train-test partition for these parameters will be set to nan. Details: \n",
      "Traceback (most recent call last):\n",
      "  File \"/opt/conda/lib/python3.7/site-packages/sklearn/model_selection/_validation.py\", line 531, in _fit_and_score\n",
      "    estimator.fit(X_train, y_train, **fit_params)\n",
      "  File \"/opt/conda/lib/python3.7/site-packages/sklearn/pipeline.py\", line 335, in fit\n",
      "    self._final_estimator.fit(Xt, y, **fit_params_last_step)\n",
      "  File \"/tmp/ipykernel_20/3915449350.py\", line 15, in fit\n",
      "  File \"/opt/conda/lib/python3.7/site-packages/sklearn/linear_model/_logistic.py\", line 1304, in fit\n",
      "    solver = _check_solver(self.solver, self.penalty, self.dual)\n",
      "  File \"/opt/conda/lib/python3.7/site-packages/sklearn/linear_model/_logistic.py\", line 443, in _check_solver\n",
      "    \"got %s penalty.\" % (solver, penalty))\n",
      "ValueError: Solver lbfgs supports only 'l2' or 'none' penalties, got l1 penalty.\n",
      "\n",
      "  FitFailedWarning)\n",
      "/opt/conda/lib/python3.7/site-packages/sklearn/model_selection/_validation.py:552: FitFailedWarning: Estimator fit failed. The score on this train-test partition for these parameters will be set to nan. Details: \n",
      "Traceback (most recent call last):\n",
      "  File \"/opt/conda/lib/python3.7/site-packages/sklearn/model_selection/_validation.py\", line 531, in _fit_and_score\n",
      "    estimator.fit(X_train, y_train, **fit_params)\n",
      "  File \"/opt/conda/lib/python3.7/site-packages/sklearn/pipeline.py\", line 335, in fit\n",
      "    self._final_estimator.fit(Xt, y, **fit_params_last_step)\n",
      "  File \"/tmp/ipykernel_20/3915449350.py\", line 15, in fit\n",
      "  File \"/opt/conda/lib/python3.7/site-packages/sklearn/linear_model/_logistic.py\", line 1304, in fit\n",
      "    solver = _check_solver(self.solver, self.penalty, self.dual)\n",
      "  File \"/opt/conda/lib/python3.7/site-packages/sklearn/linear_model/_logistic.py\", line 443, in _check_solver\n",
      "    \"got %s penalty.\" % (solver, penalty))\n",
      "ValueError: Solver lbfgs supports only 'l2' or 'none' penalties, got l1 penalty.\n",
      "\n",
      "  FitFailedWarning)\n",
      "/opt/conda/lib/python3.7/site-packages/sklearn/model_selection/_validation.py:552: FitFailedWarning: Estimator fit failed. The score on this train-test partition for these parameters will be set to nan. Details: \n",
      "Traceback (most recent call last):\n",
      "  File \"/opt/conda/lib/python3.7/site-packages/sklearn/model_selection/_validation.py\", line 531, in _fit_and_score\n",
      "    estimator.fit(X_train, y_train, **fit_params)\n",
      "  File \"/opt/conda/lib/python3.7/site-packages/sklearn/pipeline.py\", line 335, in fit\n",
      "    self._final_estimator.fit(Xt, y, **fit_params_last_step)\n",
      "  File \"/tmp/ipykernel_20/3915449350.py\", line 15, in fit\n",
      "  File \"/opt/conda/lib/python3.7/site-packages/sklearn/linear_model/_logistic.py\", line 1304, in fit\n",
      "    solver = _check_solver(self.solver, self.penalty, self.dual)\n",
      "  File \"/opt/conda/lib/python3.7/site-packages/sklearn/linear_model/_logistic.py\", line 443, in _check_solver\n",
      "    \"got %s penalty.\" % (solver, penalty))\n",
      "ValueError: Solver lbfgs supports only 'l2' or 'none' penalties, got l1 penalty.\n",
      "\n",
      "  FitFailedWarning)\n",
      "/opt/conda/lib/python3.7/site-packages/sklearn/model_selection/_validation.py:552: FitFailedWarning: Estimator fit failed. The score on this train-test partition for these parameters will be set to nan. Details: \n",
      "Traceback (most recent call last):\n",
      "  File \"/opt/conda/lib/python3.7/site-packages/sklearn/model_selection/_validation.py\", line 531, in _fit_and_score\n",
      "    estimator.fit(X_train, y_train, **fit_params)\n",
      "  File \"/opt/conda/lib/python3.7/site-packages/sklearn/pipeline.py\", line 335, in fit\n",
      "    self._final_estimator.fit(Xt, y, **fit_params_last_step)\n",
      "  File \"/tmp/ipykernel_20/3915449350.py\", line 15, in fit\n",
      "  File \"/opt/conda/lib/python3.7/site-packages/sklearn/linear_model/_logistic.py\", line 1304, in fit\n",
      "    solver = _check_solver(self.solver, self.penalty, self.dual)\n",
      "  File \"/opt/conda/lib/python3.7/site-packages/sklearn/linear_model/_logistic.py\", line 443, in _check_solver\n",
      "    \"got %s penalty.\" % (solver, penalty))\n",
      "ValueError: Solver lbfgs supports only 'l2' or 'none' penalties, got l1 penalty.\n",
      "\n",
      "  FitFailedWarning)\n",
      "/opt/conda/lib/python3.7/site-packages/sklearn/model_selection/_validation.py:552: FitFailedWarning: Estimator fit failed. The score on this train-test partition for these parameters will be set to nan. Details: \n",
      "Traceback (most recent call last):\n",
      "  File \"/opt/conda/lib/python3.7/site-packages/sklearn/model_selection/_validation.py\", line 531, in _fit_and_score\n",
      "    estimator.fit(X_train, y_train, **fit_params)\n",
      "  File \"/opt/conda/lib/python3.7/site-packages/sklearn/pipeline.py\", line 335, in fit\n",
      "    self._final_estimator.fit(Xt, y, **fit_params_last_step)\n",
      "  File \"/tmp/ipykernel_20/3915449350.py\", line 15, in fit\n",
      "  File \"/opt/conda/lib/python3.7/site-packages/sklearn/linear_model/_logistic.py\", line 1304, in fit\n",
      "    solver = _check_solver(self.solver, self.penalty, self.dual)\n",
      "  File \"/opt/conda/lib/python3.7/site-packages/sklearn/linear_model/_logistic.py\", line 443, in _check_solver\n",
      "    \"got %s penalty.\" % (solver, penalty))\n",
      "ValueError: Solver lbfgs supports only 'l2' or 'none' penalties, got l1 penalty.\n",
      "\n",
      "  FitFailedWarning)\n",
      "/opt/conda/lib/python3.7/site-packages/sklearn/model_selection/_validation.py:552: FitFailedWarning: Estimator fit failed. The score on this train-test partition for these parameters will be set to nan. Details: \n",
      "Traceback (most recent call last):\n",
      "  File \"/opt/conda/lib/python3.7/site-packages/sklearn/model_selection/_validation.py\", line 531, in _fit_and_score\n",
      "    estimator.fit(X_train, y_train, **fit_params)\n",
      "  File \"/opt/conda/lib/python3.7/site-packages/sklearn/pipeline.py\", line 335, in fit\n",
      "    self._final_estimator.fit(Xt, y, **fit_params_last_step)\n",
      "  File \"/tmp/ipykernel_20/3915449350.py\", line 15, in fit\n",
      "  File \"/opt/conda/lib/python3.7/site-packages/sklearn/linear_model/_logistic.py\", line 1417, in fit\n",
      "    for class_, warm_start_coef_ in zip(classes_, warm_start_coef))\n",
      "  File \"/opt/conda/lib/python3.7/site-packages/joblib/parallel.py\", line 1043, in __call__\n",
      "    if self.dispatch_one_batch(iterator):\n",
      "  File \"/opt/conda/lib/python3.7/site-packages/joblib/parallel.py\", line 861, in dispatch_one_batch\n",
      "    self._dispatch(tasks)\n",
      "  File \"/opt/conda/lib/python3.7/site-packages/joblib/parallel.py\", line 779, in _dispatch\n",
      "    job = self._backend.apply_async(batch, callback=cb)\n",
      "  File \"/opt/conda/lib/python3.7/site-packages/joblib/_parallel_backends.py\", line 208, in apply_async\n",
      "    result = ImmediateResult(func)\n",
      "  File \"/opt/conda/lib/python3.7/site-packages/joblib/_parallel_backends.py\", line 572, in __init__\n",
      "    self.results = batch()\n",
      "  File \"/opt/conda/lib/python3.7/site-packages/joblib/parallel.py\", line 263, in __call__\n",
      "    for func, args, kwargs in self.items]\n",
      "  File \"/opt/conda/lib/python3.7/site-packages/joblib/parallel.py\", line 263, in <listcomp>\n",
      "    for func, args, kwargs in self.items]\n",
      "  File \"/opt/conda/lib/python3.7/site-packages/sklearn/linear_model/_logistic.py\", line 764, in _logistic_regression_path\n",
      "    extra_warning_msg=_LOGISTIC_SOLVER_CONVERGENCE_MSG)\n",
      "  File \"/opt/conda/lib/python3.7/site-packages/sklearn/utils/optimize.py\", line 243, in _check_optimize_result\n",
      "    ).format(solver, result.status, result.message.decode(\"latin1\"))\n",
      "AttributeError: 'str' object has no attribute 'decode'\n",
      "\n",
      "  FitFailedWarning)\n",
      "/opt/conda/lib/python3.7/site-packages/sklearn/model_selection/_validation.py:552: FitFailedWarning: Estimator fit failed. The score on this train-test partition for these parameters will be set to nan. Details: \n",
      "Traceback (most recent call last):\n",
      "  File \"/opt/conda/lib/python3.7/site-packages/sklearn/model_selection/_validation.py\", line 531, in _fit_and_score\n",
      "    estimator.fit(X_train, y_train, **fit_params)\n",
      "  File \"/opt/conda/lib/python3.7/site-packages/sklearn/pipeline.py\", line 335, in fit\n",
      "    self._final_estimator.fit(Xt, y, **fit_params_last_step)\n",
      "  File \"/tmp/ipykernel_20/3915449350.py\", line 15, in fit\n",
      "  File \"/opt/conda/lib/python3.7/site-packages/sklearn/linear_model/_logistic.py\", line 1304, in fit\n",
      "    solver = _check_solver(self.solver, self.penalty, self.dual)\n",
      "  File \"/opt/conda/lib/python3.7/site-packages/sklearn/linear_model/_logistic.py\", line 443, in _check_solver\n",
      "    \"got %s penalty.\" % (solver, penalty))\n",
      "ValueError: Solver lbfgs supports only 'l2' or 'none' penalties, got l1 penalty.\n",
      "\n",
      "  FitFailedWarning)\n",
      "/opt/conda/lib/python3.7/site-packages/sklearn/model_selection/_validation.py:552: FitFailedWarning: Estimator fit failed. The score on this train-test partition for these parameters will be set to nan. Details: \n",
      "Traceback (most recent call last):\n",
      "  File \"/opt/conda/lib/python3.7/site-packages/sklearn/model_selection/_validation.py\", line 531, in _fit_and_score\n",
      "    estimator.fit(X_train, y_train, **fit_params)\n",
      "  File \"/opt/conda/lib/python3.7/site-packages/sklearn/pipeline.py\", line 335, in fit\n",
      "    self._final_estimator.fit(Xt, y, **fit_params_last_step)\n",
      "  File \"/tmp/ipykernel_20/3915449350.py\", line 15, in fit\n",
      "  File \"/opt/conda/lib/python3.7/site-packages/sklearn/linear_model/_logistic.py\", line 1304, in fit\n",
      "    solver = _check_solver(self.solver, self.penalty, self.dual)\n",
      "  File \"/opt/conda/lib/python3.7/site-packages/sklearn/linear_model/_logistic.py\", line 443, in _check_solver\n",
      "    \"got %s penalty.\" % (solver, penalty))\n",
      "ValueError: Solver lbfgs supports only 'l2' or 'none' penalties, got l1 penalty.\n",
      "\n",
      "  FitFailedWarning)\n",
      "/opt/conda/lib/python3.7/site-packages/sklearn/model_selection/_validation.py:552: FitFailedWarning: Estimator fit failed. The score on this train-test partition for these parameters will be set to nan. Details: \n",
      "Traceback (most recent call last):\n",
      "  File \"/opt/conda/lib/python3.7/site-packages/sklearn/model_selection/_validation.py\", line 531, in _fit_and_score\n",
      "    estimator.fit(X_train, y_train, **fit_params)\n",
      "  File \"/opt/conda/lib/python3.7/site-packages/sklearn/pipeline.py\", line 335, in fit\n",
      "    self._final_estimator.fit(Xt, y, **fit_params_last_step)\n",
      "  File \"/tmp/ipykernel_20/3915449350.py\", line 15, in fit\n",
      "  File \"/opt/conda/lib/python3.7/site-packages/sklearn/linear_model/_logistic.py\", line 1304, in fit\n",
      "    solver = _check_solver(self.solver, self.penalty, self.dual)\n",
      "  File \"/opt/conda/lib/python3.7/site-packages/sklearn/linear_model/_logistic.py\", line 443, in _check_solver\n",
      "    \"got %s penalty.\" % (solver, penalty))\n",
      "ValueError: Solver lbfgs supports only 'l2' or 'none' penalties, got l1 penalty.\n",
      "\n",
      "  FitFailedWarning)\n",
      "/opt/conda/lib/python3.7/site-packages/sklearn/model_selection/_validation.py:552: FitFailedWarning: Estimator fit failed. The score on this train-test partition for these parameters will be set to nan. Details: \n",
      "Traceback (most recent call last):\n",
      "  File \"/opt/conda/lib/python3.7/site-packages/sklearn/model_selection/_validation.py\", line 531, in _fit_and_score\n",
      "    estimator.fit(X_train, y_train, **fit_params)\n",
      "  File \"/opt/conda/lib/python3.7/site-packages/sklearn/pipeline.py\", line 335, in fit\n",
      "    self._final_estimator.fit(Xt, y, **fit_params_last_step)\n",
      "  File \"/tmp/ipykernel_20/3915449350.py\", line 15, in fit\n",
      "  File \"/opt/conda/lib/python3.7/site-packages/sklearn/linear_model/_logistic.py\", line 1304, in fit\n",
      "    solver = _check_solver(self.solver, self.penalty, self.dual)\n",
      "  File \"/opt/conda/lib/python3.7/site-packages/sklearn/linear_model/_logistic.py\", line 443, in _check_solver\n",
      "    \"got %s penalty.\" % (solver, penalty))\n",
      "ValueError: Solver lbfgs supports only 'l2' or 'none' penalties, got l1 penalty.\n",
      "\n",
      "  FitFailedWarning)\n",
      "/opt/conda/lib/python3.7/site-packages/sklearn/model_selection/_validation.py:552: FitFailedWarning: Estimator fit failed. The score on this train-test partition for these parameters will be set to nan. Details: \n",
      "Traceback (most recent call last):\n",
      "  File \"/opt/conda/lib/python3.7/site-packages/sklearn/model_selection/_validation.py\", line 531, in _fit_and_score\n",
      "    estimator.fit(X_train, y_train, **fit_params)\n",
      "  File \"/opt/conda/lib/python3.7/site-packages/sklearn/pipeline.py\", line 335, in fit\n",
      "    self._final_estimator.fit(Xt, y, **fit_params_last_step)\n",
      "  File \"/tmp/ipykernel_20/3915449350.py\", line 15, in fit\n",
      "  File \"/opt/conda/lib/python3.7/site-packages/sklearn/linear_model/_logistic.py\", line 1304, in fit\n",
      "    solver = _check_solver(self.solver, self.penalty, self.dual)\n",
      "  File \"/opt/conda/lib/python3.7/site-packages/sklearn/linear_model/_logistic.py\", line 443, in _check_solver\n",
      "    \"got %s penalty.\" % (solver, penalty))\n",
      "ValueError: Solver lbfgs supports only 'l2' or 'none' penalties, got l1 penalty.\n",
      "\n",
      "  FitFailedWarning)\n",
      "/opt/conda/lib/python3.7/site-packages/sklearn/model_selection/_validation.py:552: FitFailedWarning: Estimator fit failed. The score on this train-test partition for these parameters will be set to nan. Details: \n",
      "Traceback (most recent call last):\n",
      "  File \"/opt/conda/lib/python3.7/site-packages/sklearn/model_selection/_validation.py\", line 531, in _fit_and_score\n",
      "    estimator.fit(X_train, y_train, **fit_params)\n",
      "  File \"/opt/conda/lib/python3.7/site-packages/sklearn/pipeline.py\", line 335, in fit\n",
      "    self._final_estimator.fit(Xt, y, **fit_params_last_step)\n",
      "  File \"/tmp/ipykernel_20/3915449350.py\", line 15, in fit\n",
      "  File \"/opt/conda/lib/python3.7/site-packages/sklearn/linear_model/_logistic.py\", line 1304, in fit\n",
      "    solver = _check_solver(self.solver, self.penalty, self.dual)\n",
      "  File \"/opt/conda/lib/python3.7/site-packages/sklearn/linear_model/_logistic.py\", line 443, in _check_solver\n",
      "    \"got %s penalty.\" % (solver, penalty))\n",
      "ValueError: Solver lbfgs supports only 'l2' or 'none' penalties, got l1 penalty.\n",
      "\n",
      "  FitFailedWarning)\n",
      "/opt/conda/lib/python3.7/site-packages/sklearn/model_selection/_validation.py:552: FitFailedWarning: Estimator fit failed. The score on this train-test partition for these parameters will be set to nan. Details: \n",
      "Traceback (most recent call last):\n",
      "  File \"/opt/conda/lib/python3.7/site-packages/sklearn/model_selection/_validation.py\", line 531, in _fit_and_score\n",
      "    estimator.fit(X_train, y_train, **fit_params)\n",
      "  File \"/opt/conda/lib/python3.7/site-packages/sklearn/pipeline.py\", line 335, in fit\n",
      "    self._final_estimator.fit(Xt, y, **fit_params_last_step)\n",
      "  File \"/tmp/ipykernel_20/3915449350.py\", line 15, in fit\n",
      "  File \"/opt/conda/lib/python3.7/site-packages/sklearn/linear_model/_logistic.py\", line 1417, in fit\n",
      "    for class_, warm_start_coef_ in zip(classes_, warm_start_coef))\n",
      "  File \"/opt/conda/lib/python3.7/site-packages/joblib/parallel.py\", line 1043, in __call__\n",
      "    if self.dispatch_one_batch(iterator):\n",
      "  File \"/opt/conda/lib/python3.7/site-packages/joblib/parallel.py\", line 861, in dispatch_one_batch\n",
      "    self._dispatch(tasks)\n",
      "  File \"/opt/conda/lib/python3.7/site-packages/joblib/parallel.py\", line 779, in _dispatch\n",
      "    job = self._backend.apply_async(batch, callback=cb)\n",
      "  File \"/opt/conda/lib/python3.7/site-packages/joblib/_parallel_backends.py\", line 208, in apply_async\n",
      "    result = ImmediateResult(func)\n",
      "  File \"/opt/conda/lib/python3.7/site-packages/joblib/_parallel_backends.py\", line 572, in __init__\n",
      "    self.results = batch()\n",
      "  File \"/opt/conda/lib/python3.7/site-packages/joblib/parallel.py\", line 263, in __call__\n",
      "    for func, args, kwargs in self.items]\n",
      "  File \"/opt/conda/lib/python3.7/site-packages/joblib/parallel.py\", line 263, in <listcomp>\n",
      "    for func, args, kwargs in self.items]\n",
      "  File \"/opt/conda/lib/python3.7/site-packages/sklearn/linear_model/_logistic.py\", line 764, in _logistic_regression_path\n",
      "    extra_warning_msg=_LOGISTIC_SOLVER_CONVERGENCE_MSG)\n",
      "  File \"/opt/conda/lib/python3.7/site-packages/sklearn/utils/optimize.py\", line 243, in _check_optimize_result\n",
      "    ).format(solver, result.status, result.message.decode(\"latin1\"))\n",
      "AttributeError: 'str' object has no attribute 'decode'\n",
      "\n",
      "  FitFailedWarning)\n",
      "/opt/conda/lib/python3.7/site-packages/sklearn/model_selection/_validation.py:552: FitFailedWarning: Estimator fit failed. The score on this train-test partition for these parameters will be set to nan. Details: \n",
      "Traceback (most recent call last):\n",
      "  File \"/opt/conda/lib/python3.7/site-packages/sklearn/model_selection/_validation.py\", line 531, in _fit_and_score\n",
      "    estimator.fit(X_train, y_train, **fit_params)\n",
      "  File \"/opt/conda/lib/python3.7/site-packages/sklearn/pipeline.py\", line 335, in fit\n",
      "    self._final_estimator.fit(Xt, y, **fit_params_last_step)\n",
      "  File \"/tmp/ipykernel_20/3915449350.py\", line 15, in fit\n",
      "  File \"/opt/conda/lib/python3.7/site-packages/sklearn/linear_model/_logistic.py\", line 1304, in fit\n",
      "    solver = _check_solver(self.solver, self.penalty, self.dual)\n",
      "  File \"/opt/conda/lib/python3.7/site-packages/sklearn/linear_model/_logistic.py\", line 443, in _check_solver\n",
      "    \"got %s penalty.\" % (solver, penalty))\n",
      "ValueError: Solver lbfgs supports only 'l2' or 'none' penalties, got l1 penalty.\n",
      "\n",
      "  FitFailedWarning)\n",
      "/opt/conda/lib/python3.7/site-packages/sklearn/model_selection/_validation.py:552: FitFailedWarning: Estimator fit failed. The score on this train-test partition for these parameters will be set to nan. Details: \n",
      "Traceback (most recent call last):\n",
      "  File \"/opt/conda/lib/python3.7/site-packages/sklearn/model_selection/_validation.py\", line 531, in _fit_and_score\n",
      "    estimator.fit(X_train, y_train, **fit_params)\n",
      "  File \"/opt/conda/lib/python3.7/site-packages/sklearn/pipeline.py\", line 335, in fit\n",
      "    self._final_estimator.fit(Xt, y, **fit_params_last_step)\n",
      "  File \"/tmp/ipykernel_20/3915449350.py\", line 15, in fit\n",
      "  File \"/opt/conda/lib/python3.7/site-packages/sklearn/linear_model/_logistic.py\", line 1304, in fit\n",
      "    solver = _check_solver(self.solver, self.penalty, self.dual)\n",
      "  File \"/opt/conda/lib/python3.7/site-packages/sklearn/linear_model/_logistic.py\", line 443, in _check_solver\n",
      "    \"got %s penalty.\" % (solver, penalty))\n",
      "ValueError: Solver lbfgs supports only 'l2' or 'none' penalties, got l1 penalty.\n",
      "\n",
      "  FitFailedWarning)\n",
      "/opt/conda/lib/python3.7/site-packages/sklearn/model_selection/_validation.py:552: FitFailedWarning: Estimator fit failed. The score on this train-test partition for these parameters will be set to nan. Details: \n",
      "Traceback (most recent call last):\n",
      "  File \"/opt/conda/lib/python3.7/site-packages/sklearn/model_selection/_validation.py\", line 531, in _fit_and_score\n",
      "    estimator.fit(X_train, y_train, **fit_params)\n",
      "  File \"/opt/conda/lib/python3.7/site-packages/sklearn/pipeline.py\", line 335, in fit\n",
      "    self._final_estimator.fit(Xt, y, **fit_params_last_step)\n",
      "  File \"/tmp/ipykernel_20/3915449350.py\", line 15, in fit\n",
      "  File \"/opt/conda/lib/python3.7/site-packages/sklearn/linear_model/_logistic.py\", line 1304, in fit\n",
      "    solver = _check_solver(self.solver, self.penalty, self.dual)\n",
      "  File \"/opt/conda/lib/python3.7/site-packages/sklearn/linear_model/_logistic.py\", line 443, in _check_solver\n",
      "    \"got %s penalty.\" % (solver, penalty))\n",
      "ValueError: Solver lbfgs supports only 'l2' or 'none' penalties, got l1 penalty.\n",
      "\n",
      "  FitFailedWarning)\n",
      "/opt/conda/lib/python3.7/site-packages/sklearn/model_selection/_validation.py:552: FitFailedWarning: Estimator fit failed. The score on this train-test partition for these parameters will be set to nan. Details: \n",
      "Traceback (most recent call last):\n",
      "  File \"/opt/conda/lib/python3.7/site-packages/sklearn/model_selection/_validation.py\", line 531, in _fit_and_score\n",
      "    estimator.fit(X_train, y_train, **fit_params)\n",
      "  File \"/opt/conda/lib/python3.7/site-packages/sklearn/pipeline.py\", line 335, in fit\n",
      "    self._final_estimator.fit(Xt, y, **fit_params_last_step)\n",
      "  File \"/tmp/ipykernel_20/3915449350.py\", line 15, in fit\n",
      "  File \"/opt/conda/lib/python3.7/site-packages/sklearn/linear_model/_logistic.py\", line 1304, in fit\n",
      "    solver = _check_solver(self.solver, self.penalty, self.dual)\n",
      "  File \"/opt/conda/lib/python3.7/site-packages/sklearn/linear_model/_logistic.py\", line 443, in _check_solver\n",
      "    \"got %s penalty.\" % (solver, penalty))\n",
      "ValueError: Solver lbfgs supports only 'l2' or 'none' penalties, got l1 penalty.\n",
      "\n",
      "  FitFailedWarning)\n",
      "/opt/conda/lib/python3.7/site-packages/sklearn/model_selection/_validation.py:552: FitFailedWarning: Estimator fit failed. The score on this train-test partition for these parameters will be set to nan. Details: \n",
      "Traceback (most recent call last):\n",
      "  File \"/opt/conda/lib/python3.7/site-packages/sklearn/model_selection/_validation.py\", line 531, in _fit_and_score\n",
      "    estimator.fit(X_train, y_train, **fit_params)\n",
      "  File \"/opt/conda/lib/python3.7/site-packages/sklearn/pipeline.py\", line 335, in fit\n",
      "    self._final_estimator.fit(Xt, y, **fit_params_last_step)\n",
      "  File \"/tmp/ipykernel_20/3915449350.py\", line 15, in fit\n",
      "  File \"/opt/conda/lib/python3.7/site-packages/sklearn/linear_model/_logistic.py\", line 1304, in fit\n",
      "    solver = _check_solver(self.solver, self.penalty, self.dual)\n",
      "  File \"/opt/conda/lib/python3.7/site-packages/sklearn/linear_model/_logistic.py\", line 443, in _check_solver\n",
      "    \"got %s penalty.\" % (solver, penalty))\n",
      "ValueError: Solver lbfgs supports only 'l2' or 'none' penalties, got l1 penalty.\n",
      "\n",
      "  FitFailedWarning)\n",
      "/opt/conda/lib/python3.7/site-packages/sklearn/model_selection/_validation.py:552: FitFailedWarning: Estimator fit failed. The score on this train-test partition for these parameters will be set to nan. Details: \n",
      "Traceback (most recent call last):\n",
      "  File \"/opt/conda/lib/python3.7/site-packages/sklearn/model_selection/_validation.py\", line 531, in _fit_and_score\n",
      "    estimator.fit(X_train, y_train, **fit_params)\n",
      "  File \"/opt/conda/lib/python3.7/site-packages/sklearn/pipeline.py\", line 335, in fit\n",
      "    self._final_estimator.fit(Xt, y, **fit_params_last_step)\n",
      "  File \"/tmp/ipykernel_20/3915449350.py\", line 15, in fit\n",
      "  File \"/opt/conda/lib/python3.7/site-packages/sklearn/linear_model/_logistic.py\", line 1304, in fit\n",
      "    solver = _check_solver(self.solver, self.penalty, self.dual)\n",
      "  File \"/opt/conda/lib/python3.7/site-packages/sklearn/linear_model/_logistic.py\", line 443, in _check_solver\n",
      "    \"got %s penalty.\" % (solver, penalty))\n",
      "ValueError: Solver lbfgs supports only 'l2' or 'none' penalties, got l1 penalty.\n",
      "\n",
      "  FitFailedWarning)\n",
      "/opt/conda/lib/python3.7/site-packages/sklearn/model_selection/_validation.py:552: FitFailedWarning: Estimator fit failed. The score on this train-test partition for these parameters will be set to nan. Details: \n",
      "Traceback (most recent call last):\n",
      "  File \"/opt/conda/lib/python3.7/site-packages/sklearn/model_selection/_validation.py\", line 531, in _fit_and_score\n",
      "    estimator.fit(X_train, y_train, **fit_params)\n",
      "  File \"/opt/conda/lib/python3.7/site-packages/sklearn/pipeline.py\", line 335, in fit\n",
      "    self._final_estimator.fit(Xt, y, **fit_params_last_step)\n",
      "  File \"/tmp/ipykernel_20/3915449350.py\", line 15, in fit\n",
      "  File \"/opt/conda/lib/python3.7/site-packages/sklearn/linear_model/_logistic.py\", line 1304, in fit\n",
      "    solver = _check_solver(self.solver, self.penalty, self.dual)\n",
      "  File \"/opt/conda/lib/python3.7/site-packages/sklearn/linear_model/_logistic.py\", line 443, in _check_solver\n",
      "    \"got %s penalty.\" % (solver, penalty))\n",
      "ValueError: Solver lbfgs supports only 'l2' or 'none' penalties, got l1 penalty.\n",
      "\n",
      "  FitFailedWarning)\n",
      "/opt/conda/lib/python3.7/site-packages/sklearn/model_selection/_validation.py:552: FitFailedWarning: Estimator fit failed. The score on this train-test partition for these parameters will be set to nan. Details: \n",
      "Traceback (most recent call last):\n",
      "  File \"/opt/conda/lib/python3.7/site-packages/sklearn/model_selection/_validation.py\", line 531, in _fit_and_score\n",
      "    estimator.fit(X_train, y_train, **fit_params)\n",
      "  File \"/opt/conda/lib/python3.7/site-packages/sklearn/pipeline.py\", line 335, in fit\n",
      "    self._final_estimator.fit(Xt, y, **fit_params_last_step)\n",
      "  File \"/tmp/ipykernel_20/3915449350.py\", line 15, in fit\n",
      "  File \"/opt/conda/lib/python3.7/site-packages/sklearn/linear_model/_logistic.py\", line 1417, in fit\n",
      "    for class_, warm_start_coef_ in zip(classes_, warm_start_coef))\n",
      "  File \"/opt/conda/lib/python3.7/site-packages/joblib/parallel.py\", line 1043, in __call__\n",
      "    if self.dispatch_one_batch(iterator):\n",
      "  File \"/opt/conda/lib/python3.7/site-packages/joblib/parallel.py\", line 861, in dispatch_one_batch\n",
      "    self._dispatch(tasks)\n",
      "  File \"/opt/conda/lib/python3.7/site-packages/joblib/parallel.py\", line 779, in _dispatch\n",
      "    job = self._backend.apply_async(batch, callback=cb)\n",
      "  File \"/opt/conda/lib/python3.7/site-packages/joblib/_parallel_backends.py\", line 208, in apply_async\n",
      "    result = ImmediateResult(func)\n",
      "  File \"/opt/conda/lib/python3.7/site-packages/joblib/_parallel_backends.py\", line 572, in __init__\n",
      "    self.results = batch()\n",
      "  File \"/opt/conda/lib/python3.7/site-packages/joblib/parallel.py\", line 263, in __call__\n",
      "    for func, args, kwargs in self.items]\n",
      "  File \"/opt/conda/lib/python3.7/site-packages/joblib/parallel.py\", line 263, in <listcomp>\n",
      "    for func, args, kwargs in self.items]\n",
      "  File \"/opt/conda/lib/python3.7/site-packages/sklearn/linear_model/_logistic.py\", line 764, in _logistic_regression_path\n",
      "    extra_warning_msg=_LOGISTIC_SOLVER_CONVERGENCE_MSG)\n",
      "  File \"/opt/conda/lib/python3.7/site-packages/sklearn/utils/optimize.py\", line 243, in _check_optimize_result\n",
      "    ).format(solver, result.status, result.message.decode(\"latin1\"))\n",
      "AttributeError: 'str' object has no attribute 'decode'\n",
      "\n",
      "  FitFailedWarning)\n",
      "/opt/conda/lib/python3.7/site-packages/sklearn/model_selection/_validation.py:552: FitFailedWarning: Estimator fit failed. The score on this train-test partition for these parameters will be set to nan. Details: \n",
      "Traceback (most recent call last):\n",
      "  File \"/opt/conda/lib/python3.7/site-packages/sklearn/model_selection/_validation.py\", line 531, in _fit_and_score\n",
      "    estimator.fit(X_train, y_train, **fit_params)\n",
      "  File \"/opt/conda/lib/python3.7/site-packages/sklearn/pipeline.py\", line 335, in fit\n",
      "    self._final_estimator.fit(Xt, y, **fit_params_last_step)\n",
      "  File \"/tmp/ipykernel_20/3915449350.py\", line 15, in fit\n",
      "  File \"/opt/conda/lib/python3.7/site-packages/sklearn/linear_model/_logistic.py\", line 1304, in fit\n",
      "    solver = _check_solver(self.solver, self.penalty, self.dual)\n",
      "  File \"/opt/conda/lib/python3.7/site-packages/sklearn/linear_model/_logistic.py\", line 443, in _check_solver\n",
      "    \"got %s penalty.\" % (solver, penalty))\n",
      "ValueError: Solver lbfgs supports only 'l2' or 'none' penalties, got l1 penalty.\n",
      "\n",
      "  FitFailedWarning)\n",
      "/opt/conda/lib/python3.7/site-packages/sklearn/model_selection/_validation.py:552: FitFailedWarning: Estimator fit failed. The score on this train-test partition for these parameters will be set to nan. Details: \n",
      "Traceback (most recent call last):\n",
      "  File \"/opt/conda/lib/python3.7/site-packages/sklearn/model_selection/_validation.py\", line 531, in _fit_and_score\n",
      "    estimator.fit(X_train, y_train, **fit_params)\n",
      "  File \"/opt/conda/lib/python3.7/site-packages/sklearn/pipeline.py\", line 335, in fit\n",
      "    self._final_estimator.fit(Xt, y, **fit_params_last_step)\n",
      "  File \"/tmp/ipykernel_20/3915449350.py\", line 15, in fit\n",
      "  File \"/opt/conda/lib/python3.7/site-packages/sklearn/linear_model/_logistic.py\", line 1304, in fit\n",
      "    solver = _check_solver(self.solver, self.penalty, self.dual)\n",
      "  File \"/opt/conda/lib/python3.7/site-packages/sklearn/linear_model/_logistic.py\", line 443, in _check_solver\n",
      "    \"got %s penalty.\" % (solver, penalty))\n",
      "ValueError: Solver lbfgs supports only 'l2' or 'none' penalties, got l1 penalty.\n",
      "\n",
      "  FitFailedWarning)\n",
      "/opt/conda/lib/python3.7/site-packages/sklearn/model_selection/_validation.py:552: FitFailedWarning: Estimator fit failed. The score on this train-test partition for these parameters will be set to nan. Details: \n",
      "Traceback (most recent call last):\n",
      "  File \"/opt/conda/lib/python3.7/site-packages/sklearn/model_selection/_validation.py\", line 531, in _fit_and_score\n",
      "    estimator.fit(X_train, y_train, **fit_params)\n",
      "  File \"/opt/conda/lib/python3.7/site-packages/sklearn/pipeline.py\", line 335, in fit\n",
      "    self._final_estimator.fit(Xt, y, **fit_params_last_step)\n",
      "  File \"/tmp/ipykernel_20/3915449350.py\", line 15, in fit\n",
      "  File \"/opt/conda/lib/python3.7/site-packages/sklearn/linear_model/_logistic.py\", line 1417, in fit\n",
      "    for class_, warm_start_coef_ in zip(classes_, warm_start_coef))\n",
      "  File \"/opt/conda/lib/python3.7/site-packages/joblib/parallel.py\", line 1043, in __call__\n",
      "    if self.dispatch_one_batch(iterator):\n",
      "  File \"/opt/conda/lib/python3.7/site-packages/joblib/parallel.py\", line 861, in dispatch_one_batch\n",
      "    self._dispatch(tasks)\n",
      "  File \"/opt/conda/lib/python3.7/site-packages/joblib/parallel.py\", line 779, in _dispatch\n",
      "    job = self._backend.apply_async(batch, callback=cb)\n",
      "  File \"/opt/conda/lib/python3.7/site-packages/joblib/_parallel_backends.py\", line 208, in apply_async\n",
      "    result = ImmediateResult(func)\n",
      "  File \"/opt/conda/lib/python3.7/site-packages/joblib/_parallel_backends.py\", line 572, in __init__\n",
      "    self.results = batch()\n",
      "  File \"/opt/conda/lib/python3.7/site-packages/joblib/parallel.py\", line 263, in __call__\n",
      "    for func, args, kwargs in self.items]\n",
      "  File \"/opt/conda/lib/python3.7/site-packages/joblib/parallel.py\", line 263, in <listcomp>\n",
      "    for func, args, kwargs in self.items]\n",
      "  File \"/opt/conda/lib/python3.7/site-packages/sklearn/linear_model/_logistic.py\", line 764, in _logistic_regression_path\n",
      "    extra_warning_msg=_LOGISTIC_SOLVER_CONVERGENCE_MSG)\n",
      "  File \"/opt/conda/lib/python3.7/site-packages/sklearn/utils/optimize.py\", line 243, in _check_optimize_result\n",
      "    ).format(solver, result.status, result.message.decode(\"latin1\"))\n",
      "AttributeError: 'str' object has no attribute 'decode'\n",
      "\n",
      "  FitFailedWarning)\n",
      "/opt/conda/lib/python3.7/site-packages/sklearn/model_selection/_validation.py:552: FitFailedWarning: Estimator fit failed. The score on this train-test partition for these parameters will be set to nan. Details: \n",
      "Traceback (most recent call last):\n",
      "  File \"/opt/conda/lib/python3.7/site-packages/sklearn/model_selection/_validation.py\", line 531, in _fit_and_score\n",
      "    estimator.fit(X_train, y_train, **fit_params)\n",
      "  File \"/opt/conda/lib/python3.7/site-packages/sklearn/pipeline.py\", line 335, in fit\n",
      "    self._final_estimator.fit(Xt, y, **fit_params_last_step)\n",
      "  File \"/tmp/ipykernel_20/3915449350.py\", line 15, in fit\n",
      "  File \"/opt/conda/lib/python3.7/site-packages/sklearn/linear_model/_logistic.py\", line 1304, in fit\n",
      "    solver = _check_solver(self.solver, self.penalty, self.dual)\n",
      "  File \"/opt/conda/lib/python3.7/site-packages/sklearn/linear_model/_logistic.py\", line 443, in _check_solver\n",
      "    \"got %s penalty.\" % (solver, penalty))\n",
      "ValueError: Solver lbfgs supports only 'l2' or 'none' penalties, got l1 penalty.\n",
      "\n",
      "  FitFailedWarning)\n",
      "/opt/conda/lib/python3.7/site-packages/sklearn/model_selection/_validation.py:552: FitFailedWarning: Estimator fit failed. The score on this train-test partition for these parameters will be set to nan. Details: \n",
      "Traceback (most recent call last):\n",
      "  File \"/opt/conda/lib/python3.7/site-packages/sklearn/model_selection/_validation.py\", line 531, in _fit_and_score\n",
      "    estimator.fit(X_train, y_train, **fit_params)\n",
      "  File \"/opt/conda/lib/python3.7/site-packages/sklearn/pipeline.py\", line 335, in fit\n",
      "    self._final_estimator.fit(Xt, y, **fit_params_last_step)\n",
      "  File \"/tmp/ipykernel_20/3915449350.py\", line 15, in fit\n",
      "  File \"/opt/conda/lib/python3.7/site-packages/sklearn/linear_model/_logistic.py\", line 1417, in fit\n",
      "    for class_, warm_start_coef_ in zip(classes_, warm_start_coef))\n",
      "  File \"/opt/conda/lib/python3.7/site-packages/joblib/parallel.py\", line 1043, in __call__\n",
      "    if self.dispatch_one_batch(iterator):\n",
      "  File \"/opt/conda/lib/python3.7/site-packages/joblib/parallel.py\", line 861, in dispatch_one_batch\n",
      "    self._dispatch(tasks)\n",
      "  File \"/opt/conda/lib/python3.7/site-packages/joblib/parallel.py\", line 779, in _dispatch\n",
      "    job = self._backend.apply_async(batch, callback=cb)\n",
      "  File \"/opt/conda/lib/python3.7/site-packages/joblib/_parallel_backends.py\", line 208, in apply_async\n",
      "    result = ImmediateResult(func)\n",
      "  File \"/opt/conda/lib/python3.7/site-packages/joblib/_parallel_backends.py\", line 572, in __init__\n",
      "    self.results = batch()\n",
      "  File \"/opt/conda/lib/python3.7/site-packages/joblib/parallel.py\", line 263, in __call__\n",
      "    for func, args, kwargs in self.items]\n",
      "  File \"/opt/conda/lib/python3.7/site-packages/joblib/parallel.py\", line 263, in <listcomp>\n",
      "    for func, args, kwargs in self.items]\n",
      "  File \"/opt/conda/lib/python3.7/site-packages/sklearn/linear_model/_logistic.py\", line 764, in _logistic_regression_path\n",
      "    extra_warning_msg=_LOGISTIC_SOLVER_CONVERGENCE_MSG)\n",
      "  File \"/opt/conda/lib/python3.7/site-packages/sklearn/utils/optimize.py\", line 243, in _check_optimize_result\n",
      "    ).format(solver, result.status, result.message.decode(\"latin1\"))\n",
      "AttributeError: 'str' object has no attribute 'decode'\n",
      "\n",
      "  FitFailedWarning)\n",
      "/opt/conda/lib/python3.7/site-packages/sklearn/model_selection/_validation.py:552: FitFailedWarning: Estimator fit failed. The score on this train-test partition for these parameters will be set to nan. Details: \n",
      "Traceback (most recent call last):\n",
      "  File \"/opt/conda/lib/python3.7/site-packages/sklearn/model_selection/_validation.py\", line 531, in _fit_and_score\n",
      "    estimator.fit(X_train, y_train, **fit_params)\n",
      "  File \"/opt/conda/lib/python3.7/site-packages/sklearn/pipeline.py\", line 335, in fit\n",
      "    self._final_estimator.fit(Xt, y, **fit_params_last_step)\n",
      "  File \"/tmp/ipykernel_20/3915449350.py\", line 15, in fit\n",
      "  File \"/opt/conda/lib/python3.7/site-packages/sklearn/linear_model/_logistic.py\", line 1417, in fit\n",
      "    for class_, warm_start_coef_ in zip(classes_, warm_start_coef))\n",
      "  File \"/opt/conda/lib/python3.7/site-packages/joblib/parallel.py\", line 1043, in __call__\n",
      "    if self.dispatch_one_batch(iterator):\n",
      "  File \"/opt/conda/lib/python3.7/site-packages/joblib/parallel.py\", line 861, in dispatch_one_batch\n",
      "    self._dispatch(tasks)\n",
      "  File \"/opt/conda/lib/python3.7/site-packages/joblib/parallel.py\", line 779, in _dispatch\n",
      "    job = self._backend.apply_async(batch, callback=cb)\n",
      "  File \"/opt/conda/lib/python3.7/site-packages/joblib/_parallel_backends.py\", line 208, in apply_async\n",
      "    result = ImmediateResult(func)\n",
      "  File \"/opt/conda/lib/python3.7/site-packages/joblib/_parallel_backends.py\", line 572, in __init__\n",
      "    self.results = batch()\n",
      "  File \"/opt/conda/lib/python3.7/site-packages/joblib/parallel.py\", line 263, in __call__\n",
      "    for func, args, kwargs in self.items]\n",
      "  File \"/opt/conda/lib/python3.7/site-packages/joblib/parallel.py\", line 263, in <listcomp>\n",
      "    for func, args, kwargs in self.items]\n",
      "  File \"/opt/conda/lib/python3.7/site-packages/sklearn/linear_model/_logistic.py\", line 764, in _logistic_regression_path\n",
      "    extra_warning_msg=_LOGISTIC_SOLVER_CONVERGENCE_MSG)\n",
      "  File \"/opt/conda/lib/python3.7/site-packages/sklearn/utils/optimize.py\", line 243, in _check_optimize_result\n",
      "    ).format(solver, result.status, result.message.decode(\"latin1\"))\n",
      "AttributeError: 'str' object has no attribute 'decode'\n",
      "\n",
      "  FitFailedWarning)\n",
      "[Parallel(n_jobs=12)]: Done 450 out of 450 | elapsed:   17.3s finished\n"
     ]
    },
    {
     "data": {
      "text/plain": [
       "GridSearchCV(cv=KFold(n_splits=3, random_state=None, shuffle=False),\n",
       "             estimator=Pipeline(steps=[('transformer',\n",
       "                                        ColumnTransformer(transformers=[('standardscaler',\n",
       "                                                                         StandardScaler(),\n",
       "                                                                         ['Age',\n",
       "                                                                          'SibSp',\n",
       "                                                                          'Parch',\n",
       "                                                                          'Family_size',\n",
       "                                                                          'Fare']),\n",
       "                                                                        ('onehotencoder',\n",
       "                                                                         OneHotEncoder(handle_unknown='ignore'),\n",
       "                                                                         ['Title',\n",
       "                                                                          'Sex',\n",
       "                                                                          'Pclass',\n",
       "                                                                          'Deck',\n",
       "                                                                          'Embarked'])])),\n",
       "                                       ('clf', ClfSwitcher())]),\n",
       "             n_j...\n",
       "                          'clf__estimator__C': [0.001, 0.01, 0.1, 1.0, 10.0,\n",
       "                                                100.0, 1000.0],\n",
       "                          'clf__estimator__degree': [3, 4, 5, 6],\n",
       "                          'clf__estimator__kernel': ['rbf', 'sigmoid']},\n",
       "                         {'clf__estimator': [LogisticRegression()],\n",
       "                          'clf__estimator__C': [0.001, 0.01, 0.1, 1.0, 10.0,\n",
       "                                                100.0, 1000.0],\n",
       "                          'clf__estimator__penalty': ['l1', 'l2'],\n",
       "                          'clf__estimator__solver': ['lbfgs', 'liblinear'],\n",
       "                          'clf__estimator__tol': [0.0001, 0.001, 0.01]}],\n",
       "             scoring='r2', verbose=3)"
      ]
     },
     "execution_count": 50,
     "metadata": {},
     "output_type": "execute_result"
    }
   ],
   "source": [
    "gscv = GridSearchCV(pipeline,\n",
    "                    parameters,\n",
    "                    cv=cv,\n",
    "                    scoring='r2',\n",
    "                    n_jobs=12,\n",
    "                    verbose=3)\n",
    "gscv.fit(X_train, y_train)"
   ]
  },
  {
   "cell_type": "code",
   "execution_count": 51,
   "id": "a264c6d6",
   "metadata": {
    "execution": {
     "iopub.execute_input": "2022-01-12T23:13:24.788066Z",
     "iopub.status.busy": "2022-01-12T23:13:24.786988Z",
     "iopub.status.idle": "2022-01-12T23:13:24.790865Z",
     "shell.execute_reply": "2022-01-12T23:13:24.791475Z",
     "shell.execute_reply.started": "2022-01-12T22:06:56.092302Z"
    },
    "papermill": {
     "duration": 0.135173,
     "end_time": "2022-01-12T23:13:24.791647",
     "exception": false,
     "start_time": "2022-01-12T23:13:24.656474",
     "status": "completed"
    },
    "tags": []
   },
   "outputs": [
    {
     "data": {
      "text/plain": [
       "{'clf__estimator': SVC(),\n",
       " 'clf__estimator__C': 1.0,\n",
       " 'clf__estimator__degree': 3,\n",
       " 'clf__estimator__kernel': 'rbf'}"
      ]
     },
     "execution_count": 51,
     "metadata": {},
     "output_type": "execute_result"
    }
   ],
   "source": [
    "gscv.best_params_"
   ]
  },
  {
   "cell_type": "code",
   "execution_count": 52,
   "id": "1ddd8c25",
   "metadata": {
    "execution": {
     "iopub.execute_input": "2022-01-12T23:13:25.048829Z",
     "iopub.status.busy": "2022-01-12T23:13:25.046176Z",
     "iopub.status.idle": "2022-01-12T23:13:25.050924Z",
     "shell.execute_reply": "2022-01-12T23:13:25.051499Z",
     "shell.execute_reply.started": "2022-01-12T22:06:56.101211Z"
    },
    "papermill": {
     "duration": 0.13102,
     "end_time": "2022-01-12T23:13:25.051676",
     "exception": false,
     "start_time": "2022-01-12T23:13:24.920656",
     "status": "completed"
    },
    "tags": []
   },
   "outputs": [],
   "source": [
    "model = pipeline.set_params(**gscv.best_params_)"
   ]
  },
  {
   "cell_type": "code",
   "execution_count": 53,
   "id": "a46616a8",
   "metadata": {
    "execution": {
     "iopub.execute_input": "2022-01-12T23:13:25.296245Z",
     "iopub.status.busy": "2022-01-12T23:13:25.295524Z",
     "iopub.status.idle": "2022-01-12T23:13:25.345797Z",
     "shell.execute_reply": "2022-01-12T23:13:25.345173Z",
     "shell.execute_reply.started": "2022-01-12T22:06:56.113631Z"
    },
    "papermill": {
     "duration": 0.171773,
     "end_time": "2022-01-12T23:13:25.345937",
     "exception": false,
     "start_time": "2022-01-12T23:13:25.174164",
     "status": "completed"
    },
    "tags": []
   },
   "outputs": [
    {
     "data": {
      "text/plain": [
       "Pipeline(steps=[('transformer',\n",
       "                 ColumnTransformer(transformers=[('standardscaler',\n",
       "                                                  StandardScaler(),\n",
       "                                                  ['Age', 'SibSp', 'Parch',\n",
       "                                                   'Family_size', 'Fare']),\n",
       "                                                 ('onehotencoder',\n",
       "                                                  OneHotEncoder(handle_unknown='ignore'),\n",
       "                                                  ['Title', 'Sex', 'Pclass',\n",
       "                                                   'Deck', 'Embarked'])])),\n",
       "                ('clf', ClfSwitcher(estimator=SVC()))])"
      ]
     },
     "execution_count": 53,
     "metadata": {},
     "output_type": "execute_result"
    }
   ],
   "source": [
    "model.fit(X_train, y_train)"
   ]
  },
  {
   "cell_type": "markdown",
   "id": "969d5e26",
   "metadata": {
    "papermill": {
     "duration": 0.143293,
     "end_time": "2022-01-12T23:13:25.605417",
     "exception": false,
     "start_time": "2022-01-12T23:13:25.462124",
     "status": "completed"
    },
    "tags": []
   },
   "source": [
    "### 5. Model Predictions"
   ]
  },
  {
   "cell_type": "markdown",
   "id": "60ede87a",
   "metadata": {
    "papermill": {
     "duration": 0.13795,
     "end_time": "2022-01-12T23:13:25.873455",
     "exception": false,
     "start_time": "2022-01-12T23:13:25.735505",
     "status": "completed"
    },
    "tags": []
   },
   "source": [
    "Now, let's test the model we trained using our test data we split from the main train dataset."
   ]
  },
  {
   "cell_type": "code",
   "execution_count": 54,
   "id": "9ebdaeab",
   "metadata": {
    "execution": {
     "iopub.execute_input": "2022-01-12T23:13:26.123334Z",
     "iopub.status.busy": "2022-01-12T23:13:26.122361Z",
     "iopub.status.idle": "2022-01-12T23:13:26.132473Z",
     "shell.execute_reply": "2022-01-12T23:13:26.131689Z",
     "shell.execute_reply.started": "2022-01-12T22:06:56.202517Z"
    },
    "papermill": {
     "duration": 0.136799,
     "end_time": "2022-01-12T23:13:26.132673",
     "exception": false,
     "start_time": "2022-01-12T23:13:25.995874",
     "status": "completed"
    },
    "tags": []
   },
   "outputs": [],
   "source": [
    "y_hat = model.predict(X_test)"
   ]
  },
  {
   "cell_type": "markdown",
   "id": "2ee8b309",
   "metadata": {
    "papermill": {
     "duration": 0.119258,
     "end_time": "2022-01-12T23:13:26.376822",
     "exception": false,
     "start_time": "2022-01-12T23:13:26.257564",
     "status": "completed"
    },
    "tags": []
   },
   "source": [
    "### 6. Model Evalutaion"
   ]
  },
  {
   "cell_type": "markdown",
   "id": "0ed82507",
   "metadata": {
    "papermill": {
     "duration": 0.116016,
     "end_time": "2022-01-12T23:13:26.609612",
     "exception": false,
     "start_time": "2022-01-12T23:13:26.493596",
     "status": "completed"
    },
    "tags": []
   },
   "source": [
    "Let's evaluate our model using **Single Evaluation Metric** and **Multi-evaluation Metrics**"
   ]
  },
  {
   "cell_type": "markdown",
   "id": "db2ee1b4",
   "metadata": {
    "papermill": {
     "duration": 0.115377,
     "end_time": "2022-01-12T23:13:26.840815",
     "exception": false,
     "start_time": "2022-01-12T23:13:26.725438",
     "status": "completed"
    },
    "tags": []
   },
   "source": [
    "1. Single-number Evaluation Metric"
   ]
  },
  {
   "cell_type": "code",
   "execution_count": 55,
   "id": "86e72007",
   "metadata": {
    "execution": {
     "iopub.execute_input": "2022-01-12T23:13:27.079526Z",
     "iopub.status.busy": "2022-01-12T23:13:27.078388Z",
     "iopub.status.idle": "2022-01-12T23:13:27.093098Z",
     "shell.execute_reply": "2022-01-12T23:13:27.093605Z",
     "shell.execute_reply.started": "2022-01-12T22:06:56.224576Z"
    },
    "papermill": {
     "duration": 0.135864,
     "end_time": "2022-01-12T23:13:27.093789",
     "exception": false,
     "start_time": "2022-01-12T23:13:26.957925",
     "status": "completed"
    },
    "tags": []
   },
   "outputs": [
    {
     "data": {
      "text/plain": [
       "0.8251121076233184"
      ]
     },
     "execution_count": 55,
     "metadata": {},
     "output_type": "execute_result"
    }
   ],
   "source": [
    "model.score(X_test, y_test)"
   ]
  },
  {
   "cell_type": "markdown",
   "id": "a1fe3f5d",
   "metadata": {
    "papermill": {
     "duration": 0.116129,
     "end_time": "2022-01-12T23:13:27.326625",
     "exception": false,
     "start_time": "2022-01-12T23:13:27.210496",
     "status": "completed"
    },
    "tags": []
   },
   "source": [
    "2. Multi-evaluation Metrics"
   ]
  },
  {
   "cell_type": "code",
   "execution_count": 56,
   "id": "dd6a3240",
   "metadata": {
    "execution": {
     "iopub.execute_input": "2022-01-12T23:13:27.569020Z",
     "iopub.status.busy": "2022-01-12T23:13:27.568372Z",
     "iopub.status.idle": "2022-01-12T23:13:27.570830Z",
     "shell.execute_reply": "2022-01-12T23:13:27.571350Z",
     "shell.execute_reply.started": "2022-01-12T22:06:56.244987Z"
    },
    "papermill": {
     "duration": 0.128507,
     "end_time": "2022-01-12T23:13:27.571525",
     "exception": false,
     "start_time": "2022-01-12T23:13:27.443018",
     "status": "completed"
    },
    "tags": []
   },
   "outputs": [
    {
     "data": {
      "text/plain": [
       "array([[ 65,  21],\n",
       "       [ 18, 119]])"
      ]
     },
     "execution_count": 56,
     "metadata": {},
     "output_type": "execute_result"
    }
   ],
   "source": [
    "cm = confusion_matrix(y_test, y_hat, labels=[1, 0])\n",
    "cm"
   ]
  },
  {
   "cell_type": "code",
   "execution_count": 57,
   "id": "8245cfd4",
   "metadata": {
    "execution": {
     "iopub.execute_input": "2022-01-12T23:13:27.826553Z",
     "iopub.status.busy": "2022-01-12T23:13:27.824507Z",
     "iopub.status.idle": "2022-01-12T23:13:28.054184Z",
     "shell.execute_reply": "2022-01-12T23:13:28.053628Z",
     "shell.execute_reply.started": "2022-01-12T22:06:56.260146Z"
    },
    "papermill": {
     "duration": 0.366104,
     "end_time": "2022-01-12T23:13:28.054329",
     "exception": false,
     "start_time": "2022-01-12T23:13:27.688225",
     "status": "completed"
    },
    "tags": []
   },
   "outputs": [
    {
     "data": {
      "image/png": "[encoded data removed]",
      "text/plain": [
       "<Figure size 864x576 with 2 Axes>"
      ]
     },
     "metadata": {
      "needs_background": "light"
     },
     "output_type": "display_data"
    }
   ],
   "source": [
    "confusion_plot = ConfusionMatrixDisplay(confusion_matrix=cm,\n",
    "                                        display_labels=['Survived', 'Died'])\n",
    "\n",
    "fig, ax = plt.subplots(1,1,figsize=(12, 8))\n",
    "ax.grid(False)\n",
    "confusion_plot.plot(cmap='Blues', ax=ax)\n",
    "ax.set_title('Confusion Matrix Between True Label & Predicted Label')\n",
    "plt.show()"
   ]
  },
  {
   "cell_type": "code",
   "execution_count": 58,
   "id": "01503376",
   "metadata": {
    "execution": {
     "iopub.execute_input": "2022-01-12T23:13:28.294092Z",
     "iopub.status.busy": "2022-01-12T23:13:28.293467Z",
     "iopub.status.idle": "2022-01-12T23:13:28.299420Z",
     "shell.execute_reply": "2022-01-12T23:13:28.299918Z",
     "shell.execute_reply.started": "2022-01-12T22:06:56.468444Z"
    },
    "papermill": {
     "duration": 0.128087,
     "end_time": "2022-01-12T23:13:28.300085",
     "exception": false,
     "start_time": "2022-01-12T23:13:28.171998",
     "status": "completed"
    },
    "tags": []
   },
   "outputs": [
    {
     "data": {
      "text/plain": [
       "0.7692307692307692"
      ]
     },
     "execution_count": 58,
     "metadata": {},
     "output_type": "execute_result"
    }
   ],
   "source": [
    "f1_score(y_test, y_hat)"
   ]
  },
  {
   "cell_type": "markdown",
   "id": "39d57b7b",
   "metadata": {
    "papermill": {
     "duration": 0.117822,
     "end_time": "2022-01-12T23:13:28.535567",
     "exception": false,
     "start_time": "2022-01-12T23:13:28.417745",
     "status": "completed"
    },
    "tags": []
   },
   "source": [
    "According to *Prof. Andrew Neg* in a book of **Machine Learning Yearning** – If you want to relay on accurate accuracy for your classification model, you should relay on <u>Multi-evaluation metric</u> [ Precision, Recall ]. You can combine them into <u>single-number evaluation metric</u> which `F1-score `."
   ]
  },
  {
   "cell_type": "markdown",
   "id": "ca06d171",
   "metadata": {
    "papermill": {
     "duration": 0.117348,
     "end_time": "2022-01-12T23:13:28.771032",
     "exception": false,
     "start_time": "2022-01-12T23:13:28.653684",
     "status": "completed"
    },
    "tags": []
   },
   "source": [
    "### 7. Export Predictions"
   ]
  },
  {
   "cell_type": "markdown",
   "id": "e1b1f078",
   "metadata": {
    "papermill": {
     "duration": 0.118062,
     "end_time": "2022-01-12T23:13:29.007938",
     "exception": false,
     "start_time": "2022-01-12T23:13:28.889876",
     "status": "completed"
    },
    "tags": []
   },
   "source": [
    "Lastly, we're going to create a function that apply all the above steps and provide to us the predictions of the `test.csv`."
   ]
  },
  {
   "cell_type": "code",
   "execution_count": 59,
   "id": "24c4448a",
   "metadata": {
    "execution": {
     "iopub.execute_input": "2022-01-12T23:13:29.248748Z",
     "iopub.status.busy": "2022-01-12T23:13:29.248097Z",
     "iopub.status.idle": "2022-01-12T23:13:29.261454Z",
     "shell.execute_reply": "2022-01-12T23:13:29.261926Z",
     "shell.execute_reply.started": "2022-01-12T22:45:32.921212Z"
    },
    "papermill": {
     "duration": 0.135698,
     "end_time": "2022-01-12T23:13:29.262119",
     "exception": false,
     "start_time": "2022-01-12T23:13:29.126421",
     "status": "completed"
    },
    "tags": []
   },
   "outputs": [],
   "source": [
    "def prediction_fn(data_dir: Text, model) -> pd.DataFrame:\n",
    "    \"\"\"\n",
    "    A Function created for producing a batch prediction\n",
    "    for titanic model.\n",
    "    \n",
    "    Args:\n",
    "        data_dir [Text]: directory to the test dataset to use it in the prediction.\n",
    "        model: model pipeline that is going to be used in the prediction.\n",
    "    \n",
    "    Returns:\n",
    "        pd.DataFrame: predicted dataframe.\n",
    "    \"\"\"\n",
    "    # read dataset\n",
    "    test_data = pd.read_csv(data_dir, index_col=False)\n",
    "    \n",
    "    # pre-processing & Feature Engineering\n",
    "    ## Age\n",
    "    age_highest_freq = test_data['Age'].value_counts().head(10).index.values\n",
    "    freq_of_highes_age = test_data['Age'].value_counts().head(10).values\n",
    "    age_probabilities = list(map(lambda value: (1/sum(freq_of_highes_age)) * value,\n",
    "                                 freq_of_highes_age))\n",
    "    test_data['Age'] = test_data['Age'].apply(lambda value: value if not np.isnan(value) \n",
    "                                                else np.random.choice(age_highest_freq,\n",
    "                                                                      p=age_probabilities))\n",
    "    ## Embarked\n",
    "    freq = test_data['Embarked'].value_counts().values[0]\n",
    "    test_data['Embarked'].fillna(freq, inplace=True)\n",
    "    test_data['Embarked'].replace(to_replace=644,\n",
    "                                   value=test_data['Embarked'].value_counts().index.values[0],\n",
    "                                   inplace=True)\n",
    "    ## Fare\n",
    "    test_data['Fare'].fillna(method='bfill', inplace=True)\n",
    "    ## Title\n",
    "    test_data['Title'] = test_data['Name'].apply(lambda name: patterns(name, TITLES))\n",
    "    test_data['Title'] = test_data.apply(squeeze_title, axis=1) \n",
    "    \n",
    "    ## Cabin\n",
    "    test_data['Deck'] = test_data['Cabin'].apply(lambda letter:\n",
    "                                                   patterns(str(letter), cabin_list))\n",
    "    test_data.drop(columns='Cabin', inplace=True)\n",
    "    \n",
    "    ## Family Size\n",
    "    test_data['Family_size'] = test_data['SibSp'] + test_data['Parch']\n",
    "    \n",
    "    # Drop the useless features (Only keep PassengerId for merging  it with the predictions)\n",
    "    passId = test_data['PassengerId']\n",
    "    test_data.drop(columns=['Name', 'Ticket', 'PassengerId'], inplace=True)\n",
    "    \n",
    "    # Model predictions\n",
    "    predictions = model.predict(test_data)\n",
    "    \n",
    "    # Building the dataframe of the predction values\n",
    "    predictions = pd.DataFrame(predictions, columns=['Survived'])\n",
    "    predictions = pd.merge(passId, predictions, left_index=True, right_index=True)\n",
    "    \n",
    "    return predictions"
   ]
  },
  {
   "cell_type": "code",
   "execution_count": 60,
   "id": "59499a9c",
   "metadata": {
    "execution": {
     "iopub.execute_input": "2022-01-12T23:13:29.501716Z",
     "iopub.status.busy": "2022-01-12T23:13:29.501060Z",
     "iopub.status.idle": "2022-01-12T23:13:29.559738Z",
     "shell.execute_reply": "2022-01-12T23:13:29.559086Z",
     "shell.execute_reply.started": "2022-01-12T22:52:28.872361Z"
    },
    "papermill": {
     "duration": 0.179858,
     "end_time": "2022-01-12T23:13:29.559883",
     "exception": false,
     "start_time": "2022-01-12T23:13:29.380025",
     "status": "completed"
    },
    "tags": []
   },
   "outputs": [
    {
     "data": {
      "text/html": [
       "<div>\n",
       "<style scoped>\n",
       "    .dataframe tbody tr th:only-of-type {\n",
       "        vertical-align: middle;\n",
       "    }\n",
       "\n",
       "    .dataframe tbody tr th {\n",
       "        vertical-align: top;\n",
       "    }\n",
       "\n",
       "    .dataframe thead th {\n",
       "        text-align: right;\n",
       "    }\n",
       "</style>\n",
       "<table border=\"1\" class=\"dataframe\">\n",
       "  <thead>\n",
       "    <tr style=\"text-align: right;\">\n",
       "      <th></th>\n",
       "      <th>PassengerId</th>\n",
       "      <th>Survived</th>\n",
       "    </tr>\n",
       "  </thead>\n",
       "  <tbody>\n",
       "    <tr>\n",
       "      <th>0</th>\n",
       "      <td>892</td>\n",
       "      <td>0</td>\n",
       "    </tr>\n",
       "    <tr>\n",
       "      <th>1</th>\n",
       "      <td>893</td>\n",
       "      <td>1</td>\n",
       "    </tr>\n",
       "    <tr>\n",
       "      <th>2</th>\n",
       "      <td>894</td>\n",
       "      <td>0</td>\n",
       "    </tr>\n",
       "    <tr>\n",
       "      <th>3</th>\n",
       "      <td>895</td>\n",
       "      <td>0</td>\n",
       "    </tr>\n",
       "    <tr>\n",
       "      <th>4</th>\n",
       "      <td>896</td>\n",
       "      <td>1</td>\n",
       "    </tr>\n",
       "    <tr>\n",
       "      <th>...</th>\n",
       "      <td>...</td>\n",
       "      <td>...</td>\n",
       "    </tr>\n",
       "    <tr>\n",
       "      <th>413</th>\n",
       "      <td>1305</td>\n",
       "      <td>0</td>\n",
       "    </tr>\n",
       "    <tr>\n",
       "      <th>414</th>\n",
       "      <td>1306</td>\n",
       "      <td>1</td>\n",
       "    </tr>\n",
       "    <tr>\n",
       "      <th>415</th>\n",
       "      <td>1307</td>\n",
       "      <td>0</td>\n",
       "    </tr>\n",
       "    <tr>\n",
       "      <th>416</th>\n",
       "      <td>1308</td>\n",
       "      <td>0</td>\n",
       "    </tr>\n",
       "    <tr>\n",
       "      <th>417</th>\n",
       "      <td>1309</td>\n",
       "      <td>1</td>\n",
       "    </tr>\n",
       "  </tbody>\n",
       "</table>\n",
       "<p>418 rows × 2 columns</p>\n",
       "</div>"
      ],
      "text/plain": [
       "     PassengerId  Survived\n",
       "0            892         0\n",
       "1            893         1\n",
       "2            894         0\n",
       "3            895         0\n",
       "4            896         1\n",
       "..           ...       ...\n",
       "413         1305         0\n",
       "414         1306         1\n",
       "415         1307         0\n",
       "416         1308         0\n",
       "417         1309         1\n",
       "\n",
       "[418 rows x 2 columns]"
      ]
     },
     "execution_count": 60,
     "metadata": {},
     "output_type": "execute_result"
    }
   ],
   "source": [
    "import warnings\n",
    "warnings.filterwarnings('ignore')\n",
    "prediction = prediction_fn('../input/titanic/test.csv', model)\n",
    "prediction"
   ]
  },
  {
   "cell_type": "code",
   "execution_count": 61,
   "id": "ecbcc1ad",
   "metadata": {
    "execution": {
     "iopub.execute_input": "2022-01-12T23:13:29.802007Z",
     "iopub.status.busy": "2022-01-12T23:13:29.801387Z",
     "iopub.status.idle": "2022-01-12T23:13:29.810180Z",
     "shell.execute_reply": "2022-01-12T23:13:29.810664Z",
     "shell.execute_reply.started": "2022-01-12T22:51:33.855175Z"
    },
    "papermill": {
     "duration": 0.13147,
     "end_time": "2022-01-12T23:13:29.810843",
     "exception": false,
     "start_time": "2022-01-12T23:13:29.679373",
     "status": "completed"
    },
    "tags": []
   },
   "outputs": [
    {
     "name": "stdout",
     "output_type": "stream",
     "text": [
      "You have sucessfully exported the predictions!\n"
     ]
    }
   ],
   "source": [
    "prediction.to_csv('gender_submission.csv')\n",
    "print(\"You have sucessfully exported the predictions!\")"
   ]
  },
  {
   "cell_type": "markdown",
   "id": "2fd31fc2",
   "metadata": {
    "papermill": {
     "duration": 0.121463,
     "end_time": "2022-01-12T23:13:30.053538",
     "exception": false,
     "start_time": "2022-01-12T23:13:29.932075",
     "status": "completed"
    },
    "tags": []
   },
   "source": [
    "<p style='text-align:center;'>Thanks for reaching this level of expermenting\n",
    "the idea of</p>\n",
    "<p style='text-align:center;'><b>Titanic - How Data Scientist applies Analysis & ML</b></p>\n",
    "<p style='text-align:center;'>Data Scientist & ML Engineer: <a href='https://www.linkedin.com/in/drxavier997/'>Ahmed</a></p>\n",
    "<p style='text-align:center;'>Created at: 2022-01-13"
   ]
  }
 ],
 "metadata": {
  "kernelspec": {
   "display_name": "Python 3",
   "language": "python",
   "name": "python3"
  },
  "language_info": {
   "codemirror_mode": {
    "name": "ipython",
    "version": 3
   },
   "file_extension": ".py",
   "mimetype": "text/x-python",
   "name": "python",
   "nbconvert_exporter": "python",
   "pygments_lexer": "ipython3",
   "version": "3.7.12"
  },
  "papermill": {
   "default_parameters": {},
   "duration": 63.021561,
   "end_time": "2022-01-12T23:13:31.187080",
   "environment_variables": {},
   "exception": null,
   "input_path": "__notebook__.ipynb",
   "output_path": "__notebook__.ipynb",
   "parameters": {},
   "start_time": "2022-01-12T23:12:28.165519",
   "version": "2.3.3"
  }
 },
 "nbformat": 4,
 "nbformat_minor": 5
}
