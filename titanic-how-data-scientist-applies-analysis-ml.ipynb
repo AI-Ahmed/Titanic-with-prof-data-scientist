{
 "cells": [
  {
   "cell_type": "markdown",
   "id": "5b546901",
   "metadata": {
    "_cell_guid": "cf4e71aa-cde6-4e90-b33f-b970dc31ea39",
    "_uuid": "ea99f1d2-c0d9-4840-b330-946cf5d18998",
    "execution": {
     "iopub.execute_input": "2022-01-08T15:41:18.567643Z",
     "iopub.status.busy": "2022-01-08T15:41:18.567312Z",
     "iopub.status.idle": "2022-01-08T15:41:18.591472Z",
     "shell.execute_reply": "2022-01-08T15:41:18.590754Z",
     "shell.execute_reply.started": "2022-01-08T15:41:18.567556Z"
    },
    "papermill": {
     "duration": 0.087786,
     "end_time": "2022-01-12T23:21:44.878311",
     "exception": false,
     "start_time": "2022-01-12T23:21:44.790525",
     "status": "completed"
    },
    "tags": []
   },
   "source": [
    "# Titanic - Machine Learning from Disaster\n",
    "---"
   ]
  },
  {
   "cell_type": "markdown",
   "id": "c97674d2",
   "metadata": {
    "_cell_guid": "c6443246-0e6b-411d-b2ed-6e326a272cc9",
    "_uuid": "f5e69a36-80f2-48a9-8479-c8dc96a57a1a",
    "papermill": {
     "duration": 0.087402,
     "end_time": "2022-01-12T23:21:45.055699",
     "exception": false,
     "start_time": "2022-01-12T23:21:44.968297",
     "status": "completed"
    },
    "tags": []
   },
   "source": [
    "Copyright [2021] [Data Scientist & ML Engineer: [Ahmed](https://www.kaggle.com/dsxavier/)]\n",
    "\n",
    "Licensed under the Apache License, Version 2.0 (the \"License\");\n",
    "you may not use this file except in compliance with the License.\n",
    "You may obtain a copy of the License at\n",
    "\n",
    "   http://www.apache.org/licenses/LICENSE-2.0\n",
    "\n",
    "Unless required by applicable law or agreed to in writing, software\n",
    "distributed under the License is distributed on an \"AS IS\" BASIS,\n",
    "WITHOUT WARRANTIES OR CONDITIONS OF ANY KIND, either express or implied.\n",
    "See the License for the specific language governing permissions and\n",
    "limitations under the License."
   ]
  },
  {
   "cell_type": "markdown",
   "id": "0c5bbf4a",
   "metadata": {
    "_cell_guid": "49c4bbbc-b107-4935-9649-4af7185f75cb",
    "_uuid": "8d099156-06fa-4b1b-ac71-12cdad1c8fec",
    "papermill": {
     "duration": 0.087571,
     "end_time": "2022-01-12T23:21:45.234335",
     "exception": false,
     "start_time": "2022-01-12T23:21:45.146764",
     "status": "completed"
    },
    "tags": []
   },
   "source": [
    "## An Overview"
   ]
  },
  {
   "cell_type": "markdown",
   "id": "1dad5d52",
   "metadata": {
    "_cell_guid": "ca7d6c85-1a81-4e51-a57f-21d17d109a38",
    "_uuid": "7f1d1c5f-b050-49ec-bcc7-68766f20f5ac",
    "papermill": {
     "duration": 0.085872,
     "end_time": "2022-01-12T23:21:45.407049",
     "exception": false,
     "start_time": "2022-01-12T23:21:45.321177",
     "status": "completed"
    },
    "tags": []
   },
   "source": [
    "The sinking of the Titanic is one of the most infamous shipwrecks in history.\n",
    "\n",
    "On April 15, 1912, during her maiden voyage, the widely considered “unsinkable” RMS Titanic sank after colliding with an iceberg. Unfortunately, there weren’t enough lifeboats for everyone onboard, resulting in the death of 1502 out of 2224 passengers and crew.\n",
    "\n",
    "While there was some element of luck involved in surviving, it seems some groups of people were more likely to survive than others.\n",
    "\n",
    "In this challenge, we ask you to build a predictive model that answers the question: “what sorts of people were more likely to survive?” using passenger data (ie name, age, gender, socio-economic class, etc)."
   ]
  },
  {
   "cell_type": "markdown",
   "id": "0756870f",
   "metadata": {
    "papermill": {
     "duration": 0.087673,
     "end_time": "2022-01-12T23:21:45.580939",
     "exception": false,
     "start_time": "2022-01-12T23:21:45.493266",
     "status": "completed"
    },
    "tags": []
   },
   "source": [
    "## [Data Dictionary](https://www.kaggle.com/c/titanic/data#:~:text=should%20look%20like.-,data%20dictionary,-Variable)\n"
   ]
  },
  {
   "cell_type": "markdown",
   "id": "603518fa",
   "metadata": {
    "execution": {
     "iopub.execute_input": "2022-01-09T21:09:44.957997Z",
     "iopub.status.busy": "2022-01-09T21:09:44.957664Z",
     "iopub.status.idle": "2022-01-09T21:09:44.973218Z",
     "shell.execute_reply": "2022-01-09T21:09:44.972117Z",
     "shell.execute_reply.started": "2022-01-09T21:09:44.957963Z"
    },
    "papermill": {
     "duration": 0.086178,
     "end_time": "2022-01-12T23:21:45.755343",
     "exception": false,
     "start_time": "2022-01-12T23:21:45.669165",
     "status": "completed"
    },
    "tags": []
   },
   "source": [
    "<table>\n",
    "<thead>\n",
    "  <tr>\n",
    "    <th>Variable</th>\n",
    "    <th>Definition</th>\n",
    "    <th>Key</th>\n",
    "  </tr>\n",
    "</thead>\n",
    "<tbody>\n",
    "  <tr>\n",
    "    <td>survival</td>\n",
    "    <td>Survival</td>\n",
    "    <td>0 = No, 1 = Yes</td>\n",
    "  </tr>\n",
    "  <tr>\n",
    "    <td>pclass</td>\n",
    "    <td>Ticket class</td>\n",
    "    <td>1 = 1st, 2 = 2nd, 3 = 3rd</td>\n",
    "  </tr>\n",
    "  <tr>\n",
    "    <td>sex</td>\n",
    "    <td>Sex</td>\n",
    "    <td></td>\n",
    "  </tr>\n",
    "  <tr>\n",
    "    <td>Age</td>\n",
    "    <td>Age in years</td>\n",
    "    <td></td>\n",
    "  </tr>\n",
    "  <tr>\n",
    "    <td>sibsp</td>\n",
    "    <td># of siblings / spouses aboard the Titanic</td>\n",
    "    <td></td>\n",
    "  </tr>\n",
    "  <tr>\n",
    "    <td>parch</td>\n",
    "    <td># of parents / children aboard the Titanic</td>\n",
    "    <td></td>\n",
    "  </tr>\n",
    "  <tr>\n",
    "    <td>ticket</td>\n",
    "    <td>Ticket number</td>\n",
    "    <td></td>\n",
    "  </tr>\n",
    "  <tr>\n",
    "    <td>fare</td>\n",
    "    <td>Passenger fare</td>\n",
    "    <td></td>\n",
    "  </tr>\n",
    "  <tr>\n",
    "    <td>cabin</td>\n",
    "    <td>Cabin number</td>\n",
    "    <td></td>\n",
    "  </tr>\n",
    "  <tr>\n",
    "    <td>embarked</td>\n",
    "    <td>Port of Embarkation</td>\n",
    "    <td>C = Cherbourg, Q = Queenstown, S = Southampton</td>\n",
    "  </tr>\n",
    "</tbody>\n",
    "</table>"
   ]
  },
  {
   "cell_type": "markdown",
   "id": "1cd1083e",
   "metadata": {
    "papermill": {
     "duration": 0.085051,
     "end_time": "2022-01-12T23:21:45.927207",
     "exception": false,
     "start_time": "2022-01-12T23:21:45.842156",
     "status": "completed"
    },
    "tags": []
   },
   "source": [
    "---"
   ]
  },
  {
   "cell_type": "markdown",
   "id": "5ede8594",
   "metadata": {
    "papermill": {
     "duration": 0.088728,
     "end_time": "2022-01-12T23:21:46.103341",
     "exception": false,
     "start_time": "2022-01-12T23:21:46.014613",
     "status": "completed"
    },
    "tags": []
   },
   "source": [
    "## Table of Contents"
   ]
  },
  {
   "cell_type": "markdown",
   "id": "f9b0ea7a",
   "metadata": {
    "papermill": {
     "duration": 0.085737,
     "end_time": "2022-01-12T23:21:46.280800",
     "exception": false,
     "start_time": "2022-01-12T23:21:46.195063",
     "status": "completed"
    },
    "tags": []
   },
   "source": [
    "<table>\n",
    "<thead>\n",
    "  <tr>\n",
    "      <th><a href='#Table-of-Contents'>Table of Contents</a></th>\n",
    "    <th></th>\n",
    "    <th></th>\n",
    "  </tr>\n",
    "</thead>\n",
    "<tbody>\n",
    "  <tr>\n",
    "      <td><a href='#Dependencies'>Dependencies</a><br></td>\n",
    "    <td></td>\n",
    "    <td></td>\n",
    "  </tr>\n",
    "  <tr>\n",
    "    <td></td>\n",
    "      <td><a href='#(A)-Import-Libraries'>(A) Import Libraries</a></td>\n",
    "    <td></td>\n",
    "  </tr>\n",
    "  <tr>\n",
    "      <td><a href='#Workflow-Pipeline'>Workflow Pipeline</a></td>\n",
    "    <td></td>\n",
    "    <td></td>\n",
    "  </tr>\n",
    "  <tr>\n",
    "    <td></td>\n",
    "      <td><a href='#1.-Data-Preprocessing'>1. Data Preprocessing</a></td>\n",
    "    <td></td>\n",
    "  </tr>\n",
    "  <tr>\n",
    "    <td></td>\n",
    "    <td></td>\n",
    "      <td><a href='#(A)-Data-Wrangling'>(A) Data Wrangling</a></td>\n",
    "  </tr>\n",
    "  <tr>\n",
    "    <td></td>\n",
    "    <td></td>\n",
    "      <td><a href='#(B)-Exploratory-Data-Analysis'>(B) Exploratory Data Analysis</a></td>\n",
    "  </tr>\n",
    "  <tr>\n",
    "    <td></td>\n",
    "      <td><a href='#2.-Train-&-Test-Split'>2. Train & Test Split</a></td>\n",
    "    <td></td>\n",
    "  </tr>\n",
    "  <tr>\n",
    "    <td></td>\n",
    "      <td><a href='#3.-Algorithm-Setup'>3. Algorithm Setup</a></td>\n",
    "    <td></td>\n",
    "  </tr>\n",
    "  <tr>\n",
    "    <td></td>\n",
    "      <td><a href='#4.-Model-Fitting'>4. Model Fitting</a></td>\n",
    "    <td></td>\n",
    "  </tr>\n",
    "  <tr>\n",
    "    <td></td>\n",
    "      <td><a href='#5.-Model-Predictions'>5. Model Predictions</a></td>\n",
    "    <td></td>\n",
    "  </tr>\n",
    "  <tr>\n",
    "    <td></td>\n",
    "      <td><a href='#6.-Model-Evalutaion'>6. Model Evalutaion</a></td>\n",
    "    <td></td>\n",
    "  </tr>\n",
    "  <tr>\n",
    "    <td></td>\n",
    "      <td><a href='#7.-Export-Predictions'>7. Export Predictions</a></td>\n",
    "    <td></td>\n",
    "  </tr>\n",
    "</tbody>\n",
    "</table>"
   ]
  },
  {
   "cell_type": "markdown",
   "id": "521ded02",
   "metadata": {
    "_cell_guid": "af7505b8-91f1-4722-ab82-7db2aa2909a1",
    "_uuid": "a022cca6-ee60-48ba-b181-cf6769075961",
    "papermill": {
     "duration": 0.085646,
     "end_time": "2022-01-12T23:21:46.453775",
     "exception": false,
     "start_time": "2022-01-12T23:21:46.368129",
     "status": "completed"
    },
    "tags": []
   },
   "source": [
    "## Dependencies"
   ]
  },
  {
   "cell_type": "markdown",
   "id": "1ae4f8ac",
   "metadata": {
    "_cell_guid": "ac85c5af-d2f7-4b77-adbb-f64938db7cad",
    "_uuid": "324d7d8c-ff0e-4950-86ec-7e7f5817e485",
    "papermill": {
     "duration": 0.088741,
     "end_time": "2022-01-12T23:21:46.628409",
     "exception": false,
     "start_time": "2022-01-12T23:21:46.539668",
     "status": "completed"
    },
    "tags": []
   },
   "source": [
    "### (A) Import Libraries"
   ]
  },
  {
   "cell_type": "code",
   "execution_count": 1,
   "id": "bc5353b3",
   "metadata": {
    "execution": {
     "iopub.execute_input": "2022-01-12T23:21:46.808362Z",
     "iopub.status.busy": "2022-01-12T23:21:46.806478Z",
     "iopub.status.idle": "2022-01-12T23:21:46.827085Z",
     "shell.execute_reply": "2022-01-12T23:21:46.827664Z",
     "shell.execute_reply.started": "2022-01-12T22:06:31.882020Z"
    },
    "papermill": {
     "duration": 0.11118,
     "end_time": "2022-01-12T23:21:46.827990",
     "exception": false,
     "start_time": "2022-01-12T23:21:46.716810",
     "status": "completed"
    },
    "tags": []
   },
   "outputs": [],
   "source": [
    "# Using this for auto-compeletion..\n",
    "%config Completer.use_jedi = False"
   ]
  },
  {
   "cell_type": "code",
   "execution_count": 2,
   "id": "0f9111c6",
   "metadata": {
    "_cell_guid": "603653e8-29ce-4379-82f6-01a6c61a880c",
    "_uuid": "511bc501-a860-4092-9df1-96062e6616dc",
    "collapsed": false,
    "execution": {
     "iopub.execute_input": "2022-01-12T23:21:47.011544Z",
     "iopub.status.busy": "2022-01-12T23:21:47.010424Z",
     "iopub.status.idle": "2022-01-12T23:21:48.348858Z",
     "shell.execute_reply": "2022-01-12T23:21:48.348119Z",
     "shell.execute_reply.started": "2022-01-12T22:06:31.924283Z"
    },
    "jupyter": {
     "outputs_hidden": false
    },
    "papermill": {
     "duration": 1.434375,
     "end_time": "2022-01-12T23:21:48.349044",
     "exception": false,
     "start_time": "2022-01-12T23:21:46.914669",
     "status": "completed"
    },
    "tags": []
   },
   "outputs": [],
   "source": [
    "import os\n",
    "from typing import Text, List, Dict, Set, Tuple, Optional, Union\n",
    "\n",
    "import pandas as pd\n",
    "import numpy as np\n",
    "\n",
    "from sklearn.preprocessing import LabelEncoder\n",
    "from sklearn.model_selection import train_test_split\n",
    "\n",
    "import matplotlib.pyplot as plt\n",
    "import seaborn as sns\n",
    "\n",
    "plt.rcParams['figure.figsize'] = [18, 10]\n",
    "plt.style.use('fivethirtyeight')\n",
    "%matplotlib inline"
   ]
  },
  {
   "cell_type": "markdown",
   "id": "0ba12878",
   "metadata": {
    "papermill": {
     "duration": 0.086141,
     "end_time": "2022-01-12T23:21:48.523209",
     "exception": false,
     "start_time": "2022-01-12T23:21:48.437068",
     "status": "completed"
    },
    "tags": []
   },
   "source": [
    "---"
   ]
  },
  {
   "cell_type": "markdown",
   "id": "85b749ed",
   "metadata": {
    "papermill": {
     "duration": 0.085489,
     "end_time": "2022-01-12T23:21:48.695128",
     "exception": false,
     "start_time": "2022-01-12T23:21:48.609639",
     "status": "completed"
    },
    "tags": []
   },
   "source": [
    "## Workflow Pipeline"
   ]
  },
  {
   "cell_type": "markdown",
   "id": "d91e402e",
   "metadata": {
    "papermill": {
     "duration": 0.087301,
     "end_time": "2022-01-12T23:21:48.871559",
     "exception": false,
     "start_time": "2022-01-12T23:21:48.784258",
     "status": "completed"
    },
    "tags": []
   },
   "source": [
    "### 1. Data Preprocessing"
   ]
  },
  {
   "cell_type": "markdown",
   "id": "bda9ffad",
   "metadata": {
    "papermill": {
     "duration": 0.085518,
     "end_time": "2022-01-12T23:21:49.044003",
     "exception": false,
     "start_time": "2022-01-12T23:21:48.958485",
     "status": "completed"
    },
    "tags": []
   },
   "source": [
    "First, we're going to explore the titanic dataset and start do some data wrangling and EDA "
   ]
  },
  {
   "cell_type": "markdown",
   "id": "23b2f77a",
   "metadata": {
    "papermill": {
     "duration": 0.087498,
     "end_time": "2022-01-12T23:21:49.217443",
     "exception": false,
     "start_time": "2022-01-12T23:21:49.129945",
     "status": "completed"
    },
    "tags": []
   },
   "source": [
    "#### (A) Data Wrangling"
   ]
  },
  {
   "cell_type": "code",
   "execution_count": 3,
   "id": "44decec8",
   "metadata": {
    "execution": {
     "iopub.execute_input": "2022-01-12T23:21:49.393876Z",
     "iopub.status.busy": "2022-01-12T23:21:49.393143Z",
     "iopub.status.idle": "2022-01-12T23:21:49.424454Z",
     "shell.execute_reply": "2022-01-12T23:21:49.423883Z",
     "shell.execute_reply.started": "2022-01-12T22:06:33.202389Z"
    },
    "papermill": {
     "duration": 0.121277,
     "end_time": "2022-01-12T23:21:49.424644",
     "exception": false,
     "start_time": "2022-01-12T23:21:49.303367",
     "status": "completed"
    },
    "tags": []
   },
   "outputs": [],
   "source": [
    "train_data = pd.read_csv('../input/titanic/train.csv')\n",
    "test_data = pd.read_csv('../input/titanic/test.csv')"
   ]
  },
  {
   "cell_type": "code",
   "execution_count": 4,
   "id": "878de900",
   "metadata": {
    "execution": {
     "iopub.execute_input": "2022-01-12T23:21:49.601081Z",
     "iopub.status.busy": "2022-01-12T23:21:49.600048Z",
     "iopub.status.idle": "2022-01-12T23:21:49.628086Z",
     "shell.execute_reply": "2022-01-12T23:21:49.628650Z",
     "shell.execute_reply.started": "2022-01-12T22:06:33.237624Z"
    },
    "papermill": {
     "duration": 0.117061,
     "end_time": "2022-01-12T23:21:49.628845",
     "exception": false,
     "start_time": "2022-01-12T23:21:49.511784",
     "status": "completed"
    },
    "tags": []
   },
   "outputs": [
    {
     "data": {
      "text/html": [
       "<div>\n",
       "<style scoped>\n",
       "    .dataframe tbody tr th:only-of-type {\n",
       "        vertical-align: middle;\n",
       "    }\n",
       "\n",
       "    .dataframe tbody tr th {\n",
       "        vertical-align: top;\n",
       "    }\n",
       "\n",
       "    .dataframe thead th {\n",
       "        text-align: right;\n",
       "    }\n",
       "</style>\n",
       "<table border=\"1\" class=\"dataframe\">\n",
       "  <thead>\n",
       "    <tr style=\"text-align: right;\">\n",
       "      <th></th>\n",
       "      <th>PassengerId</th>\n",
       "      <th>Survived</th>\n",
       "      <th>Pclass</th>\n",
       "      <th>Name</th>\n",
       "      <th>Sex</th>\n",
       "      <th>Age</th>\n",
       "      <th>SibSp</th>\n",
       "      <th>Parch</th>\n",
       "      <th>Ticket</th>\n",
       "      <th>Fare</th>\n",
       "      <th>Cabin</th>\n",
       "      <th>Embarked</th>\n",
       "    </tr>\n",
       "  </thead>\n",
       "  <tbody>\n",
       "    <tr>\n",
       "      <th>0</th>\n",
       "      <td>1</td>\n",
       "      <td>0</td>\n",
       "      <td>3</td>\n",
       "      <td>Braund, Mr. Owen Harris</td>\n",
       "      <td>male</td>\n",
       "      <td>22.0</td>\n",
       "      <td>1</td>\n",
       "      <td>0</td>\n",
       "      <td>A/5 21171</td>\n",
       "      <td>7.2500</td>\n",
       "      <td>NaN</td>\n",
       "      <td>S</td>\n",
       "    </tr>\n",
       "    <tr>\n",
       "      <th>1</th>\n",
       "      <td>2</td>\n",
       "      <td>1</td>\n",
       "      <td>1</td>\n",
       "      <td>Cumings, Mrs. John Bradley (Florence Briggs Th...</td>\n",
       "      <td>female</td>\n",
       "      <td>38.0</td>\n",
       "      <td>1</td>\n",
       "      <td>0</td>\n",
       "      <td>PC 17599</td>\n",
       "      <td>71.2833</td>\n",
       "      <td>C85</td>\n",
       "      <td>C</td>\n",
       "    </tr>\n",
       "    <tr>\n",
       "      <th>2</th>\n",
       "      <td>3</td>\n",
       "      <td>1</td>\n",
       "      <td>3</td>\n",
       "      <td>Heikkinen, Miss. Laina</td>\n",
       "      <td>female</td>\n",
       "      <td>26.0</td>\n",
       "      <td>0</td>\n",
       "      <td>0</td>\n",
       "      <td>STON/O2. 3101282</td>\n",
       "      <td>7.9250</td>\n",
       "      <td>NaN</td>\n",
       "      <td>S</td>\n",
       "    </tr>\n",
       "    <tr>\n",
       "      <th>3</th>\n",
       "      <td>4</td>\n",
       "      <td>1</td>\n",
       "      <td>1</td>\n",
       "      <td>Futrelle, Mrs. Jacques Heath (Lily May Peel)</td>\n",
       "      <td>female</td>\n",
       "      <td>35.0</td>\n",
       "      <td>1</td>\n",
       "      <td>0</td>\n",
       "      <td>113803</td>\n",
       "      <td>53.1000</td>\n",
       "      <td>C123</td>\n",
       "      <td>S</td>\n",
       "    </tr>\n",
       "    <tr>\n",
       "      <th>4</th>\n",
       "      <td>5</td>\n",
       "      <td>0</td>\n",
       "      <td>3</td>\n",
       "      <td>Allen, Mr. William Henry</td>\n",
       "      <td>male</td>\n",
       "      <td>35.0</td>\n",
       "      <td>0</td>\n",
       "      <td>0</td>\n",
       "      <td>373450</td>\n",
       "      <td>8.0500</td>\n",
       "      <td>NaN</td>\n",
       "      <td>S</td>\n",
       "    </tr>\n",
       "    <tr>\n",
       "      <th>5</th>\n",
       "      <td>6</td>\n",
       "      <td>0</td>\n",
       "      <td>3</td>\n",
       "      <td>Moran, Mr. James</td>\n",
       "      <td>male</td>\n",
       "      <td>NaN</td>\n",
       "      <td>0</td>\n",
       "      <td>0</td>\n",
       "      <td>330877</td>\n",
       "      <td>8.4583</td>\n",
       "      <td>NaN</td>\n",
       "      <td>Q</td>\n",
       "    </tr>\n",
       "    <tr>\n",
       "      <th>6</th>\n",
       "      <td>7</td>\n",
       "      <td>0</td>\n",
       "      <td>1</td>\n",
       "      <td>McCarthy, Mr. Timothy J</td>\n",
       "      <td>male</td>\n",
       "      <td>54.0</td>\n",
       "      <td>0</td>\n",
       "      <td>0</td>\n",
       "      <td>17463</td>\n",
       "      <td>51.8625</td>\n",
       "      <td>E46</td>\n",
       "      <td>S</td>\n",
       "    </tr>\n",
       "    <tr>\n",
       "      <th>7</th>\n",
       "      <td>8</td>\n",
       "      <td>0</td>\n",
       "      <td>3</td>\n",
       "      <td>Palsson, Master. Gosta Leonard</td>\n",
       "      <td>male</td>\n",
       "      <td>2.0</td>\n",
       "      <td>3</td>\n",
       "      <td>1</td>\n",
       "      <td>349909</td>\n",
       "      <td>21.0750</td>\n",
       "      <td>NaN</td>\n",
       "      <td>S</td>\n",
       "    </tr>\n",
       "    <tr>\n",
       "      <th>8</th>\n",
       "      <td>9</td>\n",
       "      <td>1</td>\n",
       "      <td>3</td>\n",
       "      <td>Johnson, Mrs. Oscar W (Elisabeth Vilhelmina Berg)</td>\n",
       "      <td>female</td>\n",
       "      <td>27.0</td>\n",
       "      <td>0</td>\n",
       "      <td>2</td>\n",
       "      <td>347742</td>\n",
       "      <td>11.1333</td>\n",
       "      <td>NaN</td>\n",
       "      <td>S</td>\n",
       "    </tr>\n",
       "    <tr>\n",
       "      <th>9</th>\n",
       "      <td>10</td>\n",
       "      <td>1</td>\n",
       "      <td>2</td>\n",
       "      <td>Nasser, Mrs. Nicholas (Adele Achem)</td>\n",
       "      <td>female</td>\n",
       "      <td>14.0</td>\n",
       "      <td>1</td>\n",
       "      <td>0</td>\n",
       "      <td>237736</td>\n",
       "      <td>30.0708</td>\n",
       "      <td>NaN</td>\n",
       "      <td>C</td>\n",
       "    </tr>\n",
       "  </tbody>\n",
       "</table>\n",
       "</div>"
      ],
      "text/plain": [
       "   PassengerId  Survived  Pclass  \\\n",
       "0            1         0       3   \n",
       "1            2         1       1   \n",
       "2            3         1       3   \n",
       "3            4         1       1   \n",
       "4            5         0       3   \n",
       "5            6         0       3   \n",
       "6            7         0       1   \n",
       "7            8         0       3   \n",
       "8            9         1       3   \n",
       "9           10         1       2   \n",
       "\n",
       "                                                Name     Sex   Age  SibSp  \\\n",
       "0                            Braund, Mr. Owen Harris    male  22.0      1   \n",
       "1  Cumings, Mrs. John Bradley (Florence Briggs Th...  female  38.0      1   \n",
       "2                             Heikkinen, Miss. Laina  female  26.0      0   \n",
       "3       Futrelle, Mrs. Jacques Heath (Lily May Peel)  female  35.0      1   \n",
       "4                           Allen, Mr. William Henry    male  35.0      0   \n",
       "5                                   Moran, Mr. James    male   NaN      0   \n",
       "6                            McCarthy, Mr. Timothy J    male  54.0      0   \n",
       "7                     Palsson, Master. Gosta Leonard    male   2.0      3   \n",
       "8  Johnson, Mrs. Oscar W (Elisabeth Vilhelmina Berg)  female  27.0      0   \n",
       "9                Nasser, Mrs. Nicholas (Adele Achem)  female  14.0      1   \n",
       "\n",
       "   Parch            Ticket     Fare Cabin Embarked  \n",
       "0      0         A/5 21171   7.2500   NaN        S  \n",
       "1      0          PC 17599  71.2833   C85        C  \n",
       "2      0  STON/O2. 3101282   7.9250   NaN        S  \n",
       "3      0            113803  53.1000  C123        S  \n",
       "4      0            373450   8.0500   NaN        S  \n",
       "5      0            330877   8.4583   NaN        Q  \n",
       "6      0             17463  51.8625   E46        S  \n",
       "7      1            349909  21.0750   NaN        S  \n",
       "8      2            347742  11.1333   NaN        S  \n",
       "9      0            237736  30.0708   NaN        C  "
      ]
     },
     "execution_count": 4,
     "metadata": {},
     "output_type": "execute_result"
    }
   ],
   "source": [
    "train_data.head(10)"
   ]
  },
  {
   "cell_type": "code",
   "execution_count": 5,
   "id": "7cc08fd5",
   "metadata": {
    "execution": {
     "iopub.execute_input": "2022-01-12T23:21:49.824304Z",
     "iopub.status.busy": "2022-01-12T23:21:49.823270Z",
     "iopub.status.idle": "2022-01-12T23:21:49.826910Z",
     "shell.execute_reply": "2022-01-12T23:21:49.827399Z",
     "shell.execute_reply.started": "2022-01-12T22:06:33.267491Z"
    },
    "papermill": {
     "duration": 0.108834,
     "end_time": "2022-01-12T23:21:49.827586",
     "exception": false,
     "start_time": "2022-01-12T23:21:49.718752",
     "status": "completed"
    },
    "tags": []
   },
   "outputs": [
    {
     "data": {
      "text/html": [
       "<div>\n",
       "<style scoped>\n",
       "    .dataframe tbody tr th:only-of-type {\n",
       "        vertical-align: middle;\n",
       "    }\n",
       "\n",
       "    .dataframe tbody tr th {\n",
       "        vertical-align: top;\n",
       "    }\n",
       "\n",
       "    .dataframe thead th {\n",
       "        text-align: right;\n",
       "    }\n",
       "</style>\n",
       "<table border=\"1\" class=\"dataframe\">\n",
       "  <thead>\n",
       "    <tr style=\"text-align: right;\">\n",
       "      <th></th>\n",
       "      <th>PassengerId</th>\n",
       "      <th>Pclass</th>\n",
       "      <th>Name</th>\n",
       "      <th>Sex</th>\n",
       "      <th>Age</th>\n",
       "      <th>SibSp</th>\n",
       "      <th>Parch</th>\n",
       "      <th>Ticket</th>\n",
       "      <th>Fare</th>\n",
       "      <th>Cabin</th>\n",
       "      <th>Embarked</th>\n",
       "    </tr>\n",
       "  </thead>\n",
       "  <tbody>\n",
       "    <tr>\n",
       "      <th>0</th>\n",
       "      <td>892</td>\n",
       "      <td>3</td>\n",
       "      <td>Kelly, Mr. James</td>\n",
       "      <td>male</td>\n",
       "      <td>34.5</td>\n",
       "      <td>0</td>\n",
       "      <td>0</td>\n",
       "      <td>330911</td>\n",
       "      <td>7.8292</td>\n",
       "      <td>NaN</td>\n",
       "      <td>Q</td>\n",
       "    </tr>\n",
       "    <tr>\n",
       "      <th>1</th>\n",
       "      <td>893</td>\n",
       "      <td>3</td>\n",
       "      <td>Wilkes, Mrs. James (Ellen Needs)</td>\n",
       "      <td>female</td>\n",
       "      <td>47.0</td>\n",
       "      <td>1</td>\n",
       "      <td>0</td>\n",
       "      <td>363272</td>\n",
       "      <td>7.0000</td>\n",
       "      <td>NaN</td>\n",
       "      <td>S</td>\n",
       "    </tr>\n",
       "    <tr>\n",
       "      <th>2</th>\n",
       "      <td>894</td>\n",
       "      <td>2</td>\n",
       "      <td>Myles, Mr. Thomas Francis</td>\n",
       "      <td>male</td>\n",
       "      <td>62.0</td>\n",
       "      <td>0</td>\n",
       "      <td>0</td>\n",
       "      <td>240276</td>\n",
       "      <td>9.6875</td>\n",
       "      <td>NaN</td>\n",
       "      <td>Q</td>\n",
       "    </tr>\n",
       "    <tr>\n",
       "      <th>3</th>\n",
       "      <td>895</td>\n",
       "      <td>3</td>\n",
       "      <td>Wirz, Mr. Albert</td>\n",
       "      <td>male</td>\n",
       "      <td>27.0</td>\n",
       "      <td>0</td>\n",
       "      <td>0</td>\n",
       "      <td>315154</td>\n",
       "      <td>8.6625</td>\n",
       "      <td>NaN</td>\n",
       "      <td>S</td>\n",
       "    </tr>\n",
       "    <tr>\n",
       "      <th>4</th>\n",
       "      <td>896</td>\n",
       "      <td>3</td>\n",
       "      <td>Hirvonen, Mrs. Alexander (Helga E Lindqvist)</td>\n",
       "      <td>female</td>\n",
       "      <td>22.0</td>\n",
       "      <td>1</td>\n",
       "      <td>1</td>\n",
       "      <td>3101298</td>\n",
       "      <td>12.2875</td>\n",
       "      <td>NaN</td>\n",
       "      <td>S</td>\n",
       "    </tr>\n",
       "  </tbody>\n",
       "</table>\n",
       "</div>"
      ],
      "text/plain": [
       "   PassengerId  Pclass                                          Name     Sex  \\\n",
       "0          892       3                              Kelly, Mr. James    male   \n",
       "1          893       3              Wilkes, Mrs. James (Ellen Needs)  female   \n",
       "2          894       2                     Myles, Mr. Thomas Francis    male   \n",
       "3          895       3                              Wirz, Mr. Albert    male   \n",
       "4          896       3  Hirvonen, Mrs. Alexander (Helga E Lindqvist)  female   \n",
       "\n",
       "    Age  SibSp  Parch   Ticket     Fare Cabin Embarked  \n",
       "0  34.5      0      0   330911   7.8292   NaN        Q  \n",
       "1  47.0      1      0   363272   7.0000   NaN        S  \n",
       "2  62.0      0      0   240276   9.6875   NaN        Q  \n",
       "3  27.0      0      0   315154   8.6625   NaN        S  \n",
       "4  22.0      1      1  3101298  12.2875   NaN        S  "
      ]
     },
     "execution_count": 5,
     "metadata": {},
     "output_type": "execute_result"
    }
   ],
   "source": [
    "test_data.head()"
   ]
  },
  {
   "cell_type": "code",
   "execution_count": 6,
   "id": "38cc5d82",
   "metadata": {
    "execution": {
     "iopub.execute_input": "2022-01-12T23:21:50.009640Z",
     "iopub.status.busy": "2022-01-12T23:21:50.008549Z",
     "iopub.status.idle": "2022-01-12T23:21:50.036107Z",
     "shell.execute_reply": "2022-01-12T23:21:50.035152Z",
     "shell.execute_reply.started": "2022-01-12T22:06:33.284713Z"
    },
    "papermill": {
     "duration": 0.118852,
     "end_time": "2022-01-12T23:21:50.036310",
     "exception": false,
     "start_time": "2022-01-12T23:21:49.917458",
     "status": "completed"
    },
    "tags": []
   },
   "outputs": [
    {
     "name": "stdout",
     "output_type": "stream",
     "text": [
      "<class 'pandas.core.frame.DataFrame'>\n",
      "RangeIndex: 891 entries, 0 to 890\n",
      "Data columns (total 12 columns):\n",
      " #   Column       Non-Null Count  Dtype  \n",
      "---  ------       --------------  -----  \n",
      " 0   PassengerId  891 non-null    int64  \n",
      " 1   Survived     891 non-null    int64  \n",
      " 2   Pclass       891 non-null    int64  \n",
      " 3   Name         891 non-null    object \n",
      " 4   Sex          891 non-null    object \n",
      " 5   Age          714 non-null    float64\n",
      " 6   SibSp        891 non-null    int64  \n",
      " 7   Parch        891 non-null    int64  \n",
      " 8   Ticket       891 non-null    object \n",
      " 9   Fare         891 non-null    float64\n",
      " 10  Cabin        204 non-null    object \n",
      " 11  Embarked     889 non-null    object \n",
      "dtypes: float64(2), int64(5), object(5)\n",
      "memory usage: 83.7+ KB\n"
     ]
    }
   ],
   "source": [
    "train_data.info()"
   ]
  },
  {
   "cell_type": "code",
   "execution_count": 7,
   "id": "c622cd9a",
   "metadata": {
    "execution": {
     "iopub.execute_input": "2022-01-12T23:21:50.220649Z",
     "iopub.status.busy": "2022-01-12T23:21:50.219562Z",
     "iopub.status.idle": "2022-01-12T23:21:50.254893Z",
     "shell.execute_reply": "2022-01-12T23:21:50.254186Z",
     "shell.execute_reply.started": "2022-01-12T22:06:33.316904Z"
    },
    "papermill": {
     "duration": 0.128178,
     "end_time": "2022-01-12T23:21:50.255046",
     "exception": false,
     "start_time": "2022-01-12T23:21:50.126868",
     "status": "completed"
    },
    "tags": []
   },
   "outputs": [
    {
     "data": {
      "text/html": [
       "<div>\n",
       "<style scoped>\n",
       "    .dataframe tbody tr th:only-of-type {\n",
       "        vertical-align: middle;\n",
       "    }\n",
       "\n",
       "    .dataframe tbody tr th {\n",
       "        vertical-align: top;\n",
       "    }\n",
       "\n",
       "    .dataframe thead th {\n",
       "        text-align: right;\n",
       "    }\n",
       "</style>\n",
       "<table border=\"1\" class=\"dataframe\">\n",
       "  <thead>\n",
       "    <tr style=\"text-align: right;\">\n",
       "      <th></th>\n",
       "      <th>PassengerId</th>\n",
       "      <th>Survived</th>\n",
       "      <th>Pclass</th>\n",
       "      <th>Age</th>\n",
       "      <th>SibSp</th>\n",
       "      <th>Parch</th>\n",
       "      <th>Fare</th>\n",
       "    </tr>\n",
       "  </thead>\n",
       "  <tbody>\n",
       "    <tr>\n",
       "      <th>count</th>\n",
       "      <td>891.000000</td>\n",
       "      <td>891.000000</td>\n",
       "      <td>891.000000</td>\n",
       "      <td>714.000000</td>\n",
       "      <td>891.000000</td>\n",
       "      <td>891.000000</td>\n",
       "      <td>891.000000</td>\n",
       "    </tr>\n",
       "    <tr>\n",
       "      <th>mean</th>\n",
       "      <td>446.000000</td>\n",
       "      <td>0.383838</td>\n",
       "      <td>2.308642</td>\n",
       "      <td>29.699118</td>\n",
       "      <td>0.523008</td>\n",
       "      <td>0.381594</td>\n",
       "      <td>32.204208</td>\n",
       "    </tr>\n",
       "    <tr>\n",
       "      <th>std</th>\n",
       "      <td>257.353842</td>\n",
       "      <td>0.486592</td>\n",
       "      <td>0.836071</td>\n",
       "      <td>14.526497</td>\n",
       "      <td>1.102743</td>\n",
       "      <td>0.806057</td>\n",
       "      <td>49.693429</td>\n",
       "    </tr>\n",
       "    <tr>\n",
       "      <th>min</th>\n",
       "      <td>1.000000</td>\n",
       "      <td>0.000000</td>\n",
       "      <td>1.000000</td>\n",
       "      <td>0.420000</td>\n",
       "      <td>0.000000</td>\n",
       "      <td>0.000000</td>\n",
       "      <td>0.000000</td>\n",
       "    </tr>\n",
       "    <tr>\n",
       "      <th>25%</th>\n",
       "      <td>223.500000</td>\n",
       "      <td>0.000000</td>\n",
       "      <td>2.000000</td>\n",
       "      <td>20.125000</td>\n",
       "      <td>0.000000</td>\n",
       "      <td>0.000000</td>\n",
       "      <td>7.910400</td>\n",
       "    </tr>\n",
       "    <tr>\n",
       "      <th>50%</th>\n",
       "      <td>446.000000</td>\n",
       "      <td>0.000000</td>\n",
       "      <td>3.000000</td>\n",
       "      <td>28.000000</td>\n",
       "      <td>0.000000</td>\n",
       "      <td>0.000000</td>\n",
       "      <td>14.454200</td>\n",
       "    </tr>\n",
       "    <tr>\n",
       "      <th>75%</th>\n",
       "      <td>668.500000</td>\n",
       "      <td>1.000000</td>\n",
       "      <td>3.000000</td>\n",
       "      <td>38.000000</td>\n",
       "      <td>1.000000</td>\n",
       "      <td>0.000000</td>\n",
       "      <td>31.000000</td>\n",
       "    </tr>\n",
       "    <tr>\n",
       "      <th>max</th>\n",
       "      <td>891.000000</td>\n",
       "      <td>1.000000</td>\n",
       "      <td>3.000000</td>\n",
       "      <td>80.000000</td>\n",
       "      <td>8.000000</td>\n",
       "      <td>6.000000</td>\n",
       "      <td>512.329200</td>\n",
       "    </tr>\n",
       "  </tbody>\n",
       "</table>\n",
       "</div>"
      ],
      "text/plain": [
       "       PassengerId    Survived      Pclass         Age       SibSp  \\\n",
       "count   891.000000  891.000000  891.000000  714.000000  891.000000   \n",
       "mean    446.000000    0.383838    2.308642   29.699118    0.523008   \n",
       "std     257.353842    0.486592    0.836071   14.526497    1.102743   \n",
       "min       1.000000    0.000000    1.000000    0.420000    0.000000   \n",
       "25%     223.500000    0.000000    2.000000   20.125000    0.000000   \n",
       "50%     446.000000    0.000000    3.000000   28.000000    0.000000   \n",
       "75%     668.500000    1.000000    3.000000   38.000000    1.000000   \n",
       "max     891.000000    1.000000    3.000000   80.000000    8.000000   \n",
       "\n",
       "            Parch        Fare  \n",
       "count  891.000000  891.000000  \n",
       "mean     0.381594   32.204208  \n",
       "std      0.806057   49.693429  \n",
       "min      0.000000    0.000000  \n",
       "25%      0.000000    7.910400  \n",
       "50%      0.000000   14.454200  \n",
       "75%      0.000000   31.000000  \n",
       "max      6.000000  512.329200  "
      ]
     },
     "execution_count": 7,
     "metadata": {},
     "output_type": "execute_result"
    }
   ],
   "source": [
    "train_data.describe()"
   ]
  },
  {
   "cell_type": "markdown",
   "id": "3d57d87c",
   "metadata": {
    "papermill": {
     "duration": 0.087559,
     "end_time": "2022-01-12T23:21:50.435642",
     "exception": false,
     "start_time": "2022-01-12T23:21:50.348083",
     "status": "completed"
    },
    "tags": []
   },
   "source": [
    "We noticed that; `Age` has `NaN` values, but if we compared between `Age` and `Cabin`, you can see that `Age` can be handled compared with `Cabin`.\n",
    "\n",
    "- <span style='color:green;'><b>Notice:</b></span> We're going to handle `Cabin` at the end, so we can get the benefit from it, too."
   ]
  },
  {
   "cell_type": "markdown",
   "id": "5e95559e",
   "metadata": {
    "papermill": {
     "duration": 0.088879,
     "end_time": "2022-01-12T23:21:50.611862",
     "exception": false,
     "start_time": "2022-01-12T23:21:50.522983",
     "status": "completed"
    },
    "tags": []
   },
   "source": [
    "Now, Let's do some **Feature Engineering**"
   ]
  },
  {
   "cell_type": "markdown",
   "id": "9b4283b0",
   "metadata": {
    "papermill": {
     "duration": 0.090305,
     "end_time": "2022-01-12T23:21:50.789978",
     "exception": false,
     "start_time": "2022-01-12T23:21:50.699673",
     "status": "completed"
    },
    "tags": []
   },
   "source": [
    "##### **Feature Engineering**"
   ]
  },
  {
   "cell_type": "markdown",
   "id": "1abbc5c0",
   "metadata": {
    "papermill": {
     "duration": 0.087963,
     "end_time": "2022-01-12T23:21:50.967372",
     "exception": false,
     "start_time": "2022-01-12T23:21:50.879409",
     "status": "completed"
    },
    "tags": []
   },
   "source": [
    "<span style='color:CornflowerBlue;font-size:16px'>Feature 01: Age</span>"
   ]
  },
  {
   "cell_type": "code",
   "execution_count": 8,
   "id": "431cf770",
   "metadata": {
    "execution": {
     "iopub.execute_input": "2022-01-12T23:21:51.159100Z",
     "iopub.status.busy": "2022-01-12T23:21:51.155879Z",
     "iopub.status.idle": "2022-01-12T23:21:51.164279Z",
     "shell.execute_reply": "2022-01-12T23:21:51.164857Z",
     "shell.execute_reply.started": "2022-01-12T22:06:33.352329Z"
    },
    "papermill": {
     "duration": 0.104122,
     "end_time": "2022-01-12T23:21:51.165035",
     "exception": false,
     "start_time": "2022-01-12T23:21:51.060913",
     "status": "completed"
    },
    "tags": []
   },
   "outputs": [
    {
     "data": {
      "text/plain": [
       "False    714\n",
       "True     177\n",
       "Name: Age, dtype: int64"
      ]
     },
     "execution_count": 8,
     "metadata": {},
     "output_type": "execute_result"
    }
   ],
   "source": [
    "train_data['Age'].isnull().value_counts()"
   ]
  },
  {
   "cell_type": "markdown",
   "id": "835c2236",
   "metadata": {
    "papermill": {
     "duration": 0.090223,
     "end_time": "2022-01-12T23:21:51.347256",
     "exception": false,
     "start_time": "2022-01-12T23:21:51.257033",
     "status": "completed"
    },
    "tags": []
   },
   "source": [
    "To fill the `NaN` values in the `Age` column, we can get the highest frequency of `Age` and start to fulfil it randomly instead of the `NaN` values. \n",
    "\n",
    "Note: \n",
    "- We're going to select the highest 10 frequencies of our `Age` class and their frequencies and then, we're going to assign them, randomly."
   ]
  },
  {
   "cell_type": "code",
   "execution_count": 9,
   "id": "471eb995",
   "metadata": {
    "execution": {
     "iopub.execute_input": "2022-01-12T23:21:51.532245Z",
     "iopub.status.busy": "2022-01-12T23:21:51.526990Z",
     "iopub.status.idle": "2022-01-12T23:21:51.538114Z",
     "shell.execute_reply": "2022-01-12T23:21:51.538567Z",
     "shell.execute_reply.started": "2022-01-12T22:06:33.361653Z"
    },
    "papermill": {
     "duration": 0.102348,
     "end_time": "2022-01-12T23:21:51.538770",
     "exception": false,
     "start_time": "2022-01-12T23:21:51.436422",
     "status": "completed"
    },
    "tags": []
   },
   "outputs": [
    {
     "data": {
      "text/plain": [
       "24.0    30\n",
       "22.0    27\n",
       "18.0    26\n",
       "19.0    25\n",
       "28.0    25\n",
       "30.0    25\n",
       "21.0    24\n",
       "25.0    23\n",
       "36.0    22\n",
       "29.0    20\n",
       "Name: Age, dtype: int64"
      ]
     },
     "execution_count": 9,
     "metadata": {},
     "output_type": "execute_result"
    }
   ],
   "source": [
    "train_data['Age'].value_counts().head(10)"
   ]
  },
  {
   "cell_type": "markdown",
   "id": "a17bafa2",
   "metadata": {
    "papermill": {
     "duration": 0.089024,
     "end_time": "2022-01-12T23:21:51.715867",
     "exception": false,
     "start_time": "2022-01-12T23:21:51.626843",
     "status": "completed"
    },
    "tags": []
   },
   "source": [
    "To have a fair probability between all the `NaN` values replacements, we need to normalize the frequency of our `Age` feature so the total sum of the probability is equal 1. ."
   ]
  },
  {
   "cell_type": "markdown",
   "id": "4c4cb54f",
   "metadata": {
    "execution": {
     "iopub.execute_input": "2022-01-10T22:23:40.181969Z",
     "iopub.status.busy": "2022-01-10T22:23:40.181411Z",
     "iopub.status.idle": "2022-01-10T22:23:40.187854Z",
     "shell.execute_reply": "2022-01-10T22:23:40.186813Z",
     "shell.execute_reply.started": "2022-01-10T22:23:40.181876Z"
    },
    "papermill": {
     "duration": 0.087749,
     "end_time": "2022-01-12T23:21:51.894471",
     "exception": false,
     "start_time": "2022-01-12T23:21:51.806722",
     "status": "completed"
    },
    "tags": []
   },
   "source": [
    "Equation for that is;\n",
    "\n",
    "# $X_{norm} = \\frac{{1}}{\\sum_{i}^{N}{x_i}}\\times{x_j}$"
   ]
  },
  {
   "cell_type": "code",
   "execution_count": 10,
   "id": "65dbcedb",
   "metadata": {
    "execution": {
     "iopub.execute_input": "2022-01-12T23:21:52.082292Z",
     "iopub.status.busy": "2022-01-12T23:21:52.080327Z",
     "iopub.status.idle": "2022-01-12T23:21:52.088156Z",
     "shell.execute_reply": "2022-01-12T23:21:52.087402Z",
     "shell.execute_reply.started": "2022-01-12T22:06:33.381553Z"
    },
    "papermill": {
     "duration": 0.104108,
     "end_time": "2022-01-12T23:21:52.088323",
     "exception": false,
     "start_time": "2022-01-12T23:21:51.984215",
     "status": "completed"
    },
    "tags": []
   },
   "outputs": [],
   "source": [
    "age_highest_freq = train_data['Age'].value_counts().head(10).index.values\n",
    "freq_of_highes_age = train_data['Age'].value_counts().head(10).values\n",
    "age_probabilities = list(map(lambda value: (1/sum(freq_of_highes_age)) * value,\n",
    "                             freq_of_highes_age))"
   ]
  },
  {
   "cell_type": "code",
   "execution_count": 11,
   "id": "6d28d2cf",
   "metadata": {
    "execution": {
     "iopub.execute_input": "2022-01-12T23:21:52.284032Z",
     "iopub.status.busy": "2022-01-12T23:21:52.282464Z",
     "iopub.status.idle": "2022-01-12T23:21:52.284769Z",
     "shell.execute_reply": "2022-01-12T23:21:52.285238Z",
     "shell.execute_reply.started": "2022-01-12T22:06:33.392783Z"
    },
    "papermill": {
     "duration": 0.108069,
     "end_time": "2022-01-12T23:21:52.285420",
     "exception": false,
     "start_time": "2022-01-12T23:21:52.177351",
     "status": "completed"
    },
    "tags": []
   },
   "outputs": [],
   "source": [
    "train_data['Age'] = train_data['Age'].apply(lambda value: value if not np.isnan(value) \n",
    "                                            else np.random.choice(age_highest_freq,\n",
    "                                                                  p=age_probabilities))"
   ]
  },
  {
   "cell_type": "code",
   "execution_count": 12,
   "id": "c17be718",
   "metadata": {
    "execution": {
     "iopub.execute_input": "2022-01-12T23:21:52.470258Z",
     "iopub.status.busy": "2022-01-12T23:21:52.469567Z",
     "iopub.status.idle": "2022-01-12T23:21:52.484701Z",
     "shell.execute_reply": "2022-01-12T23:21:52.483514Z",
     "shell.execute_reply.started": "2022-01-12T22:06:33.412670Z"
    },
    "papermill": {
     "duration": 0.10962,
     "end_time": "2022-01-12T23:21:52.485343",
     "exception": false,
     "start_time": "2022-01-12T23:21:52.375723",
     "status": "completed"
    },
    "tags": []
   },
   "outputs": [
    {
     "name": "stdout",
     "output_type": "stream",
     "text": [
      "<class 'pandas.core.frame.DataFrame'>\n",
      "RangeIndex: 891 entries, 0 to 890\n",
      "Data columns (total 12 columns):\n",
      " #   Column       Non-Null Count  Dtype  \n",
      "---  ------       --------------  -----  \n",
      " 0   PassengerId  891 non-null    int64  \n",
      " 1   Survived     891 non-null    int64  \n",
      " 2   Pclass       891 non-null    int64  \n",
      " 3   Name         891 non-null    object \n",
      " 4   Sex          891 non-null    object \n",
      " 5   Age          891 non-null    float64\n",
      " 6   SibSp        891 non-null    int64  \n",
      " 7   Parch        891 non-null    int64  \n",
      " 8   Ticket       891 non-null    object \n",
      " 9   Fare         891 non-null    float64\n",
      " 10  Cabin        204 non-null    object \n",
      " 11  Embarked     889 non-null    object \n",
      "dtypes: float64(2), int64(5), object(5)\n",
      "memory usage: 83.7+ KB\n"
     ]
    }
   ],
   "source": [
    "train_data.info()"
   ]
  },
  {
   "cell_type": "markdown",
   "id": "9b80bfba",
   "metadata": {
    "papermill": {
     "duration": 0.091101,
     "end_time": "2022-01-12T23:21:52.669235",
     "exception": false,
     "start_time": "2022-01-12T23:21:52.578134",
     "status": "completed"
    },
    "tags": []
   },
   "source": [
    "<span style='color:CornflowerBlue;font-size:16px'>Feature 02: Embarked</span>"
   ]
  },
  {
   "cell_type": "markdown",
   "id": "629052ca",
   "metadata": {
    "papermill": {
     "duration": 0.090489,
     "end_time": "2022-01-12T23:21:52.848750",
     "exception": false,
     "start_time": "2022-01-12T23:21:52.758261",
     "status": "completed"
    },
    "tags": []
   },
   "source": [
    "`Embarked` Feature has only 1 missing value, we can fill this value with the mode value of the `Embarked` feature."
   ]
  },
  {
   "cell_type": "code",
   "execution_count": 13,
   "id": "c93c7bfc",
   "metadata": {
    "execution": {
     "iopub.execute_input": "2022-01-12T23:21:53.036908Z",
     "iopub.status.busy": "2022-01-12T23:21:53.035834Z",
     "iopub.status.idle": "2022-01-12T23:21:53.041188Z",
     "shell.execute_reply": "2022-01-12T23:21:53.040631Z",
     "shell.execute_reply.started": "2022-01-12T22:06:33.427637Z"
    },
    "papermill": {
     "duration": 0.1038,
     "end_time": "2022-01-12T23:21:53.041334",
     "exception": false,
     "start_time": "2022-01-12T23:21:52.937534",
     "status": "completed"
    },
    "tags": []
   },
   "outputs": [
    {
     "data": {
      "text/plain": [
       "False    889\n",
       "True       2\n",
       "Name: Embarked, dtype: int64"
      ]
     },
     "execution_count": 13,
     "metadata": {},
     "output_type": "execute_result"
    }
   ],
   "source": [
    "train_data['Embarked'].isnull().value_counts()"
   ]
  },
  {
   "cell_type": "code",
   "execution_count": 14,
   "id": "d1306a05",
   "metadata": {
    "execution": {
     "iopub.execute_input": "2022-01-12T23:21:53.229581Z",
     "iopub.status.busy": "2022-01-12T23:21:53.228559Z",
     "iopub.status.idle": "2022-01-12T23:21:53.231708Z",
     "shell.execute_reply": "2022-01-12T23:21:53.231101Z",
     "shell.execute_reply.started": "2022-01-12T22:06:33.438160Z"
    },
    "papermill": {
     "duration": 0.099074,
     "end_time": "2022-01-12T23:21:53.231866",
     "exception": false,
     "start_time": "2022-01-12T23:21:53.132792",
     "status": "completed"
    },
    "tags": []
   },
   "outputs": [],
   "source": [
    "freq = train_data['Embarked'].value_counts().values[0]\n",
    "train_data['Embarked'].fillna(freq, inplace=True)"
   ]
  },
  {
   "cell_type": "code",
   "execution_count": 15,
   "id": "5d631c52",
   "metadata": {
    "execution": {
     "iopub.execute_input": "2022-01-12T23:21:53.436568Z",
     "iopub.status.busy": "2022-01-12T23:21:53.435522Z",
     "iopub.status.idle": "2022-01-12T23:21:53.442115Z",
     "shell.execute_reply": "2022-01-12T23:21:53.441235Z",
     "shell.execute_reply.started": "2022-01-12T22:06:33.452961Z"
    },
    "papermill": {
     "duration": 0.120918,
     "end_time": "2022-01-12T23:21:53.442329",
     "exception": false,
     "start_time": "2022-01-12T23:21:53.321411",
     "status": "completed"
    },
    "tags": []
   },
   "outputs": [
    {
     "data": {
      "text/plain": [
       "False    891\n",
       "Name: Embarked, dtype: int64"
      ]
     },
     "execution_count": 15,
     "metadata": {},
     "output_type": "execute_result"
    }
   ],
   "source": [
    "train_data['Embarked'].isnull().value_counts()"
   ]
  },
  {
   "cell_type": "markdown",
   "id": "afc4cae1",
   "metadata": {
    "papermill": {
     "duration": 0.089812,
     "end_time": "2022-01-12T23:21:53.624748",
     "exception": false,
     "start_time": "2022-01-12T23:21:53.534936",
     "status": "completed"
    },
    "tags": []
   },
   "source": [
    "Let's check the values inside the feature"
   ]
  },
  {
   "cell_type": "code",
   "execution_count": 16,
   "id": "be63e74b",
   "metadata": {
    "execution": {
     "iopub.execute_input": "2022-01-12T23:21:53.810882Z",
     "iopub.status.busy": "2022-01-12T23:21:53.810131Z",
     "iopub.status.idle": "2022-01-12T23:21:53.816982Z",
     "shell.execute_reply": "2022-01-12T23:21:53.816325Z",
     "shell.execute_reply.started": "2022-01-12T22:06:33.469240Z"
    },
    "papermill": {
     "duration": 0.099717,
     "end_time": "2022-01-12T23:21:53.817139",
     "exception": false,
     "start_time": "2022-01-12T23:21:53.717422",
     "status": "completed"
    },
    "tags": []
   },
   "outputs": [
    {
     "data": {
      "text/plain": [
       "array(['S', 'C', 'Q', 644], dtype=object)"
      ]
     },
     "execution_count": 16,
     "metadata": {},
     "output_type": "execute_result"
    }
   ],
   "source": [
    "train_data['Embarked'].unique()"
   ]
  },
  {
   "cell_type": "markdown",
   "id": "cfb4b434",
   "metadata": {
    "papermill": {
     "duration": 0.092174,
     "end_time": "2022-01-12T23:21:54.001681",
     "exception": false,
     "start_time": "2022-01-12T23:21:53.909507",
     "status": "completed"
    },
    "tags": []
   },
   "source": [
    "We can see that `Embarked` has a number inside its values. Let's change this number of the max frequency value inside this feature."
   ]
  },
  {
   "cell_type": "code",
   "execution_count": 17,
   "id": "e061ca16",
   "metadata": {
    "execution": {
     "iopub.execute_input": "2022-01-12T23:21:54.192375Z",
     "iopub.status.busy": "2022-01-12T23:21:54.191659Z",
     "iopub.status.idle": "2022-01-12T23:21:54.194916Z",
     "shell.execute_reply": "2022-01-12T23:21:54.194347Z",
     "shell.execute_reply.started": "2022-01-12T22:06:33.486472Z"
    },
    "papermill": {
     "duration": 0.101042,
     "end_time": "2022-01-12T23:21:54.195057",
     "exception": false,
     "start_time": "2022-01-12T23:21:54.094015",
     "status": "completed"
    },
    "tags": []
   },
   "outputs": [],
   "source": [
    "train_data['Embarked'].replace(to_replace=644,\n",
    "                               value=train_data['Embarked'].value_counts().index.values[0],\n",
    "                               inplace=True)"
   ]
  },
  {
   "cell_type": "code",
   "execution_count": 18,
   "id": "5c9417e0",
   "metadata": {
    "execution": {
     "iopub.execute_input": "2022-01-12T23:21:54.393401Z",
     "iopub.status.busy": "2022-01-12T23:21:54.392516Z",
     "iopub.status.idle": "2022-01-12T23:21:54.396409Z",
     "shell.execute_reply": "2022-01-12T23:21:54.395899Z",
     "shell.execute_reply.started": "2022-01-12T22:06:33.498358Z"
    },
    "papermill": {
     "duration": 0.103341,
     "end_time": "2022-01-12T23:21:54.396555",
     "exception": false,
     "start_time": "2022-01-12T23:21:54.293214",
     "status": "completed"
    },
    "tags": []
   },
   "outputs": [
    {
     "data": {
      "text/plain": [
       "array(['S', 'C', 'Q'], dtype=object)"
      ]
     },
     "execution_count": 18,
     "metadata": {},
     "output_type": "execute_result"
    }
   ],
   "source": [
    "train_data['Embarked'].unique()"
   ]
  },
  {
   "cell_type": "markdown",
   "id": "9fc19d58",
   "metadata": {
    "papermill": {
     "duration": 0.089579,
     "end_time": "2022-01-12T23:21:54.577777",
     "exception": false,
     "start_time": "2022-01-12T23:21:54.488198",
     "status": "completed"
    },
    "tags": []
   },
   "source": [
    "Before continuing **Feature Engineering** – all the features are stable now. We need to expand our vision more to understand the data that we have before applying any additional FE. What is going to help us in our mission of understanding the dataset is EDA."
   ]
  },
  {
   "cell_type": "markdown",
   "id": "2b2e8a2b",
   "metadata": {
    "papermill": {
     "duration": 0.121519,
     "end_time": "2022-01-12T23:21:54.789959",
     "exception": false,
     "start_time": "2022-01-12T23:21:54.668440",
     "status": "completed"
    },
    "tags": []
   },
   "source": [
    "   "
   ]
  },
  {
   "cell_type": "markdown",
   "id": "6905b8aa",
   "metadata": {
    "papermill": {
     "duration": 0.100732,
     "end_time": "2022-01-12T23:21:54.990543",
     "exception": false,
     "start_time": "2022-01-12T23:21:54.889811",
     "status": "completed"
    },
    "tags": []
   },
   "source": [
    "#### (B) Exploratory Data Analysis"
   ]
  },
  {
   "cell_type": "markdown",
   "id": "f4895334",
   "metadata": {
    "execution": {
     "iopub.execute_input": "2022-01-08T23:09:13.855996Z",
     "iopub.status.busy": "2022-01-08T23:09:13.855699Z",
     "iopub.status.idle": "2022-01-08T23:09:13.896985Z",
     "shell.execute_reply": "2022-01-08T23:09:13.895698Z",
     "shell.execute_reply.started": "2022-01-08T23:09:13.855962Z"
    },
    "papermill": {
     "duration": 0.091506,
     "end_time": "2022-01-12T23:21:55.191964",
     "exception": false,
     "start_time": "2022-01-12T23:21:55.100458",
     "status": "completed"
    },
    "tags": []
   },
   "source": [
    "First, we need to check the correlation between the features – this might be the first step to help us identify which feature will be really helpful in predictions."
   ]
  },
  {
   "cell_type": "code",
   "execution_count": 19,
   "id": "f829b906",
   "metadata": {
    "execution": {
     "iopub.execute_input": "2022-01-12T23:21:55.382385Z",
     "iopub.status.busy": "2022-01-12T23:21:55.381632Z",
     "iopub.status.idle": "2022-01-12T23:21:55.401579Z",
     "shell.execute_reply": "2022-01-12T23:21:55.402143Z",
     "shell.execute_reply.started": "2022-01-12T22:06:33.513119Z"
    },
    "papermill": {
     "duration": 0.118684,
     "end_time": "2022-01-12T23:21:55.402325",
     "exception": false,
     "start_time": "2022-01-12T23:21:55.283641",
     "status": "completed"
    },
    "tags": []
   },
   "outputs": [
    {
     "data": {
      "text/html": [
       "<div>\n",
       "<style scoped>\n",
       "    .dataframe tbody tr th:only-of-type {\n",
       "        vertical-align: middle;\n",
       "    }\n",
       "\n",
       "    .dataframe tbody tr th {\n",
       "        vertical-align: top;\n",
       "    }\n",
       "\n",
       "    .dataframe thead th {\n",
       "        text-align: right;\n",
       "    }\n",
       "</style>\n",
       "<table border=\"1\" class=\"dataframe\">\n",
       "  <thead>\n",
       "    <tr style=\"text-align: right;\">\n",
       "      <th></th>\n",
       "      <th>PassengerId</th>\n",
       "      <th>Survived</th>\n",
       "      <th>Pclass</th>\n",
       "      <th>Age</th>\n",
       "      <th>SibSp</th>\n",
       "      <th>Parch</th>\n",
       "      <th>Fare</th>\n",
       "    </tr>\n",
       "  </thead>\n",
       "  <tbody>\n",
       "    <tr>\n",
       "      <th>PassengerId</th>\n",
       "      <td>1.000000</td>\n",
       "      <td>-0.005007</td>\n",
       "      <td>-0.035144</td>\n",
       "      <td>0.036161</td>\n",
       "      <td>-0.057527</td>\n",
       "      <td>-0.001652</td>\n",
       "      <td>0.012658</td>\n",
       "    </tr>\n",
       "    <tr>\n",
       "      <th>Survived</th>\n",
       "      <td>-0.005007</td>\n",
       "      <td>1.000000</td>\n",
       "      <td>-0.338481</td>\n",
       "      <td>-0.061411</td>\n",
       "      <td>-0.035322</td>\n",
       "      <td>0.081629</td>\n",
       "      <td>0.257307</td>\n",
       "    </tr>\n",
       "    <tr>\n",
       "      <th>Pclass</th>\n",
       "      <td>-0.035144</td>\n",
       "      <td>-0.338481</td>\n",
       "      <td>1.000000</td>\n",
       "      <td>-0.347484</td>\n",
       "      <td>0.083081</td>\n",
       "      <td>0.018443</td>\n",
       "      <td>-0.549500</td>\n",
       "    </tr>\n",
       "    <tr>\n",
       "      <th>Age</th>\n",
       "      <td>0.036161</td>\n",
       "      <td>-0.061411</td>\n",
       "      <td>-0.347484</td>\n",
       "      <td>1.000000</td>\n",
       "      <td>-0.227711</td>\n",
       "      <td>-0.155826</td>\n",
       "      <td>0.102299</td>\n",
       "    </tr>\n",
       "    <tr>\n",
       "      <th>SibSp</th>\n",
       "      <td>-0.057527</td>\n",
       "      <td>-0.035322</td>\n",
       "      <td>0.083081</td>\n",
       "      <td>-0.227711</td>\n",
       "      <td>1.000000</td>\n",
       "      <td>0.414838</td>\n",
       "      <td>0.159651</td>\n",
       "    </tr>\n",
       "    <tr>\n",
       "      <th>Parch</th>\n",
       "      <td>-0.001652</td>\n",
       "      <td>0.081629</td>\n",
       "      <td>0.018443</td>\n",
       "      <td>-0.155826</td>\n",
       "      <td>0.414838</td>\n",
       "      <td>1.000000</td>\n",
       "      <td>0.216225</td>\n",
       "    </tr>\n",
       "    <tr>\n",
       "      <th>Fare</th>\n",
       "      <td>0.012658</td>\n",
       "      <td>0.257307</td>\n",
       "      <td>-0.549500</td>\n",
       "      <td>0.102299</td>\n",
       "      <td>0.159651</td>\n",
       "      <td>0.216225</td>\n",
       "      <td>1.000000</td>\n",
       "    </tr>\n",
       "  </tbody>\n",
       "</table>\n",
       "</div>"
      ],
      "text/plain": [
       "             PassengerId  Survived    Pclass       Age     SibSp     Parch  \\\n",
       "PassengerId     1.000000 -0.005007 -0.035144  0.036161 -0.057527 -0.001652   \n",
       "Survived       -0.005007  1.000000 -0.338481 -0.061411 -0.035322  0.081629   \n",
       "Pclass         -0.035144 -0.338481  1.000000 -0.347484  0.083081  0.018443   \n",
       "Age             0.036161 -0.061411 -0.347484  1.000000 -0.227711 -0.155826   \n",
       "SibSp          -0.057527 -0.035322  0.083081 -0.227711  1.000000  0.414838   \n",
       "Parch          -0.001652  0.081629  0.018443 -0.155826  0.414838  1.000000   \n",
       "Fare            0.012658  0.257307 -0.549500  0.102299  0.159651  0.216225   \n",
       "\n",
       "                 Fare  \n",
       "PassengerId  0.012658  \n",
       "Survived     0.257307  \n",
       "Pclass      -0.549500  \n",
       "Age          0.102299  \n",
       "SibSp        0.159651  \n",
       "Parch        0.216225  \n",
       "Fare         1.000000  "
      ]
     },
     "execution_count": 19,
     "metadata": {},
     "output_type": "execute_result"
    }
   ],
   "source": [
    "train_corr = train_data.corr()\n",
    "train_corr"
   ]
  },
  {
   "cell_type": "code",
   "execution_count": 20,
   "id": "d5a12c5a",
   "metadata": {
    "execution": {
     "iopub.execute_input": "2022-01-12T23:21:55.597231Z",
     "iopub.status.busy": "2022-01-12T23:21:55.596233Z",
     "iopub.status.idle": "2022-01-12T23:21:56.126786Z",
     "shell.execute_reply": "2022-01-12T23:21:56.127295Z",
     "shell.execute_reply.started": "2022-01-12T22:06:33.533728Z"
    },
    "papermill": {
     "duration": 0.631908,
     "end_time": "2022-01-12T23:21:56.127465",
     "exception": false,
     "start_time": "2022-01-12T23:21:55.495557",
     "status": "completed"
    },
    "tags": []
   },
   "outputs": [
    {
     "data": {
      "image/png": "[encoded data removed]",
      "text/plain": [
       "<Figure size 1296x720 with 2 Axes>"
      ]
     },
     "metadata": {
      "needs_background": "light"
     },
     "output_type": "display_data"
    }
   ],
   "source": [
    "plt.figure(figsize=(18,10))\n",
    "sns.heatmap(train_corr, annot=True)\n",
    "plt.show()"
   ]
  },
  {
   "cell_type": "markdown",
   "id": "cac25cc0",
   "metadata": {
    "papermill": {
     "duration": 0.091694,
     "end_time": "2022-01-12T23:21:56.311311",
     "exception": false,
     "start_time": "2022-01-12T23:21:56.219617",
     "status": "completed"
    },
    "tags": []
   },
   "source": [
    "The correlation between the features and the label beside the features within itself needs more work so we can discover the patterns."
   ]
  },
  {
   "cell_type": "markdown",
   "id": "25b7041e",
   "metadata": {
    "papermill": {
     "duration": 0.095372,
     "end_time": "2022-01-12T23:21:56.498721",
     "exception": false,
     "start_time": "2022-01-12T23:21:56.403349",
     "status": "completed"
    },
    "tags": []
   },
   "source": [
    "Let's go back to the FE"
   ]
  },
  {
   "cell_type": "markdown",
   "id": "c5916d1b",
   "metadata": {
    "papermill": {
     "duration": 0.092996,
     "end_time": "2022-01-12T23:21:56.685690",
     "exception": false,
     "start_time": "2022-01-12T23:21:56.592694",
     "status": "completed"
    },
    "tags": []
   },
   "source": [
    "<span style='color:CornflowerBlue;font-size:16px'>Feature 03: Name</span>"
   ]
  },
  {
   "cell_type": "markdown",
   "id": "0f0edeb4",
   "metadata": {
    "papermill": {
     "duration": 0.095108,
     "end_time": "2022-01-12T23:21:56.873126",
     "exception": false,
     "start_time": "2022-01-12T23:21:56.778018",
     "status": "completed"
    },
    "tags": []
   },
   "source": [
    "The idea behind slicing `Name` helps for observing patterns from the name of the passengers and converting them into a categorical feature.\n",
    "\n",
    "- <span style='color:green;'><b>Read This article:</b></span> <a href=\"https://triangleinequality.wordpress.com/2013/09/08/basic-feature-engineering-with-the-titanic-data/\">Basic Feature Engineering with the Titanic Data</a>"
   ]
  },
  {
   "cell_type": "code",
   "execution_count": 21,
   "id": "091e123f",
   "metadata": {
    "execution": {
     "iopub.execute_input": "2022-01-12T23:21:57.067778Z",
     "iopub.status.busy": "2022-01-12T23:21:57.066977Z",
     "iopub.status.idle": "2022-01-12T23:21:57.069042Z",
     "shell.execute_reply": "2022-01-12T23:21:57.069763Z",
     "shell.execute_reply.started": "2022-01-12T22:06:34.089744Z"
    },
    "papermill": {
     "duration": 0.10281,
     "end_time": "2022-01-12T23:21:57.069954",
     "exception": false,
     "start_time": "2022-01-12T23:21:56.967144",
     "status": "completed"
    },
    "tags": []
   },
   "outputs": [],
   "source": [
    "TITLES = ('Mrs', 'Mr', 'Master', 'Miss', 'Major', 'Rev',\n",
    "          'Dr', 'Ms', 'Mlle','Col', 'Capt', 'Mme', 'Countess',\n",
    "          'Don', 'Jonkheer')"
   ]
  },
  {
   "cell_type": "code",
   "execution_count": 22,
   "id": "049bc384",
   "metadata": {
    "execution": {
     "iopub.execute_input": "2022-01-12T23:21:57.263396Z",
     "iopub.status.busy": "2022-01-12T23:21:57.262664Z",
     "iopub.status.idle": "2022-01-12T23:21:57.267580Z",
     "shell.execute_reply": "2022-01-12T23:21:57.266902Z",
     "shell.execute_reply.started": "2022-01-12T22:06:34.095349Z"
    },
    "papermill": {
     "duration": 0.103542,
     "end_time": "2022-01-12T23:21:57.267753",
     "exception": false,
     "start_time": "2022-01-12T23:21:57.164211",
     "status": "completed"
    },
    "tags": []
   },
   "outputs": [],
   "source": [
    "def patterns(name: Text, titles: Set) -> Optional[Text]:\n",
    "    for title in titles:\n",
    "        if title in name:\n",
    "            return title\n",
    "    return \"Untitled\""
   ]
  },
  {
   "cell_type": "code",
   "execution_count": 23,
   "id": "cf868fdc",
   "metadata": {
    "execution": {
     "iopub.execute_input": "2022-01-12T23:21:57.458223Z",
     "iopub.status.busy": "2022-01-12T23:21:57.457534Z",
     "iopub.status.idle": "2022-01-12T23:21:57.462985Z",
     "shell.execute_reply": "2022-01-12T23:21:57.463511Z",
     "shell.execute_reply.started": "2022-01-12T22:06:34.112651Z"
    },
    "papermill": {
     "duration": 0.101966,
     "end_time": "2022-01-12T23:21:57.463715",
     "exception": false,
     "start_time": "2022-01-12T23:21:57.361749",
     "status": "completed"
    },
    "tags": []
   },
   "outputs": [],
   "source": [
    "train_data['Title'] = train_data['Name'].apply(lambda name: patterns(name, TITLES))"
   ]
  },
  {
   "cell_type": "code",
   "execution_count": 24,
   "id": "7c962360",
   "metadata": {
    "execution": {
     "iopub.execute_input": "2022-01-12T23:21:57.653371Z",
     "iopub.status.busy": "2022-01-12T23:21:57.652729Z",
     "iopub.status.idle": "2022-01-12T23:21:57.675665Z",
     "shell.execute_reply": "2022-01-12T23:21:57.676179Z",
     "shell.execute_reply.started": "2022-01-12T22:06:34.126474Z"
    },
    "papermill": {
     "duration": 0.119861,
     "end_time": "2022-01-12T23:21:57.676353",
     "exception": false,
     "start_time": "2022-01-12T23:21:57.556492",
     "status": "completed"
    },
    "tags": []
   },
   "outputs": [
    {
     "data": {
      "text/html": [
       "<div>\n",
       "<style scoped>\n",
       "    .dataframe tbody tr th:only-of-type {\n",
       "        vertical-align: middle;\n",
       "    }\n",
       "\n",
       "    .dataframe tbody tr th {\n",
       "        vertical-align: top;\n",
       "    }\n",
       "\n",
       "    .dataframe thead th {\n",
       "        text-align: right;\n",
       "    }\n",
       "</style>\n",
       "<table border=\"1\" class=\"dataframe\">\n",
       "  <thead>\n",
       "    <tr style=\"text-align: right;\">\n",
       "      <th></th>\n",
       "      <th>PassengerId</th>\n",
       "      <th>Survived</th>\n",
       "      <th>Pclass</th>\n",
       "      <th>Name</th>\n",
       "      <th>Sex</th>\n",
       "      <th>Age</th>\n",
       "      <th>SibSp</th>\n",
       "      <th>Parch</th>\n",
       "      <th>Ticket</th>\n",
       "      <th>Fare</th>\n",
       "      <th>Cabin</th>\n",
       "      <th>Embarked</th>\n",
       "      <th>Title</th>\n",
       "    </tr>\n",
       "  </thead>\n",
       "  <tbody>\n",
       "    <tr>\n",
       "      <th>0</th>\n",
       "      <td>1</td>\n",
       "      <td>0</td>\n",
       "      <td>3</td>\n",
       "      <td>Braund, Mr. Owen Harris</td>\n",
       "      <td>male</td>\n",
       "      <td>22.0</td>\n",
       "      <td>1</td>\n",
       "      <td>0</td>\n",
       "      <td>A/5 21171</td>\n",
       "      <td>7.2500</td>\n",
       "      <td>NaN</td>\n",
       "      <td>S</td>\n",
       "      <td>Mr</td>\n",
       "    </tr>\n",
       "    <tr>\n",
       "      <th>1</th>\n",
       "      <td>2</td>\n",
       "      <td>1</td>\n",
       "      <td>1</td>\n",
       "      <td>Cumings, Mrs. John Bradley (Florence Briggs Th...</td>\n",
       "      <td>female</td>\n",
       "      <td>38.0</td>\n",
       "      <td>1</td>\n",
       "      <td>0</td>\n",
       "      <td>PC 17599</td>\n",
       "      <td>71.2833</td>\n",
       "      <td>C85</td>\n",
       "      <td>C</td>\n",
       "      <td>Mrs</td>\n",
       "    </tr>\n",
       "    <tr>\n",
       "      <th>2</th>\n",
       "      <td>3</td>\n",
       "      <td>1</td>\n",
       "      <td>3</td>\n",
       "      <td>Heikkinen, Miss. Laina</td>\n",
       "      <td>female</td>\n",
       "      <td>26.0</td>\n",
       "      <td>0</td>\n",
       "      <td>0</td>\n",
       "      <td>STON/O2. 3101282</td>\n",
       "      <td>7.9250</td>\n",
       "      <td>NaN</td>\n",
       "      <td>S</td>\n",
       "      <td>Miss</td>\n",
       "    </tr>\n",
       "    <tr>\n",
       "      <th>3</th>\n",
       "      <td>4</td>\n",
       "      <td>1</td>\n",
       "      <td>1</td>\n",
       "      <td>Futrelle, Mrs. Jacques Heath (Lily May Peel)</td>\n",
       "      <td>female</td>\n",
       "      <td>35.0</td>\n",
       "      <td>1</td>\n",
       "      <td>0</td>\n",
       "      <td>113803</td>\n",
       "      <td>53.1000</td>\n",
       "      <td>C123</td>\n",
       "      <td>S</td>\n",
       "      <td>Mrs</td>\n",
       "    </tr>\n",
       "    <tr>\n",
       "      <th>4</th>\n",
       "      <td>5</td>\n",
       "      <td>0</td>\n",
       "      <td>3</td>\n",
       "      <td>Allen, Mr. William Henry</td>\n",
       "      <td>male</td>\n",
       "      <td>35.0</td>\n",
       "      <td>0</td>\n",
       "      <td>0</td>\n",
       "      <td>373450</td>\n",
       "      <td>8.0500</td>\n",
       "      <td>NaN</td>\n",
       "      <td>S</td>\n",
       "      <td>Mr</td>\n",
       "    </tr>\n",
       "    <tr>\n",
       "      <th>...</th>\n",
       "      <td>...</td>\n",
       "      <td>...</td>\n",
       "      <td>...</td>\n",
       "      <td>...</td>\n",
       "      <td>...</td>\n",
       "      <td>...</td>\n",
       "      <td>...</td>\n",
       "      <td>...</td>\n",
       "      <td>...</td>\n",
       "      <td>...</td>\n",
       "      <td>...</td>\n",
       "      <td>...</td>\n",
       "      <td>...</td>\n",
       "    </tr>\n",
       "    <tr>\n",
       "      <th>886</th>\n",
       "      <td>887</td>\n",
       "      <td>0</td>\n",
       "      <td>2</td>\n",
       "      <td>Montvila, Rev. Juozas</td>\n",
       "      <td>male</td>\n",
       "      <td>27.0</td>\n",
       "      <td>0</td>\n",
       "      <td>0</td>\n",
       "      <td>211536</td>\n",
       "      <td>13.0000</td>\n",
       "      <td>NaN</td>\n",
       "      <td>S</td>\n",
       "      <td>Rev</td>\n",
       "    </tr>\n",
       "    <tr>\n",
       "      <th>887</th>\n",
       "      <td>888</td>\n",
       "      <td>1</td>\n",
       "      <td>1</td>\n",
       "      <td>Graham, Miss. Margaret Edith</td>\n",
       "      <td>female</td>\n",
       "      <td>19.0</td>\n",
       "      <td>0</td>\n",
       "      <td>0</td>\n",
       "      <td>112053</td>\n",
       "      <td>30.0000</td>\n",
       "      <td>B42</td>\n",
       "      <td>S</td>\n",
       "      <td>Miss</td>\n",
       "    </tr>\n",
       "    <tr>\n",
       "      <th>888</th>\n",
       "      <td>889</td>\n",
       "      <td>0</td>\n",
       "      <td>3</td>\n",
       "      <td>Johnston, Miss. Catherine Helen \"Carrie\"</td>\n",
       "      <td>female</td>\n",
       "      <td>19.0</td>\n",
       "      <td>1</td>\n",
       "      <td>2</td>\n",
       "      <td>W./C. 6607</td>\n",
       "      <td>23.4500</td>\n",
       "      <td>NaN</td>\n",
       "      <td>S</td>\n",
       "      <td>Miss</td>\n",
       "    </tr>\n",
       "    <tr>\n",
       "      <th>889</th>\n",
       "      <td>890</td>\n",
       "      <td>1</td>\n",
       "      <td>1</td>\n",
       "      <td>Behr, Mr. Karl Howell</td>\n",
       "      <td>male</td>\n",
       "      <td>26.0</td>\n",
       "      <td>0</td>\n",
       "      <td>0</td>\n",
       "      <td>111369</td>\n",
       "      <td>30.0000</td>\n",
       "      <td>C148</td>\n",
       "      <td>C</td>\n",
       "      <td>Mr</td>\n",
       "    </tr>\n",
       "    <tr>\n",
       "      <th>890</th>\n",
       "      <td>891</td>\n",
       "      <td>0</td>\n",
       "      <td>3</td>\n",
       "      <td>Dooley, Mr. Patrick</td>\n",
       "      <td>male</td>\n",
       "      <td>32.0</td>\n",
       "      <td>0</td>\n",
       "      <td>0</td>\n",
       "      <td>370376</td>\n",
       "      <td>7.7500</td>\n",
       "      <td>NaN</td>\n",
       "      <td>Q</td>\n",
       "      <td>Mr</td>\n",
       "    </tr>\n",
       "  </tbody>\n",
       "</table>\n",
       "<p>891 rows × 13 columns</p>\n",
       "</div>"
      ],
      "text/plain": [
       "     PassengerId  Survived  Pclass  \\\n",
       "0              1         0       3   \n",
       "1              2         1       1   \n",
       "2              3         1       3   \n",
       "3              4         1       1   \n",
       "4              5         0       3   \n",
       "..           ...       ...     ...   \n",
       "886          887         0       2   \n",
       "887          888         1       1   \n",
       "888          889         0       3   \n",
       "889          890         1       1   \n",
       "890          891         0       3   \n",
       "\n",
       "                                                  Name     Sex   Age  SibSp  \\\n",
       "0                              Braund, Mr. Owen Harris    male  22.0      1   \n",
       "1    Cumings, Mrs. John Bradley (Florence Briggs Th...  female  38.0      1   \n",
       "2                               Heikkinen, Miss. Laina  female  26.0      0   \n",
       "3         Futrelle, Mrs. Jacques Heath (Lily May Peel)  female  35.0      1   \n",
       "4                             Allen, Mr. William Henry    male  35.0      0   \n",
       "..                                                 ...     ...   ...    ...   \n",
       "886                              Montvila, Rev. Juozas    male  27.0      0   \n",
       "887                       Graham, Miss. Margaret Edith  female  19.0      0   \n",
       "888           Johnston, Miss. Catherine Helen \"Carrie\"  female  19.0      1   \n",
       "889                              Behr, Mr. Karl Howell    male  26.0      0   \n",
       "890                                Dooley, Mr. Patrick    male  32.0      0   \n",
       "\n",
       "     Parch            Ticket     Fare Cabin Embarked Title  \n",
       "0        0         A/5 21171   7.2500   NaN        S    Mr  \n",
       "1        0          PC 17599  71.2833   C85        C   Mrs  \n",
       "2        0  STON/O2. 3101282   7.9250   NaN        S  Miss  \n",
       "3        0            113803  53.1000  C123        S   Mrs  \n",
       "4        0            373450   8.0500   NaN        S    Mr  \n",
       "..     ...               ...      ...   ...      ...   ...  \n",
       "886      0            211536  13.0000   NaN        S   Rev  \n",
       "887      0            112053  30.0000   B42        S  Miss  \n",
       "888      2        W./C. 6607  23.4500   NaN        S  Miss  \n",
       "889      0            111369  30.0000  C148        C    Mr  \n",
       "890      0            370376   7.7500   NaN        Q    Mr  \n",
       "\n",
       "[891 rows x 13 columns]"
      ]
     },
     "execution_count": 24,
     "metadata": {},
     "output_type": "execute_result"
    }
   ],
   "source": [
    "train_data"
   ]
  },
  {
   "cell_type": "markdown",
   "id": "99c970a5",
   "metadata": {
    "papermill": {
     "duration": 0.096319,
     "end_time": "2022-01-12T23:21:57.867302",
     "exception": false,
     "start_time": "2022-01-12T23:21:57.770983",
     "status": "completed"
    },
    "tags": []
   },
   "source": [
    "Now, That's good but not perfect – we want to squeeze the number of categories in the feature. We can iterate throw all the observations and check the type of title this person has, but we may have a problem! One of the titles is \"*Dr*\". This title can fit both [\"Men\", \"Women\"] – we will have to add one more feature to help us decide whether this person is a \"*Male*\" or \"*Female*\", we will use `Sex` for this job."
   ]
  },
  {
   "cell_type": "code",
   "execution_count": 25,
   "id": "03449684",
   "metadata": {
    "execution": {
     "iopub.execute_input": "2022-01-12T23:21:58.065709Z",
     "iopub.status.busy": "2022-01-12T23:21:58.064896Z",
     "iopub.status.idle": "2022-01-12T23:21:58.072288Z",
     "shell.execute_reply": "2022-01-12T23:21:58.072932Z",
     "shell.execute_reply.started": "2022-01-12T22:06:34.161721Z"
    },
    "papermill": {
     "duration": 0.112345,
     "end_time": "2022-01-12T23:21:58.073146",
     "exception": false,
     "start_time": "2022-01-12T23:21:57.960801",
     "status": "completed"
    },
    "tags": []
   },
   "outputs": [],
   "source": [
    "def squeeze_title(dataframe: pd.DataFrame) -> Text:\n",
    "    title = dataframe['Title']\n",
    "    if title in ('Don', 'Major', 'Capt', 'Jonkheer', 'Rev', 'Col'):\n",
    "        return 'Mr'\n",
    "    elif title in ('Countess', 'Mme'):\n",
    "        return 'Mrs'\n",
    "    elif title in ('Mlle', 'Ms'):\n",
    "        return 'Miss'\n",
    "    elif title == 'Dr':\n",
    "        if dataframe['Sex'] == 'male':\n",
    "            return 'Mr'\n",
    "        else:\n",
    "            return 'Mrs'\n",
    "    else:\n",
    "        return title"
   ]
  },
  {
   "cell_type": "code",
   "execution_count": 26,
   "id": "7cafde2c",
   "metadata": {
    "execution": {
     "iopub.execute_input": "2022-01-12T23:21:58.266930Z",
     "iopub.status.busy": "2022-01-12T23:21:58.266181Z",
     "iopub.status.idle": "2022-01-12T23:21:58.302897Z",
     "shell.execute_reply": "2022-01-12T23:21:58.303431Z",
     "shell.execute_reply.started": "2022-01-12T22:06:34.171247Z"
    },
    "papermill": {
     "duration": 0.135857,
     "end_time": "2022-01-12T23:21:58.303627",
     "exception": false,
     "start_time": "2022-01-12T23:21:58.167770",
     "status": "completed"
    },
    "tags": []
   },
   "outputs": [
    {
     "data": {
      "text/html": [
       "<div>\n",
       "<style scoped>\n",
       "    .dataframe tbody tr th:only-of-type {\n",
       "        vertical-align: middle;\n",
       "    }\n",
       "\n",
       "    .dataframe tbody tr th {\n",
       "        vertical-align: top;\n",
       "    }\n",
       "\n",
       "    .dataframe thead th {\n",
       "        text-align: right;\n",
       "    }\n",
       "</style>\n",
       "<table border=\"1\" class=\"dataframe\">\n",
       "  <thead>\n",
       "    <tr style=\"text-align: right;\">\n",
       "      <th></th>\n",
       "      <th>PassengerId</th>\n",
       "      <th>Survived</th>\n",
       "      <th>Pclass</th>\n",
       "      <th>Name</th>\n",
       "      <th>Sex</th>\n",
       "      <th>Age</th>\n",
       "      <th>SibSp</th>\n",
       "      <th>Parch</th>\n",
       "      <th>Ticket</th>\n",
       "      <th>Fare</th>\n",
       "      <th>Cabin</th>\n",
       "      <th>Embarked</th>\n",
       "      <th>Title</th>\n",
       "    </tr>\n",
       "  </thead>\n",
       "  <tbody>\n",
       "    <tr>\n",
       "      <th>0</th>\n",
       "      <td>1</td>\n",
       "      <td>0</td>\n",
       "      <td>3</td>\n",
       "      <td>Braund, Mr. Owen Harris</td>\n",
       "      <td>male</td>\n",
       "      <td>22.0</td>\n",
       "      <td>1</td>\n",
       "      <td>0</td>\n",
       "      <td>A/5 21171</td>\n",
       "      <td>7.2500</td>\n",
       "      <td>NaN</td>\n",
       "      <td>S</td>\n",
       "      <td>Mr</td>\n",
       "    </tr>\n",
       "    <tr>\n",
       "      <th>1</th>\n",
       "      <td>2</td>\n",
       "      <td>1</td>\n",
       "      <td>1</td>\n",
       "      <td>Cumings, Mrs. John Bradley (Florence Briggs Th...</td>\n",
       "      <td>female</td>\n",
       "      <td>38.0</td>\n",
       "      <td>1</td>\n",
       "      <td>0</td>\n",
       "      <td>PC 17599</td>\n",
       "      <td>71.2833</td>\n",
       "      <td>C85</td>\n",
       "      <td>C</td>\n",
       "      <td>Mrs</td>\n",
       "    </tr>\n",
       "    <tr>\n",
       "      <th>2</th>\n",
       "      <td>3</td>\n",
       "      <td>1</td>\n",
       "      <td>3</td>\n",
       "      <td>Heikkinen, Miss. Laina</td>\n",
       "      <td>female</td>\n",
       "      <td>26.0</td>\n",
       "      <td>0</td>\n",
       "      <td>0</td>\n",
       "      <td>STON/O2. 3101282</td>\n",
       "      <td>7.9250</td>\n",
       "      <td>NaN</td>\n",
       "      <td>S</td>\n",
       "      <td>Miss</td>\n",
       "    </tr>\n",
       "    <tr>\n",
       "      <th>3</th>\n",
       "      <td>4</td>\n",
       "      <td>1</td>\n",
       "      <td>1</td>\n",
       "      <td>Futrelle, Mrs. Jacques Heath (Lily May Peel)</td>\n",
       "      <td>female</td>\n",
       "      <td>35.0</td>\n",
       "      <td>1</td>\n",
       "      <td>0</td>\n",
       "      <td>113803</td>\n",
       "      <td>53.1000</td>\n",
       "      <td>C123</td>\n",
       "      <td>S</td>\n",
       "      <td>Mrs</td>\n",
       "    </tr>\n",
       "    <tr>\n",
       "      <th>4</th>\n",
       "      <td>5</td>\n",
       "      <td>0</td>\n",
       "      <td>3</td>\n",
       "      <td>Allen, Mr. William Henry</td>\n",
       "      <td>male</td>\n",
       "      <td>35.0</td>\n",
       "      <td>0</td>\n",
       "      <td>0</td>\n",
       "      <td>373450</td>\n",
       "      <td>8.0500</td>\n",
       "      <td>NaN</td>\n",
       "      <td>S</td>\n",
       "      <td>Mr</td>\n",
       "    </tr>\n",
       "    <tr>\n",
       "      <th>...</th>\n",
       "      <td>...</td>\n",
       "      <td>...</td>\n",
       "      <td>...</td>\n",
       "      <td>...</td>\n",
       "      <td>...</td>\n",
       "      <td>...</td>\n",
       "      <td>...</td>\n",
       "      <td>...</td>\n",
       "      <td>...</td>\n",
       "      <td>...</td>\n",
       "      <td>...</td>\n",
       "      <td>...</td>\n",
       "      <td>...</td>\n",
       "    </tr>\n",
       "    <tr>\n",
       "      <th>886</th>\n",
       "      <td>887</td>\n",
       "      <td>0</td>\n",
       "      <td>2</td>\n",
       "      <td>Montvila, Rev. Juozas</td>\n",
       "      <td>male</td>\n",
       "      <td>27.0</td>\n",
       "      <td>0</td>\n",
       "      <td>0</td>\n",
       "      <td>211536</td>\n",
       "      <td>13.0000</td>\n",
       "      <td>NaN</td>\n",
       "      <td>S</td>\n",
       "      <td>Mr</td>\n",
       "    </tr>\n",
       "    <tr>\n",
       "      <th>887</th>\n",
       "      <td>888</td>\n",
       "      <td>1</td>\n",
       "      <td>1</td>\n",
       "      <td>Graham, Miss. Margaret Edith</td>\n",
       "      <td>female</td>\n",
       "      <td>19.0</td>\n",
       "      <td>0</td>\n",
       "      <td>0</td>\n",
       "      <td>112053</td>\n",
       "      <td>30.0000</td>\n",
       "      <td>B42</td>\n",
       "      <td>S</td>\n",
       "      <td>Miss</td>\n",
       "    </tr>\n",
       "    <tr>\n",
       "      <th>888</th>\n",
       "      <td>889</td>\n",
       "      <td>0</td>\n",
       "      <td>3</td>\n",
       "      <td>Johnston, Miss. Catherine Helen \"Carrie\"</td>\n",
       "      <td>female</td>\n",
       "      <td>19.0</td>\n",
       "      <td>1</td>\n",
       "      <td>2</td>\n",
       "      <td>W./C. 6607</td>\n",
       "      <td>23.4500</td>\n",
       "      <td>NaN</td>\n",
       "      <td>S</td>\n",
       "      <td>Miss</td>\n",
       "    </tr>\n",
       "    <tr>\n",
       "      <th>889</th>\n",
       "      <td>890</td>\n",
       "      <td>1</td>\n",
       "      <td>1</td>\n",
       "      <td>Behr, Mr. Karl Howell</td>\n",
       "      <td>male</td>\n",
       "      <td>26.0</td>\n",
       "      <td>0</td>\n",
       "      <td>0</td>\n",
       "      <td>111369</td>\n",
       "      <td>30.0000</td>\n",
       "      <td>C148</td>\n",
       "      <td>C</td>\n",
       "      <td>Mr</td>\n",
       "    </tr>\n",
       "    <tr>\n",
       "      <th>890</th>\n",
       "      <td>891</td>\n",
       "      <td>0</td>\n",
       "      <td>3</td>\n",
       "      <td>Dooley, Mr. Patrick</td>\n",
       "      <td>male</td>\n",
       "      <td>32.0</td>\n",
       "      <td>0</td>\n",
       "      <td>0</td>\n",
       "      <td>370376</td>\n",
       "      <td>7.7500</td>\n",
       "      <td>NaN</td>\n",
       "      <td>Q</td>\n",
       "      <td>Mr</td>\n",
       "    </tr>\n",
       "  </tbody>\n",
       "</table>\n",
       "<p>891 rows × 13 columns</p>\n",
       "</div>"
      ],
      "text/plain": [
       "     PassengerId  Survived  Pclass  \\\n",
       "0              1         0       3   \n",
       "1              2         1       1   \n",
       "2              3         1       3   \n",
       "3              4         1       1   \n",
       "4              5         0       3   \n",
       "..           ...       ...     ...   \n",
       "886          887         0       2   \n",
       "887          888         1       1   \n",
       "888          889         0       3   \n",
       "889          890         1       1   \n",
       "890          891         0       3   \n",
       "\n",
       "                                                  Name     Sex   Age  SibSp  \\\n",
       "0                              Braund, Mr. Owen Harris    male  22.0      1   \n",
       "1    Cumings, Mrs. John Bradley (Florence Briggs Th...  female  38.0      1   \n",
       "2                               Heikkinen, Miss. Laina  female  26.0      0   \n",
       "3         Futrelle, Mrs. Jacques Heath (Lily May Peel)  female  35.0      1   \n",
       "4                             Allen, Mr. William Henry    male  35.0      0   \n",
       "..                                                 ...     ...   ...    ...   \n",
       "886                              Montvila, Rev. Juozas    male  27.0      0   \n",
       "887                       Graham, Miss. Margaret Edith  female  19.0      0   \n",
       "888           Johnston, Miss. Catherine Helen \"Carrie\"  female  19.0      1   \n",
       "889                              Behr, Mr. Karl Howell    male  26.0      0   \n",
       "890                                Dooley, Mr. Patrick    male  32.0      0   \n",
       "\n",
       "     Parch            Ticket     Fare Cabin Embarked Title  \n",
       "0        0         A/5 21171   7.2500   NaN        S    Mr  \n",
       "1        0          PC 17599  71.2833   C85        C   Mrs  \n",
       "2        0  STON/O2. 3101282   7.9250   NaN        S  Miss  \n",
       "3        0            113803  53.1000  C123        S   Mrs  \n",
       "4        0            373450   8.0500   NaN        S    Mr  \n",
       "..     ...               ...      ...   ...      ...   ...  \n",
       "886      0            211536  13.0000   NaN        S    Mr  \n",
       "887      0            112053  30.0000   B42        S  Miss  \n",
       "888      2        W./C. 6607  23.4500   NaN        S  Miss  \n",
       "889      0            111369  30.0000  C148        C    Mr  \n",
       "890      0            370376   7.7500   NaN        Q    Mr  \n",
       "\n",
       "[891 rows x 13 columns]"
      ]
     },
     "execution_count": 26,
     "metadata": {},
     "output_type": "execute_result"
    }
   ],
   "source": [
    "train_data['Title'] = train_data.apply(squeeze_title, axis=1) \n",
    "train_data"
   ]
  },
  {
   "cell_type": "markdown",
   "id": "9052dc0f",
   "metadata": {
    "execution": {
     "iopub.execute_input": "2022-01-09T00:23:51.092015Z",
     "iopub.status.busy": "2022-01-09T00:23:51.091698Z",
     "iopub.status.idle": "2022-01-09T00:23:51.09849Z",
     "shell.execute_reply": "2022-01-09T00:23:51.097472Z",
     "shell.execute_reply.started": "2022-01-09T00:23:51.091979Z"
    },
    "papermill": {
     "duration": 0.094012,
     "end_time": "2022-01-12T23:21:58.494348",
     "exception": false,
     "start_time": "2022-01-12T23:21:58.400336",
     "status": "completed"
    },
    "tags": []
   },
   "source": [
    "<u>Quoted from *TRIANGLEINEQUALITY*</u>\n",
    "> *You may be interested to know that ‘Jonkheer’ is a male honorific for Dutch nobility. Also interesting is that I was tempted to just send ‘Dr’ -> ‘Mr’, but decided to check first, and there was indeed a female doctor aboard! It seems 1912 was further ahead of its time than Doctor Who!*\n",
    "\n",
    "> *Curious, I looked her up: her name was Dr. Alice Leader, and she and her husband were physicians in New York city*.[$^1$](https://triangleinequality.wordpress.com/2013/09/08/basic-feature-engineering-with-the-titanic-data/)\n",
    "\n",
    "![](https://i0.wp.com/www.encyclopedia-titanica.org/images/leader_af.jpg)"
   ]
  },
  {
   "cell_type": "markdown",
   "id": "63d02c0f",
   "metadata": {
    "papermill": {
     "duration": 0.095159,
     "end_time": "2022-01-12T23:21:58.685184",
     "exception": false,
     "start_time": "2022-01-12T23:21:58.590025",
     "status": "completed"
    },
    "tags": []
   },
   "source": [
    "<span style='color:CornflowerBlue;font-size:16px'>Feature 04: Cabin & Pclass</span>"
   ]
  },
  {
   "cell_type": "markdown",
   "id": "b9ccb2e6",
   "metadata": {
    "papermill": {
     "duration": 0.09732,
     "end_time": "2022-01-12T23:21:58.876179",
     "exception": false,
     "start_time": "2022-01-12T23:21:58.778859",
     "status": "completed"
    },
    "tags": []
   },
   "source": [
    "To work on `Cabin`, we need to understand what these values related to, the letters before each number. So that, we need to understand the infrastructure of the ship. \n",
    "\n",
    "After Reading more about how `Cabin` is related to passengers in Titanic – you can find this article in **dummies** – [Duites and Cabins for Passengers on the Titanic](https://www.dummies.com/article/academics-the-arts/history/20th-century/suites-and-cabins-for-passengers-on-the-titanic-180677). \n",
    "\n",
    "This article explains the correlation between the `Cabin` and the `Passenger Class (Pclass)`: we were not able to observe that from the correlation diagram since `Cabin` has lot of `NaN` values."
   ]
  },
  {
   "cell_type": "markdown",
   "id": "9abca0ad",
   "metadata": {
    "papermill": {
     "duration": 0.096356,
     "end_time": "2022-01-12T23:21:59.070245",
     "exception": false,
     "start_time": "2022-01-12T23:21:58.973889",
     "status": "completed"
    },
    "tags": []
   },
   "source": [
    "According to **dummies**:\n",
    "\n",
    "- Titanic's `Passenger first-class` Cabins:\n",
    "\n",
    "> *First-class accommodations were located amidships, <u>where the rocking of the ship was less keenly felt and passengers were less likely to get seasick</u>. They were decorated opulently in different period styles: Queen Anne, Louis XVI, and Georgian.*\n",
    "\n",
    "- Titanic's `Passenger second-class` Cabins:\n",
    "\n",
    "> *passengers slept in berths built into the walls of the cabins. At two to four berths per cabin, privacy was hard to come by, although a passenger could close the curtain around his or her berth. <u>Each second-class cabin had a washbasin and a chamber pot to be used in case of seasickness</u>.*\n",
    "\n",
    "- Titanic's `Passenger third-class` Cabins:\n",
    "\n",
    "> *passengers slept on bunk beds in crowded quarters at six to a narrow cabin. Like second-class passengers, they shared bathrooms, but the number of people sharing a bathroom was much higher in third class: Only two bathtubs were available for all 710 third-class passengers, one for the men and one for the women.*"
   ]
  },
  {
   "cell_type": "markdown",
   "id": "b0e6ecfe",
   "metadata": {
    "papermill": {
     "duration": 0.094227,
     "end_time": "2022-01-12T23:21:59.261918",
     "exception": false,
     "start_time": "2022-01-12T23:21:59.167691",
     "status": "completed"
    },
    "tags": []
   },
   "source": [
    "![](https://miro.medium.com/max/1400/1*VeHSAW_AxHz-GYwexWfdQg.jpeg)\n",
    "\n",
    "Ref: [Titanic Survival Analysis Using R](https://chanida-limt.medium.com/titanic-survival-prediction-c421aac8da32)"
   ]
  },
  {
   "cell_type": "markdown",
   "id": "c5f491a2",
   "metadata": {
    "papermill": {
     "duration": 0.094936,
     "end_time": "2022-01-12T23:21:59.452041",
     "exception": false,
     "start_time": "2022-01-12T23:21:59.357105",
     "status": "completed"
    },
    "tags": []
   },
   "source": [
    "Group the data by `Pclass`"
   ]
  },
  {
   "cell_type": "code",
   "execution_count": 27,
   "id": "2abc4614",
   "metadata": {
    "execution": {
     "iopub.execute_input": "2022-01-12T23:21:59.649507Z",
     "iopub.status.busy": "2022-01-12T23:21:59.648868Z",
     "iopub.status.idle": "2022-01-12T23:21:59.663543Z",
     "shell.execute_reply": "2022-01-12T23:21:59.664059Z",
     "shell.execute_reply.started": "2022-01-12T22:06:34.217854Z"
    },
    "papermill": {
     "duration": 0.114501,
     "end_time": "2022-01-12T23:21:59.664249",
     "exception": false,
     "start_time": "2022-01-12T23:21:59.549748",
     "status": "completed"
    },
    "tags": []
   },
   "outputs": [
    {
     "data": {
      "text/html": [
       "<div>\n",
       "<style scoped>\n",
       "    .dataframe tbody tr th:only-of-type {\n",
       "        vertical-align: middle;\n",
       "    }\n",
       "\n",
       "    .dataframe tbody tr th {\n",
       "        vertical-align: top;\n",
       "    }\n",
       "\n",
       "    .dataframe thead th {\n",
       "        text-align: right;\n",
       "    }\n",
       "</style>\n",
       "<table border=\"1\" class=\"dataframe\">\n",
       "  <thead>\n",
       "    <tr style=\"text-align: right;\">\n",
       "      <th></th>\n",
       "      <th>PassengerId</th>\n",
       "      <th>Survived</th>\n",
       "      <th>Name</th>\n",
       "      <th>Sex</th>\n",
       "      <th>Age</th>\n",
       "      <th>SibSp</th>\n",
       "      <th>Parch</th>\n",
       "      <th>Ticket</th>\n",
       "      <th>Fare</th>\n",
       "      <th>Cabin</th>\n",
       "      <th>Embarked</th>\n",
       "      <th>Title</th>\n",
       "    </tr>\n",
       "    <tr>\n",
       "      <th>Pclass</th>\n",
       "      <th></th>\n",
       "      <th></th>\n",
       "      <th></th>\n",
       "      <th></th>\n",
       "      <th></th>\n",
       "      <th></th>\n",
       "      <th></th>\n",
       "      <th></th>\n",
       "      <th></th>\n",
       "      <th></th>\n",
       "      <th></th>\n",
       "      <th></th>\n",
       "    </tr>\n",
       "  </thead>\n",
       "  <tbody>\n",
       "    <tr>\n",
       "      <th>1</th>\n",
       "      <td>216</td>\n",
       "      <td>216</td>\n",
       "      <td>216</td>\n",
       "      <td>216</td>\n",
       "      <td>216</td>\n",
       "      <td>216</td>\n",
       "      <td>216</td>\n",
       "      <td>216</td>\n",
       "      <td>216</td>\n",
       "      <td>176</td>\n",
       "      <td>216</td>\n",
       "      <td>216</td>\n",
       "    </tr>\n",
       "    <tr>\n",
       "      <th>2</th>\n",
       "      <td>184</td>\n",
       "      <td>184</td>\n",
       "      <td>184</td>\n",
       "      <td>184</td>\n",
       "      <td>184</td>\n",
       "      <td>184</td>\n",
       "      <td>184</td>\n",
       "      <td>184</td>\n",
       "      <td>184</td>\n",
       "      <td>16</td>\n",
       "      <td>184</td>\n",
       "      <td>184</td>\n",
       "    </tr>\n",
       "    <tr>\n",
       "      <th>3</th>\n",
       "      <td>491</td>\n",
       "      <td>491</td>\n",
       "      <td>491</td>\n",
       "      <td>491</td>\n",
       "      <td>491</td>\n",
       "      <td>491</td>\n",
       "      <td>491</td>\n",
       "      <td>491</td>\n",
       "      <td>491</td>\n",
       "      <td>12</td>\n",
       "      <td>491</td>\n",
       "      <td>491</td>\n",
       "    </tr>\n",
       "  </tbody>\n",
       "</table>\n",
       "</div>"
      ],
      "text/plain": [
       "        PassengerId  Survived  Name  Sex  Age  SibSp  Parch  Ticket  Fare  \\\n",
       "Pclass                                                                      \n",
       "1               216       216   216  216  216    216    216     216   216   \n",
       "2               184       184   184  184  184    184    184     184   184   \n",
       "3               491       491   491  491  491    491    491     491   491   \n",
       "\n",
       "        Cabin  Embarked  Title  \n",
       "Pclass                          \n",
       "1         176       216    216  \n",
       "2          16       184    184  \n",
       "3          12       491    491  "
      ]
     },
     "execution_count": 27,
     "metadata": {},
     "output_type": "execute_result"
    }
   ],
   "source": [
    "CaPc = train_data.groupby('Pclass').count()\n",
    "CaPc"
   ]
  },
  {
   "cell_type": "markdown",
   "id": "5a0e3d72",
   "metadata": {
    "papermill": {
     "duration": 0.095229,
     "end_time": "2022-01-12T23:21:59.853943",
     "exception": false,
     "start_time": "2022-01-12T23:21:59.758714",
     "status": "completed"
    },
    "tags": []
   },
   "source": [
    "According to **BBC**: \n",
    "> *The first half of the ship reaches the botton first. Two minutes later, the back half of the Titanic joins it on the floor of the Atlantic.*"
   ]
  },
  {
   "cell_type": "markdown",
   "id": "fcf9433a",
   "metadata": {
    "papermill": {
     "duration": 0.097942,
     "end_time": "2022-01-12T23:22:00.047372",
     "exception": false,
     "start_time": "2022-01-12T23:21:59.949430",
     "status": "completed"
    },
    "tags": []
   },
   "source": [
    "The first half of the ship is the place where most first-class cabins exist. So, using the `Cabin` feature may help us if we extract the letters from the `Cabin` observation will help us as it represents the Deck."
   ]
  },
  {
   "cell_type": "code",
   "execution_count": 28,
   "id": "96f41030",
   "metadata": {
    "execution": {
     "iopub.execute_input": "2022-01-12T23:22:00.242974Z",
     "iopub.status.busy": "2022-01-12T23:22:00.242249Z",
     "iopub.status.idle": "2022-01-12T23:22:00.808705Z",
     "shell.execute_reply": "2022-01-12T23:22:00.809215Z",
     "shell.execute_reply.started": "2022-01-12T22:06:34.238949Z"
    },
    "papermill": {
     "duration": 0.66408,
     "end_time": "2022-01-12T23:22:00.809402",
     "exception": false,
     "start_time": "2022-01-12T23:22:00.145322",
     "status": "completed"
    },
    "tags": []
   },
   "outputs": [
    {
     "data": {
      "text/plain": [
       "<Figure size 1296x720 with 0 Axes>"
      ]
     },
     "metadata": {},
     "output_type": "display_data"
    },
    {
     "data": {
      "image/png": "[encoded data removed]",
      "text/plain": [
       "<Figure size 432x432 with 3 Axes>"
      ]
     },
     "metadata": {
      "needs_background": "light"
     },
     "output_type": "display_data"
    }
   ],
   "source": [
    "plt.figure(figsize=(18,10))\n",
    "sns.jointplot(x='Pclass', y='Cabin', data=CaPc, dropna=True)\n",
    "plt.show()"
   ]
  },
  {
   "cell_type": "markdown",
   "id": "ca5aaa2c",
   "metadata": {
    "papermill": {
     "duration": 0.096557,
     "end_time": "2022-01-12T23:22:01.003974",
     "exception": false,
     "start_time": "2022-01-12T23:22:00.907417",
     "status": "completed"
    },
    "tags": []
   },
   "source": [
    "`NaN` Cabins will be replaced with `Unknown`"
   ]
  },
  {
   "cell_type": "code",
   "execution_count": 29,
   "id": "4b63a0ce",
   "metadata": {
    "execution": {
     "iopub.execute_input": "2022-01-12T23:22:01.200044Z",
     "iopub.status.busy": "2022-01-12T23:22:01.199039Z",
     "iopub.status.idle": "2022-01-12T23:22:01.208698Z",
     "shell.execute_reply": "2022-01-12T23:22:01.209201Z",
     "shell.execute_reply.started": "2022-01-12T22:06:34.764595Z"
    },
    "papermill": {
     "duration": 0.10967,
     "end_time": "2022-01-12T23:22:01.209436",
     "exception": false,
     "start_time": "2022-01-12T23:22:01.099766",
     "status": "completed"
    },
    "tags": []
   },
   "outputs": [],
   "source": [
    "cabin_list = ['A', 'B', 'C', 'D', 'E', 'F', 'T', 'G', 'Unknown']\n",
    "train_data['Deck'] = train_data['Cabin'].apply(lambda letter:\n",
    "                                               patterns(str(letter), cabin_list))\n",
    "train_data.drop(columns='Cabin', inplace=True)"
   ]
  },
  {
   "cell_type": "code",
   "execution_count": 30,
   "id": "3fcbfe5a",
   "metadata": {
    "execution": {
     "iopub.execute_input": "2022-01-12T23:22:01.403493Z",
     "iopub.status.busy": "2022-01-12T23:22:01.402858Z",
     "iopub.status.idle": "2022-01-12T23:22:01.418411Z",
     "shell.execute_reply": "2022-01-12T23:22:01.418917Z",
     "shell.execute_reply.started": "2022-01-12T22:06:34.778569Z"
    },
    "papermill": {
     "duration": 0.114294,
     "end_time": "2022-01-12T23:22:01.419107",
     "exception": false,
     "start_time": "2022-01-12T23:22:01.304813",
     "status": "completed"
    },
    "tags": []
   },
   "outputs": [
    {
     "data": {
      "text/html": [
       "<div>\n",
       "<style scoped>\n",
       "    .dataframe tbody tr th:only-of-type {\n",
       "        vertical-align: middle;\n",
       "    }\n",
       "\n",
       "    .dataframe tbody tr th {\n",
       "        vertical-align: top;\n",
       "    }\n",
       "\n",
       "    .dataframe thead th {\n",
       "        text-align: right;\n",
       "    }\n",
       "</style>\n",
       "<table border=\"1\" class=\"dataframe\">\n",
       "  <thead>\n",
       "    <tr style=\"text-align: right;\">\n",
       "      <th></th>\n",
       "      <th>PassengerId</th>\n",
       "      <th>Survived</th>\n",
       "      <th>Pclass</th>\n",
       "      <th>Name</th>\n",
       "      <th>Sex</th>\n",
       "      <th>Age</th>\n",
       "      <th>SibSp</th>\n",
       "      <th>Parch</th>\n",
       "      <th>Ticket</th>\n",
       "      <th>Fare</th>\n",
       "      <th>Embarked</th>\n",
       "      <th>Title</th>\n",
       "      <th>Deck</th>\n",
       "    </tr>\n",
       "  </thead>\n",
       "  <tbody>\n",
       "    <tr>\n",
       "      <th>0</th>\n",
       "      <td>1</td>\n",
       "      <td>0</td>\n",
       "      <td>3</td>\n",
       "      <td>Braund, Mr. Owen Harris</td>\n",
       "      <td>male</td>\n",
       "      <td>22.0</td>\n",
       "      <td>1</td>\n",
       "      <td>0</td>\n",
       "      <td>A/5 21171</td>\n",
       "      <td>7.2500</td>\n",
       "      <td>S</td>\n",
       "      <td>Mr</td>\n",
       "      <td>Untitled</td>\n",
       "    </tr>\n",
       "    <tr>\n",
       "      <th>1</th>\n",
       "      <td>2</td>\n",
       "      <td>1</td>\n",
       "      <td>1</td>\n",
       "      <td>Cumings, Mrs. John Bradley (Florence Briggs Th...</td>\n",
       "      <td>female</td>\n",
       "      <td>38.0</td>\n",
       "      <td>1</td>\n",
       "      <td>0</td>\n",
       "      <td>PC 17599</td>\n",
       "      <td>71.2833</td>\n",
       "      <td>C</td>\n",
       "      <td>Mrs</td>\n",
       "      <td>C</td>\n",
       "    </tr>\n",
       "    <tr>\n",
       "      <th>2</th>\n",
       "      <td>3</td>\n",
       "      <td>1</td>\n",
       "      <td>3</td>\n",
       "      <td>Heikkinen, Miss. Laina</td>\n",
       "      <td>female</td>\n",
       "      <td>26.0</td>\n",
       "      <td>0</td>\n",
       "      <td>0</td>\n",
       "      <td>STON/O2. 3101282</td>\n",
       "      <td>7.9250</td>\n",
       "      <td>S</td>\n",
       "      <td>Miss</td>\n",
       "      <td>Untitled</td>\n",
       "    </tr>\n",
       "    <tr>\n",
       "      <th>3</th>\n",
       "      <td>4</td>\n",
       "      <td>1</td>\n",
       "      <td>1</td>\n",
       "      <td>Futrelle, Mrs. Jacques Heath (Lily May Peel)</td>\n",
       "      <td>female</td>\n",
       "      <td>35.0</td>\n",
       "      <td>1</td>\n",
       "      <td>0</td>\n",
       "      <td>113803</td>\n",
       "      <td>53.1000</td>\n",
       "      <td>S</td>\n",
       "      <td>Mrs</td>\n",
       "      <td>C</td>\n",
       "    </tr>\n",
       "    <tr>\n",
       "      <th>4</th>\n",
       "      <td>5</td>\n",
       "      <td>0</td>\n",
       "      <td>3</td>\n",
       "      <td>Allen, Mr. William Henry</td>\n",
       "      <td>male</td>\n",
       "      <td>35.0</td>\n",
       "      <td>0</td>\n",
       "      <td>0</td>\n",
       "      <td>373450</td>\n",
       "      <td>8.0500</td>\n",
       "      <td>S</td>\n",
       "      <td>Mr</td>\n",
       "      <td>Untitled</td>\n",
       "    </tr>\n",
       "  </tbody>\n",
       "</table>\n",
       "</div>"
      ],
      "text/plain": [
       "   PassengerId  Survived  Pclass  \\\n",
       "0            1         0       3   \n",
       "1            2         1       1   \n",
       "2            3         1       3   \n",
       "3            4         1       1   \n",
       "4            5         0       3   \n",
       "\n",
       "                                                Name     Sex   Age  SibSp  \\\n",
       "0                            Braund, Mr. Owen Harris    male  22.0      1   \n",
       "1  Cumings, Mrs. John Bradley (Florence Briggs Th...  female  38.0      1   \n",
       "2                             Heikkinen, Miss. Laina  female  26.0      0   \n",
       "3       Futrelle, Mrs. Jacques Heath (Lily May Peel)  female  35.0      1   \n",
       "4                           Allen, Mr. William Henry    male  35.0      0   \n",
       "\n",
       "   Parch            Ticket     Fare Embarked Title      Deck  \n",
       "0      0         A/5 21171   7.2500        S    Mr  Untitled  \n",
       "1      0          PC 17599  71.2833        C   Mrs         C  \n",
       "2      0  STON/O2. 3101282   7.9250        S  Miss  Untitled  \n",
       "3      0            113803  53.1000        S   Mrs         C  \n",
       "4      0            373450   8.0500        S    Mr  Untitled  "
      ]
     },
     "execution_count": 30,
     "metadata": {},
     "output_type": "execute_result"
    }
   ],
   "source": [
    "train_data.head()"
   ]
  },
  {
   "cell_type": "markdown",
   "id": "51662ef4",
   "metadata": {
    "papermill": {
     "duration": 0.09671,
     "end_time": "2022-01-12T23:22:01.613242",
     "exception": false,
     "start_time": "2022-01-12T23:22:01.516532",
     "status": "completed"
    },
    "tags": []
   },
   "source": [
    "<span style='color:CornflowerBlue;font-size:16px'>Feature 05: SibSp & Parch</span>"
   ]
  },
  {
   "cell_type": "markdown",
   "id": "07a22fcd",
   "metadata": {
    "papermill": {
     "duration": 0.095272,
     "end_time": "2022-01-12T23:22:01.804506",
     "exception": false,
     "start_time": "2022-01-12T23:22:01.709234",
     "status": "completed"
    },
    "tags": []
   },
   "source": [
    "Let's visualize the `# of siblings / spouses aboard the Titanic (SibSp)` and `# of parents / children aboard the Titanic (Parch)` with `Survived` Class & the Linear Correlation between them"
   ]
  },
  {
   "cell_type": "code",
   "execution_count": 31,
   "id": "fbe06358",
   "metadata": {
    "execution": {
     "iopub.execute_input": "2022-01-12T23:22:02.023360Z",
     "iopub.status.busy": "2022-01-12T23:22:02.016839Z",
     "iopub.status.idle": "2022-01-12T23:22:02.779507Z",
     "shell.execute_reply": "2022-01-12T23:22:02.778984Z",
     "shell.execute_reply.started": "2022-01-12T22:06:34.805288Z"
    },
    "papermill": {
     "duration": 0.876088,
     "end_time": "2022-01-12T23:22:02.779673",
     "exception": false,
     "start_time": "2022-01-12T23:22:01.903585",
     "status": "completed"
    },
    "tags": []
   },
   "outputs": [
    {
     "data": {
      "image/png": "[encoded data removed]",
      "text/plain": [
       "<Figure size 1080x1512 with 3 Axes>"
      ]
     },
     "metadata": {
      "needs_background": "light"
     },
     "output_type": "display_data"
    }
   ],
   "source": [
    "fig = plt.figure(figsize=(15,21))\n",
    "SS_SUR = fig.add_subplot(221)\n",
    "PC_SUR = fig.add_subplot(222)\n",
    "SS_PC = fig.add_subplot(2,2,(3,4))\n",
    "\n",
    "sns.barplot(x='Survived', y='SibSp', data=train_data, ax=SS_SUR)\n",
    "sns.barplot(x='Survived', y='Parch', data=train_data, ax=PC_SUR)\n",
    "\n",
    "SS_PC.title.set_text(\"Correlation between `SibSp` & `Parch`\")\n",
    "sns.regplot(x='SibSp', y='Parch', data=train_data, ax=SS_PC)\n",
    "\n",
    "plt.show()"
   ]
  },
  {
   "cell_type": "markdown",
   "id": "593c3a8f",
   "metadata": {
    "papermill": {
     "duration": 0.102852,
     "end_time": "2022-01-12T23:22:02.984928",
     "exception": false,
     "start_time": "2022-01-12T23:22:02.882076",
     "status": "completed"
    },
    "tags": []
   },
   "source": [
    "We can see, there're **positive Linear Correlation** between `SibSp` and `Parch`. Maybe this shows us – most people who had family relationships in the ship are more likely to risk themselves to rescue their family, especially if they're siblings/spouses.\n",
    "\n",
    "Why not combine them!? Both features are likely to fit the same idea. It will be really efficient when we're going to use decision tree classification."
   ]
  },
  {
   "cell_type": "code",
   "execution_count": 32,
   "id": "5f30dc26",
   "metadata": {
    "execution": {
     "iopub.execute_input": "2022-01-12T23:22:03.209429Z",
     "iopub.status.busy": "2022-01-12T23:22:03.208715Z",
     "iopub.status.idle": "2022-01-12T23:22:03.211477Z",
     "shell.execute_reply": "2022-01-12T23:22:03.211997Z",
     "shell.execute_reply.started": "2022-01-12T22:06:35.537330Z"
    },
    "papermill": {
     "duration": 0.121156,
     "end_time": "2022-01-12T23:22:03.212182",
     "exception": false,
     "start_time": "2022-01-12T23:22:03.091026",
     "status": "completed"
    },
    "tags": []
   },
   "outputs": [
    {
     "data": {
      "text/html": [
       "<div>\n",
       "<style scoped>\n",
       "    .dataframe tbody tr th:only-of-type {\n",
       "        vertical-align: middle;\n",
       "    }\n",
       "\n",
       "    .dataframe tbody tr th {\n",
       "        vertical-align: top;\n",
       "    }\n",
       "\n",
       "    .dataframe thead th {\n",
       "        text-align: right;\n",
       "    }\n",
       "</style>\n",
       "<table border=\"1\" class=\"dataframe\">\n",
       "  <thead>\n",
       "    <tr style=\"text-align: right;\">\n",
       "      <th></th>\n",
       "      <th>PassengerId</th>\n",
       "      <th>Survived</th>\n",
       "      <th>Pclass</th>\n",
       "      <th>Name</th>\n",
       "      <th>Sex</th>\n",
       "      <th>Age</th>\n",
       "      <th>SibSp</th>\n",
       "      <th>Parch</th>\n",
       "      <th>Ticket</th>\n",
       "      <th>Fare</th>\n",
       "      <th>Embarked</th>\n",
       "      <th>Title</th>\n",
       "      <th>Deck</th>\n",
       "      <th>Family_size</th>\n",
       "    </tr>\n",
       "  </thead>\n",
       "  <tbody>\n",
       "    <tr>\n",
       "      <th>886</th>\n",
       "      <td>887</td>\n",
       "      <td>0</td>\n",
       "      <td>2</td>\n",
       "      <td>Montvila, Rev. Juozas</td>\n",
       "      <td>male</td>\n",
       "      <td>27.0</td>\n",
       "      <td>0</td>\n",
       "      <td>0</td>\n",
       "      <td>211536</td>\n",
       "      <td>13.00</td>\n",
       "      <td>S</td>\n",
       "      <td>Mr</td>\n",
       "      <td>Untitled</td>\n",
       "      <td>0</td>\n",
       "    </tr>\n",
       "    <tr>\n",
       "      <th>887</th>\n",
       "      <td>888</td>\n",
       "      <td>1</td>\n",
       "      <td>1</td>\n",
       "      <td>Graham, Miss. Margaret Edith</td>\n",
       "      <td>female</td>\n",
       "      <td>19.0</td>\n",
       "      <td>0</td>\n",
       "      <td>0</td>\n",
       "      <td>112053</td>\n",
       "      <td>30.00</td>\n",
       "      <td>S</td>\n",
       "      <td>Miss</td>\n",
       "      <td>B</td>\n",
       "      <td>0</td>\n",
       "    </tr>\n",
       "    <tr>\n",
       "      <th>888</th>\n",
       "      <td>889</td>\n",
       "      <td>0</td>\n",
       "      <td>3</td>\n",
       "      <td>Johnston, Miss. Catherine Helen \"Carrie\"</td>\n",
       "      <td>female</td>\n",
       "      <td>19.0</td>\n",
       "      <td>1</td>\n",
       "      <td>2</td>\n",
       "      <td>W./C. 6607</td>\n",
       "      <td>23.45</td>\n",
       "      <td>S</td>\n",
       "      <td>Miss</td>\n",
       "      <td>Untitled</td>\n",
       "      <td>3</td>\n",
       "    </tr>\n",
       "    <tr>\n",
       "      <th>889</th>\n",
       "      <td>890</td>\n",
       "      <td>1</td>\n",
       "      <td>1</td>\n",
       "      <td>Behr, Mr. Karl Howell</td>\n",
       "      <td>male</td>\n",
       "      <td>26.0</td>\n",
       "      <td>0</td>\n",
       "      <td>0</td>\n",
       "      <td>111369</td>\n",
       "      <td>30.00</td>\n",
       "      <td>C</td>\n",
       "      <td>Mr</td>\n",
       "      <td>C</td>\n",
       "      <td>0</td>\n",
       "    </tr>\n",
       "    <tr>\n",
       "      <th>890</th>\n",
       "      <td>891</td>\n",
       "      <td>0</td>\n",
       "      <td>3</td>\n",
       "      <td>Dooley, Mr. Patrick</td>\n",
       "      <td>male</td>\n",
       "      <td>32.0</td>\n",
       "      <td>0</td>\n",
       "      <td>0</td>\n",
       "      <td>370376</td>\n",
       "      <td>7.75</td>\n",
       "      <td>Q</td>\n",
       "      <td>Mr</td>\n",
       "      <td>Untitled</td>\n",
       "      <td>0</td>\n",
       "    </tr>\n",
       "  </tbody>\n",
       "</table>\n",
       "</div>"
      ],
      "text/plain": [
       "     PassengerId  Survived  Pclass                                      Name  \\\n",
       "886          887         0       2                     Montvila, Rev. Juozas   \n",
       "887          888         1       1              Graham, Miss. Margaret Edith   \n",
       "888          889         0       3  Johnston, Miss. Catherine Helen \"Carrie\"   \n",
       "889          890         1       1                     Behr, Mr. Karl Howell   \n",
       "890          891         0       3                       Dooley, Mr. Patrick   \n",
       "\n",
       "        Sex   Age  SibSp  Parch      Ticket   Fare Embarked Title      Deck  \\\n",
       "886    male  27.0      0      0      211536  13.00        S    Mr  Untitled   \n",
       "887  female  19.0      0      0      112053  30.00        S  Miss         B   \n",
       "888  female  19.0      1      2  W./C. 6607  23.45        S  Miss  Untitled   \n",
       "889    male  26.0      0      0      111369  30.00        C    Mr         C   \n",
       "890    male  32.0      0      0      370376   7.75        Q    Mr  Untitled   \n",
       "\n",
       "     Family_size  \n",
       "886            0  \n",
       "887            0  \n",
       "888            3  \n",
       "889            0  \n",
       "890            0  "
      ]
     },
     "execution_count": 32,
     "metadata": {},
     "output_type": "execute_result"
    }
   ],
   "source": [
    "train_data['Family_size'] = train_data['SibSp'] + train_data['Parch']\n",
    "train_data.tail()"
   ]
  },
  {
   "cell_type": "markdown",
   "id": "0fa20277",
   "metadata": {
    "papermill": {
     "duration": 0.099942,
     "end_time": "2022-01-12T23:22:03.415428",
     "exception": false,
     "start_time": "2022-01-12T23:22:03.315486",
     "status": "completed"
    },
    "tags": []
   },
   "source": [
    "<span style='color:CornflowerBlue;font-size:16px'>Feature 06: Age & Pclass & Fare</span>"
   ]
  },
  {
   "cell_type": "markdown",
   "id": "ac676b9d",
   "metadata": {
    "papermill": {
     "duration": 0.098395,
     "end_time": "2022-01-12T23:22:03.611849",
     "exception": false,
     "start_time": "2022-01-12T23:22:03.513454",
     "status": "completed"
    },
    "tags": []
   },
   "source": [
    "First, Let's check if the anyone from *First-class* or the *Second-class* has `Fare =0.0`. If so, we can't involve price with us."
   ]
  },
  {
   "cell_type": "code",
   "execution_count": 33,
   "id": "d8f88692",
   "metadata": {
    "execution": {
     "iopub.execute_input": "2022-01-12T23:22:03.814744Z",
     "iopub.status.busy": "2022-01-12T23:22:03.813972Z",
     "iopub.status.idle": "2022-01-12T23:22:03.828998Z",
     "shell.execute_reply": "2022-01-12T23:22:03.828327Z",
     "shell.execute_reply.started": "2022-01-12T22:06:35.561397Z"
    },
    "papermill": {
     "duration": 0.118422,
     "end_time": "2022-01-12T23:22:03.829153",
     "exception": false,
     "start_time": "2022-01-12T23:22:03.710731",
     "status": "completed"
    },
    "tags": []
   },
   "outputs": [
    {
     "data": {
      "text/html": [
       "<div>\n",
       "<style scoped>\n",
       "    .dataframe tbody tr th:only-of-type {\n",
       "        vertical-align: middle;\n",
       "    }\n",
       "\n",
       "    .dataframe tbody tr th {\n",
       "        vertical-align: top;\n",
       "    }\n",
       "\n",
       "    .dataframe thead th {\n",
       "        text-align: right;\n",
       "    }\n",
       "</style>\n",
       "<table border=\"1\" class=\"dataframe\">\n",
       "  <thead>\n",
       "    <tr style=\"text-align: right;\">\n",
       "      <th></th>\n",
       "      <th>Pclass</th>\n",
       "      <th>Fare</th>\n",
       "    </tr>\n",
       "  </thead>\n",
       "  <tbody>\n",
       "    <tr>\n",
       "      <th>179</th>\n",
       "      <td>3</td>\n",
       "      <td>0.0</td>\n",
       "    </tr>\n",
       "    <tr>\n",
       "      <th>263</th>\n",
       "      <td>1</td>\n",
       "      <td>0.0</td>\n",
       "    </tr>\n",
       "    <tr>\n",
       "      <th>271</th>\n",
       "      <td>3</td>\n",
       "      <td>0.0</td>\n",
       "    </tr>\n",
       "    <tr>\n",
       "      <th>277</th>\n",
       "      <td>2</td>\n",
       "      <td>0.0</td>\n",
       "    </tr>\n",
       "    <tr>\n",
       "      <th>302</th>\n",
       "      <td>3</td>\n",
       "      <td>0.0</td>\n",
       "    </tr>\n",
       "    <tr>\n",
       "      <th>413</th>\n",
       "      <td>2</td>\n",
       "      <td>0.0</td>\n",
       "    </tr>\n",
       "    <tr>\n",
       "      <th>466</th>\n",
       "      <td>2</td>\n",
       "      <td>0.0</td>\n",
       "    </tr>\n",
       "    <tr>\n",
       "      <th>481</th>\n",
       "      <td>2</td>\n",
       "      <td>0.0</td>\n",
       "    </tr>\n",
       "    <tr>\n",
       "      <th>597</th>\n",
       "      <td>3</td>\n",
       "      <td>0.0</td>\n",
       "    </tr>\n",
       "    <tr>\n",
       "      <th>633</th>\n",
       "      <td>1</td>\n",
       "      <td>0.0</td>\n",
       "    </tr>\n",
       "    <tr>\n",
       "      <th>674</th>\n",
       "      <td>2</td>\n",
       "      <td>0.0</td>\n",
       "    </tr>\n",
       "    <tr>\n",
       "      <th>732</th>\n",
       "      <td>2</td>\n",
       "      <td>0.0</td>\n",
       "    </tr>\n",
       "    <tr>\n",
       "      <th>806</th>\n",
       "      <td>1</td>\n",
       "      <td>0.0</td>\n",
       "    </tr>\n",
       "    <tr>\n",
       "      <th>815</th>\n",
       "      <td>1</td>\n",
       "      <td>0.0</td>\n",
       "    </tr>\n",
       "    <tr>\n",
       "      <th>822</th>\n",
       "      <td>1</td>\n",
       "      <td>0.0</td>\n",
       "    </tr>\n",
       "  </tbody>\n",
       "</table>\n",
       "</div>"
      ],
      "text/plain": [
       "     Pclass  Fare\n",
       "179       3   0.0\n",
       "263       1   0.0\n",
       "271       3   0.0\n",
       "277       2   0.0\n",
       "302       3   0.0\n",
       "413       2   0.0\n",
       "466       2   0.0\n",
       "481       2   0.0\n",
       "597       3   0.0\n",
       "633       1   0.0\n",
       "674       2   0.0\n",
       "732       2   0.0\n",
       "806       1   0.0\n",
       "815       1   0.0\n",
       "822       1   0.0"
      ]
     },
     "execution_count": 33,
     "metadata": {},
     "output_type": "execute_result"
    }
   ],
   "source": [
    "train_data[[\"Pclass\", \"Fare\"]].loc[train_data['Fare'] == 0,:]"
   ]
  },
  {
   "cell_type": "markdown",
   "id": "9fce62b9",
   "metadata": {
    "papermill": {
     "duration": 0.102034,
     "end_time": "2022-01-12T23:22:04.034427",
     "exception": false,
     "start_time": "2022-01-12T23:22:03.932393",
     "status": "completed"
    },
    "tags": []
   },
   "source": [
    "These data are likely missed. We can't cross `Fare` with `Pclass`."
   ]
  },
  {
   "cell_type": "code",
   "execution_count": 34,
   "id": "4fb875d4",
   "metadata": {
    "execution": {
     "iopub.execute_input": "2022-01-12T23:22:04.252020Z",
     "iopub.status.busy": "2022-01-12T23:22:04.246381Z",
     "iopub.status.idle": "2022-01-12T23:22:04.254935Z",
     "shell.execute_reply": "2022-01-12T23:22:04.255420Z",
     "shell.execute_reply.started": "2022-01-12T22:06:35.576521Z"
    },
    "papermill": {
     "duration": 0.117913,
     "end_time": "2022-01-12T23:22:04.255617",
     "exception": false,
     "start_time": "2022-01-12T23:22:04.137704",
     "status": "completed"
    },
    "tags": []
   },
   "outputs": [
    {
     "data": {
      "text/html": [
       "<div>\n",
       "<style scoped>\n",
       "    .dataframe tbody tr th:only-of-type {\n",
       "        vertical-align: middle;\n",
       "    }\n",
       "\n",
       "    .dataframe tbody tr th {\n",
       "        vertical-align: top;\n",
       "    }\n",
       "\n",
       "    .dataframe thead th {\n",
       "        text-align: right;\n",
       "    }\n",
       "</style>\n",
       "<table border=\"1\" class=\"dataframe\">\n",
       "  <thead>\n",
       "    <tr style=\"text-align: right;\">\n",
       "      <th></th>\n",
       "      <th>Pclass</th>\n",
       "      <th>Fare</th>\n",
       "    </tr>\n",
       "  </thead>\n",
       "  <tbody>\n",
       "    <tr>\n",
       "      <th>Pclass</th>\n",
       "      <td>1.0000</td>\n",
       "      <td>-0.5495</td>\n",
       "    </tr>\n",
       "    <tr>\n",
       "      <th>Fare</th>\n",
       "      <td>-0.5495</td>\n",
       "      <td>1.0000</td>\n",
       "    </tr>\n",
       "  </tbody>\n",
       "</table>\n",
       "</div>"
      ],
      "text/plain": [
       "        Pclass    Fare\n",
       "Pclass  1.0000 -0.5495\n",
       "Fare   -0.5495  1.0000"
      ]
     },
     "execution_count": 34,
     "metadata": {},
     "output_type": "execute_result"
    }
   ],
   "source": [
    "train_data[['Pclass', 'Fare']].corr()"
   ]
  },
  {
   "cell_type": "markdown",
   "id": "fe6fc0d7",
   "metadata": {
    "papermill": {
     "duration": 0.126821,
     "end_time": "2022-01-12T23:22:04.491617",
     "exception": false,
     "start_time": "2022-01-12T23:22:04.364796",
     "status": "completed"
    },
    "tags": []
   },
   "source": [
    "We can see that – `P-class` and `Fare` have **Negative Linear Correlation**. (Note that we're trying to check the linear correlation although this is a categorical feature, we're doing that for the sake of seeing the effection on the `Fare` feature)."
   ]
  },
  {
   "cell_type": "code",
   "execution_count": 35,
   "id": "0dc8da29",
   "metadata": {
    "execution": {
     "iopub.execute_input": "2022-01-12T23:22:04.694916Z",
     "iopub.status.busy": "2022-01-12T23:22:04.694229Z",
     "iopub.status.idle": "2022-01-12T23:22:05.109898Z",
     "shell.execute_reply": "2022-01-12T23:22:05.109325Z",
     "shell.execute_reply.started": "2022-01-12T22:06:35.587288Z"
    },
    "papermill": {
     "duration": 0.518675,
     "end_time": "2022-01-12T23:22:05.110040",
     "exception": false,
     "start_time": "2022-01-12T23:22:04.591365",
     "status": "completed"
    },
    "tags": []
   },
   "outputs": [
    {
     "data": {
      "image/png": "[encoded data removed]",
      "text/plain": [
       "<Figure size 1296x720 with 1 Axes>"
      ]
     },
     "metadata": {
      "needs_background": "light"
     },
     "output_type": "display_data"
    }
   ],
   "source": [
    "plt.figure(figsize=(18,10))\n",
    "sns.regplot(x='Pclass', y='Age', data=train_data)\n",
    "plt.show()"
   ]
  },
  {
   "cell_type": "markdown",
   "id": "51cb639f",
   "metadata": {
    "papermill": {
     "duration": 0.101739,
     "end_time": "2022-01-12T23:22:05.312770",
     "exception": false,
     "start_time": "2022-01-12T23:22:05.211031",
     "status": "completed"
    },
    "tags": []
   },
   "source": [
    "**What's the `Age` most of ppl `Died`?**"
   ]
  },
  {
   "cell_type": "code",
   "execution_count": 36,
   "id": "c600c69b",
   "metadata": {
    "execution": {
     "iopub.execute_input": "2022-01-12T23:22:05.522570Z",
     "iopub.status.busy": "2022-01-12T23:22:05.521507Z",
     "iopub.status.idle": "2022-01-12T23:22:05.542628Z",
     "shell.execute_reply": "2022-01-12T23:22:05.543141Z",
     "shell.execute_reply.started": "2022-01-12T22:06:35.974453Z"
    },
    "papermill": {
     "duration": 0.127932,
     "end_time": "2022-01-12T23:22:05.543326",
     "exception": false,
     "start_time": "2022-01-12T23:22:05.415394",
     "status": "completed"
    },
    "tags": []
   },
   "outputs": [
    {
     "data": {
      "text/html": [
       "<div>\n",
       "<style scoped>\n",
       "    .dataframe tbody tr th:only-of-type {\n",
       "        vertical-align: middle;\n",
       "    }\n",
       "\n",
       "    .dataframe tbody tr th {\n",
       "        vertical-align: top;\n",
       "    }\n",
       "\n",
       "    .dataframe thead th {\n",
       "        text-align: right;\n",
       "    }\n",
       "</style>\n",
       "<table border=\"1\" class=\"dataframe\">\n",
       "  <thead>\n",
       "    <tr style=\"text-align: right;\">\n",
       "      <th></th>\n",
       "      <th>Age</th>\n",
       "      <th>Survived</th>\n",
       "      <th>Died</th>\n",
       "    </tr>\n",
       "  </thead>\n",
       "  <tbody>\n",
       "    <tr>\n",
       "      <th>31</th>\n",
       "      <td>24.0</td>\n",
       "      <td>31</td>\n",
       "      <td>21</td>\n",
       "    </tr>\n",
       "    <tr>\n",
       "      <th>28</th>\n",
       "      <td>22.0</td>\n",
       "      <td>24</td>\n",
       "      <td>18</td>\n",
       "    </tr>\n",
       "    <tr>\n",
       "      <th>39</th>\n",
       "      <td>30.0</td>\n",
       "      <td>24</td>\n",
       "      <td>18</td>\n",
       "    </tr>\n",
       "    <tr>\n",
       "      <th>24</th>\n",
       "      <td>19.0</td>\n",
       "      <td>30</td>\n",
       "      <td>15</td>\n",
       "    </tr>\n",
       "    <tr>\n",
       "      <th>27</th>\n",
       "      <td>21.0</td>\n",
       "      <td>28</td>\n",
       "      <td>14</td>\n",
       "    </tr>\n",
       "    <tr>\n",
       "      <th>23</th>\n",
       "      <td>18.0</td>\n",
       "      <td>36</td>\n",
       "      <td>13</td>\n",
       "    </tr>\n",
       "    <tr>\n",
       "      <th>36</th>\n",
       "      <td>28.0</td>\n",
       "      <td>29</td>\n",
       "      <td>12</td>\n",
       "    </tr>\n",
       "    <tr>\n",
       "      <th>48</th>\n",
       "      <td>36.0</td>\n",
       "      <td>29</td>\n",
       "      <td>12</td>\n",
       "    </tr>\n",
       "    <tr>\n",
       "      <th>38</th>\n",
       "      <td>29.0</td>\n",
       "      <td>21</td>\n",
       "      <td>11</td>\n",
       "    </tr>\n",
       "    <tr>\n",
       "      <th>35</th>\n",
       "      <td>27.0</td>\n",
       "      <td>7</td>\n",
       "      <td>11</td>\n",
       "    </tr>\n",
       "  </tbody>\n",
       "</table>\n",
       "</div>"
      ],
      "text/plain": [
       "     Age  Survived  Died\n",
       "31  24.0        31    21\n",
       "28  22.0        24    18\n",
       "39  30.0        24    18\n",
       "24  19.0        30    15\n",
       "27  21.0        28    14\n",
       "23  18.0        36    13\n",
       "36  28.0        29    12\n",
       "48  36.0        29    12\n",
       "38  29.0        21    11\n",
       "35  27.0         7    11"
      ]
     },
     "execution_count": 36,
     "metadata": {},
     "output_type": "execute_result"
    }
   ],
   "source": [
    "tester = train_data.copy()\n",
    "tester[['Survived', 'Died']] = pd.get_dummies(tester['Survived'])\n",
    "age_sur = tester[['Age', 'Survived', 'Died']].groupby('Age').sum()\n",
    "age_sur.reset_index(inplace=True)\n",
    "age_sur.sort_values(by=['Died', 'Survived'], ascending=False, inplace=True)\n",
    "age_sur.head(10)"
   ]
  },
  {
   "cell_type": "markdown",
   "id": "b0891a02",
   "metadata": {
    "papermill": {
     "duration": 0.105241,
     "end_time": "2022-01-12T23:22:05.751615",
     "exception": false,
     "start_time": "2022-01-12T23:22:05.646374",
     "status": "completed"
    },
    "tags": []
   },
   "source": [
    "Young age are the most people died, specially `Age` of **24**, maybe this has been effected by filling the missing value!"
   ]
  },
  {
   "cell_type": "markdown",
   "id": "9a917854",
   "metadata": {
    "papermill": {
     "duration": 0.104469,
     "end_time": "2022-01-12T23:22:05.958567",
     "exception": false,
     "start_time": "2022-01-12T23:22:05.854098",
     "status": "completed"
    },
    "tags": []
   },
   "source": [
    "Let's check if there's any correlation between the `Age` and `Fare`"
   ]
  },
  {
   "cell_type": "code",
   "execution_count": 37,
   "id": "493a3829",
   "metadata": {
    "execution": {
     "iopub.execute_input": "2022-01-12T23:22:06.173893Z",
     "iopub.status.busy": "2022-01-12T23:22:06.172794Z",
     "iopub.status.idle": "2022-01-12T23:22:06.698859Z",
     "shell.execute_reply": "2022-01-12T23:22:06.699488Z",
     "shell.execute_reply.started": "2022-01-12T22:06:35.999789Z"
    },
    "papermill": {
     "duration": 0.635865,
     "end_time": "2022-01-12T23:22:06.699678",
     "exception": false,
     "start_time": "2022-01-12T23:22:06.063813",
     "status": "completed"
    },
    "tags": []
   },
   "outputs": [
    {
     "data": {
      "image/png": "[encoded data removed]",
      "text/plain": [
       "<Figure size 1296x720 with 1 Axes>"
      ]
     },
     "metadata": {
      "needs_background": "light"
     },
     "output_type": "display_data"
    }
   ],
   "source": [
    "plt.figure(figsize=(18,10))\n",
    "sns.regplot(x='Age', y='Fare', data=train_data)\n",
    "plt.show()"
   ]
  },
  {
   "cell_type": "markdown",
   "id": "49f9a229",
   "metadata": {
    "papermill": {
     "duration": 0.104799,
     "end_time": "2022-01-12T23:22:06.907135",
     "exception": false,
     "start_time": "2022-01-12T23:22:06.802336",
     "status": "completed"
    },
    "tags": []
   },
   "source": [
    "As we can see, `Age` and `Fare` have **Weak Linear Correlation**, which means; I can't apply feature cross on them even if I want."
   ]
  },
  {
   "cell_type": "markdown",
   "id": "a62b99b5",
   "metadata": {
    "papermill": {
     "duration": 0.104853,
     "end_time": "2022-01-12T23:22:07.117113",
     "exception": false,
     "start_time": "2022-01-12T23:22:07.012260",
     "status": "completed"
    },
    "tags": []
   },
   "source": [
    "<span style='color:CornflowerBlue;font-size:16px'>Feature 06: Sex & Title</span>"
   ]
  },
  {
   "cell_type": "markdown",
   "id": "abe41e81",
   "metadata": {
    "papermill": {
     "duration": 0.102659,
     "end_time": "2022-01-12T23:22:07.324180",
     "exception": false,
     "start_time": "2022-01-12T23:22:07.221521",
     "status": "completed"
    },
    "tags": []
   },
   "source": [
    "We need to check the `Title` with the `Sex` to see if our FE works well"
   ]
  },
  {
   "cell_type": "code",
   "execution_count": 38,
   "id": "b8cd4352",
   "metadata": {
    "execution": {
     "iopub.execute_input": "2022-01-12T23:22:07.535218Z",
     "iopub.status.busy": "2022-01-12T23:22:07.534142Z",
     "iopub.status.idle": "2022-01-12T23:22:07.756682Z",
     "shell.execute_reply": "2022-01-12T23:22:07.757283Z",
     "shell.execute_reply.started": "2022-01-12T22:06:36.528928Z"
    },
    "papermill": {
     "duration": 0.329431,
     "end_time": "2022-01-12T23:22:07.757462",
     "exception": false,
     "start_time": "2022-01-12T23:22:07.428031",
     "status": "completed"
    },
    "tags": []
   },
   "outputs": [
    {
     "data": {
      "text/plain": [
       "<Figure size 1296x720 with 0 Axes>"
      ]
     },
     "metadata": {},
     "output_type": "display_data"
    },
    {
     "data": {
      "image/png": "[encoded data removed]",
      "text/plain": [
       "<Figure size 360x360 with 1 Axes>"
      ]
     },
     "metadata": {
      "needs_background": "light"
     },
     "output_type": "display_data"
    }
   ],
   "source": [
    "plt.figure(figsize=(18,10))\n",
    "sns.catplot(x='Sex', y='Title', data=train_data)\n",
    "plt.show()"
   ]
  },
  {
   "cell_type": "markdown",
   "id": "554a97de",
   "metadata": {
    "papermill": {
     "duration": 0.105334,
     "end_time": "2022-01-12T23:22:07.966753",
     "exception": false,
     "start_time": "2022-01-12T23:22:07.861419",
     "status": "completed"
    },
    "tags": []
   },
   "source": [
    "Now, Let's clear our dataset from any useless features and prepare the dataset for our next phase which is **Train & Test Split**."
   ]
  },
  {
   "cell_type": "code",
   "execution_count": 39,
   "id": "6a46a1a4",
   "metadata": {
    "execution": {
     "iopub.execute_input": "2022-01-12T23:22:08.179557Z",
     "iopub.status.busy": "2022-01-12T23:22:08.178483Z",
     "iopub.status.idle": "2022-01-12T23:22:08.183896Z",
     "shell.execute_reply": "2022-01-12T23:22:08.184459Z",
     "shell.execute_reply.started": "2022-01-12T22:06:36.748395Z"
    },
    "papermill": {
     "duration": 0.114835,
     "end_time": "2022-01-12T23:22:08.184658",
     "exception": false,
     "start_time": "2022-01-12T23:22:08.069823",
     "status": "completed"
    },
    "tags": []
   },
   "outputs": [],
   "source": [
    "train_data.drop(columns=['Name', 'Ticket', 'PassengerId'], inplace=True)"
   ]
  },
  {
   "cell_type": "markdown",
   "id": "d21f11c7",
   "metadata": {
    "papermill": {
     "duration": 0.105016,
     "end_time": "2022-01-12T23:22:08.393464",
     "exception": false,
     "start_time": "2022-01-12T23:22:08.288448",
     "status": "completed"
    },
    "tags": []
   },
   "source": [
    "For formatting purposes – we want to shift our `Survive` Label to the end of the table. Also, we need to add each Feature corresponding to its correlations. For the sake of curiosity, let's check the correlation between the new features and the old ones after deleting unnecessary features"
   ]
  },
  {
   "cell_type": "code",
   "execution_count": 40,
   "id": "8ff18c2a",
   "metadata": {
    "execution": {
     "iopub.execute_input": "2022-01-12T23:22:08.629535Z",
     "iopub.status.busy": "2022-01-12T23:22:08.609171Z",
     "iopub.status.idle": "2022-01-12T23:22:08.633098Z",
     "shell.execute_reply": "2022-01-12T23:22:08.632564Z",
     "shell.execute_reply.started": "2022-01-12T22:06:36.756049Z"
    },
    "papermill": {
     "duration": 0.133605,
     "end_time": "2022-01-12T23:22:08.633258",
     "exception": false,
     "start_time": "2022-01-12T23:22:08.499653",
     "status": "completed"
    },
    "tags": []
   },
   "outputs": [
    {
     "data": {
      "text/html": [
       "<div>\n",
       "<style scoped>\n",
       "    .dataframe tbody tr th:only-of-type {\n",
       "        vertical-align: middle;\n",
       "    }\n",
       "\n",
       "    .dataframe tbody tr th {\n",
       "        vertical-align: top;\n",
       "    }\n",
       "\n",
       "    .dataframe thead th {\n",
       "        text-align: right;\n",
       "    }\n",
       "</style>\n",
       "<table border=\"1\" class=\"dataframe\">\n",
       "  <thead>\n",
       "    <tr style=\"text-align: right;\">\n",
       "      <th></th>\n",
       "      <th>Title</th>\n",
       "      <th>Sex</th>\n",
       "      <th>Age</th>\n",
       "      <th>SibSp</th>\n",
       "      <th>Parch</th>\n",
       "      <th>Family_size</th>\n",
       "      <th>Pclass</th>\n",
       "      <th>Fare</th>\n",
       "      <th>Deck</th>\n",
       "      <th>Embarked</th>\n",
       "      <th>Survived</th>\n",
       "    </tr>\n",
       "  </thead>\n",
       "  <tbody>\n",
       "    <tr>\n",
       "      <th>0</th>\n",
       "      <td>Mr</td>\n",
       "      <td>male</td>\n",
       "      <td>22.0</td>\n",
       "      <td>1</td>\n",
       "      <td>0</td>\n",
       "      <td>1</td>\n",
       "      <td>3</td>\n",
       "      <td>7.2500</td>\n",
       "      <td>Untitled</td>\n",
       "      <td>S</td>\n",
       "      <td>0</td>\n",
       "    </tr>\n",
       "    <tr>\n",
       "      <th>1</th>\n",
       "      <td>Mrs</td>\n",
       "      <td>female</td>\n",
       "      <td>38.0</td>\n",
       "      <td>1</td>\n",
       "      <td>0</td>\n",
       "      <td>1</td>\n",
       "      <td>1</td>\n",
       "      <td>71.2833</td>\n",
       "      <td>C</td>\n",
       "      <td>C</td>\n",
       "      <td>1</td>\n",
       "    </tr>\n",
       "    <tr>\n",
       "      <th>2</th>\n",
       "      <td>Miss</td>\n",
       "      <td>female</td>\n",
       "      <td>26.0</td>\n",
       "      <td>0</td>\n",
       "      <td>0</td>\n",
       "      <td>0</td>\n",
       "      <td>3</td>\n",
       "      <td>7.9250</td>\n",
       "      <td>Untitled</td>\n",
       "      <td>S</td>\n",
       "      <td>1</td>\n",
       "    </tr>\n",
       "    <tr>\n",
       "      <th>3</th>\n",
       "      <td>Mrs</td>\n",
       "      <td>female</td>\n",
       "      <td>35.0</td>\n",
       "      <td>1</td>\n",
       "      <td>0</td>\n",
       "      <td>1</td>\n",
       "      <td>1</td>\n",
       "      <td>53.1000</td>\n",
       "      <td>C</td>\n",
       "      <td>S</td>\n",
       "      <td>1</td>\n",
       "    </tr>\n",
       "    <tr>\n",
       "      <th>4</th>\n",
       "      <td>Mr</td>\n",
       "      <td>male</td>\n",
       "      <td>35.0</td>\n",
       "      <td>0</td>\n",
       "      <td>0</td>\n",
       "      <td>0</td>\n",
       "      <td>3</td>\n",
       "      <td>8.0500</td>\n",
       "      <td>Untitled</td>\n",
       "      <td>S</td>\n",
       "      <td>0</td>\n",
       "    </tr>\n",
       "    <tr>\n",
       "      <th>...</th>\n",
       "      <td>...</td>\n",
       "      <td>...</td>\n",
       "      <td>...</td>\n",
       "      <td>...</td>\n",
       "      <td>...</td>\n",
       "      <td>...</td>\n",
       "      <td>...</td>\n",
       "      <td>...</td>\n",
       "      <td>...</td>\n",
       "      <td>...</td>\n",
       "      <td>...</td>\n",
       "    </tr>\n",
       "    <tr>\n",
       "      <th>886</th>\n",
       "      <td>Mr</td>\n",
       "      <td>male</td>\n",
       "      <td>27.0</td>\n",
       "      <td>0</td>\n",
       "      <td>0</td>\n",
       "      <td>0</td>\n",
       "      <td>2</td>\n",
       "      <td>13.0000</td>\n",
       "      <td>Untitled</td>\n",
       "      <td>S</td>\n",
       "      <td>0</td>\n",
       "    </tr>\n",
       "    <tr>\n",
       "      <th>887</th>\n",
       "      <td>Miss</td>\n",
       "      <td>female</td>\n",
       "      <td>19.0</td>\n",
       "      <td>0</td>\n",
       "      <td>0</td>\n",
       "      <td>0</td>\n",
       "      <td>1</td>\n",
       "      <td>30.0000</td>\n",
       "      <td>B</td>\n",
       "      <td>S</td>\n",
       "      <td>1</td>\n",
       "    </tr>\n",
       "    <tr>\n",
       "      <th>888</th>\n",
       "      <td>Miss</td>\n",
       "      <td>female</td>\n",
       "      <td>19.0</td>\n",
       "      <td>1</td>\n",
       "      <td>2</td>\n",
       "      <td>3</td>\n",
       "      <td>3</td>\n",
       "      <td>23.4500</td>\n",
       "      <td>Untitled</td>\n",
       "      <td>S</td>\n",
       "      <td>0</td>\n",
       "    </tr>\n",
       "    <tr>\n",
       "      <th>889</th>\n",
       "      <td>Mr</td>\n",
       "      <td>male</td>\n",
       "      <td>26.0</td>\n",
       "      <td>0</td>\n",
       "      <td>0</td>\n",
       "      <td>0</td>\n",
       "      <td>1</td>\n",
       "      <td>30.0000</td>\n",
       "      <td>C</td>\n",
       "      <td>C</td>\n",
       "      <td>1</td>\n",
       "    </tr>\n",
       "    <tr>\n",
       "      <th>890</th>\n",
       "      <td>Mr</td>\n",
       "      <td>male</td>\n",
       "      <td>32.0</td>\n",
       "      <td>0</td>\n",
       "      <td>0</td>\n",
       "      <td>0</td>\n",
       "      <td>3</td>\n",
       "      <td>7.7500</td>\n",
       "      <td>Untitled</td>\n",
       "      <td>Q</td>\n",
       "      <td>0</td>\n",
       "    </tr>\n",
       "  </tbody>\n",
       "</table>\n",
       "<p>891 rows × 11 columns</p>\n",
       "</div>"
      ],
      "text/plain": [
       "    Title     Sex   Age  SibSp  Parch  Family_size  Pclass     Fare      Deck  \\\n",
       "0      Mr    male  22.0      1      0            1       3   7.2500  Untitled   \n",
       "1     Mrs  female  38.0      1      0            1       1  71.2833         C   \n",
       "2    Miss  female  26.0      0      0            0       3   7.9250  Untitled   \n",
       "3     Mrs  female  35.0      1      0            1       1  53.1000         C   \n",
       "4      Mr    male  35.0      0      0            0       3   8.0500  Untitled   \n",
       "..    ...     ...   ...    ...    ...          ...     ...      ...       ...   \n",
       "886    Mr    male  27.0      0      0            0       2  13.0000  Untitled   \n",
       "887  Miss  female  19.0      0      0            0       1  30.0000         B   \n",
       "888  Miss  female  19.0      1      2            3       3  23.4500  Untitled   \n",
       "889    Mr    male  26.0      0      0            0       1  30.0000         C   \n",
       "890    Mr    male  32.0      0      0            0       3   7.7500  Untitled   \n",
       "\n",
       "    Embarked  Survived  \n",
       "0          S         0  \n",
       "1          C         1  \n",
       "2          S         1  \n",
       "3          S         1  \n",
       "4          S         0  \n",
       "..       ...       ...  \n",
       "886        S         0  \n",
       "887        S         1  \n",
       "888        S         0  \n",
       "889        C         1  \n",
       "890        Q         0  \n",
       "\n",
       "[891 rows x 11 columns]"
      ]
     },
     "execution_count": 40,
     "metadata": {},
     "output_type": "execute_result"
    }
   ],
   "source": [
    "COLUMNS = ['Title', 'Sex', 'Age', 'SibSp', 'Parch', 'Family_size', 'Pclass',\n",
    "           'Fare', 'Deck', 'Embarked', 'Survived']\n",
    "train_data = train_data[COLUMNS]\n",
    "train_data"
   ]
  },
  {
   "cell_type": "code",
   "execution_count": 41,
   "id": "55f507eb",
   "metadata": {
    "execution": {
     "iopub.execute_input": "2022-01-12T23:22:08.852368Z",
     "iopub.status.busy": "2022-01-12T23:22:08.851173Z",
     "iopub.status.idle": "2022-01-12T23:22:09.348098Z",
     "shell.execute_reply": "2022-01-12T23:22:09.348650Z",
     "shell.execute_reply.started": "2022-01-12T22:06:36.796857Z"
    },
    "papermill": {
     "duration": 0.611835,
     "end_time": "2022-01-12T23:22:09.348834",
     "exception": false,
     "start_time": "2022-01-12T23:22:08.736999",
     "status": "completed"
    },
    "tags": []
   },
   "outputs": [
    {
     "data": {
      "image/png": "[encoded data removed]",
      "text/plain": [
       "<Figure size 1296x720 with 2 Axes>"
      ]
     },
     "metadata": {
      "needs_background": "light"
     },
     "output_type": "display_data"
    }
   ],
   "source": [
    "plt.figure(figsize=(18,10))\n",
    "sns.heatmap(train_data.corr(), cmap='Blues', annot=True)\n",
    "plt.show()"
   ]
  },
  {
   "cell_type": "markdown",
   "id": "1f565df9",
   "metadata": {
    "papermill": {
     "duration": 0.107322,
     "end_time": "2022-01-12T23:22:09.567157",
     "exception": false,
     "start_time": "2022-01-12T23:22:09.459835",
     "status": "completed"
    },
    "tags": []
   },
   "source": [
    "The Correlation after **Feature Engineering** is efficient!"
   ]
  },
  {
   "cell_type": "markdown",
   "id": "abd22759",
   "metadata": {
    "papermill": {
     "duration": 0.106143,
     "end_time": "2022-01-12T23:22:09.780581",
     "exception": false,
     "start_time": "2022-01-12T23:22:09.674438",
     "status": "completed"
    },
    "tags": []
   },
   "source": [
    "### 2. Train & Test Split"
   ]
  },
  {
   "cell_type": "markdown",
   "id": "68c6f827",
   "metadata": {
    "papermill": {
     "duration": 0.107304,
     "end_time": "2022-01-12T23:22:09.994234",
     "exception": false,
     "start_time": "2022-01-12T23:22:09.886930",
     "status": "completed"
    },
    "tags": []
   },
   "source": [
    "Let's split our train dataset into a train, and test datasets [75, 25]."
   ]
  },
  {
   "cell_type": "code",
   "execution_count": 42,
   "id": "32615fd9",
   "metadata": {
    "execution": {
     "iopub.execute_input": "2022-01-12T23:22:10.231030Z",
     "iopub.status.busy": "2022-01-12T23:22:10.230097Z",
     "iopub.status.idle": "2022-01-12T23:22:10.233662Z",
     "shell.execute_reply": "2022-01-12T23:22:10.234163Z",
     "shell.execute_reply.started": "2022-01-12T22:06:37.301795Z"
    },
    "papermill": {
     "duration": 0.13445,
     "end_time": "2022-01-12T23:22:10.234333",
     "exception": false,
     "start_time": "2022-01-12T23:22:10.099883",
     "status": "completed"
    },
    "tags": []
   },
   "outputs": [
    {
     "data": {
      "text/html": [
       "<div>\n",
       "<style scoped>\n",
       "    .dataframe tbody tr th:only-of-type {\n",
       "        vertical-align: middle;\n",
       "    }\n",
       "\n",
       "    .dataframe tbody tr th {\n",
       "        vertical-align: top;\n",
       "    }\n",
       "\n",
       "    .dataframe thead th {\n",
       "        text-align: right;\n",
       "    }\n",
       "</style>\n",
       "<table border=\"1\" class=\"dataframe\">\n",
       "  <thead>\n",
       "    <tr style=\"text-align: right;\">\n",
       "      <th></th>\n",
       "      <th>Title</th>\n",
       "      <th>Sex</th>\n",
       "      <th>Age</th>\n",
       "      <th>SibSp</th>\n",
       "      <th>Parch</th>\n",
       "      <th>Family_size</th>\n",
       "      <th>Pclass</th>\n",
       "      <th>Fare</th>\n",
       "      <th>Deck</th>\n",
       "      <th>Embarked</th>\n",
       "    </tr>\n",
       "  </thead>\n",
       "  <tbody>\n",
       "    <tr>\n",
       "      <th>0</th>\n",
       "      <td>Mr</td>\n",
       "      <td>male</td>\n",
       "      <td>22.0</td>\n",
       "      <td>1</td>\n",
       "      <td>0</td>\n",
       "      <td>1</td>\n",
       "      <td>3</td>\n",
       "      <td>7.2500</td>\n",
       "      <td>Untitled</td>\n",
       "      <td>S</td>\n",
       "    </tr>\n",
       "    <tr>\n",
       "      <th>1</th>\n",
       "      <td>Mrs</td>\n",
       "      <td>female</td>\n",
       "      <td>38.0</td>\n",
       "      <td>1</td>\n",
       "      <td>0</td>\n",
       "      <td>1</td>\n",
       "      <td>1</td>\n",
       "      <td>71.2833</td>\n",
       "      <td>C</td>\n",
       "      <td>C</td>\n",
       "    </tr>\n",
       "    <tr>\n",
       "      <th>2</th>\n",
       "      <td>Miss</td>\n",
       "      <td>female</td>\n",
       "      <td>26.0</td>\n",
       "      <td>0</td>\n",
       "      <td>0</td>\n",
       "      <td>0</td>\n",
       "      <td>3</td>\n",
       "      <td>7.9250</td>\n",
       "      <td>Untitled</td>\n",
       "      <td>S</td>\n",
       "    </tr>\n",
       "    <tr>\n",
       "      <th>3</th>\n",
       "      <td>Mrs</td>\n",
       "      <td>female</td>\n",
       "      <td>35.0</td>\n",
       "      <td>1</td>\n",
       "      <td>0</td>\n",
       "      <td>1</td>\n",
       "      <td>1</td>\n",
       "      <td>53.1000</td>\n",
       "      <td>C</td>\n",
       "      <td>S</td>\n",
       "    </tr>\n",
       "    <tr>\n",
       "      <th>4</th>\n",
       "      <td>Mr</td>\n",
       "      <td>male</td>\n",
       "      <td>35.0</td>\n",
       "      <td>0</td>\n",
       "      <td>0</td>\n",
       "      <td>0</td>\n",
       "      <td>3</td>\n",
       "      <td>8.0500</td>\n",
       "      <td>Untitled</td>\n",
       "      <td>S</td>\n",
       "    </tr>\n",
       "    <tr>\n",
       "      <th>...</th>\n",
       "      <td>...</td>\n",
       "      <td>...</td>\n",
       "      <td>...</td>\n",
       "      <td>...</td>\n",
       "      <td>...</td>\n",
       "      <td>...</td>\n",
       "      <td>...</td>\n",
       "      <td>...</td>\n",
       "      <td>...</td>\n",
       "      <td>...</td>\n",
       "    </tr>\n",
       "    <tr>\n",
       "      <th>886</th>\n",
       "      <td>Mr</td>\n",
       "      <td>male</td>\n",
       "      <td>27.0</td>\n",
       "      <td>0</td>\n",
       "      <td>0</td>\n",
       "      <td>0</td>\n",
       "      <td>2</td>\n",
       "      <td>13.0000</td>\n",
       "      <td>Untitled</td>\n",
       "      <td>S</td>\n",
       "    </tr>\n",
       "    <tr>\n",
       "      <th>887</th>\n",
       "      <td>Miss</td>\n",
       "      <td>female</td>\n",
       "      <td>19.0</td>\n",
       "      <td>0</td>\n",
       "      <td>0</td>\n",
       "      <td>0</td>\n",
       "      <td>1</td>\n",
       "      <td>30.0000</td>\n",
       "      <td>B</td>\n",
       "      <td>S</td>\n",
       "    </tr>\n",
       "    <tr>\n",
       "      <th>888</th>\n",
       "      <td>Miss</td>\n",
       "      <td>female</td>\n",
       "      <td>19.0</td>\n",
       "      <td>1</td>\n",
       "      <td>2</td>\n",
       "      <td>3</td>\n",
       "      <td>3</td>\n",
       "      <td>23.4500</td>\n",
       "      <td>Untitled</td>\n",
       "      <td>S</td>\n",
       "    </tr>\n",
       "    <tr>\n",
       "      <th>889</th>\n",
       "      <td>Mr</td>\n",
       "      <td>male</td>\n",
       "      <td>26.0</td>\n",
       "      <td>0</td>\n",
       "      <td>0</td>\n",
       "      <td>0</td>\n",
       "      <td>1</td>\n",
       "      <td>30.0000</td>\n",
       "      <td>C</td>\n",
       "      <td>C</td>\n",
       "    </tr>\n",
       "    <tr>\n",
       "      <th>890</th>\n",
       "      <td>Mr</td>\n",
       "      <td>male</td>\n",
       "      <td>32.0</td>\n",
       "      <td>0</td>\n",
       "      <td>0</td>\n",
       "      <td>0</td>\n",
       "      <td>3</td>\n",
       "      <td>7.7500</td>\n",
       "      <td>Untitled</td>\n",
       "      <td>Q</td>\n",
       "    </tr>\n",
       "  </tbody>\n",
       "</table>\n",
       "<p>891 rows × 10 columns</p>\n",
       "</div>"
      ],
      "text/plain": [
       "    Title     Sex   Age  SibSp  Parch  Family_size  Pclass     Fare      Deck  \\\n",
       "0      Mr    male  22.0      1      0            1       3   7.2500  Untitled   \n",
       "1     Mrs  female  38.0      1      0            1       1  71.2833         C   \n",
       "2    Miss  female  26.0      0      0            0       3   7.9250  Untitled   \n",
       "3     Mrs  female  35.0      1      0            1       1  53.1000         C   \n",
       "4      Mr    male  35.0      0      0            0       3   8.0500  Untitled   \n",
       "..    ...     ...   ...    ...    ...          ...     ...      ...       ...   \n",
       "886    Mr    male  27.0      0      0            0       2  13.0000  Untitled   \n",
       "887  Miss  female  19.0      0      0            0       1  30.0000         B   \n",
       "888  Miss  female  19.0      1      2            3       3  23.4500  Untitled   \n",
       "889    Mr    male  26.0      0      0            0       1  30.0000         C   \n",
       "890    Mr    male  32.0      0      0            0       3   7.7500  Untitled   \n",
       "\n",
       "    Embarked  \n",
       "0          S  \n",
       "1          C  \n",
       "2          S  \n",
       "3          S  \n",
       "4          S  \n",
       "..       ...  \n",
       "886        S  \n",
       "887        S  \n",
       "888        S  \n",
       "889        C  \n",
       "890        Q  \n",
       "\n",
       "[891 rows x 10 columns]"
      ]
     },
     "execution_count": 42,
     "metadata": {},
     "output_type": "execute_result"
    }
   ],
   "source": [
    "y_label = train_data['Survived']\n",
    "X_features = train_data.iloc[:,:-1]\n",
    "X_features"
   ]
  },
  {
   "cell_type": "code",
   "execution_count": 43,
   "id": "f39dfda5",
   "metadata": {
    "execution": {
     "iopub.execute_input": "2022-01-12T23:22:10.458243Z",
     "iopub.status.busy": "2022-01-12T23:22:10.457192Z",
     "iopub.status.idle": "2022-01-12T23:22:10.468251Z",
     "shell.execute_reply": "2022-01-12T23:22:10.467522Z",
     "shell.execute_reply.started": "2022-01-12T22:06:37.326720Z"
    },
    "papermill": {
     "duration": 0.12414,
     "end_time": "2022-01-12T23:22:10.468408",
     "exception": false,
     "start_time": "2022-01-12T23:22:10.344268",
     "status": "completed"
    },
    "tags": []
   },
   "outputs": [],
   "source": [
    "folds = 4\n",
    "X_train, X_test, y_train, y_test = train_test_split(X_features,\n",
    "                                                    y_label,\n",
    "                                                    test_size=(1/folds),\n",
    "                                                    random_state=42,\n",
    "                                                    stratify=y_label)"
   ]
  },
  {
   "cell_type": "markdown",
   "id": "dfd8cfc4",
   "metadata": {
    "papermill": {
     "duration": 0.106217,
     "end_time": "2022-01-12T23:22:10.681483",
     "exception": false,
     "start_time": "2022-01-12T23:22:10.575266",
     "status": "completed"
    },
    "tags": []
   },
   "source": [
    "One of the critical things I read that written by *Prof. Andrew Neg* in his book **Machine Learning Yearning** – the proportion between your train, dev, and test data has to be on the same line of the distribution, you can't have a different proportion between your train, and test data and you expect to give you high accuracy.\n",
    "\n",
    "`stratify` parameter in `train_test_split` accomplish that goal for you. When it splits the label, it will make sure that the proportion of the training label is similar to the proportion of the testing label."
   ]
  },
  {
   "cell_type": "markdown",
   "id": "13092f41",
   "metadata": {
    "papermill": {
     "duration": 0.106166,
     "end_time": "2022-01-12T23:22:10.895295",
     "exception": false,
     "start_time": "2022-01-12T23:22:10.789129",
     "status": "completed"
    },
    "tags": []
   },
   "source": [
    "But we still can face the problem of overfitting..but how!? We're going to face the problem of overfitting because we split our data, randomly. We need to ensure that even if we sent weak hyperparameter to our probabilistic models, it wouldn't go throw overfitting because of <u>skew distribution</u>.\n",
    "\n",
    "Therefore, I always prefer to add a procedure called **[cross-validation](https://en.wikipedia.org/wiki/Cross-validation_(statistics))**"
   ]
  },
  {
   "cell_type": "markdown",
   "id": "218ae471",
   "metadata": {
    "papermill": {
     "duration": 0.108956,
     "end_time": "2022-01-12T23:22:11.114205",
     "exception": false,
     "start_time": "2022-01-12T23:22:11.005249",
     "status": "completed"
    },
    "tags": []
   },
   "source": [
    "  "
   ]
  },
  {
   "cell_type": "markdown",
   "id": "8fb8620c",
   "metadata": {
    "papermill": {
     "duration": 0.106915,
     "end_time": "2022-01-12T23:22:11.329896",
     "exception": false,
     "start_time": "2022-01-12T23:22:11.222981",
     "status": "completed"
    },
    "tags": []
   },
   "source": [
    "### 3. Algorithm Setup"
   ]
  },
  {
   "cell_type": "markdown",
   "id": "1d2d00e3",
   "metadata": {
    "papermill": {
     "duration": 0.110233,
     "end_time": "2022-01-12T23:22:11.547099",
     "exception": false,
     "start_time": "2022-01-12T23:22:11.436866",
     "status": "completed"
    },
    "tags": []
   },
   "source": [
    "Since this project is all about classification, we're going to set up the best probabilistic models that can help us to predict the highest accuracy we can obtain.\n",
    "\n",
    "But first, we want to make sure that our datasets have transformed & normalized, correctly. So, we're going to build a transformed pipeline to add our features into it.Since this project is all about classification, we're going to set up the best probabilistic models that can help us to predict the highest accuracy we can obtain.\n",
    "\n",
    "But first, we want to make sure that our datasets have transformed & normalized, correctly. So, we're going to build a transformed pipeline to add our features into it."
   ]
  },
  {
   "cell_type": "code",
   "execution_count": 44,
   "id": "7e3bb0c4",
   "metadata": {
    "execution": {
     "iopub.execute_input": "2022-01-12T23:22:11.768515Z",
     "iopub.status.busy": "2022-01-12T23:22:11.764521Z",
     "iopub.status.idle": "2022-01-12T23:22:11.984987Z",
     "shell.execute_reply": "2022-01-12T23:22:11.984250Z",
     "shell.execute_reply.started": "2022-01-12T22:06:37.342267Z"
    },
    "papermill": {
     "duration": 0.331094,
     "end_time": "2022-01-12T23:22:11.985154",
     "exception": false,
     "start_time": "2022-01-12T23:22:11.654060",
     "status": "completed"
    },
    "tags": []
   },
   "outputs": [],
   "source": [
    "from sklearn.compose import make_column_transformer\n",
    "from sklearn.preprocessing import (StandardScaler, OneHotEncoder)\n",
    "from sklearn.base import BaseEstimator\n",
    "from sklearn.model_selection import KFold\n",
    "from sklearn.pipeline import Pipeline\n",
    "from sklearn.tree import DecisionTreeClassifier\n",
    "from sklearn.ensemble import RandomForestClassifier, ExtraTreesClassifier\n",
    "from sklearn.svm import SVC\n",
    "from sklearn.linear_model import LogisticRegression\n",
    "from sklearn.model_selection import GridSearchCV\n",
    "from sklearn.metrics import confusion_matrix, ConfusionMatrixDisplay\n",
    "from sklearn.metrics import f1_score"
   ]
  },
  {
   "cell_type": "markdown",
   "id": "ce0720df",
   "metadata": {
    "papermill": {
     "duration": 0.109552,
     "end_time": "2022-01-12T23:22:12.206644",
     "exception": false,
     "start_time": "2022-01-12T23:22:12.097092",
     "status": "completed"
    },
    "tags": []
   },
   "source": [
    "First, we're going to start with building the transformers pipeline"
   ]
  },
  {
   "cell_type": "code",
   "execution_count": 45,
   "id": "6f81c165",
   "metadata": {
    "execution": {
     "iopub.execute_input": "2022-01-12T23:22:12.430532Z",
     "iopub.status.busy": "2022-01-12T23:22:12.429801Z",
     "iopub.status.idle": "2022-01-12T23:22:12.432867Z",
     "shell.execute_reply": "2022-01-12T23:22:12.433324Z",
     "shell.execute_reply.started": "2022-01-12T22:06:37.550910Z"
    },
    "papermill": {
     "duration": 0.115665,
     "end_time": "2022-01-12T23:22:12.433500",
     "exception": false,
     "start_time": "2022-01-12T23:22:12.317835",
     "status": "completed"
    },
    "tags": []
   },
   "outputs": [],
   "source": [
    "NUMERICAL_COLUMNS = [\"Age\", \"SibSp\", \"Parch\", \"Family_size\", \"Fare\"]\n",
    "CATEGORICAL_COLUMNS = [\"Title\", \"Sex\", \"Pclass\", \"Deck\", \"Embarked\"]"
   ]
  },
  {
   "cell_type": "code",
   "execution_count": 46,
   "id": "9387be34",
   "metadata": {
    "execution": {
     "iopub.execute_input": "2022-01-12T23:22:12.659482Z",
     "iopub.status.busy": "2022-01-12T23:22:12.658772Z",
     "iopub.status.idle": "2022-01-12T23:22:12.660553Z",
     "shell.execute_reply": "2022-01-12T23:22:12.661080Z",
     "shell.execute_reply.started": "2022-01-12T22:06:37.557715Z"
    },
    "papermill": {
     "duration": 0.116717,
     "end_time": "2022-01-12T23:22:12.661264",
     "exception": false,
     "start_time": "2022-01-12T23:22:12.544547",
     "status": "completed"
    },
    "tags": []
   },
   "outputs": [],
   "source": [
    "transformers = make_column_transformer(\n",
    "                                       (StandardScaler(), NUMERICAL_COLUMNS),\n",
    "                                       (OneHotEncoder(handle_unknown='ignore'),\n",
    "                                                      CATEGORICAL_COLUMNS))"
   ]
  },
  {
   "cell_type": "markdown",
   "id": "ed922a80",
   "metadata": {
    "papermill": {
     "duration": 0.109697,
     "end_time": "2022-01-12T23:22:12.878105",
     "exception": false,
     "start_time": "2022-01-12T23:22:12.768408",
     "status": "completed"
    },
    "tags": []
   },
   "source": [
    "Then, we're going to the Models' pipeline. If you want to have multiple models in one pipeline, we can do that by building a [custom estimator](https://stackoverflow.com/questions/48507651/multiple-classification-models-in-a-scikit-pipeline-python#:~:text=consider%20checking%20out%20similar%20questions%20here%3A)."
   ]
  },
  {
   "cell_type": "code",
   "execution_count": 47,
   "id": "85ce6b21",
   "metadata": {
    "execution": {
     "iopub.execute_input": "2022-01-12T23:22:13.108090Z",
     "iopub.status.busy": "2022-01-12T23:22:13.106294Z",
     "iopub.status.idle": "2022-01-12T23:22:13.108873Z",
     "shell.execute_reply": "2022-01-12T23:22:13.109383Z",
     "shell.execute_reply.started": "2022-01-12T22:06:37.573024Z"
    },
    "papermill": {
     "duration": 0.12115,
     "end_time": "2022-01-12T23:22:13.109570",
     "exception": false,
     "start_time": "2022-01-12T23:22:12.988420",
     "status": "completed"
    },
    "tags": []
   },
   "outputs": [],
   "source": [
    "class ClfSwitcher(BaseEstimator):\n",
    "    \n",
    "    def __init__(self, \n",
    "                 estimator = DecisionTreeClassifier()):\n",
    "        \"\"\"\n",
    "        Custom Estimator is a custom class that helps you to switch\n",
    "        between classifiers.\n",
    "        \n",
    "        Args:\n",
    "            estimator: sklearn object – classifier\n",
    "        \"\"\"\n",
    "        self.estimator = estimator\n",
    "    \n",
    "    def fit(self, X, y=None, **kwargs):\n",
    "        self.estimator.fit(X, y)\n",
    "        return self\n",
    "    \n",
    "    def predict(self, X, y=None):\n",
    "        return self.estimator.predict(X)\n",
    "    \n",
    "    def predict_proba(self, X):\n",
    "        return self.estimator.predict_proba(X)\n",
    "    \n",
    "    def score(self, X, y):\n",
    "        return self.estimator.score(X, y)"
   ]
  },
  {
   "cell_type": "code",
   "execution_count": 48,
   "id": "501fc78e",
   "metadata": {
    "execution": {
     "iopub.execute_input": "2022-01-12T23:22:13.334286Z",
     "iopub.status.busy": "2022-01-12T23:22:13.333309Z",
     "iopub.status.idle": "2022-01-12T23:22:13.343334Z",
     "shell.execute_reply": "2022-01-12T23:22:13.342799Z",
     "shell.execute_reply.started": "2022-01-12T22:06:37.585474Z"
    },
    "papermill": {
     "duration": 0.123729,
     "end_time": "2022-01-12T23:22:13.343482",
     "exception": false,
     "start_time": "2022-01-12T23:22:13.219753",
     "status": "completed"
    },
    "tags": []
   },
   "outputs": [],
   "source": [
    "pipeline = Pipeline([\n",
    "    ('transformer', transformers),\n",
    "    ('clf', ClfSwitcher())\n",
    "])\n",
    "\n",
    "parameters = [\n",
    "    {\n",
    "        'clf__estimator': [DecisionTreeClassifier()],\n",
    "        'clf__estimator__criterion': ['gini', 'entropy'],\n",
    "\n",
    "    },\n",
    "    {\n",
    "        'clf__estimator': [ExtraTreesClassifier()],\n",
    "        'clf__estimator__n_estimators': [100, 250],\n",
    "        'clf__estimator__criterion': ['gini', 'entropy'],\n",
    "\n",
    "    },\n",
    "    {\n",
    "        'clf__estimator': [RandomForestClassifier()],\n",
    "        'clf__estimator__n_estimators': [100, 250],\n",
    "        'clf__estimator__criterion': ['gini', 'entropy'],\n",
    "    },\n",
    "    {\n",
    "        'clf__estimator': [SVC()],\n",
    "        'clf__estimator__kernel': ['rbf', 'sigmoid'],\n",
    "        'clf__estimator__C': [1e-3, 1e-2, 1e-1, 1.0, 10., 1e+2, 1e+3],\n",
    "        'clf__estimator__degree': [3, 4, 5, 6]\n",
    "    },\n",
    "    {\n",
    "        'clf__estimator': [LogisticRegression()],\n",
    "        'clf__estimator__penalty': ['l1', 'l2'],\n",
    "        'clf__estimator__tol': [1e-4, 1e-3, 1e-2],\n",
    "        'clf__estimator__C': [1e-3, 1e-2, 1e-1, 1.0, 10., 1e+2, 1e+3],\n",
    "        'clf__estimator__solver': ['lbfgs', 'liblinear']   \n",
    "    }\n",
    "    \n",
    "]"
   ]
  },
  {
   "cell_type": "code",
   "execution_count": 49,
   "id": "bda013e7",
   "metadata": {
    "execution": {
     "iopub.execute_input": "2022-01-12T23:22:13.562950Z",
     "iopub.status.busy": "2022-01-12T23:22:13.562273Z",
     "iopub.status.idle": "2022-01-12T23:22:13.565353Z",
     "shell.execute_reply": "2022-01-12T23:22:13.564774Z",
     "shell.execute_reply.started": "2022-01-12T22:06:37.597998Z"
    },
    "papermill": {
     "duration": 0.115525,
     "end_time": "2022-01-12T23:22:13.565503",
     "exception": false,
     "start_time": "2022-01-12T23:22:13.449978",
     "status": "completed"
    },
    "tags": []
   },
   "outputs": [],
   "source": [
    "cv = KFold(n_splits=(folds - 1))"
   ]
  },
  {
   "cell_type": "markdown",
   "id": "55531c30",
   "metadata": {
    "papermill": {
     "duration": 0.10761,
     "end_time": "2022-01-12T23:22:13.783805",
     "exception": false,
     "start_time": "2022-01-12T23:22:13.676195",
     "status": "completed"
    },
    "tags": []
   },
   "source": [
    "### 4. Model Fitting"
   ]
  },
  {
   "cell_type": "markdown",
   "id": "23c8392a",
   "metadata": {
    "papermill": {
     "duration": 0.110455,
     "end_time": "2022-01-12T23:22:14.006204",
     "exception": false,
     "start_time": "2022-01-12T23:22:13.895749",
     "status": "completed"
    },
    "tags": []
   },
   "source": [
    "Now, we're fine-tune the model and see what is the best model, besides what are the best hyperparameters."
   ]
  },
  {
   "cell_type": "code",
   "execution_count": 50,
   "id": "9e9ddc0d",
   "metadata": {
    "_kg_hide-output": true,
    "execution": {
     "iopub.execute_input": "2022-01-12T23:22:14.231707Z",
     "iopub.status.busy": "2022-01-12T23:22:14.230972Z",
     "iopub.status.idle": "2022-01-12T23:22:32.774775Z",
     "shell.execute_reply": "2022-01-12T23:22:32.775282Z",
     "shell.execute_reply.started": "2022-01-12T22:06:37.615272Z"
    },
    "papermill": {
     "duration": 18.661314,
     "end_time": "2022-01-12T23:22:32.775469",
     "exception": false,
     "start_time": "2022-01-12T23:22:14.114155",
     "status": "completed"
    },
    "scrolled": true,
    "tags": []
   },
   "outputs": [
    {
     "name": "stdout",
     "output_type": "stream",
     "text": [
      "Fitting 3 folds for each of 150 candidates, totalling 450 fits\n"
     ]
    },
    {
     "name": "stderr",
     "output_type": "stream",
     "text": [
      "[Parallel(n_jobs=12)]: Using backend LokyBackend with 12 concurrent workers.\n",
      "[Parallel(n_jobs=12)]: Done   8 tasks      | elapsed:    7.3s\n",
      "[Parallel(n_jobs=12)]: Done 104 tasks      | elapsed:   13.4s\n"
     ]
    },
    {
     "name": "stdout",
     "output_type": "stream",
     "text": [
      "[CV] clf__estimator=DecisionTreeClassifier(), clf__estimator__criterion=entropy \n",
      "[CV]  clf__estimator=DecisionTreeClassifier(), clf__estimator__criterion=entropy, score=0.226, total=   0.1s\n",
      "[CV] clf__estimator=ExtraTreesClassifier(), clf__estimator__criterion=entropy, clf__estimator__n_estimators=100 \n",
      "[CV]  clf__estimator=ExtraTreesClassifier(), clf__estimator__criterion=entropy, clf__estimator__n_estimators=100, score=0.041, total=   1.3s\n",
      "[CV] clf__estimator=RandomForestClassifier(), clf__estimator__criterion=gini, clf__estimator__n_estimators=100 \n",
      "[CV]  clf__estimator=RandomForestClassifier(), clf__estimator__criterion=gini, clf__estimator__n_estimators=100, score=0.226, total=   1.4s\n",
      "[CV] clf__estimator=RandomForestClassifier(), clf__estimator__criterion=entropy, clf__estimator__n_estimators=100 \n",
      "[CV]  clf__estimator=RandomForestClassifier(), clf__estimator__criterion=entropy, clf__estimator__n_estimators=100, score=0.286, total=   1.3s\n",
      "[CV] clf__estimator=SVC(), clf__estimator__C=0.001, clf__estimator__degree=3, clf__estimator__kernel=rbf \n",
      "[CV]  clf__estimator=SVC(), clf__estimator__C=0.001, clf__estimator__degree=3, clf__estimator__kernel=rbf, score=-0.527, total=   0.2s\n",
      "[CV] clf__estimator=SVC(), clf__estimator__C=0.001, clf__estimator__degree=3, clf__estimator__kernel=sigmoid \n",
      "[CV]  clf__estimator=SVC(), clf__estimator__C=0.001, clf__estimator__degree=3, clf__estimator__kernel=sigmoid, score=-0.715, total=   0.2s\n",
      "[CV] clf__estimator=SVC(), clf__estimator__C=0.001, clf__estimator__degree=4, clf__estimator__kernel=rbf \n",
      "[CV]  clf__estimator=SVC(), clf__estimator__C=0.001, clf__estimator__degree=4, clf__estimator__kernel=rbf, score=-0.715, total=   0.2s\n",
      "[CV] clf__estimator=SVC(), clf__estimator__C=0.001, clf__estimator__degree=4, clf__estimator__kernel=sigmoid \n",
      "[CV]  clf__estimator=SVC(), clf__estimator__C=0.001, clf__estimator__degree=4, clf__estimator__kernel=sigmoid, score=-0.715, total=   0.2s\n",
      "[CV] clf__estimator=SVC(), clf__estimator__C=0.001, clf__estimator__degree=5, clf__estimator__kernel=rbf \n",
      "[CV]  clf__estimator=SVC(), clf__estimator__C=0.001, clf__estimator__degree=5, clf__estimator__kernel=rbf, score=-0.715, total=   0.1s\n",
      "[CV] clf__estimator=SVC(), clf__estimator__C=0.001, clf__estimator__degree=5, clf__estimator__kernel=rbf \n",
      "[CV]  clf__estimator=SVC(), clf__estimator__C=0.001, clf__estimator__degree=5, clf__estimator__kernel=rbf, score=-0.632, total=   0.1s\n",
      "[CV] clf__estimator=SVC(), clf__estimator__C=0.001, clf__estimator__degree=6, clf__estimator__kernel=rbf \n",
      "[CV]  clf__estimator=SVC(), clf__estimator__C=0.001, clf__estimator__degree=6, clf__estimator__kernel=rbf, score=-0.715, total=   0.2s\n",
      "[CV] clf__estimator=SVC(), clf__estimator__C=0.01, clf__estimator__degree=3, clf__estimator__kernel=rbf \n",
      "[CV]  clf__estimator=SVC(), clf__estimator__C=0.01, clf__estimator__degree=3, clf__estimator__kernel=rbf, score=-0.527, total=   0.1s\n",
      "[CV] clf__estimator=SVC(), clf__estimator__C=0.01, clf__estimator__degree=3, clf__estimator__kernel=sigmoid \n",
      "[CV]  clf__estimator=SVC(), clf__estimator__C=0.01, clf__estimator__degree=3, clf__estimator__kernel=sigmoid, score=-0.632, total=   0.2s\n",
      "[CV] clf__estimator=SVC(), clf__estimator__C=0.01, clf__estimator__degree=5, clf__estimator__kernel=rbf \n",
      "[CV]  clf__estimator=SVC(), clf__estimator__C=0.01, clf__estimator__degree=5, clf__estimator__kernel=rbf, score=-0.715, total=   0.1s\n",
      "[CV] clf__estimator=SVC(), clf__estimator__C=0.01, clf__estimator__degree=5, clf__estimator__kernel=sigmoid \n",
      "[CV]  clf__estimator=SVC(), clf__estimator__C=0.01, clf__estimator__degree=5, clf__estimator__kernel=sigmoid, score=-0.632, total=   0.2s\n",
      "[CV] clf__estimator=SVC(), clf__estimator__C=0.01, clf__estimator__degree=6, clf__estimator__kernel=sigmoid \n",
      "[CV]  clf__estimator=SVC(), clf__estimator__C=0.01, clf__estimator__degree=6, clf__estimator__kernel=sigmoid, score=-0.632, total=   0.2s\n",
      "[CV] clf__estimator=SVC(), clf__estimator__C=0.1, clf__estimator__degree=4, clf__estimator__kernel=rbf \n",
      "[CV]  clf__estimator=SVC(), clf__estimator__C=0.1, clf__estimator__degree=4, clf__estimator__kernel=rbf, score=0.306, total=   0.1s\n",
      "[CV] clf__estimator=SVC(), clf__estimator__C=0.1, clf__estimator__degree=5, clf__estimator__kernel=rbf \n",
      "[CV]  clf__estimator=SVC(), clf__estimator__C=0.1, clf__estimator__degree=5, clf__estimator__kernel=rbf, score=0.222, total=   0.2s\n",
      "[CV] clf__estimator=SVC(), clf__estimator__C=0.1, clf__estimator__degree=6, clf__estimator__kernel=sigmoid \n",
      "[CV]  clf__estimator=SVC(), clf__estimator__C=0.1, clf__estimator__degree=6, clf__estimator__kernel=sigmoid, score=0.051, total=   0.1s\n",
      "[CV] clf__estimator=SVC(), clf__estimator__C=1.0, clf__estimator__degree=4, clf__estimator__kernel=rbf \n",
      "[CV]  clf__estimator=SVC(), clf__estimator__C=1.0, clf__estimator__degree=4, clf__estimator__kernel=rbf, score=0.279, total=   0.0s\n",
      "[CV] clf__estimator=SVC(), clf__estimator__C=1.0, clf__estimator__degree=5, clf__estimator__kernel=sigmoid \n",
      "[CV]  clf__estimator=SVC(), clf__estimator__C=1.0, clf__estimator__degree=5, clf__estimator__kernel=sigmoid, score=-0.328, total=   0.2s\n",
      "[CV] clf__estimator=SVC(), clf__estimator__C=10.0, clf__estimator__degree=3, clf__estimator__kernel=rbf \n",
      "[CV]  clf__estimator=SVC(), clf__estimator__C=10.0, clf__estimator__degree=3, clf__estimator__kernel=rbf, score=0.326, total=   0.0s\n",
      "[CV] clf__estimator=SVC(), clf__estimator__C=10.0, clf__estimator__degree=5, clf__estimator__kernel=rbf \n",
      "[CV]  clf__estimator=SVC(), clf__estimator__C=10.0, clf__estimator__degree=5, clf__estimator__kernel=rbf, score=0.326, total=   0.0s\n",
      "[CV] clf__estimator=SVC(), clf__estimator__C=100.0, clf__estimator__degree=3, clf__estimator__kernel=rbf \n",
      "[CV]  clf__estimator=SVC(), clf__estimator__C=100.0, clf__estimator__degree=3, clf__estimator__kernel=rbf, score=0.266, total=   0.1s\n",
      "[CV] clf__estimator=SVC(), clf__estimator__C=100.0, clf__estimator__degree=5, clf__estimator__kernel=rbf \n",
      "[CV]  clf__estimator=SVC(), clf__estimator__C=100.0, clf__estimator__degree=5, clf__estimator__kernel=rbf, score=0.266, total=   0.1s\n",
      "[CV] clf__estimator=SVC(), clf__estimator__C=1000.0, clf__estimator__degree=3, clf__estimator__kernel=rbf \n",
      "[CV]  clf__estimator=SVC(), clf__estimator__C=1000.0, clf__estimator__degree=3, clf__estimator__kernel=rbf, score=-0.012, total=   0.1s\n",
      "[CV] clf__estimator=SVC(), clf__estimator__C=1000.0, clf__estimator__degree=5, clf__estimator__kernel=rbf \n",
      "[CV]  clf__estimator=SVC(), clf__estimator__C=1000.0, clf__estimator__degree=5, clf__estimator__kernel=rbf, score=-0.012, total=   0.1s\n",
      "[CV] clf__estimator=LogisticRegression(), clf__estimator__C=0.001, clf__estimator__penalty=l1, clf__estimator__solver=lbfgs, clf__estimator__tol=0.0001 \n",
      "[CV]  clf__estimator=LogisticRegression(), clf__estimator__C=0.001, clf__estimator__penalty=l1, clf__estimator__solver=lbfgs, clf__estimator__tol=0.0001, score=nan, total=   0.0s\n",
      "[CV] clf__estimator=LogisticRegression(), clf__estimator__C=0.001, clf__estimator__penalty=l1, clf__estimator__solver=liblinear, clf__estimator__tol=0.0001 \n",
      "[CV]  clf__estimator=LogisticRegression(), clf__estimator__C=0.001, clf__estimator__penalty=l1, clf__estimator__solver=liblinear, clf__estimator__tol=0.0001, score=-0.527, total=   0.0s\n",
      "[CV] clf__estimator=LogisticRegression(), clf__estimator__C=0.001, clf__estimator__penalty=l2, clf__estimator__solver=lbfgs, clf__estimator__tol=0.001 \n",
      "[CV]  clf__estimator=LogisticRegression(), clf__estimator__C=0.001, clf__estimator__penalty=l2, clf__estimator__solver=lbfgs, clf__estimator__tol=0.001, score=-0.508, total=   0.0s\n",
      "[CV] clf__estimator=LogisticRegression(), clf__estimator__C=0.001, clf__estimator__penalty=l2, clf__estimator__solver=liblinear, clf__estimator__tol=0.01 \n",
      "[CV]  clf__estimator=LogisticRegression(), clf__estimator__C=0.001, clf__estimator__penalty=l2, clf__estimator__solver=liblinear, clf__estimator__tol=0.01, score=0.008, total=   0.0s\n",
      "[CV] clf__estimator=LogisticRegression(), clf__estimator__C=0.01, clf__estimator__penalty=l1, clf__estimator__solver=liblinear, clf__estimator__tol=0.0001 \n",
      "[CV]  clf__estimator=LogisticRegression(), clf__estimator__C=0.01, clf__estimator__penalty=l1, clf__estimator__solver=liblinear, clf__estimator__tol=0.0001, score=-0.527, total=   0.0s"
     ]
    },
    {
     "name": "stderr",
     "output_type": "stream",
     "text": [
      "[Parallel(n_jobs=12)]: Done 264 tasks      | elapsed:   16.0s\n"
     ]
    },
    {
     "name": "stdout",
     "output_type": "stream",
     "text": [
      "[CV] clf__estimator=DecisionTreeClassifier(), clf__estimator__criterion=entropy \n",
      "[CV]  clf__estimator=DecisionTreeClassifier(), clf__estimator__criterion=entropy, score=0.127, total=   0.1s\n",
      "[CV] clf__estimator=ExtraTreesClassifier(), clf__estimator__criterion=entropy, clf__estimator__n_estimators=250 \n",
      "[CV]  clf__estimator=ExtraTreesClassifier(), clf__estimator__criterion=entropy, clf__estimator__n_estimators=250, score=0.222, total=   2.9s\n",
      "[CV] clf__estimator=SVC(), clf__estimator__C=0.001, clf__estimator__degree=3, clf__estimator__kernel=rbf \n",
      "[CV]  clf__estimator=SVC(), clf__estimator__C=0.001, clf__estimator__degree=3, clf__estimator__kernel=rbf, score=-0.715, total=   0.2s\n",
      "[CV] clf__estimator=SVC(), clf__estimator__C=0.001, clf__estimator__degree=3, clf__estimator__kernel=rbf \n",
      "[CV]  clf__estimator=SVC(), clf__estimator__C=0.001, clf__estimator__degree=3, clf__estimator__kernel=rbf, score=-0.632, total=   0.1s\n",
      "[CV] clf__estimator=SVC(), clf__estimator__C=0.001, clf__estimator__degree=3, clf__estimator__kernel=sigmoid \n",
      "[CV]  clf__estimator=SVC(), clf__estimator__C=0.001, clf__estimator__degree=3, clf__estimator__kernel=sigmoid, score=-0.527, total=   0.2s\n",
      "[CV] clf__estimator=SVC(), clf__estimator__C=0.001, clf__estimator__degree=4, clf__estimator__kernel=rbf \n",
      "[CV]  clf__estimator=SVC(), clf__estimator__C=0.001, clf__estimator__degree=4, clf__estimator__kernel=rbf, score=-0.527, total=   0.1s\n",
      "[CV] clf__estimator=SVC(), clf__estimator__C=0.001, clf__estimator__degree=4, clf__estimator__kernel=sigmoid \n",
      "[CV]  clf__estimator=SVC(), clf__estimator__C=0.001, clf__estimator__degree=4, clf__estimator__kernel=sigmoid, score=-0.527, total=   0.2s\n",
      "[CV] clf__estimator=SVC(), clf__estimator__C=0.001, clf__estimator__degree=5, clf__estimator__kernel=rbf \n",
      "[CV]  clf__estimator=SVC(), clf__estimator__C=0.001, clf__estimator__degree=5, clf__estimator__kernel=rbf, score=-0.527, total=   0.2s\n",
      "[CV] clf__estimator=SVC(), clf__estimator__C=0.001, clf__estimator__degree=5, clf__estimator__kernel=sigmoid \n",
      "[CV]  clf__estimator=SVC(), clf__estimator__C=0.001, clf__estimator__degree=5, clf__estimator__kernel=sigmoid, score=-0.632, total=   0.2s\n",
      "[CV] clf__estimator=SVC(), clf__estimator__C=0.001, clf__estimator__degree=6, clf__estimator__kernel=sigmoid \n",
      "[CV]  clf__estimator=SVC(), clf__estimator__C=0.001, clf__estimator__degree=6, clf__estimator__kernel=sigmoid, score=-0.527, total=   0.1s\n",
      "[CV] clf__estimator=SVC(), clf__estimator__C=0.01, clf__estimator__degree=3, clf__estimator__kernel=sigmoid \n",
      "[CV]  clf__estimator=SVC(), clf__estimator__C=0.01, clf__estimator__degree=3, clf__estimator__kernel=sigmoid, score=-0.527, total=   0.1s\n",
      "[CV] clf__estimator=SVC(), clf__estimator__C=0.01, clf__estimator__degree=4, clf__estimator__kernel=sigmoid \n",
      "[CV]  clf__estimator=SVC(), clf__estimator__C=0.01, clf__estimator__degree=4, clf__estimator__kernel=sigmoid, score=-0.527, total=   0.2s\n",
      "[CV] clf__estimator=SVC(), clf__estimator__C=0.01, clf__estimator__degree=5, clf__estimator__kernel=sigmoid \n",
      "[CV]  clf__estimator=SVC(), clf__estimator__C=0.01, clf__estimator__degree=5, clf__estimator__kernel=sigmoid, score=-0.527, total=   0.2s\n",
      "[CV] clf__estimator=SVC(), clf__estimator__C=0.01, clf__estimator__degree=6, clf__estimator__kernel=sigmoid \n",
      "[CV]  clf__estimator=SVC(), clf__estimator__C=0.01, clf__estimator__degree=6, clf__estimator__kernel=sigmoid, score=-0.527, total=   0.2s\n",
      "[CV] clf__estimator=SVC(), clf__estimator__C=0.1, clf__estimator__degree=3, clf__estimator__kernel=sigmoid \n",
      "[CV]  clf__estimator=SVC(), clf__estimator__C=0.1, clf__estimator__degree=3, clf__estimator__kernel=sigmoid, score=0.051, total=   0.1s\n",
      "[CV] clf__estimator=SVC(), clf__estimator__C=0.1, clf__estimator__degree=4, clf__estimator__kernel=sigmoid \n",
      "[CV]  clf__estimator=SVC(), clf__estimator__C=0.1, clf__estimator__degree=4, clf__estimator__kernel=sigmoid, score=0.051, total=   0.2s\n",
      "[CV] clf__estimator=SVC(), clf__estimator__C=0.1, clf__estimator__degree=6, clf__estimator__kernel=rbf \n",
      "[CV]  clf__estimator=SVC(), clf__estimator__C=0.1, clf__estimator__degree=6, clf__estimator__kernel=rbf, score=0.306, total=   0.2s\n",
      "[CV] clf__estimator=SVC(), clf__estimator__C=1.0, clf__estimator__degree=3, clf__estimator__kernel=sigmoid \n",
      "[CV]  clf__estimator=SVC(), clf__estimator__C=1.0, clf__estimator__degree=3, clf__estimator__kernel=sigmoid, score=-0.120, total=   0.1s\n",
      "[CV] clf__estimator=SVC(), clf__estimator__C=1.0, clf__estimator__degree=5, clf__estimator__kernel=rbf \n",
      "[CV]  clf__estimator=SVC(), clf__estimator__C=1.0, clf__estimator__degree=5, clf__estimator__kernel=rbf, score=0.279, total=   0.1s\n",
      "[CV] clf__estimator=SVC(), clf__estimator__C=1.0, clf__estimator__degree=6, clf__estimator__kernel=sigmoid \n",
      "[CV]  clf__estimator=SVC(), clf__estimator__C=1.0, clf__estimator__degree=6, clf__estimator__kernel=sigmoid, score=-0.120, total=   0.1s\n",
      "[CV] clf__estimator=SVC(), clf__estimator__C=10.0, clf__estimator__degree=4, clf__estimator__kernel=sigmoid \n",
      "[CV]  clf__estimator=SVC(), clf__estimator__C=10.0, clf__estimator__degree=4, clf__estimator__kernel=sigmoid, score=-0.547, total=   0.0s\n",
      "[CV] clf__estimator=SVC(), clf__estimator__C=10.0, clf__estimator__degree=6, clf__estimator__kernel=sigmoid \n",
      "[CV]  clf__estimator=SVC(), clf__estimator__C=10.0, clf__estimator__degree=6, clf__estimator__kernel=sigmoid, score=-0.547, total=   0.0s\n",
      "[CV] clf__estimator=SVC(), clf__estimator__C=100.0, clf__estimator__degree=4, clf__estimator__kernel=sigmoid \n",
      "[CV]  clf__estimator=SVC(), clf__estimator__C=100.0, clf__estimator__degree=4, clf__estimator__kernel=sigmoid, score=-0.547, total=   0.0s\n",
      "[CV] clf__estimator=SVC(), clf__estimator__C=100.0, clf__estimator__degree=6, clf__estimator__kernel=sigmoid \n",
      "[CV]  clf__estimator=SVC(), clf__estimator__C=100.0, clf__estimator__degree=6, clf__estimator__kernel=sigmoid, score=-0.547, total=   0.0s\n",
      "[CV] clf__estimator=SVC(), clf__estimator__C=1000.0, clf__estimator__degree=4, clf__estimator__kernel=sigmoid \n",
      "[CV]  clf__estimator=SVC(), clf__estimator__C=1000.0, clf__estimator__degree=4, clf__estimator__kernel=sigmoid, score=-0.527, total=   0.0s\n",
      "[CV] clf__estimator=SVC(), clf__estimator__C=1000.0, clf__estimator__degree=6, clf__estimator__kernel=rbf \n",
      "[CV]  clf__estimator=SVC(), clf__estimator__C=1000.0, clf__estimator__degree=6, clf__estimator__kernel=rbf, score=-0.014, total=   0.1s\n",
      "[CV] clf__estimator=LogisticRegression(), clf__estimator__C=0.001, clf__estimator__penalty=l2, clf__estimator__solver=lbfgs, clf__estimator__tol=0.001 \n",
      "[CV]  clf__estimator=LogisticRegression(), clf__estimator__C=0.001, clf__estimator__penalty=l2, clf__estimator__solver=lbfgs, clf__estimator__tol=0.001, score=-0.678, total=   0.0s\n",
      "[CV] clf__estimator=LogisticRegression(), clf__estimator__C=0.001, clf__estimator__penalty=l2, clf__estimator__solver=liblinear, clf__estimator__tol=0.01 \n",
      "[CV]  clf__estimator=LogisticRegression(), clf__estimator__C=0.001, clf__estimator__penalty=l2, clf__estimator__solver=liblinear, clf__estimator__tol=0.01, score=-0.346, total=   0.0s\n",
      "[CV] clf__estimator=LogisticRegression(), clf__estimator__C=0.01, clf__estimator__penalty=l1, clf__estimator__solver=liblinear, clf__estimator__tol=0.0001 \n",
      "[CV]  clf__estimator=LogisticRegression(), clf__estimator__C=0.01, clf__estimator__penalty=l1, clf__estimator__solver=liblinear, clf__estimator__tol=0.0001, score=-0.715, total=   0.0s\n",
      "[CV] clf__estimator=LogisticRegression(), clf__estimator__C=0.01, clf__estimator__penalty=l2, clf__estimator__solver=lbfgs, clf__estimator__tol=0.001 \n",
      "[CV]  clf__estimator=LogisticRegression(), clf__estimator__C=0.01, clf__estimator__penalty=l2, clf__estimator__solver=lbfgs, clf__estimator__tol=0.001, score=-0.051, total=   0.0s\n",
      "[CV] clf__estimator=LogisticRegression(), clf__estimator__C=0.01, clf__estimator__penalty=l2, clf__estimator__solver=lbfgs, clf__estimator__tol=0.01 \n",
      "[CV]  clf__estimator=LogisticRegression(), clf__estimator__C=0.01, clf__estimator__penalty=l2, clf__estimator__solver=lbfgs, clf__estimator__tol=0.01, score=-0.051, total=   0.0s\n",
      "[CV] clf__estimator=LogisticRegression(), clf__estimator__C=0.1, clf__estimator__penalty=l1, clf__estimator__solver=liblinear, clf__estimator__tol=0.0001 \n",
      "[CV]  clf__estimator=LogisticRegression(), clf__estimator__C=0.1, clf__estimator__penalty=l1, clf__estimator__solver=liblinear, clf__estimator__tol=0.0001, score=0.078, total=   0.0s[CV] clf__estimator=DecisionTreeClassifier(), clf__estimator__criterion=gini \n",
      "[CV]  clf__estimator=DecisionTreeClassifier(), clf__estimator__criterion=gini, score=-0.199, total=   0.1s\n",
      "[CV] clf__estimator=ExtraTreesClassifier(), clf__estimator__criterion=entropy, clf__estimator__n_estimators=250 \n",
      "[CV]  clf__estimator=ExtraTreesClassifier(), clf__estimator__criterion=entropy, clf__estimator__n_estimators=250, score=0.059, total=   2.4s\n",
      "[CV] clf__estimator=RandomForestClassifier(), clf__estimator__criterion=entropy, clf__estimator__n_estimators=100 \n",
      "[CV]  clf__estimator=RandomForestClassifier(), clf__estimator__criterion=entropy, clf__estimator__n_estimators=100, score=0.203, total=   1.4s\n",
      "[CV] clf__estimator=SVC(), clf__estimator__C=0.001, clf__estimator__degree=3, clf__estimator__kernel=sigmoid \n",
      "[CV]  clf__estimator=SVC(), clf__estimator__C=0.001, clf__estimator__degree=3, clf__estimator__kernel=sigmoid, score=-0.632, total=   0.2s\n",
      "[CV] clf__estimator=SVC(), clf__estimator__C=0.001, clf__estimator__degree=4, clf__estimator__kernel=rbf \n",
      "[CV]  clf__estimator=SVC(), clf__estimator__C=0.001, clf__estimator__degree=4, clf__estimator__kernel=rbf, score=-0.632, total=   0.2s\n",
      "[CV] clf__estimator=SVC(), clf__estimator__C=0.001, clf__estimator__degree=4, clf__estimator__kernel=sigmoid \n",
      "[CV]  clf__estimator=SVC(), clf__estimator__C=0.001, clf__estimator__degree=4, clf__estimator__kernel=sigmoid, score=-0.632, total=   0.2s\n",
      "[CV] clf__estimator=SVC(), clf__estimator__C=0.001, clf__estimator__degree=5, clf__estimator__kernel=sigmoid \n",
      "[CV]  clf__estimator=SVC(), clf__estimator__C=0.001, clf__estimator__degree=5, clf__estimator__kernel=sigmoid, score=-0.715, total=   0.2s\n",
      "[CV] clf__estimator=SVC(), clf__estimator__C=0.001, clf__estimator__degree=6, clf__estimator__kernel=rbf \n",
      "[CV]  clf__estimator=SVC(), clf__estimator__C=0.001, clf__estimator__degree=6, clf__estimator__kernel=rbf, score=-0.527, total=   0.1s\n",
      "[CV] clf__estimator=SVC(), clf__estimator__C=0.01, clf__estimator__degree=3, clf__estimator__kernel=rbf \n",
      "[CV]  clf__estimator=SVC(), clf__estimator__C=0.01, clf__estimator__degree=3, clf__estimator__kernel=rbf, score=-0.715, total=   0.1s\n",
      "[CV] clf__estimator=SVC(), clf__estimator__C=0.01, clf__estimator__degree=4, clf__estimator__kernel=rbf \n",
      "[CV]  clf__estimator=SVC(), clf__estimator__C=0.01, clf__estimator__degree=4, clf__estimator__kernel=rbf, score=-0.715, total=   0.1s\n",
      "[CV] clf__estimator=SVC(), clf__estimator__C=0.01, clf__estimator__degree=4, clf__estimator__kernel=sigmoid \n",
      "[CV]  clf__estimator=SVC(), clf__estimator__C=0.01, clf__estimator__degree=4, clf__estimator__kernel=sigmoid, score=-0.632, total=   0.1s\n",
      "[CV] clf__estimator=SVC(), clf__estimator__C=0.01, clf__estimator__degree=6, clf__estimator__kernel=rbf \n",
      "[CV]  clf__estimator=SVC(), clf__estimator__C=0.01, clf__estimator__degree=6, clf__estimator__kernel=rbf, score=-0.715, total=   0.2s\n",
      "[CV] clf__estimator=SVC(), clf__estimator__C=0.1, clf__estimator__degree=3, clf__estimator__kernel=rbf \n",
      "[CV]  clf__estimator=SVC(), clf__estimator__C=0.1, clf__estimator__degree=3, clf__estimator__kernel=rbf, score=0.306, total=   0.2s\n",
      "[CV] clf__estimator=SVC(), clf__estimator__C=0.1, clf__estimator__degree=4, clf__estimator__kernel=rbf \n",
      "[CV]  clf__estimator=SVC(), clf__estimator__C=0.1, clf__estimator__degree=4, clf__estimator__kernel=rbf, score=0.222, total=   0.1s\n",
      "[CV] clf__estimator=SVC(), clf__estimator__C=0.1, clf__estimator__degree=5, clf__estimator__kernel=sigmoid \n",
      "[CV]  clf__estimator=SVC(), clf__estimator__C=0.1, clf__estimator__degree=5, clf__estimator__kernel=sigmoid, score=0.127, total=   0.2s\n",
      "[CV] clf__estimator=SVC(), clf__estimator__C=1.0, clf__estimator__degree=3, clf__estimator__kernel=rbf \n",
      "[CV]  clf__estimator=SVC(), clf__estimator__C=1.0, clf__estimator__degree=3, clf__estimator__kernel=rbf, score=0.326, total=   0.1s\n",
      "[CV] clf__estimator=SVC(), clf__estimator__C=1.0, clf__estimator__degree=4, clf__estimator__kernel=sigmoid \n",
      "[CV]  clf__estimator=SVC(), clf__estimator__C=1.0, clf__estimator__degree=4, clf__estimator__kernel=sigmoid, score=-0.389, total=   0.2s\n",
      "[CV] clf__estimator=SVC(), clf__estimator__C=1.0, clf__estimator__degree=6, clf__estimator__kernel=rbf \n",
      "[CV]  clf__estimator=SVC(), clf__estimator__C=1.0, clf__estimator__degree=6, clf__estimator__kernel=rbf, score=0.326, total=   0.1s\n",
      "[CV] clf__estimator=SVC(), clf__estimator__C=10.0, clf__estimator__degree=3, clf__estimator__kernel=sigmoid \n",
      "[CV]  clf__estimator=SVC(), clf__estimator__C=10.0, clf__estimator__degree=3, clf__estimator__kernel=sigmoid, score=-0.215, total=   0.0s\n",
      "[CV] clf__estimator=SVC(), clf__estimator__C=10.0, clf__estimator__degree=5, clf__estimator__kernel=sigmoid \n",
      "[CV]  clf__estimator=SVC(), clf__estimator__C=10.0, clf__estimator__degree=5, clf__estimator__kernel=sigmoid, score=-0.215, total=   0.0s\n",
      "[CV] clf__estimator=SVC(), clf__estimator__C=100.0, clf__estimator__degree=3, clf__estimator__kernel=sigmoid \n",
      "[CV]  clf__estimator=SVC(), clf__estimator__C=100.0, clf__estimator__degree=3, clf__estimator__kernel=sigmoid, score=-0.291, total=   0.0s\n",
      "[CV] clf__estimator=SVC(), clf__estimator__C=100.0, clf__estimator__degree=5, clf__estimator__kernel=sigmoid \n",
      "[CV]  clf__estimator=SVC(), clf__estimator__C=100.0, clf__estimator__degree=5, clf__estimator__kernel=sigmoid, score=-0.291, total=   0.0s\n",
      "[CV] clf__estimator=SVC(), clf__estimator__C=1000.0, clf__estimator__degree=3, clf__estimator__kernel=sigmoid \n",
      "[CV]  clf__estimator=SVC(), clf__estimator__C=1000.0, clf__estimator__degree=3, clf__estimator__kernel=sigmoid, score=-0.291, total=   0.1s\n",
      "[CV] clf__estimator=SVC(), clf__estimator__C=1000.0, clf__estimator__degree=5, clf__estimator__kernel=sigmoid \n",
      "[CV]  clf__estimator=SVC(), clf__estimator__C=1000.0, clf__estimator__degree=5, clf__estimator__kernel=sigmoid, score=-0.439, total=   0.0s\n",
      "[CV] clf__estimator=LogisticRegression(), clf__estimator__C=0.001, clf__estimator__penalty=l1, clf__estimator__solver=lbfgs, clf__estimator__tol=0.0001 \n",
      "[CV]  clf__estimator=LogisticRegression(), clf__estimator__C=0.001, clf__estimator__penalty=l1, clf__estimator__solver=lbfgs, clf__estimator__tol=0.0001, score=nan, total=   0.0s\n",
      "[CV] clf__estimator=LogisticRegression(), clf__estimator__C=0.001, clf__estimator__penalty=l1, clf__estimator__solver=liblinear, clf__estimator__tol=0.0001 \n",
      "[CV]  clf__estimator=LogisticRegression(), clf__estimator__C=0.001, clf__estimator__penalty=l1, clf__estimator__solver=liblinear, clf__estimator__tol=0.0001, score=-0.715, total=   0.0s\n",
      "[CV] clf__estimator=LogisticRegression(), clf__estimator__C=0.001, clf__estimator__penalty=l1, clf__estimator__solver=liblinear, clf__estimator__tol=0.001 \n",
      "[CV]  clf__estimator=LogisticRegression(), clf__estimator__C=0.001, clf__estimator__penalty=l1, clf__estimator__solver=liblinear, clf__estimator__tol=0.001, score=-0.715, total=   0.0s\n",
      "[CV] clf__estimator=LogisticRegression(), clf__estimator__C=0.001, clf__estimator__penalty=l2, clf__estimator__solver=lbfgs, clf__estimator__tol=0.01 \n",
      "[CV]  clf__estimator=LogisticRegression(), clf__estimator__C=0.001, clf__estimator__penalty=l2, clf__estimator__solver=lbfgs, clf__estimator__tol=0.01, score=-0.678, total=   0.0s\n",
      "[CV] clf__estimator=LogisticRegression(), clf__estimator__C=0.01, clf__estimator__penalty=l1, clf__estimator__solver=lbfgs, clf__estimator__tol=0.0001 \n",
      "[CV]  clf__estimator=LogisticRegression(), clf__estimator__C=0.01, clf__estimator__penalty=l1, clf__estimator__solver=lbfgs, clf__estimator__tol=0.0001, score=nan, total=   0.0s\n",
      "[CV] clf__estimator=LogisticRegression(), clf__estimator__C=0.01, clf__estimator__penalty=l1, clf__estimator__solver=liblinear, clf__estimator__tol=0.001 \n",
      "[CV]  clf__estimator=LogisticRegression(), clf__estimator__C=0.01, clf__estimator__penalty=l1, clf__estimator__solver=liblinear, clf__estimator__tol=0.001, score=-0.715, total=   0.0s\n",
      "[CV] clf__estimator=LogisticRegression(), clf__estimator__C=0.01, clf__estimator__penalty=l2, clf__estimator__solver=liblinear, clf__estimator__tol=0.001 \n",
      "[CV]  clf__estimator=LogisticRegression(), clf__estimator__C=0.01, clf__estimator__penalty=l2, clf__estimator__solver=liblinear, clf__estimator__tol=0.001, score=0.070, total=   0.0s\n",
      "[CV] clf__estimator=LogisticRegression(), clf__estimator__C=0.1, clf__estimator__penalty=l1, clf__estimator__solver=liblinear, clf__estimator__tol=0.01 [CV] clf__estimator=ExtraTreesClassifier(), clf__estimator__criterion=gini, clf__estimator__n_estimators=100 \n",
      "[CV]  clf__estimator=ExtraTreesClassifier(), clf__estimator__criterion=gini, clf__estimator__n_estimators=100, score=0.165, total=   1.4s\n",
      "[CV] clf__estimator=RandomForestClassifier(), clf__estimator__criterion=gini, clf__estimator__n_estimators=250 \n",
      "[CV]  clf__estimator=RandomForestClassifier(), clf__estimator__criterion=gini, clf__estimator__n_estimators=250, score=0.266, total=   3.2s\n",
      "[CV] clf__estimator=SVC(), clf__estimator__C=0.001, clf__estimator__degree=5, clf__estimator__kernel=sigmoid \n",
      "[CV]  clf__estimator=SVC(), clf__estimator__C=0.001, clf__estimator__degree=5, clf__estimator__kernel=sigmoid, score=-0.527, total=   0.2s\n",
      "[CV] clf__estimator=SVC(), clf__estimator__C=0.001, clf__estimator__degree=6, clf__estimator__kernel=rbf \n",
      "[CV]  clf__estimator=SVC(), clf__estimator__C=0.001, clf__estimator__degree=6, clf__estimator__kernel=rbf, score=-0.632, total=   0.1s\n",
      "[CV] clf__estimator=SVC(), clf__estimator__C=0.01, clf__estimator__degree=3, clf__estimator__kernel=rbf \n",
      "[CV]  clf__estimator=SVC(), clf__estimator__C=0.01, clf__estimator__degree=3, clf__estimator__kernel=rbf, score=-0.632, total=   0.1s\n",
      "[CV] clf__estimator=SVC(), clf__estimator__C=0.01, clf__estimator__degree=4, clf__estimator__kernel=sigmoid \n",
      "[CV]  clf__estimator=SVC(), clf__estimator__C=0.01, clf__estimator__degree=4, clf__estimator__kernel=sigmoid, score=-0.715, total=   0.2s\n",
      "[CV] clf__estimator=SVC(), clf__estimator__C=0.01, clf__estimator__degree=5, clf__estimator__kernel=sigmoid \n",
      "[CV]  clf__estimator=SVC(), clf__estimator__C=0.01, clf__estimator__degree=5, clf__estimator__kernel=sigmoid, score=-0.715, total=   0.2s\n",
      "[CV] clf__estimator=SVC(), clf__estimator__C=0.01, clf__estimator__degree=6, clf__estimator__kernel=sigmoid \n",
      "[CV]  clf__estimator=SVC(), clf__estimator__C=0.01, clf__estimator__degree=6, clf__estimator__kernel=sigmoid, score=-0.715, total=   0.1s\n",
      "[CV] clf__estimator=SVC(), clf__estimator__C=0.1, clf__estimator__degree=3, clf__estimator__kernel=sigmoid \n",
      "[CV]  clf__estimator=SVC(), clf__estimator__C=0.1, clf__estimator__degree=3, clf__estimator__kernel=sigmoid, score=-0.070, total=   0.2s\n",
      "[CV] clf__estimator=SVC(), clf__estimator__C=0.1, clf__estimator__degree=5, clf__estimator__kernel=rbf \n",
      "[CV]  clf__estimator=SVC(), clf__estimator__C=0.1, clf__estimator__degree=5, clf__estimator__kernel=rbf, score=0.188, total=   0.3s\n",
      "[CV] clf__estimator=SVC(), clf__estimator__C=0.1, clf__estimator__degree=6, clf__estimator__kernel=sigmoid \n",
      "[CV]  clf__estimator=SVC(), clf__estimator__C=0.1, clf__estimator__degree=6, clf__estimator__kernel=sigmoid, score=-0.070, total=   0.1s\n",
      "[CV] clf__estimator=SVC(), clf__estimator__C=1.0, clf__estimator__degree=4, clf__estimator__kernel=rbf \n",
      "[CV]  clf__estimator=SVC(), clf__estimator__C=1.0, clf__estimator__degree=4, clf__estimator__kernel=rbf, score=0.326, total=   0.1s\n",
      "[CV] clf__estimator=SVC(), clf__estimator__C=1.0, clf__estimator__degree=5, clf__estimator__kernel=sigmoid \n",
      "[CV]  clf__estimator=SVC(), clf__estimator__C=1.0, clf__estimator__degree=5, clf__estimator__kernel=sigmoid, score=-0.120, total=   0.1s\n",
      "[CV] clf__estimator=SVC(), clf__estimator__C=10.0, clf__estimator__degree=3, clf__estimator__kernel=sigmoid \n",
      "[CV]  clf__estimator=SVC(), clf__estimator__C=10.0, clf__estimator__degree=3, clf__estimator__kernel=sigmoid, score=-0.328, total=   0.0s\n",
      "[CV] clf__estimator=SVC(), clf__estimator__C=10.0, clf__estimator__degree=5, clf__estimator__kernel=sigmoid \n",
      "[CV]  clf__estimator=SVC(), clf__estimator__C=10.0, clf__estimator__degree=5, clf__estimator__kernel=sigmoid, score=-0.328, total=   0.0s\n",
      "[CV] clf__estimator=SVC(), clf__estimator__C=10.0, clf__estimator__degree=6, clf__estimator__kernel=rbf \n",
      "[CV]  clf__estimator=SVC(), clf__estimator__C=10.0, clf__estimator__degree=6, clf__estimator__kernel=rbf, score=0.326, total=   0.0s\n",
      "[CV] clf__estimator=SVC(), clf__estimator__C=100.0, clf__estimator__degree=4, clf__estimator__kernel=rbf \n",
      "[CV]  clf__estimator=SVC(), clf__estimator__C=100.0, clf__estimator__degree=4, clf__estimator__kernel=rbf, score=0.266, total=   0.1s\n",
      "[CV] clf__estimator=SVC(), clf__estimator__C=100.0, clf__estimator__degree=6, clf__estimator__kernel=rbf \n",
      "[CV]  clf__estimator=SVC(), clf__estimator__C=100.0, clf__estimator__degree=6, clf__estimator__kernel=rbf, score=0.266, total=   0.1s\n",
      "[CV] clf__estimator=SVC(), clf__estimator__C=1000.0, clf__estimator__degree=4, clf__estimator__kernel=rbf \n",
      "[CV]  clf__estimator=SVC(), clf__estimator__C=1000.0, clf__estimator__degree=4, clf__estimator__kernel=rbf, score=-0.012, total=   0.1s\n",
      "[CV] clf__estimator=SVC(), clf__estimator__C=1000.0, clf__estimator__degree=6, clf__estimator__kernel=rbf \n",
      "[CV]  clf__estimator=SVC(), clf__estimator__C=1000.0, clf__estimator__degree=6, clf__estimator__kernel=rbf, score=-0.012, total=   0.1s\n",
      "[CV] clf__estimator=LogisticRegression(), clf__estimator__C=0.001, clf__estimator__penalty=l1, clf__estimator__solver=lbfgs, clf__estimator__tol=0.01 \n",
      "[CV]  clf__estimator=LogisticRegression(), clf__estimator__C=0.001, clf__estimator__penalty=l1, clf__estimator__solver=lbfgs, clf__estimator__tol=0.01, score=nan, total=   0.0s\n",
      "[CV] clf__estimator=LogisticRegression(), clf__estimator__C=0.001, clf__estimator__penalty=l2, clf__estimator__solver=lbfgs, clf__estimator__tol=0.0001 \n",
      "[CV]  clf__estimator=LogisticRegression(), clf__estimator__C=0.001, clf__estimator__penalty=l2, clf__estimator__solver=lbfgs, clf__estimator__tol=0.0001, score=-0.678, total=   0.0s\n",
      "[CV] clf__estimator=LogisticRegression(), clf__estimator__C=0.001, clf__estimator__penalty=l2, clf__estimator__solver=liblinear, clf__estimator__tol=0.001 \n",
      "[CV]  clf__estimator=LogisticRegression(), clf__estimator__C=0.001, clf__estimator__penalty=l2, clf__estimator__solver=liblinear, clf__estimator__tol=0.001, score=-0.346, total=   0.0s\n",
      "[CV] clf__estimator=LogisticRegression(), clf__estimator__C=0.01, clf__estimator__penalty=l1, clf__estimator__solver=lbfgs, clf__estimator__tol=0.01 \n",
      "[CV]  clf__estimator=LogisticRegression(), clf__estimator__C=0.01, clf__estimator__penalty=l1, clf__estimator__solver=lbfgs, clf__estimator__tol=0.01, score=nan, total=   0.0s\n",
      "[CV] clf__estimator=LogisticRegression(), clf__estimator__C=0.01, clf__estimator__penalty=l2, clf__estimator__solver=lbfgs, clf__estimator__tol=0.0001 \n",
      "[CV]  clf__estimator=LogisticRegression(), clf__estimator__C=0.01, clf__estimator__penalty=l2, clf__estimator__solver=lbfgs, clf__estimator__tol=0.0001, score=-0.051, total=   0.0s\n",
      "[CV] clf__estimator=LogisticRegression(), clf__estimator__C=0.01, clf__estimator__penalty=l2, clf__estimator__solver=liblinear, clf__estimator__tol=0.001 \n",
      "[CV]  clf__estimator=LogisticRegression(), clf__estimator__C=0.01, clf__estimator__penalty=l2, clf__estimator__solver=liblinear, clf__estimator__tol=0.001, score=-0.051, total=   0.0s\n",
      "[CV] clf__estimator=LogisticRegression(), clf__estimator__C=0.1, clf__estimator__penalty=l1, clf__estimator__solver=lbfgs, clf__estimator__tol=0.01 \n",
      "[CV]  clf__estimator=LogisticRegression(), clf__estimator__C=0.1, clf__estimator__penalty=l1, clf__estimator__solver=lbfgs, clf__estimator__tol=0.01, score=nan, total=   0.0s\n",
      "[CV] clf__estimator=LogisticRegression(), clf__estimator__C=0.1, clf__estimator__penalty=l2, clf__estimator__solver=lbfgs, clf__estimator__tol=0.0001 \n",
      "[CV]  clf__estimator=LogisticRegression(), clf__estimator__C=0.1, clf__estimator__penalty=l2, clf__estimator__solver=lbfgs, clf__estimator__tol=0.0001, score=0.152, total=   0.0s\n",
      "[CV] clf__estimator=LogisticRegression(), clf__estimator__C=0.1, clf__estimator__penalty=l2, clf__estimator__solver=lbfgs, clf__estimator__tol=0.001 \n",
      "[CV]  clf__estimator=LogisticRegression(), clf__estimator__C=0.1, clf__estimator__penalty=l2, clf__estimator__solver=lbfgs, clf__estimator__tol=0.001, score=0.165, total=   0.0s\n",
      "[CV] clf__estimator=LogisticRegression(), clf__estimator__C=0.1, clf__estimator__penalty=l2, clf__estimator__solver=liblinear, clf__estimator__tol=0.01 \n",
      "[CV]  clf__estimator=LogisticRegression(), clf__estimator__C=0.1, clf__estimator__penalty=l2, clf__estimator__solver=liblinear, clf__estimator__tol=0.01, score=0.146, total=   0.0s\n",
      "[CV] clf__estimator=ExtraTreesClassifier(), clf__estimator__criterion=gini, clf__estimator__n_estimators=100 \n",
      "[CV]  clf__estimator=ExtraTreesClassifier(), clf__estimator__criterion=gini, clf__estimator__n_estimators=100, score=0.022, total=   1.1s\n",
      "[CV] clf__estimator=RandomForestClassifier(), clf__estimator__criterion=gini, clf__estimator__n_estimators=250 \n",
      "[CV]  clf__estimator=RandomForestClassifier(), clf__estimator__criterion=gini, clf__estimator__n_estimators=250, score=0.170, total=   3.5s\n",
      "[CV] clf__estimator=SVC(), clf__estimator__C=0.001, clf__estimator__degree=6, clf__estimator__kernel=sigmoid \n",
      "[CV]  clf__estimator=SVC(), clf__estimator__C=0.001, clf__estimator__degree=6, clf__estimator__kernel=sigmoid, score=-0.715, total=   0.1s\n",
      "[CV] clf__estimator=SVC(), clf__estimator__C=0.01, clf__estimator__degree=3, clf__estimator__kernel=sigmoid \n",
      "[CV]  clf__estimator=SVC(), clf__estimator__C=0.01, clf__estimator__degree=3, clf__estimator__kernel=sigmoid, score=-0.715, total=   0.1s\n",
      "[CV] clf__estimator=SVC(), clf__estimator__C=0.01, clf__estimator__degree=4, clf__estimator__kernel=rbf \n",
      "[CV]  clf__estimator=SVC(), clf__estimator__C=0.01, clf__estimator__degree=4, clf__estimator__kernel=rbf, score=-0.632, total=   0.1s\n",
      "[CV] clf__estimator=SVC(), clf__estimator__C=0.01, clf__estimator__degree=5, clf__estimator__kernel=rbf \n",
      "[CV]  clf__estimator=SVC(), clf__estimator__C=0.01, clf__estimator__degree=5, clf__estimator__kernel=rbf, score=-0.632, total=   0.1s\n",
      "[CV] clf__estimator=SVC(), clf__estimator__C=0.01, clf__estimator__degree=6, clf__estimator__kernel=rbf \n",
      "[CV]  clf__estimator=SVC(), clf__estimator__C=0.01, clf__estimator__degree=6, clf__estimator__kernel=rbf, score=-0.632, total=   0.1s\n",
      "[CV] clf__estimator=SVC(), clf__estimator__C=0.1, clf__estimator__degree=3, clf__estimator__kernel=rbf \n",
      "[CV]  clf__estimator=SVC(), clf__estimator__C=0.1, clf__estimator__degree=3, clf__estimator__kernel=rbf, score=0.222, total=   0.2s\n",
      "[CV] clf__estimator=SVC(), clf__estimator__C=0.1, clf__estimator__degree=4, clf__estimator__kernel=sigmoid \n",
      "[CV]  clf__estimator=SVC(), clf__estimator__C=0.1, clf__estimator__degree=4, clf__estimator__kernel=sigmoid, score=0.127, total=   0.2s\n",
      "[CV] clf__estimator=SVC(), clf__estimator__C=0.1, clf__estimator__degree=6, clf__estimator__kernel=rbf \n",
      "[CV]  clf__estimator=SVC(), clf__estimator__C=0.1, clf__estimator__degree=6, clf__estimator__kernel=rbf, score=0.188, total=   0.1s\n",
      "[CV] clf__estimator=SVC(), clf__estimator__C=1.0, clf__estimator__degree=3, clf__estimator__kernel=rbf \n",
      "[CV]  clf__estimator=SVC(), clf__estimator__C=1.0, clf__estimator__degree=3, clf__estimator__kernel=rbf, score=0.279, total=   0.1s\n",
      "[CV] clf__estimator=SVC(), clf__estimator__C=1.0, clf__estimator__degree=4, clf__estimator__kernel=sigmoid \n",
      "[CV]  clf__estimator=SVC(), clf__estimator__C=1.0, clf__estimator__degree=4, clf__estimator__kernel=sigmoid, score=-0.120, total=   0.2s\n",
      "[CV] clf__estimator=SVC(), clf__estimator__C=1.0, clf__estimator__degree=6, clf__estimator__kernel=rbf \n",
      "[CV]  clf__estimator=SVC(), clf__estimator__C=1.0, clf__estimator__degree=6, clf__estimator__kernel=rbf, score=0.279, total=   0.1s\n",
      "[CV] clf__estimator=SVC(), clf__estimator__C=10.0, clf__estimator__degree=4, clf__estimator__kernel=rbf \n",
      "[CV]  clf__estimator=SVC(), clf__estimator__C=10.0, clf__estimator__degree=4, clf__estimator__kernel=rbf, score=0.170, total=   0.0s\n",
      "[CV] clf__estimator=SVC(), clf__estimator__C=10.0, clf__estimator__degree=6, clf__estimator__kernel=rbf \n",
      "[CV]  clf__estimator=SVC(), clf__estimator__C=10.0, clf__estimator__degree=6, clf__estimator__kernel=rbf, score=0.170, total=   0.0s\n",
      "[CV] clf__estimator=SVC(), clf__estimator__C=100.0, clf__estimator__degree=4, clf__estimator__kernel=rbf \n",
      "[CV]  clf__estimator=SVC(), clf__estimator__C=100.0, clf__estimator__degree=4, clf__estimator__kernel=rbf, score=0.041, total=   0.1s\n",
      "[CV] clf__estimator=SVC(), clf__estimator__C=100.0, clf__estimator__degree=6, clf__estimator__kernel=rbf \n",
      "[CV]  clf__estimator=SVC(), clf__estimator__C=100.0, clf__estimator__degree=6, clf__estimator__kernel=rbf, score=0.041, total=   0.1s\n",
      "[CV] clf__estimator=SVC(), clf__estimator__C=1000.0, clf__estimator__degree=4, clf__estimator__kernel=rbf \n",
      "[CV]  clf__estimator=SVC(), clf__estimator__C=1000.0, clf__estimator__degree=4, clf__estimator__kernel=rbf, score=-0.014, total=   0.1s\n",
      "[CV] clf__estimator=SVC(), clf__estimator__C=1000.0, clf__estimator__degree=6, clf__estimator__kernel=sigmoid \n",
      "[CV]  clf__estimator=SVC(), clf__estimator__C=1000.0, clf__estimator__degree=6, clf__estimator__kernel=sigmoid, score=-0.439, total=   0.0s\n",
      "[CV] clf__estimator=LogisticRegression(), clf__estimator__C=0.001, clf__estimator__penalty=l1, clf__estimator__solver=lbfgs, clf__estimator__tol=0.01 \n",
      "[CV]  clf__estimator=LogisticRegression(), clf__estimator__C=0.001, clf__estimator__penalty=l1, clf__estimator__solver=lbfgs, clf__estimator__tol=0.01, score=nan, total=   0.0s\n",
      "[CV] clf__estimator=LogisticRegression(), clf__estimator__C=0.001, clf__estimator__penalty=l1, clf__estimator__solver=liblinear, clf__estimator__tol=0.01 \n",
      "[CV]  clf__estimator=LogisticRegression(), clf__estimator__C=0.001, clf__estimator__penalty=l1, clf__estimator__solver=liblinear, clf__estimator__tol=0.01, score=-0.632, total=   0.0s\n",
      "[CV] clf__estimator=LogisticRegression(), clf__estimator__C=0.001, clf__estimator__penalty=l2, clf__estimator__solver=liblinear, clf__estimator__tol=0.0001 \n",
      "[CV]  clf__estimator=LogisticRegression(), clf__estimator__C=0.001, clf__estimator__penalty=l2, clf__estimator__solver=liblinear, clf__estimator__tol=0.0001, score=-0.177, total=   0.0s\n",
      "[CV] clf__estimator=LogisticRegression(), clf__estimator__C=0.01, clf__estimator__penalty=l1, clf__estimator__solver=lbfgs, clf__estimator__tol=0.001 \n",
      "[CV]  clf__estimator=LogisticRegression(), clf__estimator__C=0.01, clf__estimator__penalty=l1, clf__estimator__solver=lbfgs, clf__estimator__tol=0.001, score=nan, total=   0.0s\n",
      "[CV] clf__estimator=LogisticRegression(), clf__estimator__C=0.01, clf__estimator__penalty=l1, clf__estimator__solver=lbfgs, clf__estimator__tol=0.01 \n",
      "[CV]  clf__estimator=LogisticRegression(), clf__estimator__C=0.01, clf__estimator__penalty=l1, clf__estimator__solver=lbfgs, clf__estimator__tol=0.01, score=nan, total=   0.0s\n",
      "[CV] clf__estimator=LogisticRegression(), clf__estimator__C=0.01, clf__estimator__penalty=l2, clf__estimator__solver=lbfgs, clf__estimator__tol=0.0001 \n",
      "[CV]  clf__estimator=LogisticRegression(), clf__estimator__C=0.01, clf__estimator__penalty=l2, clf__estimator__solver=lbfgs, clf__estimator__tol=0.0001, score=0.051, total=   0.1s\n",
      "[CV] clf__estimator=LogisticRegression(), clf__estimator__C=0.01, clf__estimator__penalty=l2, clf__estimator__solver=liblinear, clf__estimator__tol=0.01 \n",
      "[CV]  clf__estimator=LogisticRegression(), clf__estimator__C=0.01, clf__estimator__penalty=l2, clf__estimator__solver=liblinear, clf__estimator__tol=0.01, score=-0.051, total=   0.0s\n",
      "[CV] clf__estimator=LogisticRegression(), clf__estimator__C=0.1, clf__estimator__penalty=l1, clf__estimator__solver=lbfgs, clf__estimator__tol=0.0001 \n",
      "[CV]  clf__estimator=LogisticRegression(), clf__estimator__C=0.1, clf__estimator__penalty=l1, clf__estimator__solver=lbfgs, clf__estimator__tol=0.0001, score=nan, total=   0.0s\n",
      "[CV] clf__estimator=LogisticRegression(), clf__estimator__C=0.1, clf__estimator__penalty=l1, clf__estimator__solver=liblinear, clf__estimator__tol=0.0001 \n",
      "[CV]  clf__estimator=LogisticRegression(), clf__estimator__C=0.1, clf__estimator__penalty=l1, clf__estimator__solver=liblinear, clf__estimator__tol=0.0001, score=0.070, total=   0.0s\n",
      "[CV] clf__estimator=LogisticRegression(), clf__estimator__C=1.0, clf__estimator__penalty=l1, clf__estimator__solver=lbfgs, clf__estimator__tol=0.001 \n",
      "[CV]  clf__estimator=LogisticRegression(), clf__estimator__C=1.0, clf__estimator__penalty=l1, clf__estimator__solver=lbfgs, clf__estimator__tol=0.001, score=nan, total=   0.0s\n",
      "[CV] clf__estimator=LogisticRegression(), clf__estimator__C=1.0, clf__estimator__penalty=l1, clf__estimator__solver=liblinear, clf__estimator__tol=0.01 \n",
      "[CV]  clf__estimator=LogisticRegression(), clf__estimator__C=1.0, clf__estimator__penalty=l1, clf__estimator__solver=liblinear, clf__estimator__tol=0.01, score=0.096, total=   0.0s[CV] clf__estimator=ExtraTreesClassifier(), clf__estimator__criterion=gini, clf__estimator__n_estimators=100 \n",
      "[CV]  clf__estimator=ExtraTreesClassifier(), clf__estimator__criterion=gini, clf__estimator__n_estimators=100, score=0.246, total=   1.1s\n",
      "[CV] clf__estimator=RandomForestClassifier(), clf__estimator__criterion=gini, clf__estimator__n_estimators=250 \n",
      "[CV]  clf__estimator=RandomForestClassifier(), clf__estimator__criterion=gini, clf__estimator__n_estimators=250, score=0.203, total=   3.5s\n",
      "[CV] clf__estimator=SVC(), clf__estimator__C=0.001, clf__estimator__degree=6, clf__estimator__kernel=sigmoid \n",
      "[CV]  clf__estimator=SVC(), clf__estimator__C=0.001, clf__estimator__degree=6, clf__estimator__kernel=sigmoid, score=-0.632, total=   0.2s\n",
      "[CV] clf__estimator=SVC(), clf__estimator__C=0.01, clf__estimator__degree=4, clf__estimator__kernel=rbf \n",
      "[CV]  clf__estimator=SVC(), clf__estimator__C=0.01, clf__estimator__degree=4, clf__estimator__kernel=rbf, score=-0.527, total=   0.1s\n",
      "[CV] clf__estimator=SVC(), clf__estimator__C=0.01, clf__estimator__degree=5, clf__estimator__kernel=rbf \n",
      "[CV]  clf__estimator=SVC(), clf__estimator__C=0.01, clf__estimator__degree=5, clf__estimator__kernel=rbf, score=-0.527, total=   0.1s\n",
      "[CV] clf__estimator=SVC(), clf__estimator__C=0.01, clf__estimator__degree=6, clf__estimator__kernel=rbf \n",
      "[CV]  clf__estimator=SVC(), clf__estimator__C=0.01, clf__estimator__degree=6, clf__estimator__kernel=rbf, score=-0.527, total=   0.1s\n",
      "[CV] clf__estimator=SVC(), clf__estimator__C=0.1, clf__estimator__degree=3, clf__estimator__kernel=rbf \n",
      "[CV]  clf__estimator=SVC(), clf__estimator__C=0.1, clf__estimator__degree=3, clf__estimator__kernel=rbf, score=0.188, total=   0.2s\n",
      "[CV] clf__estimator=SVC(), clf__estimator__C=0.1, clf__estimator__degree=4, clf__estimator__kernel=rbf \n",
      "[CV]  clf__estimator=SVC(), clf__estimator__C=0.1, clf__estimator__degree=4, clf__estimator__kernel=rbf, score=0.188, total=   0.1s\n",
      "[CV] clf__estimator=SVC(), clf__estimator__C=0.1, clf__estimator__degree=5, clf__estimator__kernel=rbf \n",
      "[CV]  clf__estimator=SVC(), clf__estimator__C=0.1, clf__estimator__degree=5, clf__estimator__kernel=rbf, score=0.306, total=   0.2s\n",
      "[CV] clf__estimator=SVC(), clf__estimator__C=0.1, clf__estimator__degree=6, clf__estimator__kernel=rbf \n",
      "[CV]  clf__estimator=SVC(), clf__estimator__C=0.1, clf__estimator__degree=6, clf__estimator__kernel=rbf, score=0.222, total=   0.1s\n",
      "[CV] clf__estimator=SVC(), clf__estimator__C=1.0, clf__estimator__degree=3, clf__estimator__kernel=sigmoid \n",
      "[CV]  clf__estimator=SVC(), clf__estimator__C=1.0, clf__estimator__degree=3, clf__estimator__kernel=sigmoid, score=-0.389, total=   0.1s\n",
      "[CV] clf__estimator=SVC(), clf__estimator__C=1.0, clf__estimator__degree=5, clf__estimator__kernel=rbf \n",
      "[CV]  clf__estimator=SVC(), clf__estimator__C=1.0, clf__estimator__degree=5, clf__estimator__kernel=rbf, score=0.326, total=   0.1s\n",
      "[CV] clf__estimator=SVC(), clf__estimator__C=1.0, clf__estimator__degree=6, clf__estimator__kernel=sigmoid \n",
      "[CV]  clf__estimator=SVC(), clf__estimator__C=1.0, clf__estimator__degree=6, clf__estimator__kernel=sigmoid, score=-0.328, total=   0.1s\n",
      "[CV] clf__estimator=SVC(), clf__estimator__C=10.0, clf__estimator__degree=4, clf__estimator__kernel=sigmoid \n",
      "[CV]  clf__estimator=SVC(), clf__estimator__C=10.0, clf__estimator__degree=4, clf__estimator__kernel=sigmoid, score=-0.328, total=   0.0s\n",
      "[CV] clf__estimator=SVC(), clf__estimator__C=10.0, clf__estimator__degree=6, clf__estimator__kernel=sigmoid \n",
      "[CV]  clf__estimator=SVC(), clf__estimator__C=10.0, clf__estimator__degree=6, clf__estimator__kernel=sigmoid, score=-0.328, total=   0.0s\n",
      "[CV] clf__estimator=SVC(), clf__estimator__C=100.0, clf__estimator__degree=4, clf__estimator__kernel=sigmoid \n",
      "[CV]  clf__estimator=SVC(), clf__estimator__C=100.0, clf__estimator__degree=4, clf__estimator__kernel=sigmoid, score=-0.439, total=   0.0s\n",
      "[CV] clf__estimator=SVC(), clf__estimator__C=100.0, clf__estimator__degree=6, clf__estimator__kernel=sigmoid \n",
      "[CV]  clf__estimator=SVC(), clf__estimator__C=100.0, clf__estimator__degree=6, clf__estimator__kernel=sigmoid, score=-0.439, total=   0.0s\n",
      "[CV] clf__estimator=SVC(), clf__estimator__C=1000.0, clf__estimator__degree=4, clf__estimator__kernel=sigmoid \n",
      "[CV]  clf__estimator=SVC(), clf__estimator__C=1000.0, clf__estimator__degree=4, clf__estimator__kernel=sigmoid, score=-0.439, total=   0.1s\n",
      "[CV] clf__estimator=SVC(), clf__estimator__C=1000.0, clf__estimator__degree=6, clf__estimator__kernel=rbf \n",
      "[CV]  clf__estimator=SVC(), clf__estimator__C=1000.0, clf__estimator__degree=6, clf__estimator__kernel=rbf, score=0.203, total=   0.2s\n",
      "[CV] clf__estimator=LogisticRegression(), clf__estimator__C=0.001, clf__estimator__penalty=l2, clf__estimator__solver=lbfgs, clf__estimator__tol=0.0001 \n",
      "[CV]  clf__estimator=LogisticRegression(), clf__estimator__C=0.001, clf__estimator__penalty=l2, clf__estimator__solver=lbfgs, clf__estimator__tol=0.0001, score=-0.613, total=   0.0s\n",
      "[CV] clf__estimator=LogisticRegression(), clf__estimator__C=0.001, clf__estimator__penalty=l2, clf__estimator__solver=liblinear, clf__estimator__tol=0.001 \n",
      "[CV]  clf__estimator=LogisticRegression(), clf__estimator__C=0.001, clf__estimator__penalty=l2, clf__estimator__solver=liblinear, clf__estimator__tol=0.001, score=-0.177, total=   0.0s\n",
      "[CV] clf__estimator=LogisticRegression(), clf__estimator__C=0.01, clf__estimator__penalty=l1, clf__estimator__solver=liblinear, clf__estimator__tol=0.01 \n",
      "[CV]  clf__estimator=LogisticRegression(), clf__estimator__C=0.01, clf__estimator__penalty=l1, clf__estimator__solver=liblinear, clf__estimator__tol=0.01, score=-0.632, total=   0.0s\n",
      "[CV] clf__estimator=LogisticRegression(), clf__estimator__C=0.01, clf__estimator__penalty=l2, clf__estimator__solver=lbfgs, clf__estimator__tol=0.001 \n",
      "[CV]  clf__estimator=LogisticRegression(), clf__estimator__C=0.01, clf__estimator__penalty=l2, clf__estimator__solver=lbfgs, clf__estimator__tol=0.001, score=0.266, total=   0.0s\n",
      "[CV] clf__estimator=LogisticRegression(), clf__estimator__C=0.01, clf__estimator__penalty=l2, clf__estimator__solver=liblinear, clf__estimator__tol=0.01 \n",
      "[CV]  clf__estimator=LogisticRegression(), clf__estimator__C=0.01, clf__estimator__penalty=l2, clf__estimator__solver=liblinear, clf__estimator__tol=0.01, score=0.266, total=   0.0s\n",
      "[CV] clf__estimator=LogisticRegression(), clf__estimator__C=0.1, clf__estimator__penalty=l1, clf__estimator__solver=lbfgs, clf__estimator__tol=0.0001 \n",
      "[CV]  clf__estimator=LogisticRegression(), clf__estimator__C=0.1, clf__estimator__penalty=l1, clf__estimator__solver=lbfgs, clf__estimator__tol=0.0001, score=nan, total=   0.0s\n",
      "[CV] clf__estimator=LogisticRegression(), clf__estimator__C=0.1, clf__estimator__penalty=l1, clf__estimator__solver=liblinear, clf__estimator__tol=0.001 \n",
      "[CV]  clf__estimator=LogisticRegression(), clf__estimator__C=0.1, clf__estimator__penalty=l1, clf__estimator__solver=liblinear, clf__estimator__tol=0.001, score=0.070, total=   0.0s\n",
      "[CV] clf__estimator=LogisticRegression(), clf__estimator__C=0.1, clf__estimator__penalty=l2, clf__estimator__solver=lbfgs, clf__estimator__tol=0.01 \n",
      "[CV]  clf__estimator=LogisticRegression(), clf__estimator__C=0.1, clf__estimator__penalty=l2, clf__estimator__solver=lbfgs, clf__estimator__tol=0.01, score=0.165, total=   0.0s\n",
      "[CV] clf__estimator=LogisticRegression(), clf__estimator__C=1.0, clf__estimator__penalty=l1, clf__estimator__solver=lbfgs, clf__estimator__tol=0.0001 \n",
      "[CV]  clf__estimator=LogisticRegression(), clf__estimator__C=1.0, clf__estimator__penalty=l1, clf__estimator__solver=lbfgs, clf__estimator__tol=0.0001, score=nan, total=   0.0s\n",
      "[CV] clf__estimator=LogisticRegression(), clf__estimator__C=1.0, clf__estimator__penalty=l1, clf__estimator__solver=liblinear, clf__estimator__tol=0.001 \n",
      "[CV]  clf__estimator=LogisticRegression(), clf__estimator__C=1.0, clf__estimator__penalty=l1, clf__estimator__solver=liblinear, clf__estimator__tol=0.001, score=0.260, total=   0.1s\n",
      "[CV] clf__estimator=LogisticRegression(), clf__estimator__C=1.0, clf__estimator__penalty=l2, clf__estimator__solver=lbfgs, clf__estimator__tol=0.01 \n",
      "[CV]  clf__estimator=LogisticRegression(), clf__estimator__C=1.0, clf__estimator__penalty=l2, clf__estimator__solver=lbfgs, clf__estimator__tol=0.01, score=0.298, total=   0.1s[CV] clf__estimator=DecisionTreeClassifier(), clf__estimator__criterion=entropy \n",
      "[CV]  clf__estimator=DecisionTreeClassifier(), clf__estimator__criterion=entropy, score=-0.033, total=   0.1s\n",
      "[CV] clf__estimator=ExtraTreesClassifier(), clf__estimator__criterion=entropy, clf__estimator__n_estimators=100 \n",
      "[CV]  clf__estimator=ExtraTreesClassifier(), clf__estimator__criterion=entropy, clf__estimator__n_estimators=100, score=0.226, total=   1.1s\n",
      "[CV] clf__estimator=RandomForestClassifier(), clf__estimator__criterion=gini, clf__estimator__n_estimators=100 \n",
      "[CV]  clf__estimator=RandomForestClassifier(), clf__estimator__criterion=gini, clf__estimator__n_estimators=100, score=0.170, total=   1.5s\n",
      "[CV] clf__estimator=RandomForestClassifier(), clf__estimator__criterion=entropy, clf__estimator__n_estimators=100 \n",
      "[CV]  clf__estimator=RandomForestClassifier(), clf__estimator__criterion=entropy, clf__estimator__n_estimators=100, score=0.188, total=   0.9s\n",
      "[CV] clf__estimator=RandomForestClassifier(), clf__estimator__criterion=entropy, clf__estimator__n_estimators=250 \n",
      "[CV]  clf__estimator=RandomForestClassifier(), clf__estimator__criterion=entropy, clf__estimator__n_estimators=250, score=0.326, total=   3.0s\n",
      "[CV] clf__estimator=SVC(), clf__estimator__C=0.1, clf__estimator__degree=5, clf__estimator__kernel=sigmoid \n",
      "[CV]  clf__estimator=SVC(), clf__estimator__C=0.1, clf__estimator__degree=5, clf__estimator__kernel=sigmoid, score=-0.070, total=   0.2s\n",
      "[CV] clf__estimator=SVC(), clf__estimator__C=1.0, clf__estimator__degree=3, clf__estimator__kernel=rbf \n",
      "[CV]  clf__estimator=SVC(), clf__estimator__C=1.0, clf__estimator__degree=3, clf__estimator__kernel=rbf, score=0.188, total=   0.1s\n",
      "[CV] clf__estimator=SVC(), clf__estimator__C=1.0, clf__estimator__degree=4, clf__estimator__kernel=sigmoid \n",
      "[CV]  clf__estimator=SVC(), clf__estimator__C=1.0, clf__estimator__degree=4, clf__estimator__kernel=sigmoid, score=-0.328, total=   0.1s\n",
      "[CV] clf__estimator=SVC(), clf__estimator__C=1.0, clf__estimator__degree=6, clf__estimator__kernel=rbf \n",
      "[CV]  clf__estimator=SVC(), clf__estimator__C=1.0, clf__estimator__degree=6, clf__estimator__kernel=rbf, score=0.188, total=   0.1s\n",
      "[CV] clf__estimator=SVC(), clf__estimator__C=10.0, clf__estimator__degree=3, clf__estimator__kernel=sigmoid \n",
      "[CV]  clf__estimator=SVC(), clf__estimator__C=10.0, clf__estimator__degree=3, clf__estimator__kernel=sigmoid, score=-0.547, total=   0.1s\n",
      "[CV] clf__estimator=SVC(), clf__estimator__C=10.0, clf__estimator__degree=5, clf__estimator__kernel=sigmoid \n",
      "[CV]  clf__estimator=SVC(), clf__estimator__C=10.0, clf__estimator__degree=5, clf__estimator__kernel=sigmoid, score=-0.547, total=   0.0s\n",
      "[CV] clf__estimator=SVC(), clf__estimator__C=100.0, clf__estimator__degree=3, clf__estimator__kernel=sigmoid \n",
      "[CV]  clf__estimator=SVC(), clf__estimator__C=100.0, clf__estimator__degree=3, clf__estimator__kernel=sigmoid, score=-0.547, total=   0.0s\n",
      "[CV] clf__estimator=SVC(), clf__estimator__C=100.0, clf__estimator__degree=5, clf__estimator__kernel=sigmoid \n",
      "[CV]  clf__estimator=SVC(), clf__estimator__C=100.0, clf__estimator__degree=5, clf__estimator__kernel=sigmoid, score=-0.547, total=   0.0s\n",
      "[CV] clf__estimator=SVC(), clf__estimator__C=1000.0, clf__estimator__degree=3, clf__estimator__kernel=sigmoid \n",
      "[CV]  clf__estimator=SVC(), clf__estimator__C=1000.0, clf__estimator__degree=3, clf__estimator__kernel=sigmoid, score=-0.527, total=   0.1s\n",
      "[CV] clf__estimator=SVC(), clf__estimator__C=1000.0, clf__estimator__degree=5, clf__estimator__kernel=sigmoid \n",
      "[CV]  clf__estimator=SVC(), clf__estimator__C=1000.0, clf__estimator__degree=5, clf__estimator__kernel=sigmoid, score=-0.527, total=   0.1s\n",
      "[CV] clf__estimator=LogisticRegression(), clf__estimator__C=0.001, clf__estimator__penalty=l1, clf__estimator__solver=lbfgs, clf__estimator__tol=0.001 \n",
      "[CV]  clf__estimator=LogisticRegression(), clf__estimator__C=0.001, clf__estimator__penalty=l1, clf__estimator__solver=lbfgs, clf__estimator__tol=0.001, score=nan, total=   0.0s\n",
      "[CV] clf__estimator=LogisticRegression(), clf__estimator__C=0.001, clf__estimator__penalty=l1, clf__estimator__solver=liblinear, clf__estimator__tol=0.001 \n",
      "[CV]  clf__estimator=LogisticRegression(), clf__estimator__C=0.001, clf__estimator__penalty=l1, clf__estimator__solver=liblinear, clf__estimator__tol=0.001, score=-0.632, total=   0.0s\n",
      "[CV] clf__estimator=LogisticRegression(), clf__estimator__C=0.001, clf__estimator__penalty=l2, clf__estimator__solver=lbfgs, clf__estimator__tol=0.01 \n",
      "[CV]  clf__estimator=LogisticRegression(), clf__estimator__C=0.001, clf__estimator__penalty=l2, clf__estimator__solver=lbfgs, clf__estimator__tol=0.01, score=-0.613, total=   0.0s\n",
      "[CV] clf__estimator=LogisticRegression(), clf__estimator__C=0.01, clf__estimator__penalty=l1, clf__estimator__solver=lbfgs, clf__estimator__tol=0.0001 \n",
      "[CV]  clf__estimator=LogisticRegression(), clf__estimator__C=0.01, clf__estimator__penalty=l1, clf__estimator__solver=lbfgs, clf__estimator__tol=0.0001, score=nan, total=   0.0s\n",
      "[CV] clf__estimator=LogisticRegression(), clf__estimator__C=0.01, clf__estimator__penalty=l1, clf__estimator__solver=liblinear, clf__estimator__tol=0.001 \n",
      "[CV]  clf__estimator=LogisticRegression(), clf__estimator__C=0.01, clf__estimator__penalty=l1, clf__estimator__solver=liblinear, clf__estimator__tol=0.001, score=-0.632, total=   0.0s\n",
      "[CV] clf__estimator=LogisticRegression(), clf__estimator__C=0.01, clf__estimator__penalty=l2, clf__estimator__solver=lbfgs, clf__estimator__tol=0.01 \n",
      "[CV]  clf__estimator=LogisticRegression(), clf__estimator__C=0.01, clf__estimator__penalty=l2, clf__estimator__solver=lbfgs, clf__estimator__tol=0.01, score=0.051, total=   0.0s\n",
      "[CV] clf__estimator=LogisticRegression(), clf__estimator__C=0.1, clf__estimator__penalty=l1, clf__estimator__solver=lbfgs, clf__estimator__tol=0.0001 \n",
      "[CV]  clf__estimator=LogisticRegression(), clf__estimator__C=0.1, clf__estimator__penalty=l1, clf__estimator__solver=lbfgs, clf__estimator__tol=0.0001, score=nan, total=   0.0s\n",
      "[CV] clf__estimator=LogisticRegression(), clf__estimator__C=0.1, clf__estimator__penalty=l1, clf__estimator__solver=liblinear, clf__estimator__tol=0.001 \n",
      "[CV]  clf__estimator=LogisticRegression(), clf__estimator__C=0.1, clf__estimator__penalty=l1, clf__estimator__solver=liblinear, clf__estimator__tol=0.001, score=0.078, total=   0.0s\n",
      "[CV] clf__estimator=LogisticRegression(), clf__estimator__C=0.1, clf__estimator__penalty=l1, clf__estimator__solver=liblinear, clf__estimator__tol=0.01 \n",
      "[CV]  clf__estimator=LogisticRegression(), clf__estimator__C=0.1, clf__estimator__penalty=l1, clf__estimator__solver=liblinear, clf__estimator__tol=0.01, score=0.078, total=   0.0s\n",
      "[CV] clf__estimator=LogisticRegression(), clf__estimator__C=0.1, clf__estimator__penalty=l2, clf__estimator__solver=liblinear, clf__estimator__tol=0.0001 \n",
      "[CV]  clf__estimator=LogisticRegression(), clf__estimator__C=0.1, clf__estimator__penalty=l2, clf__estimator__solver=liblinear, clf__estimator__tol=0.0001, score=0.152, total=   0.0s\n",
      "[CV] clf__estimator=LogisticRegression(), clf__estimator__C=0.1, clf__estimator__penalty=l2, clf__estimator__solver=liblinear, clf__estimator__tol=0.001 \n",
      "[CV]  clf__estimator=LogisticRegression(), clf__estimator__C=0.1, clf__estimator__penalty=l2, clf__estimator__solver=liblinear, clf__estimator__tol=0.001, score=0.152, total=   0.0s\n",
      "[CV] clf__estimator=LogisticRegression(), clf__estimator__C=1.0, clf__estimator__penalty=l1, clf__estimator__solver=lbfgs, clf__estimator__tol=0.01 \n",
      "[CV]  clf__estimator=LogisticRegression(), clf__estimator__C=1.0, clf__estimator__penalty=l1, clf__estimator__solver=lbfgs, clf__estimator__tol=0.01, score=nan, total=   0.0s\n",
      "[CV] clf__estimator=LogisticRegression(), clf__estimator__C=1.0, clf__estimator__penalty=l2, clf__estimator__solver=lbfgs, clf__estimator__tol=0.0001 \n",
      "[CV]  clf__estimator=LogisticRegression(), clf__estimator__C=1.0, clf__estimator__penalty=l2, clf__estimator__solver=lbfgs, clf__estimator__tol=0.0001, score=0.170, total=   0.1s\n",
      "[CV] clf__estimator=LogisticRegression(), clf__estimator__C=1.0, clf__estimator__penalty=l2, clf__estimator__solver=liblinear, clf__estimator__tol=0.001 \n",
      "[CV]  clf__estimator=LogisticRegression(), clf__estimator__C=1.0, clf__estimator__penalty=l2, clf__estimator__solver=liblinear, clf__estimator__tol=0.001, score=0.170, total=   0.0s[CV] clf__estimator=DecisionTreeClassifier(), clf__estimator__criterion=gini \n",
      "[CV]  clf__estimator=DecisionTreeClassifier(), clf__estimator__criterion=gini, score=0.146, total=   0.1s\n",
      "[CV] clf__estimator=ExtraTreesClassifier(), clf__estimator__criterion=entropy, clf__estimator__n_estimators=100 \n",
      "[CV]  clf__estimator=ExtraTreesClassifier(), clf__estimator__criterion=entropy, clf__estimator__n_estimators=100, score=0.184, total=   1.2s\n",
      "[CV] clf__estimator=RandomForestClassifier(), clf__estimator__criterion=gini, clf__estimator__n_estimators=100 \n",
      "[CV]  clf__estimator=RandomForestClassifier(), clf__estimator__criterion=gini, clf__estimator__n_estimators=100, score=0.165, total=   1.7s\n",
      "[CV] clf__estimator=RandomForestClassifier(), clf__estimator__criterion=entropy, clf__estimator__n_estimators=250 \n",
      "[CV]  clf__estimator=RandomForestClassifier(), clf__estimator__criterion=entropy, clf__estimator__n_estimators=250, score=0.133, total=   2.8s\n",
      "[CV] clf__estimator=SVC(), clf__estimator__C=0.1, clf__estimator__degree=3, clf__estimator__kernel=sigmoid \n",
      "[CV]  clf__estimator=SVC(), clf__estimator__C=0.1, clf__estimator__degree=3, clf__estimator__kernel=sigmoid, score=0.127, total=   0.1s\n",
      "[CV] clf__estimator=SVC(), clf__estimator__C=0.1, clf__estimator__degree=4, clf__estimator__kernel=sigmoid \n",
      "[CV]  clf__estimator=SVC(), clf__estimator__C=0.1, clf__estimator__degree=4, clf__estimator__kernel=sigmoid, score=-0.070, total=   0.2s\n",
      "[CV] clf__estimator=SVC(), clf__estimator__C=0.1, clf__estimator__degree=5, clf__estimator__kernel=sigmoid \n",
      "[CV]  clf__estimator=SVC(), clf__estimator__C=0.1, clf__estimator__degree=5, clf__estimator__kernel=sigmoid, score=0.051, total=   0.2s\n",
      "[CV] clf__estimator=SVC(), clf__estimator__C=1.0, clf__estimator__degree=3, clf__estimator__kernel=sigmoid \n",
      "[CV]  clf__estimator=SVC(), clf__estimator__C=1.0, clf__estimator__degree=3, clf__estimator__kernel=sigmoid, score=-0.328, total=   0.1s\n",
      "[CV] clf__estimator=SVC(), clf__estimator__C=1.0, clf__estimator__degree=5, clf__estimator__kernel=rbf \n",
      "[CV]  clf__estimator=SVC(), clf__estimator__C=1.0, clf__estimator__degree=5, clf__estimator__kernel=rbf, score=0.188, total=   0.2s\n",
      "[CV] clf__estimator=SVC(), clf__estimator__C=1.0, clf__estimator__degree=6, clf__estimator__kernel=sigmoid \n",
      "[CV]  clf__estimator=SVC(), clf__estimator__C=1.0, clf__estimator__degree=6, clf__estimator__kernel=sigmoid, score=-0.389, total=   0.1s\n",
      "[CV] clf__estimator=SVC(), clf__estimator__C=10.0, clf__estimator__degree=4, clf__estimator__kernel=rbf \n",
      "[CV]  clf__estimator=SVC(), clf__estimator__C=10.0, clf__estimator__degree=4, clf__estimator__kernel=rbf, score=0.260, total=   0.0s\n",
      "[CV] clf__estimator=SVC(), clf__estimator__C=10.0, clf__estimator__degree=6, clf__estimator__kernel=rbf \n",
      "[CV]  clf__estimator=SVC(), clf__estimator__C=10.0, clf__estimator__degree=6, clf__estimator__kernel=rbf, score=0.260, total=   0.0s\n",
      "[CV] clf__estimator=SVC(), clf__estimator__C=100.0, clf__estimator__degree=4, clf__estimator__kernel=rbf \n",
      "[CV]  clf__estimator=SVC(), clf__estimator__C=100.0, clf__estimator__degree=4, clf__estimator__kernel=rbf, score=0.165, total=   0.0s\n",
      "[CV] clf__estimator=SVC(), clf__estimator__C=100.0, clf__estimator__degree=4, clf__estimator__kernel=sigmoid \n",
      "[CV]  clf__estimator=SVC(), clf__estimator__C=100.0, clf__estimator__degree=4, clf__estimator__kernel=sigmoid, score=-0.291, total=   0.0s\n",
      "[CV] clf__estimator=SVC(), clf__estimator__C=100.0, clf__estimator__degree=6, clf__estimator__kernel=sigmoid \n",
      "[CV]  clf__estimator=SVC(), clf__estimator__C=100.0, clf__estimator__degree=6, clf__estimator__kernel=sigmoid, score=-0.291, total=   0.0s\n",
      "[CV] clf__estimator=SVC(), clf__estimator__C=1000.0, clf__estimator__degree=4, clf__estimator__kernel=sigmoid \n",
      "[CV]  clf__estimator=SVC(), clf__estimator__C=1000.0, clf__estimator__degree=4, clf__estimator__kernel=sigmoid, score=-0.291, total=   0.1s\n",
      "[CV] clf__estimator=LogisticRegression(), clf__estimator__C=0.001, clf__estimator__penalty=l1, clf__estimator__solver=lbfgs, clf__estimator__tol=0.001 \n",
      "[CV]  clf__estimator=LogisticRegression(), clf__estimator__C=0.001, clf__estimator__penalty=l1, clf__estimator__solver=lbfgs, clf__estimator__tol=0.001, score=nan, total=   0.0s\n",
      "[CV] clf__estimator=LogisticRegression(), clf__estimator__C=0.001, clf__estimator__penalty=l1, clf__estimator__solver=liblinear, clf__estimator__tol=0.01 \n",
      "[CV]  clf__estimator=LogisticRegression(), clf__estimator__C=0.001, clf__estimator__penalty=l1, clf__estimator__solver=liblinear, clf__estimator__tol=0.01, score=-0.715, total=   0.0s\n",
      "[CV] clf__estimator=LogisticRegression(), clf__estimator__C=0.001, clf__estimator__penalty=l2, clf__estimator__solver=liblinear, clf__estimator__tol=0.0001 \n",
      "[CV]  clf__estimator=LogisticRegression(), clf__estimator__C=0.001, clf__estimator__penalty=l2, clf__estimator__solver=liblinear, clf__estimator__tol=0.0001, score=-0.346, total=   0.0s\n",
      "[CV] clf__estimator=LogisticRegression(), clf__estimator__C=0.01, clf__estimator__penalty=l1, clf__estimator__solver=lbfgs, clf__estimator__tol=0.001 \n",
      "[CV]  clf__estimator=LogisticRegression(), clf__estimator__C=0.01, clf__estimator__penalty=l1, clf__estimator__solver=lbfgs, clf__estimator__tol=0.001, score=nan, total=   0.0s\n",
      "[CV] clf__estimator=LogisticRegression(), clf__estimator__C=0.01, clf__estimator__penalty=l1, clf__estimator__solver=liblinear, clf__estimator__tol=0.01 \n",
      "[CV]  clf__estimator=LogisticRegression(), clf__estimator__C=0.01, clf__estimator__penalty=l1, clf__estimator__solver=liblinear, clf__estimator__tol=0.01, score=-0.715, total=   0.0s\n",
      "[CV] clf__estimator=LogisticRegression(), clf__estimator__C=0.01, clf__estimator__penalty=l2, clf__estimator__solver=liblinear, clf__estimator__tol=0.0001 \n",
      "[CV]  clf__estimator=LogisticRegression(), clf__estimator__C=0.01, clf__estimator__penalty=l2, clf__estimator__solver=liblinear, clf__estimator__tol=0.0001, score=-0.051, total=   0.0s\n",
      "[CV] clf__estimator=LogisticRegression(), clf__estimator__C=0.1, clf__estimator__penalty=l1, clf__estimator__solver=liblinear, clf__estimator__tol=0.0001 \n",
      "[CV]  clf__estimator=LogisticRegression(), clf__estimator__C=0.1, clf__estimator__penalty=l1, clf__estimator__solver=liblinear, clf__estimator__tol=0.0001, score=0.286, total=   0.0s\n",
      "[CV] clf__estimator=LogisticRegression(), clf__estimator__C=0.1, clf__estimator__penalty=l2, clf__estimator__solver=lbfgs, clf__estimator__tol=0.001 \n",
      "[CV]  clf__estimator=LogisticRegression(), clf__estimator__C=0.1, clf__estimator__penalty=l2, clf__estimator__solver=lbfgs, clf__estimator__tol=0.001, score=0.326, total=   0.0s\n",
      "[CV] clf__estimator=LogisticRegression(), clf__estimator__C=0.1, clf__estimator__penalty=l2, clf__estimator__solver=liblinear, clf__estimator__tol=0.01 \n",
      "[CV]  clf__estimator=LogisticRegression(), clf__estimator__C=0.1, clf__estimator__penalty=l2, clf__estimator__solver=liblinear, clf__estimator__tol=0.01, score=0.152, total=   0.0s\n",
      "[CV] clf__estimator=LogisticRegression(), clf__estimator__C=1.0, clf__estimator__penalty=l1, clf__estimator__solver=liblinear, clf__estimator__tol=0.0001 \n",
      "[CV]  clf__estimator=LogisticRegression(), clf__estimator__C=1.0, clf__estimator__penalty=l1, clf__estimator__solver=liblinear, clf__estimator__tol=0.0001, score=0.096, total=   0.0s\n",
      "[CV] clf__estimator=LogisticRegression(), clf__estimator__C=1.0, clf__estimator__penalty=l1, clf__estimator__solver=liblinear, clf__estimator__tol=0.01 \n",
      "[CV]  clf__estimator=LogisticRegression(), clf__estimator__C=1.0, clf__estimator__penalty=l1, clf__estimator__solver=liblinear, clf__estimator__tol=0.01, score=0.385, total=   0.0s\n",
      "[CV] clf__estimator=LogisticRegression(), clf__estimator__C=1.0, clf__estimator__penalty=l2, clf__estimator__solver=liblinear, clf__estimator__tol=0.0001 \n",
      "[CV]  clf__estimator=LogisticRegression(), clf__estimator__C=1.0, clf__estimator__penalty=l2, clf__estimator__solver=liblinear, clf__estimator__tol=0.0001, score=0.170, total=   0.0s\n",
      "[CV] clf__estimator=LogisticRegression(), clf__estimator__C=10.0, clf__estimator__penalty=l1, clf__estimator__solver=lbfgs, clf__estimator__tol=0.0001 \n",
      "[CV]  clf__estimator=LogisticRegression(), clf__estimator__C=10.0, clf__estimator__penalty=l1, clf__estimator__solver=lbfgs, clf__estimator__tol=0.0001, score=nan, total=   0.0s"
     ]
    },
    {
     "name": "stderr",
     "output_type": "stream",
     "text": [
      "/opt/conda/lib/python3.7/site-packages/sklearn/model_selection/_validation.py:552: FitFailedWarning: Estimator fit failed. The score on this train-test partition for these parameters will be set to nan. Details: \n",
      "Traceback (most recent call last):\n",
      "  File \"/opt/conda/lib/python3.7/site-packages/sklearn/model_selection/_validation.py\", line 531, in _fit_and_score\n",
      "    estimator.fit(X_train, y_train, **fit_params)\n",
      "  File \"/opt/conda/lib/python3.7/site-packages/sklearn/pipeline.py\", line 335, in fit\n",
      "    self._final_estimator.fit(Xt, y, **fit_params_last_step)\n",
      "  File \"/tmp/ipykernel_20/3915449350.py\", line 15, in fit\n",
      "  File \"/opt/conda/lib/python3.7/site-packages/sklearn/linear_model/_logistic.py\", line 1304, in fit\n",
      "    solver = _check_solver(self.solver, self.penalty, self.dual)\n",
      "  File \"/opt/conda/lib/python3.7/site-packages/sklearn/linear_model/_logistic.py\", line 443, in _check_solver\n",
      "    \"got %s penalty.\" % (solver, penalty))\n",
      "ValueError: Solver lbfgs supports only 'l2' or 'none' penalties, got l1 penalty.\n",
      "\n",
      "  FitFailedWarning)\n",
      "/opt/conda/lib/python3.7/site-packages/sklearn/model_selection/_validation.py:552: FitFailedWarning: Estimator fit failed. The score on this train-test partition for these parameters will be set to nan. Details: \n",
      "Traceback (most recent call last):\n",
      "  File \"/opt/conda/lib/python3.7/site-packages/sklearn/model_selection/_validation.py\", line 531, in _fit_and_score\n",
      "    estimator.fit(X_train, y_train, **fit_params)\n",
      "  File \"/opt/conda/lib/python3.7/site-packages/sklearn/pipeline.py\", line 335, in fit\n",
      "    self._final_estimator.fit(Xt, y, **fit_params_last_step)\n",
      "  File \"/tmp/ipykernel_20/3915449350.py\", line 15, in fit\n",
      "  File \"/opt/conda/lib/python3.7/site-packages/sklearn/linear_model/_logistic.py\", line 1304, in fit\n",
      "    solver = _check_solver(self.solver, self.penalty, self.dual)\n",
      "  File \"/opt/conda/lib/python3.7/site-packages/sklearn/linear_model/_logistic.py\", line 443, in _check_solver\n",
      "    \"got %s penalty.\" % (solver, penalty))\n",
      "ValueError: Solver lbfgs supports only 'l2' or 'none' penalties, got l1 penalty.\n",
      "\n",
      "  FitFailedWarning)\n",
      "/opt/conda/lib/python3.7/site-packages/sklearn/model_selection/_validation.py:552: FitFailedWarning: Estimator fit failed. The score on this train-test partition for these parameters will be set to nan. Details: \n",
      "Traceback (most recent call last):\n",
      "  File \"/opt/conda/lib/python3.7/site-packages/sklearn/model_selection/_validation.py\", line 531, in _fit_and_score\n",
      "    estimator.fit(X_train, y_train, **fit_params)\n",
      "  File \"/opt/conda/lib/python3.7/site-packages/sklearn/pipeline.py\", line 335, in fit\n",
      "    self._final_estimator.fit(Xt, y, **fit_params_last_step)\n",
      "  File \"/tmp/ipykernel_20/3915449350.py\", line 15, in fit\n",
      "  File \"/opt/conda/lib/python3.7/site-packages/sklearn/linear_model/_logistic.py\", line 1304, in fit\n",
      "    solver = _check_solver(self.solver, self.penalty, self.dual)\n",
      "  File \"/opt/conda/lib/python3.7/site-packages/sklearn/linear_model/_logistic.py\", line 443, in _check_solver\n",
      "    \"got %s penalty.\" % (solver, penalty))\n",
      "ValueError: Solver lbfgs supports only 'l2' or 'none' penalties, got l1 penalty.\n",
      "\n",
      "  FitFailedWarning)\n",
      "/opt/conda/lib/python3.7/site-packages/sklearn/model_selection/_validation.py:552: FitFailedWarning: Estimator fit failed. The score on this train-test partition for these parameters will be set to nan. Details: \n",
      "Traceback (most recent call last):\n",
      "  File \"/opt/conda/lib/python3.7/site-packages/sklearn/model_selection/_validation.py\", line 531, in _fit_and_score\n",
      "    estimator.fit(X_train, y_train, **fit_params)\n",
      "  File \"/opt/conda/lib/python3.7/site-packages/sklearn/pipeline.py\", line 335, in fit\n",
      "    self._final_estimator.fit(Xt, y, **fit_params_last_step)\n",
      "  File \"/tmp/ipykernel_20/3915449350.py\", line 15, in fit\n",
      "  File \"/opt/conda/lib/python3.7/site-packages/sklearn/linear_model/_logistic.py\", line 1304, in fit\n",
      "    solver = _check_solver(self.solver, self.penalty, self.dual)\n",
      "  File \"/opt/conda/lib/python3.7/site-packages/sklearn/linear_model/_logistic.py\", line 443, in _check_solver\n",
      "    \"got %s penalty.\" % (solver, penalty))\n",
      "ValueError: Solver lbfgs supports only 'l2' or 'none' penalties, got l1 penalty.\n",
      "\n",
      "  FitFailedWarning)\n",
      "/opt/conda/lib/python3.7/site-packages/sklearn/model_selection/_validation.py:552: FitFailedWarning: Estimator fit failed. The score on this train-test partition for these parameters will be set to nan. Details: \n",
      "Traceback (most recent call last):\n",
      "  File \"/opt/conda/lib/python3.7/site-packages/sklearn/model_selection/_validation.py\", line 531, in _fit_and_score\n",
      "    estimator.fit(X_train, y_train, **fit_params)\n",
      "  File \"/opt/conda/lib/python3.7/site-packages/sklearn/pipeline.py\", line 335, in fit\n",
      "    self._final_estimator.fit(Xt, y, **fit_params_last_step)\n",
      "  File \"/tmp/ipykernel_20/3915449350.py\", line 15, in fit\n",
      "  File \"/opt/conda/lib/python3.7/site-packages/sklearn/linear_model/_logistic.py\", line 1304, in fit\n",
      "    solver = _check_solver(self.solver, self.penalty, self.dual)\n",
      "  File \"/opt/conda/lib/python3.7/site-packages/sklearn/linear_model/_logistic.py\", line 443, in _check_solver\n",
      "    \"got %s penalty.\" % (solver, penalty))\n",
      "ValueError: Solver lbfgs supports only 'l2' or 'none' penalties, got l1 penalty.\n",
      "\n",
      "  FitFailedWarning)\n",
      "/opt/conda/lib/python3.7/site-packages/sklearn/model_selection/_validation.py:552: FitFailedWarning: Estimator fit failed. The score on this train-test partition for these parameters will be set to nan. Details: \n",
      "Traceback (most recent call last):\n",
      "  File \"/opt/conda/lib/python3.7/site-packages/sklearn/model_selection/_validation.py\", line 531, in _fit_and_score\n",
      "    estimator.fit(X_train, y_train, **fit_params)\n",
      "  File \"/opt/conda/lib/python3.7/site-packages/sklearn/pipeline.py\", line 335, in fit\n",
      "    self._final_estimator.fit(Xt, y, **fit_params_last_step)\n",
      "  File \"/tmp/ipykernel_20/3915449350.py\", line 15, in fit\n",
      "  File \"/opt/conda/lib/python3.7/site-packages/sklearn/linear_model/_logistic.py\", line 1304, in fit\n",
      "    solver = _check_solver(self.solver, self.penalty, self.dual)\n",
      "  File \"/opt/conda/lib/python3.7/site-packages/sklearn/linear_model/_logistic.py\", line 443, in _check_solver\n",
      "    \"got %s penalty.\" % (solver, penalty))\n",
      "ValueError: Solver lbfgs supports only 'l2' or 'none' penalties, got l1 penalty.\n",
      "\n",
      "  FitFailedWarning)\n",
      "/opt/conda/lib/python3.7/site-packages/sklearn/model_selection/_validation.py:552: FitFailedWarning: Estimator fit failed. The score on this train-test partition for these parameters will be set to nan. Details: \n",
      "Traceback (most recent call last):\n",
      "  File \"/opt/conda/lib/python3.7/site-packages/sklearn/model_selection/_validation.py\", line 531, in _fit_and_score\n",
      "    estimator.fit(X_train, y_train, **fit_params)\n",
      "  File \"/opt/conda/lib/python3.7/site-packages/sklearn/pipeline.py\", line 335, in fit\n",
      "    self._final_estimator.fit(Xt, y, **fit_params_last_step)\n",
      "  File \"/tmp/ipykernel_20/3915449350.py\", line 15, in fit\n",
      "  File \"/opt/conda/lib/python3.7/site-packages/sklearn/linear_model/_logistic.py\", line 1417, in fit\n",
      "    for class_, warm_start_coef_ in zip(classes_, warm_start_coef))\n",
      "  File \"/opt/conda/lib/python3.7/site-packages/joblib/parallel.py\", line 1043, in __call__\n",
      "    if self.dispatch_one_batch(iterator):\n",
      "  File \"/opt/conda/lib/python3.7/site-packages/joblib/parallel.py\", line 861, in dispatch_one_batch\n",
      "    self._dispatch(tasks)\n",
      "  File \"/opt/conda/lib/python3.7/site-packages/joblib/parallel.py\", line 779, in _dispatch\n",
      "    job = self._backend.apply_async(batch, callback=cb)\n",
      "  File \"/opt/conda/lib/python3.7/site-packages/joblib/_parallel_backends.py\", line 208, in apply_async\n",
      "    result = ImmediateResult(func)\n",
      "  File \"/opt/conda/lib/python3.7/site-packages/joblib/_parallel_backends.py\", line 572, in __init__\n",
      "    self.results = batch()\n",
      "  File \"/opt/conda/lib/python3.7/site-packages/joblib/parallel.py\", line 263, in __call__\n",
      "    for func, args, kwargs in self.items]\n",
      "  File \"/opt/conda/lib/python3.7/site-packages/joblib/parallel.py\", line 263, in <listcomp>\n",
      "    for func, args, kwargs in self.items]\n",
      "  File \"/opt/conda/lib/python3.7/site-packages/sklearn/linear_model/_logistic.py\", line 764, in _logistic_regression_path\n",
      "    extra_warning_msg=_LOGISTIC_SOLVER_CONVERGENCE_MSG)\n",
      "  File \"/opt/conda/lib/python3.7/site-packages/sklearn/utils/optimize.py\", line 243, in _check_optimize_result\n",
      "    ).format(solver, result.status, result.message.decode(\"latin1\"))\n",
      "AttributeError: 'str' object has no attribute 'decode'\n",
      "\n",
      "  FitFailedWarning)\n",
      "/opt/conda/lib/python3.7/site-packages/sklearn/model_selection/_validation.py:552: FitFailedWarning: Estimator fit failed. The score on this train-test partition for these parameters will be set to nan. Details: \n",
      "Traceback (most recent call last):\n",
      "  File \"/opt/conda/lib/python3.7/site-packages/sklearn/model_selection/_validation.py\", line 531, in _fit_and_score\n",
      "    estimator.fit(X_train, y_train, **fit_params)\n",
      "  File \"/opt/conda/lib/python3.7/site-packages/sklearn/pipeline.py\", line 335, in fit\n",
      "    self._final_estimator.fit(Xt, y, **fit_params_last_step)\n",
      "  File \"/tmp/ipykernel_20/3915449350.py\", line 15, in fit\n",
      "  File \"/opt/conda/lib/python3.7/site-packages/sklearn/linear_model/_logistic.py\", line 1304, in fit\n",
      "    solver = _check_solver(self.solver, self.penalty, self.dual)\n",
      "  File \"/opt/conda/lib/python3.7/site-packages/sklearn/linear_model/_logistic.py\", line 443, in _check_solver\n",
      "    \"got %s penalty.\" % (solver, penalty))\n",
      "ValueError: Solver lbfgs supports only 'l2' or 'none' penalties, got l1 penalty.\n",
      "\n",
      "  FitFailedWarning)\n",
      "/opt/conda/lib/python3.7/site-packages/sklearn/model_selection/_validation.py:552: FitFailedWarning: Estimator fit failed. The score on this train-test partition for these parameters will be set to nan. Details: \n",
      "Traceback (most recent call last):\n",
      "  File \"/opt/conda/lib/python3.7/site-packages/sklearn/model_selection/_validation.py\", line 531, in _fit_and_score\n",
      "    estimator.fit(X_train, y_train, **fit_params)\n",
      "  File \"/opt/conda/lib/python3.7/site-packages/sklearn/pipeline.py\", line 335, in fit\n",
      "    self._final_estimator.fit(Xt, y, **fit_params_last_step)\n",
      "  File \"/tmp/ipykernel_20/3915449350.py\", line 15, in fit\n",
      "  File \"/opt/conda/lib/python3.7/site-packages/sklearn/linear_model/_logistic.py\", line 1304, in fit\n",
      "    solver = _check_solver(self.solver, self.penalty, self.dual)\n",
      "  File \"/opt/conda/lib/python3.7/site-packages/sklearn/linear_model/_logistic.py\", line 443, in _check_solver\n",
      "    \"got %s penalty.\" % (solver, penalty))\n",
      "ValueError: Solver lbfgs supports only 'l2' or 'none' penalties, got l1 penalty.\n",
      "\n",
      "  FitFailedWarning)\n",
      "/opt/conda/lib/python3.7/site-packages/sklearn/model_selection/_validation.py:552: FitFailedWarning: Estimator fit failed. The score on this train-test partition for these parameters will be set to nan. Details: \n",
      "Traceback (most recent call last):\n",
      "  File \"/opt/conda/lib/python3.7/site-packages/sklearn/model_selection/_validation.py\", line 531, in _fit_and_score\n",
      "    estimator.fit(X_train, y_train, **fit_params)\n",
      "  File \"/opt/conda/lib/python3.7/site-packages/sklearn/pipeline.py\", line 335, in fit\n",
      "    self._final_estimator.fit(Xt, y, **fit_params_last_step)\n",
      "  File \"/tmp/ipykernel_20/3915449350.py\", line 15, in fit\n",
      "  File \"/opt/conda/lib/python3.7/site-packages/sklearn/linear_model/_logistic.py\", line 1304, in fit\n",
      "    solver = _check_solver(self.solver, self.penalty, self.dual)\n",
      "  File \"/opt/conda/lib/python3.7/site-packages/sklearn/linear_model/_logistic.py\", line 443, in _check_solver\n",
      "    \"got %s penalty.\" % (solver, penalty))\n",
      "ValueError: Solver lbfgs supports only 'l2' or 'none' penalties, got l1 penalty.\n",
      "\n",
      "  FitFailedWarning)\n",
      "/opt/conda/lib/python3.7/site-packages/sklearn/model_selection/_validation.py:552: FitFailedWarning: Estimator fit failed. The score on this train-test partition for these parameters will be set to nan. Details: \n",
      "Traceback (most recent call last):\n",
      "  File \"/opt/conda/lib/python3.7/site-packages/sklearn/model_selection/_validation.py\", line 531, in _fit_and_score\n",
      "    estimator.fit(X_train, y_train, **fit_params)\n",
      "  File \"/opt/conda/lib/python3.7/site-packages/sklearn/pipeline.py\", line 335, in fit\n",
      "    self._final_estimator.fit(Xt, y, **fit_params_last_step)\n",
      "  File \"/tmp/ipykernel_20/3915449350.py\", line 15, in fit\n",
      "  File \"/opt/conda/lib/python3.7/site-packages/sklearn/linear_model/_logistic.py\", line 1417, in fit\n",
      "    for class_, warm_start_coef_ in zip(classes_, warm_start_coef))\n",
      "  File \"/opt/conda/lib/python3.7/site-packages/joblib/parallel.py\", line 1043, in __call__\n",
      "    if self.dispatch_one_batch(iterator):\n",
      "  File \"/opt/conda/lib/python3.7/site-packages/joblib/parallel.py\", line 861, in dispatch_one_batch\n",
      "    self._dispatch(tasks)\n",
      "  File \"/opt/conda/lib/python3.7/site-packages/joblib/parallel.py\", line 779, in _dispatch\n",
      "    job = self._backend.apply_async(batch, callback=cb)\n",
      "  File \"/opt/conda/lib/python3.7/site-packages/joblib/_parallel_backends.py\", line 208, in apply_async\n",
      "    result = ImmediateResult(func)\n",
      "  File \"/opt/conda/lib/python3.7/site-packages/joblib/_parallel_backends.py\", line 572, in __init__\n",
      "    self.results = batch()\n",
      "  File \"/opt/conda/lib/python3.7/site-packages/joblib/parallel.py\", line 263, in __call__\n",
      "    for func, args, kwargs in self.items]\n",
      "  File \"/opt/conda/lib/python3.7/site-packages/joblib/parallel.py\", line 263, in <listcomp>\n",
      "    for func, args, kwargs in self.items]\n",
      "  File \"/opt/conda/lib/python3.7/site-packages/sklearn/linear_model/_logistic.py\", line 764, in _logistic_regression_path\n",
      "    extra_warning_msg=_LOGISTIC_SOLVER_CONVERGENCE_MSG)\n",
      "  File \"/opt/conda/lib/python3.7/site-packages/sklearn/utils/optimize.py\", line 243, in _check_optimize_result\n",
      "    ).format(solver, result.status, result.message.decode(\"latin1\"))\n",
      "AttributeError: 'str' object has no attribute 'decode'\n",
      "\n",
      "  FitFailedWarning)\n",
      "/opt/conda/lib/python3.7/site-packages/sklearn/model_selection/_validation.py:552: FitFailedWarning: Estimator fit failed. The score on this train-test partition for these parameters will be set to nan. Details: \n",
      "Traceback (most recent call last):\n",
      "  File \"/opt/conda/lib/python3.7/site-packages/sklearn/model_selection/_validation.py\", line 531, in _fit_and_score\n",
      "    estimator.fit(X_train, y_train, **fit_params)\n",
      "  File \"/opt/conda/lib/python3.7/site-packages/sklearn/pipeline.py\", line 335, in fit\n",
      "    self._final_estimator.fit(Xt, y, **fit_params_last_step)\n",
      "  File \"/tmp/ipykernel_20/3915449350.py\", line 15, in fit\n",
      "  File \"/opt/conda/lib/python3.7/site-packages/sklearn/linear_model/_logistic.py\", line 1304, in fit\n",
      "    solver = _check_solver(self.solver, self.penalty, self.dual)\n",
      "  File \"/opt/conda/lib/python3.7/site-packages/sklearn/linear_model/_logistic.py\", line 443, in _check_solver\n",
      "    \"got %s penalty.\" % (solver, penalty))\n",
      "ValueError: Solver lbfgs supports only 'l2' or 'none' penalties, got l1 penalty.\n",
      "\n",
      "  FitFailedWarning)\n",
      "/opt/conda/lib/python3.7/site-packages/sklearn/model_selection/_validation.py:552: FitFailedWarning: Estimator fit failed. The score on this train-test partition for these parameters will be set to nan. Details: \n",
      "Traceback (most recent call last):\n",
      "  File \"/opt/conda/lib/python3.7/site-packages/sklearn/model_selection/_validation.py\", line 531, in _fit_and_score\n",
      "    estimator.fit(X_train, y_train, **fit_params)\n",
      "  File \"/opt/conda/lib/python3.7/site-packages/sklearn/pipeline.py\", line 335, in fit\n",
      "    self._final_estimator.fit(Xt, y, **fit_params_last_step)\n",
      "  File \"/tmp/ipykernel_20/3915449350.py\", line 15, in fit\n",
      "  File \"/opt/conda/lib/python3.7/site-packages/sklearn/linear_model/_logistic.py\", line 1417, in fit\n",
      "    for class_, warm_start_coef_ in zip(classes_, warm_start_coef))\n",
      "  File \"/opt/conda/lib/python3.7/site-packages/joblib/parallel.py\", line 1043, in __call__\n",
      "    if self.dispatch_one_batch(iterator):\n",
      "  File \"/opt/conda/lib/python3.7/site-packages/joblib/parallel.py\", line 861, in dispatch_one_batch\n",
      "    self._dispatch(tasks)\n",
      "  File \"/opt/conda/lib/python3.7/site-packages/joblib/parallel.py\", line 779, in _dispatch\n",
      "    job = self._backend.apply_async(batch, callback=cb)\n",
      "  File \"/opt/conda/lib/python3.7/site-packages/joblib/_parallel_backends.py\", line 208, in apply_async\n",
      "    result = ImmediateResult(func)\n",
      "  File \"/opt/conda/lib/python3.7/site-packages/joblib/_parallel_backends.py\", line 572, in __init__\n",
      "    self.results = batch()\n",
      "  File \"/opt/conda/lib/python3.7/site-packages/joblib/parallel.py\", line 263, in __call__\n",
      "    for func, args, kwargs in self.items]\n",
      "  File \"/opt/conda/lib/python3.7/site-packages/joblib/parallel.py\", line 263, in <listcomp>\n",
      "    for func, args, kwargs in self.items]\n",
      "  File \"/opt/conda/lib/python3.7/site-packages/sklearn/linear_model/_logistic.py\", line 764, in _logistic_regression_path\n",
      "    extra_warning_msg=_LOGISTIC_SOLVER_CONVERGENCE_MSG)\n",
      "  File \"/opt/conda/lib/python3.7/site-packages/sklearn/utils/optimize.py\", line 243, in _check_optimize_result\n",
      "    ).format(solver, result.status, result.message.decode(\"latin1\"))\n",
      "AttributeError: 'str' object has no attribute 'decode'\n",
      "\n",
      "  FitFailedWarning)\n",
      "/opt/conda/lib/python3.7/site-packages/sklearn/model_selection/_validation.py:552: FitFailedWarning: Estimator fit failed. The score on this train-test partition for these parameters will be set to nan. Details: \n",
      "Traceback (most recent call last):\n",
      "  File \"/opt/conda/lib/python3.7/site-packages/sklearn/model_selection/_validation.py\", line 531, in _fit_and_score\n",
      "    estimator.fit(X_train, y_train, **fit_params)\n",
      "  File \"/opt/conda/lib/python3.7/site-packages/sklearn/pipeline.py\", line 335, in fit\n",
      "    self._final_estimator.fit(Xt, y, **fit_params_last_step)\n",
      "  File \"/tmp/ipykernel_20/3915449350.py\", line 15, in fit\n",
      "  File \"/opt/conda/lib/python3.7/site-packages/sklearn/linear_model/_logistic.py\", line 1304, in fit\n",
      "    solver = _check_solver(self.solver, self.penalty, self.dual)\n",
      "  File \"/opt/conda/lib/python3.7/site-packages/sklearn/linear_model/_logistic.py\", line 443, in _check_solver\n",
      "    \"got %s penalty.\" % (solver, penalty))\n",
      "ValueError: Solver lbfgs supports only 'l2' or 'none' penalties, got l1 penalty.\n",
      "\n",
      "  FitFailedWarning)\n",
      "/opt/conda/lib/python3.7/site-packages/sklearn/model_selection/_validation.py:552: FitFailedWarning: Estimator fit failed. The score on this train-test partition for these parameters will be set to nan. Details: \n",
      "Traceback (most recent call last):\n",
      "  File \"/opt/conda/lib/python3.7/site-packages/sklearn/model_selection/_validation.py\", line 531, in _fit_and_score\n",
      "    estimator.fit(X_train, y_train, **fit_params)\n",
      "  File \"/opt/conda/lib/python3.7/site-packages/sklearn/pipeline.py\", line 335, in fit\n",
      "    self._final_estimator.fit(Xt, y, **fit_params_last_step)\n",
      "  File \"/tmp/ipykernel_20/3915449350.py\", line 15, in fit\n",
      "  File \"/opt/conda/lib/python3.7/site-packages/sklearn/linear_model/_logistic.py\", line 1304, in fit\n",
      "    solver = _check_solver(self.solver, self.penalty, self.dual)\n",
      "  File \"/opt/conda/lib/python3.7/site-packages/sklearn/linear_model/_logistic.py\", line 443, in _check_solver\n",
      "    \"got %s penalty.\" % (solver, penalty))\n",
      "ValueError: Solver lbfgs supports only 'l2' or 'none' penalties, got l1 penalty.\n",
      "\n",
      "  FitFailedWarning)\n",
      "/opt/conda/lib/python3.7/site-packages/sklearn/model_selection/_validation.py:552: FitFailedWarning: Estimator fit failed. The score on this train-test partition for these parameters will be set to nan. Details: \n",
      "Traceback (most recent call last):\n",
      "  File \"/opt/conda/lib/python3.7/site-packages/sklearn/model_selection/_validation.py\", line 531, in _fit_and_score\n",
      "    estimator.fit(X_train, y_train, **fit_params)\n",
      "  File \"/opt/conda/lib/python3.7/site-packages/sklearn/pipeline.py\", line 335, in fit\n",
      "    self._final_estimator.fit(Xt, y, **fit_params_last_step)\n",
      "  File \"/tmp/ipykernel_20/3915449350.py\", line 15, in fit\n",
      "  File \"/opt/conda/lib/python3.7/site-packages/sklearn/linear_model/_logistic.py\", line 1304, in fit\n",
      "    solver = _check_solver(self.solver, self.penalty, self.dual)\n",
      "  File \"/opt/conda/lib/python3.7/site-packages/sklearn/linear_model/_logistic.py\", line 443, in _check_solver\n",
      "    \"got %s penalty.\" % (solver, penalty))\n",
      "ValueError: Solver lbfgs supports only 'l2' or 'none' penalties, got l1 penalty.\n",
      "\n",
      "  FitFailedWarning)\n",
      "/opt/conda/lib/python3.7/site-packages/sklearn/model_selection/_validation.py:552: FitFailedWarning: Estimator fit failed. The score on this train-test partition for these parameters will be set to nan. Details: \n",
      "Traceback (most recent call last):\n",
      "  File \"/opt/conda/lib/python3.7/site-packages/sklearn/model_selection/_validation.py\", line 531, in _fit_and_score\n",
      "    estimator.fit(X_train, y_train, **fit_params)\n",
      "  File \"/opt/conda/lib/python3.7/site-packages/sklearn/pipeline.py\", line 335, in fit\n",
      "    self._final_estimator.fit(Xt, y, **fit_params_last_step)\n",
      "  File \"/tmp/ipykernel_20/3915449350.py\", line 15, in fit\n",
      "  File \"/opt/conda/lib/python3.7/site-packages/sklearn/linear_model/_logistic.py\", line 1304, in fit\n",
      "    solver = _check_solver(self.solver, self.penalty, self.dual)\n",
      "  File \"/opt/conda/lib/python3.7/site-packages/sklearn/linear_model/_logistic.py\", line 443, in _check_solver\n",
      "    \"got %s penalty.\" % (solver, penalty))\n",
      "ValueError: Solver lbfgs supports only 'l2' or 'none' penalties, got l1 penalty.\n",
      "\n",
      "  FitFailedWarning)\n",
      "/opt/conda/lib/python3.7/site-packages/sklearn/model_selection/_validation.py:552: FitFailedWarning: Estimator fit failed. The score on this train-test partition for these parameters will be set to nan. Details: \n",
      "Traceback (most recent call last):\n",
      "  File \"/opt/conda/lib/python3.7/site-packages/sklearn/model_selection/_validation.py\", line 531, in _fit_and_score\n",
      "    estimator.fit(X_train, y_train, **fit_params)\n",
      "  File \"/opt/conda/lib/python3.7/site-packages/sklearn/pipeline.py\", line 335, in fit\n",
      "    self._final_estimator.fit(Xt, y, **fit_params_last_step)\n",
      "  File \"/tmp/ipykernel_20/3915449350.py\", line 15, in fit\n",
      "  File \"/opt/conda/lib/python3.7/site-packages/sklearn/linear_model/_logistic.py\", line 1304, in fit\n",
      "    solver = _check_solver(self.solver, self.penalty, self.dual)\n",
      "  File \"/opt/conda/lib/python3.7/site-packages/sklearn/linear_model/_logistic.py\", line 443, in _check_solver\n",
      "    \"got %s penalty.\" % (solver, penalty))\n",
      "ValueError: Solver lbfgs supports only 'l2' or 'none' penalties, got l1 penalty.\n",
      "\n",
      "  FitFailedWarning)\n",
      "/opt/conda/lib/python3.7/site-packages/sklearn/model_selection/_validation.py:552: FitFailedWarning: Estimator fit failed. The score on this train-test partition for these parameters will be set to nan. Details: \n",
      "Traceback (most recent call last):\n",
      "  File \"/opt/conda/lib/python3.7/site-packages/sklearn/model_selection/_validation.py\", line 531, in _fit_and_score\n",
      "    estimator.fit(X_train, y_train, **fit_params)\n",
      "  File \"/opt/conda/lib/python3.7/site-packages/sklearn/pipeline.py\", line 335, in fit\n",
      "    self._final_estimator.fit(Xt, y, **fit_params_last_step)\n",
      "  File \"/tmp/ipykernel_20/3915449350.py\", line 15, in fit\n",
      "  File \"/opt/conda/lib/python3.7/site-packages/sklearn/linear_model/_logistic.py\", line 1304, in fit\n",
      "    solver = _check_solver(self.solver, self.penalty, self.dual)\n",
      "  File \"/opt/conda/lib/python3.7/site-packages/sklearn/linear_model/_logistic.py\", line 443, in _check_solver\n",
      "    \"got %s penalty.\" % (solver, penalty))\n",
      "ValueError: Solver lbfgs supports only 'l2' or 'none' penalties, got l1 penalty.\n",
      "\n",
      "  FitFailedWarning)\n",
      "/opt/conda/lib/python3.7/site-packages/sklearn/model_selection/_validation.py:552: FitFailedWarning: Estimator fit failed. The score on this train-test partition for these parameters will be set to nan. Details: \n",
      "Traceback (most recent call last):\n",
      "  File \"/opt/conda/lib/python3.7/site-packages/sklearn/model_selection/_validation.py\", line 531, in _fit_and_score\n",
      "    estimator.fit(X_train, y_train, **fit_params)\n",
      "  File \"/opt/conda/lib/python3.7/site-packages/sklearn/pipeline.py\", line 335, in fit\n",
      "    self._final_estimator.fit(Xt, y, **fit_params_last_step)\n",
      "  File \"/tmp/ipykernel_20/3915449350.py\", line 15, in fit\n",
      "  File \"/opt/conda/lib/python3.7/site-packages/sklearn/linear_model/_logistic.py\", line 1304, in fit\n",
      "    solver = _check_solver(self.solver, self.penalty, self.dual)\n",
      "  File \"/opt/conda/lib/python3.7/site-packages/sklearn/linear_model/_logistic.py\", line 443, in _check_solver\n",
      "    \"got %s penalty.\" % (solver, penalty))\n",
      "ValueError: Solver lbfgs supports only 'l2' or 'none' penalties, got l1 penalty.\n",
      "\n",
      "  FitFailedWarning)\n",
      "/opt/conda/lib/python3.7/site-packages/sklearn/model_selection/_validation.py:552: FitFailedWarning: Estimator fit failed. The score on this train-test partition for these parameters will be set to nan. Details: \n",
      "Traceback (most recent call last):\n",
      "  File \"/opt/conda/lib/python3.7/site-packages/sklearn/model_selection/_validation.py\", line 531, in _fit_and_score\n",
      "    estimator.fit(X_train, y_train, **fit_params)\n",
      "  File \"/opt/conda/lib/python3.7/site-packages/sklearn/pipeline.py\", line 335, in fit\n",
      "    self._final_estimator.fit(Xt, y, **fit_params_last_step)\n",
      "  File \"/tmp/ipykernel_20/3915449350.py\", line 15, in fit\n",
      "  File \"/opt/conda/lib/python3.7/site-packages/sklearn/linear_model/_logistic.py\", line 1304, in fit\n",
      "    solver = _check_solver(self.solver, self.penalty, self.dual)\n",
      "  File \"/opt/conda/lib/python3.7/site-packages/sklearn/linear_model/_logistic.py\", line 443, in _check_solver\n",
      "    \"got %s penalty.\" % (solver, penalty))\n",
      "ValueError: Solver lbfgs supports only 'l2' or 'none' penalties, got l1 penalty.\n",
      "\n",
      "  FitFailedWarning)\n"
     ]
    },
    {
     "name": "stdout",
     "output_type": "stream",
     "text": [
      "[CV] clf__estimator=DecisionTreeClassifier(), clf__estimator__criterion=gini \n",
      "[CV]  clf__estimator=DecisionTreeClassifier(), clf__estimator__criterion=gini, score=0.187, total=   0.2s\n",
      "[CV] clf__estimator=ExtraTreesClassifier(), clf__estimator__criterion=entropy, clf__estimator__n_estimators=250 \n",
      "[CV]  clf__estimator=ExtraTreesClassifier(), clf__estimator__criterion=entropy, clf__estimator__n_estimators=250, score=0.246, total=   3.1s\n",
      "[CV] clf__estimator=RandomForestClassifier(), clf__estimator__criterion=entropy, clf__estimator__n_estimators=250 \n",
      "[CV]  clf__estimator=RandomForestClassifier(), clf__estimator__criterion=entropy, clf__estimator__n_estimators=250, score=0.108, total=   2.9s\n",
      "[CV] clf__estimator=SVC(), clf__estimator__C=0.1, clf__estimator__degree=6, clf__estimator__kernel=sigmoid \n",
      "[CV]  clf__estimator=SVC(), clf__estimator__C=0.1, clf__estimator__degree=6, clf__estimator__kernel=sigmoid, score=0.127, total=   0.1s\n",
      "[CV] clf__estimator=SVC(), clf__estimator__C=1.0, clf__estimator__degree=4, clf__estimator__kernel=rbf \n",
      "[CV]  clf__estimator=SVC(), clf__estimator__C=1.0, clf__estimator__degree=4, clf__estimator__kernel=rbf, score=0.188, total=   0.1s\n",
      "[CV] clf__estimator=SVC(), clf__estimator__C=1.0, clf__estimator__degree=5, clf__estimator__kernel=sigmoid \n",
      "[CV]  clf__estimator=SVC(), clf__estimator__C=1.0, clf__estimator__degree=5, clf__estimator__kernel=sigmoid, score=-0.389, total=   0.1s\n",
      "[CV] clf__estimator=SVC(), clf__estimator__C=10.0, clf__estimator__degree=3, clf__estimator__kernel=rbf \n",
      "[CV]  clf__estimator=SVC(), clf__estimator__C=10.0, clf__estimator__degree=3, clf__estimator__kernel=rbf, score=0.260, total=   0.0s\n",
      "[CV] clf__estimator=SVC(), clf__estimator__C=10.0, clf__estimator__degree=5, clf__estimator__kernel=rbf \n",
      "[CV]  clf__estimator=SVC(), clf__estimator__C=10.0, clf__estimator__degree=5, clf__estimator__kernel=rbf, score=0.260, total=   0.0s\n",
      "[CV] clf__estimator=SVC(), clf__estimator__C=100.0, clf__estimator__degree=3, clf__estimator__kernel=rbf \n",
      "[CV]  clf__estimator=SVC(), clf__estimator__C=100.0, clf__estimator__degree=3, clf__estimator__kernel=rbf, score=0.165, total=   0.0s\n",
      "[CV] clf__estimator=SVC(), clf__estimator__C=100.0, clf__estimator__degree=5, clf__estimator__kernel=rbf \n",
      "[CV]  clf__estimator=SVC(), clf__estimator__C=100.0, clf__estimator__degree=5, clf__estimator__kernel=rbf, score=0.165, total=   0.0s\n",
      "[CV] clf__estimator=SVC(), clf__estimator__C=1000.0, clf__estimator__degree=3, clf__estimator__kernel=rbf \n",
      "[CV]  clf__estimator=SVC(), clf__estimator__C=1000.0, clf__estimator__degree=3, clf__estimator__kernel=rbf, score=0.203, total=   0.2s\n",
      "[CV] clf__estimator=SVC(), clf__estimator__C=1000.0, clf__estimator__degree=5, clf__estimator__kernel=sigmoid \n",
      "[CV]  clf__estimator=SVC(), clf__estimator__C=1000.0, clf__estimator__degree=5, clf__estimator__kernel=sigmoid, score=-0.291, total=   0.0s\n",
      "[CV] clf__estimator=LogisticRegression(), clf__estimator__C=0.001, clf__estimator__penalty=l1, clf__estimator__solver=lbfgs, clf__estimator__tol=0.001 \n",
      "[CV]  clf__estimator=LogisticRegression(), clf__estimator__C=0.001, clf__estimator__penalty=l1, clf__estimator__solver=lbfgs, clf__estimator__tol=0.001, score=nan, total=   0.0s\n",
      "[CV] clf__estimator=LogisticRegression(), clf__estimator__C=0.001, clf__estimator__penalty=l1, clf__estimator__solver=liblinear, clf__estimator__tol=0.01 \n",
      "[CV]  clf__estimator=LogisticRegression(), clf__estimator__C=0.001, clf__estimator__penalty=l1, clf__estimator__solver=liblinear, clf__estimator__tol=0.01, score=-0.527, total=   0.0s\n",
      "[CV] clf__estimator=LogisticRegression(), clf__estimator__C=0.001, clf__estimator__penalty=l2, clf__estimator__solver=liblinear, clf__estimator__tol=0.0001 \n",
      "[CV]  clf__estimator=LogisticRegression(), clf__estimator__C=0.001, clf__estimator__penalty=l2, clf__estimator__solver=liblinear, clf__estimator__tol=0.0001, score=0.008, total=   0.0s\n",
      "[CV] clf__estimator=LogisticRegression(), clf__estimator__C=0.01, clf__estimator__penalty=l1, clf__estimator__solver=lbfgs, clf__estimator__tol=0.001 \n",
      "[CV]  clf__estimator=LogisticRegression(), clf__estimator__C=0.01, clf__estimator__penalty=l1, clf__estimator__solver=lbfgs, clf__estimator__tol=0.001, score=nan, total=   0.0s\n",
      "[CV] clf__estimator=LogisticRegression(), clf__estimator__C=0.01, clf__estimator__penalty=l1, clf__estimator__solver=liblinear, clf__estimator__tol=0.01 \n",
      "[CV]  clf__estimator=LogisticRegression(), clf__estimator__C=0.01, clf__estimator__penalty=l1, clf__estimator__solver=liblinear, clf__estimator__tol=0.01, score=-0.527, total=   0.0s\n",
      "[CV] clf__estimator=LogisticRegression(), clf__estimator__C=0.01, clf__estimator__penalty=l2, clf__estimator__solver=liblinear, clf__estimator__tol=0.01 \n",
      "[CV]  clf__estimator=LogisticRegression(), clf__estimator__C=0.01, clf__estimator__penalty=l2, clf__estimator__solver=liblinear, clf__estimator__tol=0.01, score=0.070, total=   0.0s\n",
      "[CV] clf__estimator=LogisticRegression(), clf__estimator__C=0.1, clf__estimator__penalty=l1, clf__estimator__solver=liblinear, clf__estimator__tol=0.001 \n",
      "[CV]  clf__estimator=LogisticRegression(), clf__estimator__C=0.1, clf__estimator__penalty=l1, clf__estimator__solver=liblinear, clf__estimator__tol=0.001, score=0.286, total=   0.0s\n",
      "[CV] clf__estimator=LogisticRegression(), clf__estimator__C=0.1, clf__estimator__penalty=l2, clf__estimator__solver=lbfgs, clf__estimator__tol=0.01 \n",
      "[CV]  clf__estimator=LogisticRegression(), clf__estimator__C=0.1, clf__estimator__penalty=l2, clf__estimator__solver=lbfgs, clf__estimator__tol=0.01, score=0.326, total=   0.0s\n",
      "[CV] clf__estimator=LogisticRegression(), clf__estimator__C=1.0, clf__estimator__penalty=l1, clf__estimator__solver=lbfgs, clf__estimator__tol=0.0001 \n",
      "[CV]  clf__estimator=LogisticRegression(), clf__estimator__C=1.0, clf__estimator__penalty=l1, clf__estimator__solver=lbfgs, clf__estimator__tol=0.0001, score=nan, total=   0.0s\n",
      "[CV] clf__estimator=LogisticRegression(), clf__estimator__C=1.0, clf__estimator__penalty=l1, clf__estimator__solver=liblinear, clf__estimator__tol=0.001 \n",
      "[CV]  clf__estimator=LogisticRegression(), clf__estimator__C=1.0, clf__estimator__penalty=l1, clf__estimator__solver=liblinear, clf__estimator__tol=0.001, score=0.365, total=   0.0s\n",
      "[CV] clf__estimator=LogisticRegression(), clf__estimator__C=1.0, clf__estimator__penalty=l2, clf__estimator__solver=lbfgs, clf__estimator__tol=0.01 \n",
      "[CV]  clf__estimator=LogisticRegression(), clf__estimator__C=1.0, clf__estimator__penalty=l2, clf__estimator__solver=lbfgs, clf__estimator__tol=0.01, score=0.170, total=   0.1s\n",
      "[CV] clf__estimator=LogisticRegression(), clf__estimator__C=10.0, clf__estimator__penalty=l1, clf__estimator__solver=lbfgs, clf__estimator__tol=0.0001 \n",
      "[CV]  clf__estimator=LogisticRegression(), clf__estimator__C=10.0, clf__estimator__penalty=l1, clf__estimator__solver=lbfgs, clf__estimator__tol=0.0001, score=nan, total=   0.0s\n",
      "[CV] clf__estimator=LogisticRegression(), clf__estimator__C=10.0, clf__estimator__penalty=l1, clf__estimator__solver=liblinear, clf__estimator__tol=0.0001 \n",
      "[CV]  clf__estimator=LogisticRegression(), clf__estimator__C=10.0, clf__estimator__penalty=l1, clf__estimator__solver=liblinear, clf__estimator__tol=0.0001, score=0.279, total=   0.0s\n",
      "[CV] clf__estimator=LogisticRegression(), clf__estimator__C=10.0, clf__estimator__penalty=l2, clf__estimator__solver=lbfgs, clf__estimator__tol=0.001 \n",
      "[CV]  clf__estimator=LogisticRegression(), clf__estimator__C=10.0, clf__estimator__penalty=l2, clf__estimator__solver=lbfgs, clf__estimator__tol=0.001, score=0.152, total=   0.2s\n",
      "[CV] clf__estimator=LogisticRegression(), clf__estimator__C=100.0, clf__estimator__penalty=l1, clf__estimator__solver=lbfgs, clf__estimator__tol=0.01 \n",
      "[CV]  clf__estimator=LogisticRegression(), clf__estimator__C=100.0, clf__estimator__penalty=l1, clf__estimator__solver=lbfgs, clf__estimator__tol=0.01, score=nan, total=   0.0s\n",
      "[CV] clf__estimator=LogisticRegression(), clf__estimator__C=100.0, clf__estimator__penalty=l2, clf__estimator__solver=lbfgs, clf__estimator__tol=0.0001 \n",
      "[CV]  clf__estimator=LogisticRegression(), clf__estimator__C=100.0, clf__estimator__penalty=l2, clf__estimator__solver=lbfgs, clf__estimator__tol=0.0001, score=0.365, total=   0.2s[CV] clf__estimator=ExtraTreesClassifier(), clf__estimator__criterion=gini, clf__estimator__n_estimators=250 \n",
      "[CV]  clf__estimator=ExtraTreesClassifier(), clf__estimator__criterion=gini, clf__estimator__n_estimators=250, score=0.022, total=   1.4s\n",
      "[CV] clf__estimator=SVC(), clf__estimator__C=10.0, clf__estimator__degree=3, clf__estimator__kernel=rbf \n",
      "[CV]  clf__estimator=SVC(), clf__estimator__C=10.0, clf__estimator__degree=3, clf__estimator__kernel=rbf, score=0.170, total=   0.0s\n",
      "[CV] clf__estimator=SVC(), clf__estimator__C=10.0, clf__estimator__degree=5, clf__estimator__kernel=rbf \n",
      "[CV]  clf__estimator=SVC(), clf__estimator__C=10.0, clf__estimator__degree=5, clf__estimator__kernel=rbf, score=0.170, total=   0.0s\n",
      "[CV] clf__estimator=SVC(), clf__estimator__C=100.0, clf__estimator__degree=3, clf__estimator__kernel=rbf \n",
      "[CV]  clf__estimator=SVC(), clf__estimator__C=100.0, clf__estimator__degree=3, clf__estimator__kernel=rbf, score=0.041, total=   0.1s\n",
      "[CV] clf__estimator=SVC(), clf__estimator__C=100.0, clf__estimator__degree=5, clf__estimator__kernel=rbf \n",
      "[CV]  clf__estimator=SVC(), clf__estimator__C=100.0, clf__estimator__degree=5, clf__estimator__kernel=rbf, score=0.041, total=   0.1s\n",
      "[CV] clf__estimator=SVC(), clf__estimator__C=1000.0, clf__estimator__degree=3, clf__estimator__kernel=rbf \n",
      "[CV]  clf__estimator=SVC(), clf__estimator__C=1000.0, clf__estimator__degree=3, clf__estimator__kernel=rbf, score=-0.014, total=   0.1s\n",
      "[CV] clf__estimator=SVC(), clf__estimator__C=1000.0, clf__estimator__degree=5, clf__estimator__kernel=rbf \n",
      "[CV]  clf__estimator=SVC(), clf__estimator__C=1000.0, clf__estimator__degree=5, clf__estimator__kernel=rbf, score=-0.014, total=   0.1s\n",
      "[CV] clf__estimator=SVC(), clf__estimator__C=1000.0, clf__estimator__degree=6, clf__estimator__kernel=sigmoid \n",
      "[CV]  clf__estimator=SVC(), clf__estimator__C=1000.0, clf__estimator__degree=6, clf__estimator__kernel=sigmoid, score=-0.291, total=   0.1s\n",
      "[CV] clf__estimator=LogisticRegression(), clf__estimator__C=0.001, clf__estimator__penalty=l1, clf__estimator__solver=liblinear, clf__estimator__tol=0.001 \n",
      "[CV]  clf__estimator=LogisticRegression(), clf__estimator__C=0.001, clf__estimator__penalty=l1, clf__estimator__solver=liblinear, clf__estimator__tol=0.001, score=-0.527, total=   0.0s\n",
      "[CV] clf__estimator=LogisticRegression(), clf__estimator__C=0.001, clf__estimator__penalty=l2, clf__estimator__solver=lbfgs, clf__estimator__tol=0.01 \n",
      "[CV]  clf__estimator=LogisticRegression(), clf__estimator__C=0.001, clf__estimator__penalty=l2, clf__estimator__solver=lbfgs, clf__estimator__tol=0.01, score=-0.508, total=   0.0s\n",
      "[CV] clf__estimator=LogisticRegression(), clf__estimator__C=0.01, clf__estimator__penalty=l1, clf__estimator__solver=lbfgs, clf__estimator__tol=0.0001 \n",
      "[CV]  clf__estimator=LogisticRegression(), clf__estimator__C=0.01, clf__estimator__penalty=l1, clf__estimator__solver=lbfgs, clf__estimator__tol=0.0001, score=nan, total=   0.0s\n",
      "[CV] clf__estimator=LogisticRegression(), clf__estimator__C=0.01, clf__estimator__penalty=l1, clf__estimator__solver=liblinear, clf__estimator__tol=0.001 \n",
      "[CV]  clf__estimator=LogisticRegression(), clf__estimator__C=0.01, clf__estimator__penalty=l1, clf__estimator__solver=liblinear, clf__estimator__tol=0.001, score=-0.527, total=   0.0s\n",
      "[CV] clf__estimator=LogisticRegression(), clf__estimator__C=0.01, clf__estimator__penalty=l2, clf__estimator__solver=lbfgs, clf__estimator__tol=0.01 \n",
      "[CV]  clf__estimator=LogisticRegression(), clf__estimator__C=0.01, clf__estimator__penalty=l2, clf__estimator__solver=lbfgs, clf__estimator__tol=0.01, score=0.266, total=   0.1s\n",
      "[CV] clf__estimator=LogisticRegression(), clf__estimator__C=0.1, clf__estimator__penalty=l1, clf__estimator__solver=lbfgs, clf__estimator__tol=0.001 \n",
      "[CV]  clf__estimator=LogisticRegression(), clf__estimator__C=0.1, clf__estimator__penalty=l1, clf__estimator__solver=lbfgs, clf__estimator__tol=0.001, score=nan, total=   0.0s\n",
      "[CV] clf__estimator=LogisticRegression(), clf__estimator__C=0.1, clf__estimator__penalty=l1, clf__estimator__solver=lbfgs, clf__estimator__tol=0.01 \n",
      "[CV]  clf__estimator=LogisticRegression(), clf__estimator__C=0.1, clf__estimator__penalty=l1, clf__estimator__solver=lbfgs, clf__estimator__tol=0.01, score=nan, total=   0.0s\n",
      "[CV] clf__estimator=LogisticRegression(), clf__estimator__C=0.1, clf__estimator__penalty=l2, clf__estimator__solver=lbfgs, clf__estimator__tol=0.0001 \n",
      "[CV]  clf__estimator=LogisticRegression(), clf__estimator__C=0.1, clf__estimator__penalty=l2, clf__estimator__solver=lbfgs, clf__estimator__tol=0.0001, score=0.165, total=   0.1s\n",
      "[CV] clf__estimator=LogisticRegression(), clf__estimator__C=0.1, clf__estimator__penalty=l2, clf__estimator__solver=liblinear, clf__estimator__tol=0.01 \n",
      "[CV]  clf__estimator=LogisticRegression(), clf__estimator__C=0.1, clf__estimator__penalty=l2, clf__estimator__solver=liblinear, clf__estimator__tol=0.01, score=0.306, total=   0.0s\n",
      "[CV] clf__estimator=LogisticRegression(), clf__estimator__C=1.0, clf__estimator__penalty=l1, clf__estimator__solver=liblinear, clf__estimator__tol=0.0001 \n",
      "[CV]  clf__estimator=LogisticRegression(), clf__estimator__C=1.0, clf__estimator__penalty=l1, clf__estimator__solver=liblinear, clf__estimator__tol=0.0001, score=0.365, total=   0.1s\n",
      "[CV] clf__estimator=LogisticRegression(), clf__estimator__C=1.0, clf__estimator__penalty=l2, clf__estimator__solver=lbfgs, clf__estimator__tol=0.0001 \n",
      "[CV]  clf__estimator=LogisticRegression(), clf__estimator__C=1.0, clf__estimator__penalty=l2, clf__estimator__solver=lbfgs, clf__estimator__tol=0.0001, score=0.385, total=   0.1s\n",
      "[CV] clf__estimator=LogisticRegression(), clf__estimator__C=1.0, clf__estimator__penalty=l2, clf__estimator__solver=liblinear, clf__estimator__tol=0.001 \n",
      "[CV]  clf__estimator=LogisticRegression(), clf__estimator__C=1.0, clf__estimator__penalty=l2, clf__estimator__solver=liblinear, clf__estimator__tol=0.001, score=0.405, total=   0.0s\n",
      "[CV] clf__estimator=LogisticRegression(), clf__estimator__C=10.0, clf__estimator__penalty=l1, clf__estimator__solver=lbfgs, clf__estimator__tol=0.01 \n",
      "[CV]  clf__estimator=LogisticRegression(), clf__estimator__C=10.0, clf__estimator__penalty=l1, clf__estimator__solver=lbfgs, clf__estimator__tol=0.01, score=nan, total=   0.0s\n",
      "[CV] clf__estimator=LogisticRegression(), clf__estimator__C=10.0, clf__estimator__penalty=l2, clf__estimator__solver=lbfgs, clf__estimator__tol=0.0001 \n",
      "[CV]  clf__estimator=LogisticRegression(), clf__estimator__C=10.0, clf__estimator__penalty=l2, clf__estimator__solver=lbfgs, clf__estimator__tol=0.0001, score=0.365, total=   0.1s\n",
      "[CV] clf__estimator=LogisticRegression(), clf__estimator__C=10.0, clf__estimator__penalty=l2, clf__estimator__solver=liblinear, clf__estimator__tol=0.001 \n",
      "[CV]  clf__estimator=LogisticRegression(), clf__estimator__C=10.0, clf__estimator__penalty=l2, clf__estimator__solver=liblinear, clf__estimator__tol=0.001, score=0.365, total=   0.0s\n",
      "[CV] clf__estimator=LogisticRegression(), clf__estimator__C=100.0, clf__estimator__penalty=l1, clf__estimator__solver=lbfgs, clf__estimator__tol=0.001 \n",
      "[CV]  clf__estimator=LogisticRegression(), clf__estimator__C=100.0, clf__estimator__penalty=l1, clf__estimator__solver=lbfgs, clf__estimator__tol=0.001, score=nan, total=   0.0s\n",
      "[CV] clf__estimator=LogisticRegression(), clf__estimator__C=100.0, clf__estimator__penalty=l1, clf__estimator__solver=liblinear, clf__estimator__tol=0.01 \n",
      "[CV]  clf__estimator=LogisticRegression(), clf__estimator__C=100.0, clf__estimator__penalty=l1, clf__estimator__solver=liblinear, clf__estimator__tol=0.01, score=0.152, total=   0.0s\n",
      "[CV] clf__estimator=LogisticRegression(), clf__estimator__C=100.0, clf__estimator__penalty=l2, clf__estimator__solver=lbfgs, clf__estimator__tol=0.0001 \n",
      "[CV]  clf__estimator=LogisticRegression(), clf__estimator__C=100.0, clf__estimator__penalty=l2, clf__estimator__solver=lbfgs, clf__estimator__tol=0.0001, score=0.152, total=   0.1s\n",
      "[CV] clf__estimator=LogisticRegression(), clf__estimator__C=100.0, clf__estimator__penalty=l2, clf__estimator__solver=liblinear, clf__estimator__tol=0.001 \n",
      "[CV]  clf__estimator=LogisticRegression(), clf__estimator__C=100.0, clf__estimator__penalty=l2, clf__estimator__solver=liblinear, clf__estimator__tol=0.001, score=0.152, total=   0.1s[CV] clf__estimator=ExtraTreesClassifier(), clf__estimator__criterion=gini, clf__estimator__n_estimators=250 \n",
      "[CV]  clf__estimator=ExtraTreesClassifier(), clf__estimator__criterion=gini, clf__estimator__n_estimators=250, score=0.226, total=   1.4s\n",
      "[CV] clf__estimator=SVC(), clf__estimator__C=10.0, clf__estimator__degree=4, clf__estimator__kernel=sigmoid \n",
      "[CV]  clf__estimator=SVC(), clf__estimator__C=10.0, clf__estimator__degree=4, clf__estimator__kernel=sigmoid, score=-0.215, total=   0.0s\n",
      "[CV] clf__estimator=SVC(), clf__estimator__C=10.0, clf__estimator__degree=6, clf__estimator__kernel=sigmoid \n",
      "[CV]  clf__estimator=SVC(), clf__estimator__C=10.0, clf__estimator__degree=6, clf__estimator__kernel=sigmoid, score=-0.215, total=   0.0s\n",
      "[CV] clf__estimator=SVC(), clf__estimator__C=100.0, clf__estimator__degree=3, clf__estimator__kernel=sigmoid \n",
      "[CV]  clf__estimator=SVC(), clf__estimator__C=100.0, clf__estimator__degree=3, clf__estimator__kernel=sigmoid, score=-0.439, total=   0.0s\n",
      "[CV] clf__estimator=SVC(), clf__estimator__C=100.0, clf__estimator__degree=5, clf__estimator__kernel=sigmoid \n",
      "[CV]  clf__estimator=SVC(), clf__estimator__C=100.0, clf__estimator__degree=5, clf__estimator__kernel=sigmoid, score=-0.439, total=   0.0s\n",
      "[CV] clf__estimator=SVC(), clf__estimator__C=1000.0, clf__estimator__degree=3, clf__estimator__kernel=sigmoid \n",
      "[CV]  clf__estimator=SVC(), clf__estimator__C=1000.0, clf__estimator__degree=3, clf__estimator__kernel=sigmoid, score=-0.439, total=   0.1s\n",
      "[CV] clf__estimator=SVC(), clf__estimator__C=1000.0, clf__estimator__degree=5, clf__estimator__kernel=rbf \n",
      "[CV]  clf__estimator=SVC(), clf__estimator__C=1000.0, clf__estimator__degree=5, clf__estimator__kernel=rbf, score=0.203, total=   0.1s\n",
      "[CV] clf__estimator=SVC(), clf__estimator__C=1000.0, clf__estimator__degree=6, clf__estimator__kernel=sigmoid \n",
      "[CV]  clf__estimator=SVC(), clf__estimator__C=1000.0, clf__estimator__degree=6, clf__estimator__kernel=sigmoid, score=-0.527, total=   0.1s\n",
      "[CV] clf__estimator=LogisticRegression(), clf__estimator__C=0.001, clf__estimator__penalty=l1, clf__estimator__solver=liblinear, clf__estimator__tol=0.0001 \n",
      "[CV]  clf__estimator=LogisticRegression(), clf__estimator__C=0.001, clf__estimator__penalty=l1, clf__estimator__solver=liblinear, clf__estimator__tol=0.0001, score=-0.632, total=   0.0s\n",
      "[CV] clf__estimator=LogisticRegression(), clf__estimator__C=0.001, clf__estimator__penalty=l2, clf__estimator__solver=lbfgs, clf__estimator__tol=0.001 \n",
      "[CV]  clf__estimator=LogisticRegression(), clf__estimator__C=0.001, clf__estimator__penalty=l2, clf__estimator__solver=lbfgs, clf__estimator__tol=0.001, score=-0.613, total=   0.0s\n",
      "[CV] clf__estimator=LogisticRegression(), clf__estimator__C=0.001, clf__estimator__penalty=l2, clf__estimator__solver=liblinear, clf__estimator__tol=0.01 \n",
      "[CV]  clf__estimator=LogisticRegression(), clf__estimator__C=0.001, clf__estimator__penalty=l2, clf__estimator__solver=liblinear, clf__estimator__tol=0.01, score=-0.177, total=   0.0s\n",
      "[CV] clf__estimator=LogisticRegression(), clf__estimator__C=0.01, clf__estimator__penalty=l1, clf__estimator__solver=liblinear, clf__estimator__tol=0.0001 \n",
      "[CV]  clf__estimator=LogisticRegression(), clf__estimator__C=0.01, clf__estimator__penalty=l1, clf__estimator__solver=liblinear, clf__estimator__tol=0.0001, score=-0.632, total=   0.0s\n",
      "[CV] clf__estimator=LogisticRegression(), clf__estimator__C=0.01, clf__estimator__penalty=l2, clf__estimator__solver=lbfgs, clf__estimator__tol=0.001 \n",
      "[CV]  clf__estimator=LogisticRegression(), clf__estimator__C=0.01, clf__estimator__penalty=l2, clf__estimator__solver=lbfgs, clf__estimator__tol=0.001, score=0.051, total=   0.0s\n",
      "[CV] clf__estimator=LogisticRegression(), clf__estimator__C=0.01, clf__estimator__penalty=l2, clf__estimator__solver=liblinear, clf__estimator__tol=0.0001 \n",
      "[CV]  clf__estimator=LogisticRegression(), clf__estimator__C=0.01, clf__estimator__penalty=l2, clf__estimator__solver=liblinear, clf__estimator__tol=0.0001, score=0.266, total=   0.0s\n",
      "[CV] clf__estimator=LogisticRegression(), clf__estimator__C=0.1, clf__estimator__penalty=l1, clf__estimator__solver=lbfgs, clf__estimator__tol=0.001 \n",
      "[CV]  clf__estimator=LogisticRegression(), clf__estimator__C=0.1, clf__estimator__penalty=l1, clf__estimator__solver=lbfgs, clf__estimator__tol=0.001, score=nan, total=   0.0s\n",
      "[CV] clf__estimator=LogisticRegression(), clf__estimator__C=0.1, clf__estimator__penalty=l2, clf__estimator__solver=lbfgs, clf__estimator__tol=0.01 \n",
      "[CV]  clf__estimator=LogisticRegression(), clf__estimator__C=0.1, clf__estimator__penalty=l2, clf__estimator__solver=lbfgs, clf__estimator__tol=0.01, score=0.152, total=   0.0s\n",
      "[CV] clf__estimator=LogisticRegression(), clf__estimator__C=1.0, clf__estimator__penalty=l1, clf__estimator__solver=lbfgs, clf__estimator__tol=0.0001 \n",
      "[CV]  clf__estimator=LogisticRegression(), clf__estimator__C=1.0, clf__estimator__penalty=l1, clf__estimator__solver=lbfgs, clf__estimator__tol=0.0001, score=nan, total=   0.0s\n",
      "[CV] clf__estimator=LogisticRegression(), clf__estimator__C=1.0, clf__estimator__penalty=l1, clf__estimator__solver=liblinear, clf__estimator__tol=0.0001 \n",
      "[CV]  clf__estimator=LogisticRegression(), clf__estimator__C=1.0, clf__estimator__penalty=l1, clf__estimator__solver=liblinear, clf__estimator__tol=0.0001, score=0.260, total=   0.0s\n",
      "[CV] clf__estimator=LogisticRegression(), clf__estimator__C=1.0, clf__estimator__penalty=l2, clf__estimator__solver=lbfgs, clf__estimator__tol=0.001 \n",
      "[CV]  clf__estimator=LogisticRegression(), clf__estimator__C=1.0, clf__estimator__penalty=l2, clf__estimator__solver=lbfgs, clf__estimator__tol=0.001, score=0.170, total=   0.1s\n",
      "[CV] clf__estimator=LogisticRegression(), clf__estimator__C=1.0, clf__estimator__penalty=l2, clf__estimator__solver=liblinear, clf__estimator__tol=0.01 \n",
      "[CV]  clf__estimator=LogisticRegression(), clf__estimator__C=1.0, clf__estimator__penalty=l2, clf__estimator__solver=liblinear, clf__estimator__tol=0.01, score=0.170, total=   0.0s\n",
      "[CV] clf__estimator=LogisticRegression(), clf__estimator__C=10.0, clf__estimator__penalty=l1, clf__estimator__solver=liblinear, clf__estimator__tol=0.0001 \n",
      "[CV]  clf__estimator=LogisticRegression(), clf__estimator__C=10.0, clf__estimator__penalty=l1, clf__estimator__solver=liblinear, clf__estimator__tol=0.0001, score=0.133, total=   0.0s\n",
      "[CV] clf__estimator=LogisticRegression(), clf__estimator__C=10.0, clf__estimator__penalty=l1, clf__estimator__solver=liblinear, clf__estimator__tol=0.001 \n",
      "[CV]  clf__estimator=LogisticRegression(), clf__estimator__C=10.0, clf__estimator__penalty=l1, clf__estimator__solver=liblinear, clf__estimator__tol=0.001, score=0.279, total=   0.0s\n",
      "[CV] clf__estimator=LogisticRegression(), clf__estimator__C=10.0, clf__estimator__penalty=l2, clf__estimator__solver=liblinear, clf__estimator__tol=0.0001 \n",
      "[CV]  clf__estimator=LogisticRegression(), clf__estimator__C=10.0, clf__estimator__penalty=l2, clf__estimator__solver=liblinear, clf__estimator__tol=0.0001, score=0.152, total=   0.1s\n",
      "[CV] clf__estimator=LogisticRegression(), clf__estimator__C=100.0, clf__estimator__penalty=l1, clf__estimator__solver=lbfgs, clf__estimator__tol=0.01 \n",
      "[CV]  clf__estimator=LogisticRegression(), clf__estimator__C=100.0, clf__estimator__penalty=l1, clf__estimator__solver=lbfgs, clf__estimator__tol=0.01, score=nan, total=   0.0s\n",
      "[CV] clf__estimator=LogisticRegression(), clf__estimator__C=100.0, clf__estimator__penalty=l2, clf__estimator__solver=lbfgs, clf__estimator__tol=0.01 \n",
      "[CV]  clf__estimator=LogisticRegression(), clf__estimator__C=100.0, clf__estimator__penalty=l2, clf__estimator__solver=lbfgs, clf__estimator__tol=0.01, score=0.279, total=   0.1s\n",
      "[CV] clf__estimator=LogisticRegression(), clf__estimator__C=1000.0, clf__estimator__penalty=l1, clf__estimator__solver=lbfgs, clf__estimator__tol=0.0001 \n",
      "[CV]  clf__estimator=LogisticRegression(), clf__estimator__C=1000.0, clf__estimator__penalty=l1, clf__estimator__solver=lbfgs, clf__estimator__tol=0.0001, score=nan, total=   0.0s\n",
      "[CV] clf__estimator=LogisticRegression(), clf__estimator__C=1000.0, clf__estimator__penalty=l1, clf__estimator__solver=liblinear, clf__estimator__tol=0.001 \n",
      "[CV]  clf__estimator=LogisticRegression(), clf__estimator__C=1000.0, clf__estimator__penalty=l1, clf__estimator__solver=liblinear, clf__estimator__tol=0.001, score=0.365, total=   0.0s[CV] clf__estimator=ExtraTreesClassifier(), clf__estimator__criterion=gini, clf__estimator__n_estimators=250 \n",
      "[CV]  clf__estimator=ExtraTreesClassifier(), clf__estimator__criterion=gini, clf__estimator__n_estimators=250, score=0.165, total=   1.4s\n",
      "[CV] clf__estimator=SVC(), clf__estimator__C=10.0, clf__estimator__degree=4, clf__estimator__kernel=rbf \n",
      "[CV]  clf__estimator=SVC(), clf__estimator__C=10.0, clf__estimator__degree=4, clf__estimator__kernel=rbf, score=0.326, total=   0.0s\n",
      "[CV] clf__estimator=SVC(), clf__estimator__C=100.0, clf__estimator__degree=6, clf__estimator__kernel=rbf \n",
      "[CV]  clf__estimator=SVC(), clf__estimator__C=100.0, clf__estimator__degree=6, clf__estimator__kernel=rbf, score=0.165, total=   0.0s\n",
      "[CV] clf__estimator=SVC(), clf__estimator__C=1000.0, clf__estimator__degree=4, clf__estimator__kernel=rbf \n",
      "[CV]  clf__estimator=SVC(), clf__estimator__C=1000.0, clf__estimator__degree=4, clf__estimator__kernel=rbf, score=0.203, total=   0.2s\n",
      "[CV] clf__estimator=LogisticRegression(), clf__estimator__C=0.001, clf__estimator__penalty=l1, clf__estimator__solver=lbfgs, clf__estimator__tol=0.0001 \n",
      "[CV]  clf__estimator=LogisticRegression(), clf__estimator__C=0.001, clf__estimator__penalty=l1, clf__estimator__solver=lbfgs, clf__estimator__tol=0.0001, score=nan, total=   0.0s\n",
      "[CV] clf__estimator=LogisticRegression(), clf__estimator__C=0.001, clf__estimator__penalty=l1, clf__estimator__solver=lbfgs, clf__estimator__tol=0.01 \n",
      "[CV]  clf__estimator=LogisticRegression(), clf__estimator__C=0.001, clf__estimator__penalty=l1, clf__estimator__solver=lbfgs, clf__estimator__tol=0.01, score=nan, total=   0.0s\n",
      "[CV] clf__estimator=LogisticRegression(), clf__estimator__C=0.001, clf__estimator__penalty=l2, clf__estimator__solver=lbfgs, clf__estimator__tol=0.0001 \n",
      "[CV]  clf__estimator=LogisticRegression(), clf__estimator__C=0.001, clf__estimator__penalty=l2, clf__estimator__solver=lbfgs, clf__estimator__tol=0.0001, score=-0.508, total=   0.0s\n",
      "[CV] clf__estimator=LogisticRegression(), clf__estimator__C=0.001, clf__estimator__penalty=l2, clf__estimator__solver=liblinear, clf__estimator__tol=0.001 \n",
      "[CV]  clf__estimator=LogisticRegression(), clf__estimator__C=0.001, clf__estimator__penalty=l2, clf__estimator__solver=liblinear, clf__estimator__tol=0.001, score=0.008, total=   0.0s\n",
      "[CV] clf__estimator=LogisticRegression(), clf__estimator__C=0.01, clf__estimator__penalty=l1, clf__estimator__solver=lbfgs, clf__estimator__tol=0.01 \n",
      "[CV]  clf__estimator=LogisticRegression(), clf__estimator__C=0.01, clf__estimator__penalty=l1, clf__estimator__solver=lbfgs, clf__estimator__tol=0.01, score=nan, total=   0.0s\n",
      "[CV] clf__estimator=LogisticRegression(), clf__estimator__C=0.01, clf__estimator__penalty=l2, clf__estimator__solver=lbfgs, clf__estimator__tol=0.0001 \n",
      "[CV]  clf__estimator=LogisticRegression(), clf__estimator__C=0.01, clf__estimator__penalty=l2, clf__estimator__solver=lbfgs, clf__estimator__tol=0.0001, score=0.266, total=   0.0s\n",
      "[CV] clf__estimator=LogisticRegression(), clf__estimator__C=0.01, clf__estimator__penalty=l2, clf__estimator__solver=liblinear, clf__estimator__tol=0.001 \n",
      "[CV]  clf__estimator=LogisticRegression(), clf__estimator__C=0.01, clf__estimator__penalty=l2, clf__estimator__solver=liblinear, clf__estimator__tol=0.001, score=0.266, total=   0.0s\n",
      "[CV] clf__estimator=LogisticRegression(), clf__estimator__C=0.1, clf__estimator__penalty=l1, clf__estimator__solver=lbfgs, clf__estimator__tol=0.01 \n",
      "[CV]  clf__estimator=LogisticRegression(), clf__estimator__C=0.1, clf__estimator__penalty=l1, clf__estimator__solver=lbfgs, clf__estimator__tol=0.01, score=nan, total=   0.0s\n",
      "[CV] clf__estimator=LogisticRegression(), clf__estimator__C=0.1, clf__estimator__penalty=l2, clf__estimator__solver=lbfgs, clf__estimator__tol=0.0001 \n",
      "[CV]  clf__estimator=LogisticRegression(), clf__estimator__C=0.1, clf__estimator__penalty=l2, clf__estimator__solver=lbfgs, clf__estimator__tol=0.0001, score=0.326, total=   0.1s\n",
      "[CV] clf__estimator=LogisticRegression(), clf__estimator__C=0.1, clf__estimator__penalty=l2, clf__estimator__solver=liblinear, clf__estimator__tol=0.001 \n",
      "[CV]  clf__estimator=LogisticRegression(), clf__estimator__C=0.1, clf__estimator__penalty=l2, clf__estimator__solver=liblinear, clf__estimator__tol=0.001, score=0.306, total=   0.0s\n",
      "[CV] clf__estimator=LogisticRegression(), clf__estimator__C=1.0, clf__estimator__penalty=l1, clf__estimator__solver=lbfgs, clf__estimator__tol=0.01 \n",
      "[CV]  clf__estimator=LogisticRegression(), clf__estimator__C=1.0, clf__estimator__penalty=l1, clf__estimator__solver=lbfgs, clf__estimator__tol=0.01, score=nan, total=   0.0s\n",
      "[CV] clf__estimator=LogisticRegression(), clf__estimator__C=1.0, clf__estimator__penalty=l2, clf__estimator__solver=lbfgs, clf__estimator__tol=0.01 \n",
      "[CV]  clf__estimator=LogisticRegression(), clf__estimator__C=1.0, clf__estimator__penalty=l2, clf__estimator__solver=lbfgs, clf__estimator__tol=0.01, score=0.385, total=   0.1s\n",
      "[CV] clf__estimator=LogisticRegression(), clf__estimator__C=10.0, clf__estimator__penalty=l1, clf__estimator__solver=lbfgs, clf__estimator__tol=0.0001 \n",
      "[CV]  clf__estimator=LogisticRegression(), clf__estimator__C=10.0, clf__estimator__penalty=l1, clf__estimator__solver=lbfgs, clf__estimator__tol=0.0001, score=nan, total=   0.0s\n",
      "[CV] clf__estimator=LogisticRegression(), clf__estimator__C=10.0, clf__estimator__penalty=l1, clf__estimator__solver=liblinear, clf__estimator__tol=0.001 \n",
      "[CV]  clf__estimator=LogisticRegression(), clf__estimator__C=10.0, clf__estimator__penalty=l1, clf__estimator__solver=liblinear, clf__estimator__tol=0.001, score=0.365, total=   0.1s\n",
      "[CV] clf__estimator=LogisticRegression(), clf__estimator__C=10.0, clf__estimator__penalty=l2, clf__estimator__solver=lbfgs, clf__estimator__tol=0.0001 \n",
      "[CV]  clf__estimator=LogisticRegression(), clf__estimator__C=10.0, clf__estimator__penalty=l2, clf__estimator__solver=lbfgs, clf__estimator__tol=0.0001, score=0.152, total=   0.1s\n",
      "[CV] clf__estimator=LogisticRegression(), clf__estimator__C=10.0, clf__estimator__penalty=l2, clf__estimator__solver=liblinear, clf__estimator__tol=0.001 \n",
      "[CV]  clf__estimator=LogisticRegression(), clf__estimator__C=10.0, clf__estimator__penalty=l2, clf__estimator__solver=liblinear, clf__estimator__tol=0.001, score=0.152, total=   0.1s\n",
      "[CV] clf__estimator=LogisticRegression(), clf__estimator__C=100.0, clf__estimator__penalty=l1, clf__estimator__solver=lbfgs, clf__estimator__tol=0.0001 \n",
      "[CV]  clf__estimator=LogisticRegression(), clf__estimator__C=100.0, clf__estimator__penalty=l1, clf__estimator__solver=lbfgs, clf__estimator__tol=0.0001, score=nan, total=   0.0s\n",
      "[CV] clf__estimator=LogisticRegression(), clf__estimator__C=100.0, clf__estimator__penalty=l1, clf__estimator__solver=liblinear, clf__estimator__tol=0.0001 \n",
      "[CV]  clf__estimator=LogisticRegression(), clf__estimator__C=100.0, clf__estimator__penalty=l1, clf__estimator__solver=liblinear, clf__estimator__tol=0.0001, score=0.279, total=   0.1s\n",
      "[CV] clf__estimator=LogisticRegression(), clf__estimator__C=100.0, clf__estimator__penalty=l2, clf__estimator__solver=liblinear, clf__estimator__tol=0.0001 \n",
      "[CV]  clf__estimator=LogisticRegression(), clf__estimator__C=100.0, clf__estimator__penalty=l2, clf__estimator__solver=liblinear, clf__estimator__tol=0.0001, score=0.152, total=   0.1s\n",
      "[CV] clf__estimator=LogisticRegression(), clf__estimator__C=1000.0, clf__estimator__penalty=l1, clf__estimator__solver=lbfgs, clf__estimator__tol=0.0001 \n",
      "[CV]  clf__estimator=LogisticRegression(), clf__estimator__C=1000.0, clf__estimator__penalty=l1, clf__estimator__solver=lbfgs, clf__estimator__tol=0.0001, score=nan, total=   0.0s\n",
      "[CV] clf__estimator=LogisticRegression(), clf__estimator__C=1000.0, clf__estimator__penalty=l1, clf__estimator__solver=liblinear, clf__estimator__tol=0.001 \n",
      "[CV]  clf__estimator=LogisticRegression(), clf__estimator__C=1000.0, clf__estimator__penalty=l1, clf__estimator__solver=liblinear, clf__estimator__tol=0.001, score=0.152, total=   0.0s\n",
      "[CV] clf__estimator=LogisticRegression(), clf__estimator__C=1000.0, clf__estimator__penalty=l2, clf__estimator__solver=lbfgs, clf__estimator__tol=0.001 \n",
      "[CV]  clf__estimator=LogisticRegression(), clf__estimator__C=1000.0, clf__estimator__penalty=l2, clf__estimator__solver=lbfgs, clf__estimator__tol=0.001, score=nan, total=   0.1s"
     ]
    },
    {
     "name": "stderr",
     "output_type": "stream",
     "text": [
      "/opt/conda/lib/python3.7/site-packages/sklearn/model_selection/_validation.py:552: FitFailedWarning: Estimator fit failed. The score on this train-test partition for these parameters will be set to nan. Details: \n",
      "Traceback (most recent call last):\n",
      "  File \"/opt/conda/lib/python3.7/site-packages/sklearn/model_selection/_validation.py\", line 531, in _fit_and_score\n",
      "    estimator.fit(X_train, y_train, **fit_params)\n",
      "  File \"/opt/conda/lib/python3.7/site-packages/sklearn/pipeline.py\", line 335, in fit\n",
      "    self._final_estimator.fit(Xt, y, **fit_params_last_step)\n",
      "  File \"/tmp/ipykernel_20/3915449350.py\", line 15, in fit\n",
      "  File \"/opt/conda/lib/python3.7/site-packages/sklearn/linear_model/_logistic.py\", line 1304, in fit\n",
      "    solver = _check_solver(self.solver, self.penalty, self.dual)\n",
      "  File \"/opt/conda/lib/python3.7/site-packages/sklearn/linear_model/_logistic.py\", line 443, in _check_solver\n",
      "    \"got %s penalty.\" % (solver, penalty))\n",
      "ValueError: Solver lbfgs supports only 'l2' or 'none' penalties, got l1 penalty.\n",
      "\n",
      "  FitFailedWarning)\n",
      "/opt/conda/lib/python3.7/site-packages/sklearn/model_selection/_validation.py:552: FitFailedWarning: Estimator fit failed. The score on this train-test partition for these parameters will be set to nan. Details: \n",
      "Traceback (most recent call last):\n",
      "  File \"/opt/conda/lib/python3.7/site-packages/sklearn/model_selection/_validation.py\", line 531, in _fit_and_score\n",
      "    estimator.fit(X_train, y_train, **fit_params)\n",
      "  File \"/opt/conda/lib/python3.7/site-packages/sklearn/pipeline.py\", line 335, in fit\n",
      "    self._final_estimator.fit(Xt, y, **fit_params_last_step)\n",
      "  File \"/tmp/ipykernel_20/3915449350.py\", line 15, in fit\n",
      "  File \"/opt/conda/lib/python3.7/site-packages/sklearn/linear_model/_logistic.py\", line 1304, in fit\n",
      "    solver = _check_solver(self.solver, self.penalty, self.dual)\n",
      "  File \"/opt/conda/lib/python3.7/site-packages/sklearn/linear_model/_logistic.py\", line 443, in _check_solver\n",
      "    \"got %s penalty.\" % (solver, penalty))\n",
      "ValueError: Solver lbfgs supports only 'l2' or 'none' penalties, got l1 penalty.\n",
      "\n",
      "  FitFailedWarning)\n",
      "/opt/conda/lib/python3.7/site-packages/sklearn/model_selection/_validation.py:552: FitFailedWarning: Estimator fit failed. The score on this train-test partition for these parameters will be set to nan. Details: \n",
      "Traceback (most recent call last):\n",
      "  File \"/opt/conda/lib/python3.7/site-packages/sklearn/model_selection/_validation.py\", line 531, in _fit_and_score\n",
      "    estimator.fit(X_train, y_train, **fit_params)\n",
      "  File \"/opt/conda/lib/python3.7/site-packages/sklearn/pipeline.py\", line 335, in fit\n",
      "    self._final_estimator.fit(Xt, y, **fit_params_last_step)\n",
      "  File \"/tmp/ipykernel_20/3915449350.py\", line 15, in fit\n",
      "  File \"/opt/conda/lib/python3.7/site-packages/sklearn/linear_model/_logistic.py\", line 1304, in fit\n",
      "    solver = _check_solver(self.solver, self.penalty, self.dual)\n",
      "  File \"/opt/conda/lib/python3.7/site-packages/sklearn/linear_model/_logistic.py\", line 443, in _check_solver\n",
      "    \"got %s penalty.\" % (solver, penalty))\n",
      "ValueError: Solver lbfgs supports only 'l2' or 'none' penalties, got l1 penalty.\n",
      "\n",
      "  FitFailedWarning)\n",
      "/opt/conda/lib/python3.7/site-packages/sklearn/model_selection/_validation.py:552: FitFailedWarning: Estimator fit failed. The score on this train-test partition for these parameters will be set to nan. Details: \n",
      "Traceback (most recent call last):\n",
      "  File \"/opt/conda/lib/python3.7/site-packages/sklearn/model_selection/_validation.py\", line 531, in _fit_and_score\n",
      "    estimator.fit(X_train, y_train, **fit_params)\n",
      "  File \"/opt/conda/lib/python3.7/site-packages/sklearn/pipeline.py\", line 335, in fit\n",
      "    self._final_estimator.fit(Xt, y, **fit_params_last_step)\n",
      "  File \"/tmp/ipykernel_20/3915449350.py\", line 15, in fit\n",
      "  File \"/opt/conda/lib/python3.7/site-packages/sklearn/linear_model/_logistic.py\", line 1304, in fit\n",
      "    solver = _check_solver(self.solver, self.penalty, self.dual)\n",
      "  File \"/opt/conda/lib/python3.7/site-packages/sklearn/linear_model/_logistic.py\", line 443, in _check_solver\n",
      "    \"got %s penalty.\" % (solver, penalty))\n",
      "ValueError: Solver lbfgs supports only 'l2' or 'none' penalties, got l1 penalty.\n",
      "\n",
      "  FitFailedWarning)\n",
      "/opt/conda/lib/python3.7/site-packages/sklearn/model_selection/_validation.py:552: FitFailedWarning: Estimator fit failed. The score on this train-test partition for these parameters will be set to nan. Details: \n",
      "Traceback (most recent call last):\n",
      "  File \"/opt/conda/lib/python3.7/site-packages/sklearn/model_selection/_validation.py\", line 531, in _fit_and_score\n",
      "    estimator.fit(X_train, y_train, **fit_params)\n",
      "  File \"/opt/conda/lib/python3.7/site-packages/sklearn/pipeline.py\", line 335, in fit\n",
      "    self._final_estimator.fit(Xt, y, **fit_params_last_step)\n",
      "  File \"/tmp/ipykernel_20/3915449350.py\", line 15, in fit\n",
      "  File \"/opt/conda/lib/python3.7/site-packages/sklearn/linear_model/_logistic.py\", line 1304, in fit\n",
      "    solver = _check_solver(self.solver, self.penalty, self.dual)\n",
      "  File \"/opt/conda/lib/python3.7/site-packages/sklearn/linear_model/_logistic.py\", line 443, in _check_solver\n",
      "    \"got %s penalty.\" % (solver, penalty))\n",
      "ValueError: Solver lbfgs supports only 'l2' or 'none' penalties, got l1 penalty.\n",
      "\n",
      "  FitFailedWarning)\n",
      "/opt/conda/lib/python3.7/site-packages/sklearn/model_selection/_validation.py:552: FitFailedWarning: Estimator fit failed. The score on this train-test partition for these parameters will be set to nan. Details: \n",
      "Traceback (most recent call last):\n",
      "  File \"/opt/conda/lib/python3.7/site-packages/sklearn/model_selection/_validation.py\", line 531, in _fit_and_score\n",
      "    estimator.fit(X_train, y_train, **fit_params)\n",
      "  File \"/opt/conda/lib/python3.7/site-packages/sklearn/pipeline.py\", line 335, in fit\n",
      "    self._final_estimator.fit(Xt, y, **fit_params_last_step)\n",
      "  File \"/tmp/ipykernel_20/3915449350.py\", line 15, in fit\n",
      "  File \"/opt/conda/lib/python3.7/site-packages/sklearn/linear_model/_logistic.py\", line 1304, in fit\n",
      "    solver = _check_solver(self.solver, self.penalty, self.dual)\n",
      "  File \"/opt/conda/lib/python3.7/site-packages/sklearn/linear_model/_logistic.py\", line 443, in _check_solver\n",
      "    \"got %s penalty.\" % (solver, penalty))\n",
      "ValueError: Solver lbfgs supports only 'l2' or 'none' penalties, got l1 penalty.\n",
      "\n",
      "  FitFailedWarning)\n",
      "/opt/conda/lib/python3.7/site-packages/sklearn/model_selection/_validation.py:552: FitFailedWarning: Estimator fit failed. The score on this train-test partition for these parameters will be set to nan. Details: \n",
      "Traceback (most recent call last):\n",
      "  File \"/opt/conda/lib/python3.7/site-packages/sklearn/model_selection/_validation.py\", line 531, in _fit_and_score\n",
      "    estimator.fit(X_train, y_train, **fit_params)\n",
      "  File \"/opt/conda/lib/python3.7/site-packages/sklearn/pipeline.py\", line 335, in fit\n",
      "    self._final_estimator.fit(Xt, y, **fit_params_last_step)\n",
      "  File \"/tmp/ipykernel_20/3915449350.py\", line 15, in fit\n",
      "  File \"/opt/conda/lib/python3.7/site-packages/sklearn/linear_model/_logistic.py\", line 1417, in fit\n",
      "    for class_, warm_start_coef_ in zip(classes_, warm_start_coef))\n",
      "  File \"/opt/conda/lib/python3.7/site-packages/joblib/parallel.py\", line 1043, in __call__\n",
      "    if self.dispatch_one_batch(iterator):\n",
      "  File \"/opt/conda/lib/python3.7/site-packages/joblib/parallel.py\", line 861, in dispatch_one_batch\n",
      "    self._dispatch(tasks)\n",
      "  File \"/opt/conda/lib/python3.7/site-packages/joblib/parallel.py\", line 779, in _dispatch\n",
      "    job = self._backend.apply_async(batch, callback=cb)\n",
      "  File \"/opt/conda/lib/python3.7/site-packages/joblib/_parallel_backends.py\", line 208, in apply_async\n",
      "    result = ImmediateResult(func)\n",
      "  File \"/opt/conda/lib/python3.7/site-packages/joblib/_parallel_backends.py\", line 572, in __init__\n",
      "    self.results = batch()\n",
      "  File \"/opt/conda/lib/python3.7/site-packages/joblib/parallel.py\", line 263, in __call__\n",
      "    for func, args, kwargs in self.items]\n",
      "  File \"/opt/conda/lib/python3.7/site-packages/joblib/parallel.py\", line 263, in <listcomp>\n",
      "    for func, args, kwargs in self.items]\n",
      "  File \"/opt/conda/lib/python3.7/site-packages/sklearn/linear_model/_logistic.py\", line 764, in _logistic_regression_path\n",
      "    extra_warning_msg=_LOGISTIC_SOLVER_CONVERGENCE_MSG)\n",
      "  File \"/opt/conda/lib/python3.7/site-packages/sklearn/utils/optimize.py\", line 243, in _check_optimize_result\n",
      "    ).format(solver, result.status, result.message.decode(\"latin1\"))\n",
      "AttributeError: 'str' object has no attribute 'decode'\n",
      "\n",
      "  FitFailedWarning)\n",
      "[Parallel(n_jobs=12)]: Done 450 out of 450 | elapsed:   18.4s finished\n"
     ]
    },
    {
     "data": {
      "text/plain": [
       "GridSearchCV(cv=KFold(n_splits=3, random_state=None, shuffle=False),\n",
       "             estimator=Pipeline(steps=[('transformer',\n",
       "                                        ColumnTransformer(transformers=[('standardscaler',\n",
       "                                                                         StandardScaler(),\n",
       "                                                                         ['Age',\n",
       "                                                                          'SibSp',\n",
       "                                                                          'Parch',\n",
       "                                                                          'Family_size',\n",
       "                                                                          'Fare']),\n",
       "                                                                        ('onehotencoder',\n",
       "                                                                         OneHotEncoder(handle_unknown='ignore'),\n",
       "                                                                         ['Title',\n",
       "                                                                          'Sex',\n",
       "                                                                          'Pclass',\n",
       "                                                                          'Deck',\n",
       "                                                                          'Embarked'])])),\n",
       "                                       ('clf', ClfSwitcher())]),\n",
       "             n_j...\n",
       "                                                100.0, 1000.0],\n",
       "                          'clf__estimator__degree': [3, 4, 5, 6],\n",
       "                          'clf__estimator__kernel': ['rbf', 'sigmoid']},\n",
       "                         {'clf__estimator': [LogisticRegression(solver='liblinear')],\n",
       "                          'clf__estimator__C': [0.001, 0.01, 0.1, 1.0, 10.0,\n",
       "                                                100.0, 1000.0],\n",
       "                          'clf__estimator__penalty': ['l1', 'l2'],\n",
       "                          'clf__estimator__solver': ['lbfgs', 'liblinear'],\n",
       "                          'clf__estimator__tol': [0.0001, 0.001, 0.01]}],\n",
       "             scoring='r2', verbose=3)"
      ]
     },
     "execution_count": 50,
     "metadata": {},
     "output_type": "execute_result"
    }
   ],
   "source": [
    "gscv = GridSearchCV(pipeline,\n",
    "                    parameters,\n",
    "                    cv=cv,\n",
    "                    scoring='r2',\n",
    "                    n_jobs=12,\n",
    "                    verbose=3)\n",
    "gscv.fit(X_train, y_train)"
   ]
  },
  {
   "cell_type": "code",
   "execution_count": 51,
   "id": "b43db3f2",
   "metadata": {
    "execution": {
     "iopub.execute_input": "2022-01-12T23:22:33.021551Z",
     "iopub.status.busy": "2022-01-12T23:22:33.018270Z",
     "iopub.status.idle": "2022-01-12T23:22:33.024882Z",
     "shell.execute_reply": "2022-01-12T23:22:33.025408Z",
     "shell.execute_reply.started": "2022-01-12T22:06:56.092302Z"
    },
    "papermill": {
     "duration": 0.129723,
     "end_time": "2022-01-12T23:22:33.025585",
     "exception": false,
     "start_time": "2022-01-12T23:22:32.895862",
     "status": "completed"
    },
    "tags": []
   },
   "outputs": [
    {
     "data": {
      "text/plain": [
       "{'clf__estimator': LogisticRegression(solver='liblinear'),\n",
       " 'clf__estimator__C': 1.0,\n",
       " 'clf__estimator__penalty': 'l2',\n",
       " 'clf__estimator__solver': 'liblinear',\n",
       " 'clf__estimator__tol': 0.0001}"
      ]
     },
     "execution_count": 51,
     "metadata": {},
     "output_type": "execute_result"
    }
   ],
   "source": [
    "gscv.best_params_"
   ]
  },
  {
   "cell_type": "code",
   "execution_count": 52,
   "id": "11f21f39",
   "metadata": {
    "execution": {
     "iopub.execute_input": "2022-01-12T23:22:33.280630Z",
     "iopub.status.busy": "2022-01-12T23:22:33.279513Z",
     "iopub.status.idle": "2022-01-12T23:22:33.284881Z",
     "shell.execute_reply": "2022-01-12T23:22:33.285461Z",
     "shell.execute_reply.started": "2022-01-12T22:06:56.101211Z"
    },
    "papermill": {
     "duration": 0.134053,
     "end_time": "2022-01-12T23:22:33.285684",
     "exception": false,
     "start_time": "2022-01-12T23:22:33.151631",
     "status": "completed"
    },
    "tags": []
   },
   "outputs": [],
   "source": [
    "model = pipeline.set_params(**gscv.best_params_)"
   ]
  },
  {
   "cell_type": "code",
   "execution_count": 53,
   "id": "ee99e036",
   "metadata": {
    "execution": {
     "iopub.execute_input": "2022-01-12T23:22:33.550162Z",
     "iopub.status.busy": "2022-01-12T23:22:33.549307Z",
     "iopub.status.idle": "2022-01-12T23:22:33.590547Z",
     "shell.execute_reply": "2022-01-12T23:22:33.589900Z",
     "shell.execute_reply.started": "2022-01-12T22:06:56.113631Z"
    },
    "papermill": {
     "duration": 0.175055,
     "end_time": "2022-01-12T23:22:33.590746",
     "exception": false,
     "start_time": "2022-01-12T23:22:33.415691",
     "status": "completed"
    },
    "tags": []
   },
   "outputs": [
    {
     "data": {
      "text/plain": [
       "Pipeline(steps=[('transformer',\n",
       "                 ColumnTransformer(transformers=[('standardscaler',\n",
       "                                                  StandardScaler(),\n",
       "                                                  ['Age', 'SibSp', 'Parch',\n",
       "                                                   'Family_size', 'Fare']),\n",
       "                                                 ('onehotencoder',\n",
       "                                                  OneHotEncoder(handle_unknown='ignore'),\n",
       "                                                  ['Title', 'Sex', 'Pclass',\n",
       "                                                   'Deck', 'Embarked'])])),\n",
       "                ('clf',\n",
       "                 ClfSwitcher(estimator=LogisticRegression(solver='liblinear')))])"
      ]
     },
     "execution_count": 53,
     "metadata": {},
     "output_type": "execute_result"
    }
   ],
   "source": [
    "model.fit(X_train, y_train)"
   ]
  },
  {
   "cell_type": "markdown",
   "id": "951d94bd",
   "metadata": {
    "papermill": {
     "duration": 0.123818,
     "end_time": "2022-01-12T23:22:33.837747",
     "exception": false,
     "start_time": "2022-01-12T23:22:33.713929",
     "status": "completed"
    },
    "tags": []
   },
   "source": [
    "### 5. Model Predictions"
   ]
  },
  {
   "cell_type": "markdown",
   "id": "fcf62c08",
   "metadata": {
    "papermill": {
     "duration": 0.121688,
     "end_time": "2022-01-12T23:22:34.076334",
     "exception": false,
     "start_time": "2022-01-12T23:22:33.954646",
     "status": "completed"
    },
    "tags": []
   },
   "source": [
    "Now, let's test the model we trained using our test data we split from the main train dataset."
   ]
  },
  {
   "cell_type": "code",
   "execution_count": 54,
   "id": "45890d56",
   "metadata": {
    "execution": {
     "iopub.execute_input": "2022-01-12T23:22:34.317798Z",
     "iopub.status.busy": "2022-01-12T23:22:34.317094Z",
     "iopub.status.idle": "2022-01-12T23:22:34.327807Z",
     "shell.execute_reply": "2022-01-12T23:22:34.328355Z",
     "shell.execute_reply.started": "2022-01-12T22:06:56.202517Z"
    },
    "papermill": {
     "duration": 0.131725,
     "end_time": "2022-01-12T23:22:34.328536",
     "exception": false,
     "start_time": "2022-01-12T23:22:34.196811",
     "status": "completed"
    },
    "tags": []
   },
   "outputs": [],
   "source": [
    "y_hat = model.predict(X_test)"
   ]
  },
  {
   "cell_type": "markdown",
   "id": "3df91e4a",
   "metadata": {
    "papermill": {
     "duration": 0.118828,
     "end_time": "2022-01-12T23:22:34.565313",
     "exception": false,
     "start_time": "2022-01-12T23:22:34.446485",
     "status": "completed"
    },
    "tags": []
   },
   "source": [
    "### 6. Model Evalutaion"
   ]
  },
  {
   "cell_type": "markdown",
   "id": "249e567f",
   "metadata": {
    "papermill": {
     "duration": 0.118961,
     "end_time": "2022-01-12T23:22:34.802299",
     "exception": false,
     "start_time": "2022-01-12T23:22:34.683338",
     "status": "completed"
    },
    "tags": []
   },
   "source": [
    "Let's evaluate our model using **Single Evaluation Metric** and **Multi-evaluation Metrics**"
   ]
  },
  {
   "cell_type": "markdown",
   "id": "7eecb13a",
   "metadata": {
    "papermill": {
     "duration": 0.11744,
     "end_time": "2022-01-12T23:22:35.042307",
     "exception": false,
     "start_time": "2022-01-12T23:22:34.924867",
     "status": "completed"
    },
    "tags": []
   },
   "source": [
    "1. Single-number Evaluation Metric"
   ]
  },
  {
   "cell_type": "code",
   "execution_count": 55,
   "id": "50bb13dd",
   "metadata": {
    "execution": {
     "iopub.execute_input": "2022-01-12T23:22:35.278933Z",
     "iopub.status.busy": "2022-01-12T23:22:35.278125Z",
     "iopub.status.idle": "2022-01-12T23:22:35.290988Z",
     "shell.execute_reply": "2022-01-12T23:22:35.291454Z",
     "shell.execute_reply.started": "2022-01-12T22:06:56.224576Z"
    },
    "papermill": {
     "duration": 0.131612,
     "end_time": "2022-01-12T23:22:35.291667",
     "exception": false,
     "start_time": "2022-01-12T23:22:35.160055",
     "status": "completed"
    },
    "tags": []
   },
   "outputs": [
    {
     "data": {
      "text/plain": [
       "0.8251121076233184"
      ]
     },
     "execution_count": 55,
     "metadata": {},
     "output_type": "execute_result"
    }
   ],
   "source": [
    "model.score(X_test, y_test)"
   ]
  },
  {
   "cell_type": "markdown",
   "id": "2f448e01",
   "metadata": {
    "papermill": {
     "duration": 0.125934,
     "end_time": "2022-01-12T23:22:35.541299",
     "exception": false,
     "start_time": "2022-01-12T23:22:35.415365",
     "status": "completed"
    },
    "tags": []
   },
   "source": [
    "2. Multi-evaluation Metrics"
   ]
  },
  {
   "cell_type": "code",
   "execution_count": 56,
   "id": "c22a6c15",
   "metadata": {
    "execution": {
     "iopub.execute_input": "2022-01-12T23:22:35.784202Z",
     "iopub.status.busy": "2022-01-12T23:22:35.783536Z",
     "iopub.status.idle": "2022-01-12T23:22:35.791248Z",
     "shell.execute_reply": "2022-01-12T23:22:35.791846Z",
     "shell.execute_reply.started": "2022-01-12T22:06:56.244987Z"
    },
    "papermill": {
     "duration": 0.128111,
     "end_time": "2022-01-12T23:22:35.792026",
     "exception": false,
     "start_time": "2022-01-12T23:22:35.663915",
     "status": "completed"
    },
    "tags": []
   },
   "outputs": [
    {
     "data": {
      "text/plain": [
       "array([[ 67,  19],\n",
       "       [ 20, 117]])"
      ]
     },
     "execution_count": 56,
     "metadata": {},
     "output_type": "execute_result"
    }
   ],
   "source": [
    "cm = confusion_matrix(y_test, y_hat, labels=[1, 0])\n",
    "cm"
   ]
  },
  {
   "cell_type": "code",
   "execution_count": 57,
   "id": "46a39590",
   "metadata": {
    "execution": {
     "iopub.execute_input": "2022-01-12T23:22:36.031611Z",
     "iopub.status.busy": "2022-01-12T23:22:36.030924Z",
     "iopub.status.idle": "2022-01-12T23:22:36.283295Z",
     "shell.execute_reply": "2022-01-12T23:22:36.283863Z",
     "shell.execute_reply.started": "2022-01-12T22:06:56.260146Z"
    },
    "papermill": {
     "duration": 0.374625,
     "end_time": "2022-01-12T23:22:36.284045",
     "exception": false,
     "start_time": "2022-01-12T23:22:35.909420",
     "status": "completed"
    },
    "tags": []
   },
   "outputs": [
    {
     "data": {
      "image/png": "[encoded data removed]",
      "text/plain": [
       "<Figure size 864x576 with 2 Axes>"
      ]
     },
     "metadata": {
      "needs_background": "light"
     },
     "output_type": "display_data"
    }
   ],
   "source": [
    "confusion_plot = ConfusionMatrixDisplay(confusion_matrix=cm,\n",
    "                                        display_labels=['Survived', 'Died'])\n",
    "\n",
    "fig, ax = plt.subplots(1,1,figsize=(12, 8))\n",
    "ax.grid(False)\n",
    "confusion_plot.plot(cmap='Blues', ax=ax)\n",
    "ax.set_title('Confusion Matrix Between True Label & Predicted Label')\n",
    "plt.show()"
   ]
  },
  {
   "cell_type": "code",
   "execution_count": 58,
   "id": "1194e38c",
   "metadata": {
    "execution": {
     "iopub.execute_input": "2022-01-12T23:22:36.527165Z",
     "iopub.status.busy": "2022-01-12T23:22:36.526495Z",
     "iopub.status.idle": "2022-01-12T23:22:36.533452Z",
     "shell.execute_reply": "2022-01-12T23:22:36.532827Z",
     "shell.execute_reply.started": "2022-01-12T22:06:56.468444Z"
    },
    "papermill": {
     "duration": 0.128922,
     "end_time": "2022-01-12T23:22:36.533587",
     "exception": false,
     "start_time": "2022-01-12T23:22:36.404665",
     "status": "completed"
    },
    "tags": []
   },
   "outputs": [
    {
     "data": {
      "text/plain": [
       "0.7745664739884394"
      ]
     },
     "execution_count": 58,
     "metadata": {},
     "output_type": "execute_result"
    }
   ],
   "source": [
    "f1_score(y_test, y_hat)"
   ]
  },
  {
   "cell_type": "markdown",
   "id": "0b240d3b",
   "metadata": {
    "papermill": {
     "duration": 0.119803,
     "end_time": "2022-01-12T23:22:36.770998",
     "exception": false,
     "start_time": "2022-01-12T23:22:36.651195",
     "status": "completed"
    },
    "tags": []
   },
   "source": [
    "According to *Prof. Andrew Neg* in a book of **Machine Learning Yearning** – If you want to relay on accurate accuracy for your classification model, you should relay on <u>Multi-evaluation metric</u> [ Precision, Recall ]. You can combine them into <u>single-number evaluation metric</u> which `F1-score `."
   ]
  },
  {
   "cell_type": "markdown",
   "id": "250af4c6",
   "metadata": {
    "papermill": {
     "duration": 0.118565,
     "end_time": "2022-01-12T23:22:37.009865",
     "exception": false,
     "start_time": "2022-01-12T23:22:36.891300",
     "status": "completed"
    },
    "tags": []
   },
   "source": [
    "### 7. Export Predictions"
   ]
  },
  {
   "cell_type": "markdown",
   "id": "af365a87",
   "metadata": {
    "papermill": {
     "duration": 0.1195,
     "end_time": "2022-01-12T23:22:37.253069",
     "exception": false,
     "start_time": "2022-01-12T23:22:37.133569",
     "status": "completed"
    },
    "tags": []
   },
   "source": [
    "Lastly, we're going to create a function that apply all the above steps and provide to us the predictions of the `test.csv`."
   ]
  },
  {
   "cell_type": "code",
   "execution_count": 59,
   "id": "005f630d",
   "metadata": {
    "execution": {
     "iopub.execute_input": "2022-01-12T23:22:37.526646Z",
     "iopub.status.busy": "2022-01-12T23:22:37.520863Z",
     "iopub.status.idle": "2022-01-12T23:22:37.530374Z",
     "shell.execute_reply": "2022-01-12T23:22:37.529768Z",
     "shell.execute_reply.started": "2022-01-12T22:45:32.921212Z"
    },
    "papermill": {
     "duration": 0.147783,
     "end_time": "2022-01-12T23:22:37.530514",
     "exception": false,
     "start_time": "2022-01-12T23:22:37.382731",
     "status": "completed"
    },
    "tags": []
   },
   "outputs": [],
   "source": [
    "def prediction_fn(data_dir: Text, model) -> pd.DataFrame:\n",
    "    \"\"\"\n",
    "    A Function created for producing a batch prediction\n",
    "    for titanic model.\n",
    "    \n",
    "    Args:\n",
    "        data_dir [Text]: directory to the test dataset to use it in the prediction.\n",
    "        model: model pipeline that is going to be used in the prediction.\n",
    "    \n",
    "    Returns:\n",
    "        pd.DataFrame: predicted dataframe.\n",
    "    \"\"\"\n",
    "    # read dataset\n",
    "    test_data = pd.read_csv(data_dir, index_col=False)\n",
    "    \n",
    "    # pre-processing & Feature Engineering\n",
    "    ## Age\n",
    "    age_highest_freq = test_data['Age'].value_counts().head(10).index.values\n",
    "    freq_of_highes_age = test_data['Age'].value_counts().head(10).values\n",
    "    age_probabilities = list(map(lambda value: (1/sum(freq_of_highes_age)) * value,\n",
    "                                 freq_of_highes_age))\n",
    "    test_data['Age'] = test_data['Age'].apply(lambda value: value if not np.isnan(value) \n",
    "                                                else np.random.choice(age_highest_freq,\n",
    "                                                                      p=age_probabilities))\n",
    "    ## Embarked\n",
    "    freq = test_data['Embarked'].value_counts().values[0]\n",
    "    test_data['Embarked'].fillna(freq, inplace=True)\n",
    "    test_data['Embarked'].replace(to_replace=644,\n",
    "                                   value=test_data['Embarked'].value_counts().index.values[0],\n",
    "                                   inplace=True)\n",
    "    ## Fare\n",
    "    test_data['Fare'].fillna(method='bfill', inplace=True)\n",
    "    ## Title\n",
    "    test_data['Title'] = test_data['Name'].apply(lambda name: patterns(name, TITLES))\n",
    "    test_data['Title'] = test_data.apply(squeeze_title, axis=1) \n",
    "    \n",
    "    ## Cabin\n",
    "    test_data['Deck'] = test_data['Cabin'].apply(lambda letter:\n",
    "                                                   patterns(str(letter), cabin_list))\n",
    "    test_data.drop(columns='Cabin', inplace=True)\n",
    "    \n",
    "    ## Family Size\n",
    "    test_data['Family_size'] = test_data['SibSp'] + test_data['Parch']\n",
    "    \n",
    "    # Drop the useless features (Only keep PassengerId for merging  it with the predictions)\n",
    "    passId = test_data['PassengerId']\n",
    "    test_data.drop(columns=['Name', 'Ticket', 'PassengerId'], inplace=True)\n",
    "    \n",
    "    # Model predictions\n",
    "    predictions = model.predict(test_data)\n",
    "    \n",
    "    # Building the dataframe of the predction values\n",
    "    predictions = pd.DataFrame(predictions, columns=['Survived'])\n",
    "    predictions = pd.merge(passId, predictions, left_index=True, right_index=True)\n",
    "    \n",
    "    return predictions"
   ]
  },
  {
   "cell_type": "code",
   "execution_count": 60,
   "id": "18853ee1",
   "metadata": {
    "execution": {
     "iopub.execute_input": "2022-01-12T23:22:37.775765Z",
     "iopub.status.busy": "2022-01-12T23:22:37.774722Z",
     "iopub.status.idle": "2022-01-12T23:22:37.841485Z",
     "shell.execute_reply": "2022-01-12T23:22:37.842478Z",
     "shell.execute_reply.started": "2022-01-12T22:52:28.872361Z"
    },
    "papermill": {
     "duration": 0.190718,
     "end_time": "2022-01-12T23:22:37.842801",
     "exception": false,
     "start_time": "2022-01-12T23:22:37.652083",
     "status": "completed"
    },
    "tags": []
   },
   "outputs": [
    {
     "data": {
      "text/html": [
       "<div>\n",
       "<style scoped>\n",
       "    .dataframe tbody tr th:only-of-type {\n",
       "        vertical-align: middle;\n",
       "    }\n",
       "\n",
       "    .dataframe tbody tr th {\n",
       "        vertical-align: top;\n",
       "    }\n",
       "\n",
       "    .dataframe thead th {\n",
       "        text-align: right;\n",
       "    }\n",
       "</style>\n",
       "<table border=\"1\" class=\"dataframe\">\n",
       "  <thead>\n",
       "    <tr style=\"text-align: right;\">\n",
       "      <th></th>\n",
       "      <th>PassengerId</th>\n",
       "      <th>Survived</th>\n",
       "    </tr>\n",
       "  </thead>\n",
       "  <tbody>\n",
       "    <tr>\n",
       "      <th>0</th>\n",
       "      <td>892</td>\n",
       "      <td>0</td>\n",
       "    </tr>\n",
       "    <tr>\n",
       "      <th>1</th>\n",
       "      <td>893</td>\n",
       "      <td>0</td>\n",
       "    </tr>\n",
       "    <tr>\n",
       "      <th>2</th>\n",
       "      <td>894</td>\n",
       "      <td>0</td>\n",
       "    </tr>\n",
       "    <tr>\n",
       "      <th>3</th>\n",
       "      <td>895</td>\n",
       "      <td>0</td>\n",
       "    </tr>\n",
       "    <tr>\n",
       "      <th>4</th>\n",
       "      <td>896</td>\n",
       "      <td>1</td>\n",
       "    </tr>\n",
       "    <tr>\n",
       "      <th>...</th>\n",
       "      <td>...</td>\n",
       "      <td>...</td>\n",
       "    </tr>\n",
       "    <tr>\n",
       "      <th>413</th>\n",
       "      <td>1305</td>\n",
       "      <td>0</td>\n",
       "    </tr>\n",
       "    <tr>\n",
       "      <th>414</th>\n",
       "      <td>1306</td>\n",
       "      <td>1</td>\n",
       "    </tr>\n",
       "    <tr>\n",
       "      <th>415</th>\n",
       "      <td>1307</td>\n",
       "      <td>0</td>\n",
       "    </tr>\n",
       "    <tr>\n",
       "      <th>416</th>\n",
       "      <td>1308</td>\n",
       "      <td>0</td>\n",
       "    </tr>\n",
       "    <tr>\n",
       "      <th>417</th>\n",
       "      <td>1309</td>\n",
       "      <td>1</td>\n",
       "    </tr>\n",
       "  </tbody>\n",
       "</table>\n",
       "<p>418 rows × 2 columns</p>\n",
       "</div>"
      ],
      "text/plain": [
       "     PassengerId  Survived\n",
       "0            892         0\n",
       "1            893         0\n",
       "2            894         0\n",
       "3            895         0\n",
       "4            896         1\n",
       "..           ...       ...\n",
       "413         1305         0\n",
       "414         1306         1\n",
       "415         1307         0\n",
       "416         1308         0\n",
       "417         1309         1\n",
       "\n",
       "[418 rows x 2 columns]"
      ]
     },
     "execution_count": 60,
     "metadata": {},
     "output_type": "execute_result"
    }
   ],
   "source": [
    "import warnings\n",
    "warnings.filterwarnings('ignore')\n",
    "prediction = prediction_fn('../input/titanic/test.csv', model)\n",
    "prediction"
   ]
  },
  {
   "cell_type": "code",
   "execution_count": 61,
   "id": "a038b471",
   "metadata": {
    "execution": {
     "iopub.execute_input": "2022-01-12T23:22:38.147453Z",
     "iopub.status.busy": "2022-01-12T23:22:38.146398Z",
     "iopub.status.idle": "2022-01-12T23:22:38.152972Z",
     "shell.execute_reply": "2022-01-12T23:22:38.153581Z",
     "shell.execute_reply.started": "2022-01-12T23:20:21.023223Z"
    },
    "papermill": {
     "duration": 0.143928,
     "end_time": "2022-01-12T23:22:38.153798",
     "exception": false,
     "start_time": "2022-01-12T23:22:38.009870",
     "status": "completed"
    },
    "tags": []
   },
   "outputs": [
    {
     "name": "stdout",
     "output_type": "stream",
     "text": [
      "You have sucessfully exported the predictions!\n"
     ]
    }
   ],
   "source": [
    "prediction.to_csv('gender_submission.csv', index=False, index_label=False)\n",
    "print(\"You have sucessfully exported the predictions!\")"
   ]
  },
  {
   "cell_type": "markdown",
   "id": "a2864d3c",
   "metadata": {
    "papermill": {
     "duration": 0.122526,
     "end_time": "2022-01-12T23:22:38.402175",
     "exception": false,
     "start_time": "2022-01-12T23:22:38.279649",
     "status": "completed"
    },
    "tags": []
   },
   "source": [
    "<p style='text-align:center;'>Thanks for reaching this level of expermenting\n",
    "the idea of</p>\n",
    "<p style='text-align:center;'><b>Titanic - How Data Scientist applies Analysis & ML</b></p>\n",
    "<p style='text-align:center;'>Data Scientist & ML Engineer: <a href='https://www.linkedin.com/in/drxavier997/'>Ahmed</a></p>\n",
    "<p style='text-align:center;'>Created at: 2022-01-13"
   ]
  }
 ],
 "metadata": {
  "kernelspec": {
   "display_name": "Python 3",
   "language": "python",
   "name": "python3"
  },
  "language_info": {
   "codemirror_mode": {
    "name": "ipython",
    "version": 3
   },
   "file_extension": ".py",
   "mimetype": "text/x-python",
   "name": "python",
   "nbconvert_exporter": "python",
   "pygments_lexer": "ipython3",
   "version": "3.7.12"
  },
  "papermill": {
   "default_parameters": {},
   "duration": 65.979317,
   "end_time": "2022-01-12T23:22:39.643257",
   "environment_variables": {},
   "exception": null,
   "input_path": "__notebook__.ipynb",
   "output_path": "__notebook__.ipynb",
   "parameters": {},
   "start_time": "2022-01-12T23:21:33.663940",
   "version": "2.3.3"
  }
 },
 "nbformat": 4,
 "nbformat_minor": 5
}
